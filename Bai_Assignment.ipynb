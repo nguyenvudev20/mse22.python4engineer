{
  "nbformat": 4,
  "nbformat_minor": 0,
  "metadata": {
    "colab": {
      "provenance": [],
      "authorship_tag": "ABX9TyPHyO7SF6VTSqRWxZLOqNu7",
      "include_colab_link": true
    },
    "kernelspec": {
      "name": "python3",
      "display_name": "Python 3"
    },
    "language_info": {
      "name": "python"
    }
  },
  "cells": [
    {
      "cell_type": "markdown",
      "metadata": {
        "id": "view-in-github",
        "colab_type": "text"
      },
      "source": [
        "<a href=\"https://colab.research.google.com/github/nguyenvudev20/mse22.python4engineer/blob/main/Bai_Assignment.ipynb\" target=\"_parent\"><img src=\"https://colab.research.google.com/assets/colab-badge.svg\" alt=\"Open In Colab\"/></a>"
      ]
    },
    {
      "cell_type": "markdown",
      "source": [
        "#Bài tập Assignment : Cho tập dữ liệu về doanh số bán hàng gồm các thông tin như sau \n",
        "Dữ liệu: (https://drive.google.com/file/d/1QWD8rceAWo6KJYHh6Tx0eBtAM9U1EQno/view?usp=sharing(sad)\n",
        "hoặc Superstore Sales Dataset Analysis | Kaggle\n"
      ],
      "metadata": {
        "id": "0BKvWlabgIF1"
      }
    },
    {
      "cell_type": "code",
      "execution_count": null,
      "metadata": {
        "id": "A0GxHsBxgFiJ"
      },
      "outputs": [],
      "source": [
        "#dùng pip cài đặt thư viện kaggle để kết nối và tải dữ liệu về Clab\n",
        "!pip install -q kaggle "
      ]
    }
  ]
}