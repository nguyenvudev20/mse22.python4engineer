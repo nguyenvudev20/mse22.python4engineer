{
  "metadata": {
    "kernelspec": {
      "language": "python",
      "display_name": "Python 3",
      "name": "python3"
    },
    "language_info": {
      "pygments_lexer": "ipython3",
      "nbconvert_exporter": "python",
      "version": "3.6.4",
      "file_extension": ".py",
      "codemirror_mode": {
        "name": "ipython",
        "version": 3
      },
      "name": "python",
      "mimetype": "text/x-python"
    },
    "colab": {
      "provenance": [],
      "include_colab_link": true
    }
  },
  "nbformat_minor": 0,
  "nbformat": 4,
  "cells": [
    {
      "cell_type": "markdown",
      "metadata": {
        "id": "view-in-github",
        "colab_type": "text"
      },
      "source": [
        "<a href=\"https://colab.research.google.com/github/nguyenvudev20/mse22.python4engineer/blob/main/Bai_1_one_tutorial_to_understand_all_m5_forecasting.ipynb\" target=\"_parent\"><img src=\"https://colab.research.google.com/assets/colab-badge.svg\" alt=\"Open In Colab\"/></a>"
      ]
    },
    {
      "cell_type": "markdown",
      "source": [
        "# A Comprehensive Tutorial To Understand EDA + Time Series Analysis + TimeSeries Forecasting SARIMAX & Prophet"
      ],
      "metadata": {
        "id": "guZRp6ygmQEE"
      }
    },
    {
      "cell_type": "markdown",
      "source": [
        "### Introduction:\n",
        "\n",
        "In this competition named the M5-Forecasting, competition participants are expected to use hierarchical sales data extracted for analysis from Walmart, the world’s largest company by revenue, and use it to forecast daily sales for the next 28 days. The sales dataset contains the information across some 30,000 different items along almost 1900 days. The distriubtion of the data has been divided around and covers stores in three US States (California, Texas, and Wisconsin) including item level, department, product categories, and store level details. In addition, it has explanatory variables such as price, promotions, day of the week, and special events. Together, this robust dataset wouldn't only be helpful in improving forecasting accuracy but could also help expose the underlying patterns of sales observed through different locales as well as against a range of different product categories providing valuable business insights.\n",
        "\n",
        "Owing to the fact that a large dataset has been made available. We'd start off with a business formulation devised around a few problems. Whether the dataset would be enough to answer those questions would be determined by the dataset available. Should the answers not be found by the dataset, atleast necessary information regarding collection of a few datapoints would certainly help improve the future data design. "
      ],
      "metadata": {
        "id": "IAIPN0wTmQEU"
      }
    },
    {
      "cell_type": "markdown",
      "source": [
        "## **Problem Statement?:**\n",
        "\n",
        "A large dateset makes it difficult to find all the underlying patterns present in the dataset. Fortunately, devising a few questions of SMART nature (SMART standing for specific, measureable, attainable, relevant and time-bound) are helpful in understanding patterns that could otherwise, might have been invisible with an all-in headfirst diving appraoch into the dataset. \n",
        "\n",
        "In the specific probelm of m5-forecasting, we'd concern ourselves in finding out:\n",
        "\n",
        "- What is the general distribution of the sales_items(ids) across categories?\n",
        "- What is the behavior of categories across different stores?\n",
        "- What specific item id is outselling the most? \n",
        "- What is the specific id of item in each category that has most sales?\n",
        "- What is the most sales revenue collected? Is the item id that is outselling the most brings in the most revenue or is there variation along those trends?\n",
        "- What is the behavior of total sales (or mean sales) across time\n",
        "- What is the behavior of item_ids selling across different weekdays? Are there any specfic dates of the month when there are most sales?How does this trend change across different stores?\n",
        "\n",
        "And finally, we would be using SARIMAX and facebook developed Prophet Model to forecast the sales made in the next 28 days. "
      ],
      "metadata": {
        "id": "iondDwromQEW"
      }
    },
    {
      "cell_type": "markdown",
      "source": [
        "### Evluation Metrics:\n",
        "\n",
        "This project uses quite a few error metrics that have been used to either optimise and fine tune the model or to find the prediction accuracy for the forecast made using time series. Given the situation of the time series forecast that we are gong to make, there are following error metrics used. \n",
        "\n",
        "1. **RMSE (Root Mean Square Error)** - In order to evaluate the sales forecasts made using SARIMAX, RMSE error metric was used. The Time series used in this case, took the average number of sales made, along the course of almost 1900 days, dsregarding the original heirarchical data arragement of product ids alongside several other levels. The utitlity of the error metrc RMSE is not invalidated since, we are considerng the average number of sales made, thereby nullyfying the effect of lots of zeroes for a lot of product ids, alongside only the number of days. \n",
        "\n",
        "2. **Custom Loss (WMAPE)**: The error metric Weighted Mean Absolute Percentage Error was used to evaluate and find the optimal parameters for the Facebook Designed Prophet Model. The WMAPE error is used for those instances where the priority of each product id is considered alongside the number of sales made. The weighted coefficients were calculated by dividing the difference between the forecast and the actual sales values by their mean value. \n",
        "\n",
        "3. **WRMSSE (Weighted Root Mean Square Scaled Error)** : In order to evaluate the efficiency of the model designed, the WRMSSE score was calculated once the prediction ready dataframe (forecast of almost 30,000 product ids) was ready. This was necesary because the WRMSSE score calculated required that the total entries of all product ids (almost around 30,000 products) be used and then a difference between the values of the validation dataset i.e. sales_train_validation.csv and the forecasted dataframe was taken. This WRMSSE error metric is the one that is provided by the competition and has been optimised to be used for the current competition. I order to evaluate it, we would have to use the whole dataset of sales_train_validation.csv that has been provided in single csv file. Further explanation for this error can be found at https://mofc.unic.ac.cy/m5-competition/\n",
        "\n"
      ],
      "metadata": {
        "id": "0b8oMJR1mQEa"
      }
    },
    {
      "cell_type": "code",
      "source": [],
      "metadata": {
        "id": "wpqD1nTCmQEc"
      },
      "execution_count": null,
      "outputs": []
    },
    {
      "cell_type": "markdown",
      "source": [
        "### Importing the Libraries Required"
      ],
      "metadata": {
        "id": "1mz5-rupmQEd"
      }
    },
    {
      "cell_type": "code",
      "source": [
        "# This Python 3 environment comes with many helpful analytics libraries installed\n",
        "# It is defined by the kaggle/python docker image: https://github.com/kaggle/docker-python\n",
        "# For example, here's several helpful packages to load in \n",
        "\n",
        "import numpy as np # linear algebra\n",
        "import pandas as pd # data processing, CSV file I/O (e.g. pd.read_csv)\n",
        "import matplotlib.pyplot as plt\n",
        "\n",
        "import time\n",
        "import math\n",
        "import datetime\n",
        "\n",
        "\n",
        "# Import widgets\n",
        "from ipywidgets import widgets, interactive, interact\n",
        "import ipywidgets as widgets\n",
        "from IPython.display import display\n",
        "\n",
        "from math import log, floor\n",
        "from sklearn.neighbors import KDTree\n",
        "\n",
        "import seaborn as sns\n",
        "sns.set_style('whitegrid')\n",
        "\n",
        "import plotly.express as px\n",
        "import plotly.graph_objects as go\n",
        "import plotly.figure_factory as ff\n",
        "from plotly.subplots import make_subplots\n",
        "\n",
        "import pywt\n",
        "from statsmodels.robust import mad\n",
        "\n",
        "import scipy\n",
        "import statsmodels\n",
        "from scipy import signal\n",
        "\n",
        "from statsmodels.tsa.arima_model import ARIMA\n",
        "from statsmodels.tsa.statespace.sarimax import SARIMAX\n",
        "from statsmodels.tsa.api import ExponentialSmoothing, SimpleExpSmoothing, Holt\n",
        "from statsmodels.tsa.stattools import adfuller\n",
        "\n",
        "import itertools\n",
        "from itertools import cycle\n",
        "plt.style.use('seaborn')\n",
        "color_cycle = cycle(plt.rcParams['axes.prop_cycle'].by_key()['color'])\n",
        "\n",
        "# Input data files are available in the \"../input/\" directory.\n",
        "# For example, running this (by clicking run or pressing Shift+Enter) will list all files under the input directory\n",
        "\n",
        "import os\n",
        "for dirname, _, filenames in os.walk('/kaggle/input'):\n",
        "    for filename in filenames:\n",
        "        print(os.path.join(dirname, filename))\n",
        "\n",
        "# Any results you write to the current directory are saved as output."
      ],
      "metadata": {
        "_uuid": "8f2839f25d086af736a60e9eeb907d3b93b6e0e5",
        "_cell_guid": "b1076dfc-b9ad-4769-8c92-a6c4dae69d19",
        "execution": {
          "iopub.status.busy": "2021-12-29T13:37:46.671299Z",
          "iopub.execute_input": "2021-12-29T13:37:46.671697Z",
          "iopub.status.idle": "2021-12-29T13:37:51.916881Z",
          "shell.execute_reply.started": "2021-12-29T13:37:46.671644Z",
          "shell.execute_reply": "2021-12-29T13:37:51.915301Z"
        },
        "trusted": true,
        "id": "4HXMvvgYmQEe"
      },
      "execution_count": null,
      "outputs": []
    },
    {
      "cell_type": "markdown",
      "source": [
        "#### Dataset Description:\n",
        "\n",
        "The description of the data files that are imported into this notebook is as follows:\n",
        "\n",
        "* `calendar_df.csv` - Contains information about the dates on which the products are sold and also contains information about the holidays and special occasions.\n",
        "* `train_sales_df.csv` - Contains the historical daily unit sales data per product and store and department id with almost a data of sales for 1900 days [d_1 - d_1913] \n",
        "* `submission_file.csv` - The correct format for submission file, containing the product ids and the column ids for the next 28 days sales data forecast. \n",
        "* `sell_prices_df.csv` - Contains information about the price of the products sold per store and date.\n",
        "* `sales_train_evaluation.csv` - Includes sales [d_1 - d_1941] (labels used for the Public leaderboard)\n"
      ],
      "metadata": {
        "id": "zV5zXCCvmQEn"
      }
    },
    {
      "cell_type": "markdown",
      "source": [
        "#### Importing the Datasets:"
      ],
      "metadata": {
        "id": "mtSfmEWNmQE_"
      }
    },
    {
      "cell_type": "code",
      "source": [
        "sell_prices_df = pd.read_csv('/kaggle/input/m5-forecasting-accuracy/sell_prices.csv')\n",
        "train_sales_df = pd.read_csv('/kaggle/input/m5-forecasting-accuracy/sales_train_validation.csv')\n",
        "calendar_df = pd.read_csv('/kaggle/input/m5-forecasting-accuracy/calendar.csv')\n",
        "submission_file = pd.read_csv('/kaggle/input/m5-forecasting-accuracy/sample_submission.csv')\n"
      ],
      "metadata": {
        "_uuid": "d629ff2d2480ee46fbb7e2d37f6b5fab8052498a",
        "_cell_guid": "79c7e3d0-c299-4dcb-8224-4455121ee9b0",
        "execution": {
          "iopub.status.busy": "2021-12-29T13:37:51.92067Z",
          "iopub.execute_input": "2021-12-29T13:37:51.921036Z",
          "iopub.status.idle": "2021-12-29T13:38:06.751183Z",
          "shell.execute_reply.started": "2021-12-29T13:37:51.92096Z",
          "shell.execute_reply": "2021-12-29T13:38:06.750278Z"
        },
        "trusted": true,
        "id": "BFdHK42KmQFB"
      },
      "execution_count": null,
      "outputs": []
    },
    {
      "cell_type": "markdown",
      "source": [
        "### Understanding the DataSet:"
      ],
      "metadata": {
        "id": "PGSEIVhrmQFD"
      }
    },
    {
      "cell_type": "code",
      "source": [
        "sell_prices_df.info()"
      ],
      "metadata": {
        "execution": {
          "iopub.status.busy": "2021-12-29T13:38:06.753019Z",
          "iopub.execute_input": "2021-12-29T13:38:06.753659Z",
          "iopub.status.idle": "2021-12-29T13:38:06.772391Z",
          "shell.execute_reply.started": "2021-12-29T13:38:06.753571Z",
          "shell.execute_reply": "2021-12-29T13:38:06.77121Z"
        },
        "trusted": true,
        "id": "l3Md2zV3mQFD"
      },
      "execution_count": null,
      "outputs": []
    },
    {
      "cell_type": "code",
      "source": [
        "train_sales_df.info()"
      ],
      "metadata": {
        "execution": {
          "iopub.status.busy": "2021-12-29T13:38:06.774324Z",
          "iopub.execute_input": "2021-12-29T13:38:06.774662Z",
          "iopub.status.idle": "2021-12-29T13:38:06.944259Z",
          "shell.execute_reply.started": "2021-12-29T13:38:06.774583Z",
          "shell.execute_reply": "2021-12-29T13:38:06.943158Z"
        },
        "trusted": true,
        "id": "lCZscZr_mQFE"
      },
      "execution_count": null,
      "outputs": []
    },
    {
      "cell_type": "code",
      "source": [
        "calendar_df.info()"
      ],
      "metadata": {
        "execution": {
          "iopub.status.busy": "2021-12-29T13:38:06.948278Z",
          "iopub.execute_input": "2021-12-29T13:38:06.948598Z",
          "iopub.status.idle": "2021-12-29T13:38:06.961482Z",
          "shell.execute_reply.started": "2021-12-29T13:38:06.948551Z",
          "shell.execute_reply": "2021-12-29T13:38:06.960493Z"
        },
        "trusted": true,
        "id": "waOSqWqMmQFE"
      },
      "execution_count": null,
      "outputs": []
    },
    {
      "cell_type": "markdown",
      "source": [
        "Now that we have taken a look at the data provided and have a general understanding of the dataset, we can see various relationships between the stores, the specific products sold, the categories that the consumers are most interested in as well as the sale of items per specific locale. Sell_prices_df contains information along the store level of some 6 million entries while the train_sales_df has informaiton about some 30,000 different products. \n",
        "\n",
        "Furthermore, the dataset in the calendar_df makes it possible to do a time series analysis of the products sold. "
      ],
      "metadata": {
        "id": "q8wzuYqImQFF"
      }
    },
    {
      "cell_type": "markdown",
      "source": [
        "## *EDA (Exploratory Data Analysis):*"
      ],
      "metadata": {
        "id": "txnrmlXbmQFF"
      }
    },
    {
      "cell_type": "markdown",
      "source": [
        "### Questions on Distribution of Product & Behavior Across Timeline\n",
        "\n",
        "Starting with the dataframe denoted by train_sales_df that has the item specific ('id'), locale specific ('store_id' , 'state_id') and sales days specific (d_1 to d_1913) information; let us first make necessary adjustments to separate the sales days so that analysis along item_id, store_id and dept_id can be more easily observed across sales days only. "
      ],
      "metadata": {
        "id": "bUwu-_M6mQFf"
      }
    },
    {
      "cell_type": "code",
      "source": [
        "train_sales_df.head(3)"
      ],
      "metadata": {
        "execution": {
          "iopub.status.busy": "2021-12-29T13:38:06.964992Z",
          "iopub.execute_input": "2021-12-29T13:38:06.965298Z",
          "iopub.status.idle": "2021-12-29T13:38:07.011076Z",
          "shell.execute_reply.started": "2021-12-29T13:38:06.965257Z",
          "shell.execute_reply": "2021-12-29T13:38:07.009844Z"
        },
        "trusted": true,
        "id": "8AbvDfyemQFg"
      },
      "execution_count": null,
      "outputs": []
    },
    {
      "cell_type": "code",
      "source": [
        "d_cols = [c for c in train_sales_df.columns if 'd_' in c]\n",
        "train_sales_df['total_sales_all_days'] = train_sales_df[d_cols].sum(axis = 1)\n",
        "train_sales_df['avg_sales_all_days'] = train_sales_df[d_cols].mean(axis = 1)\n",
        "train_sales_df['median_sales_all_days'] = train_sales_df[d_cols].median(axis = 1)\n",
        "#train_sales_df.groupby(['id'])['total_sales_all_days'].sum().sort_values(ascending=False)"
      ],
      "metadata": {
        "execution": {
          "iopub.status.busy": "2021-12-29T13:38:07.013321Z",
          "iopub.execute_input": "2021-12-29T13:38:07.01378Z",
          "iopub.status.idle": "2021-12-29T13:38:09.343134Z",
          "shell.execute_reply.started": "2021-12-29T13:38:07.013699Z",
          "shell.execute_reply": "2021-12-29T13:38:09.341907Z"
        },
        "trusted": true,
        "id": "T_MpYP7wmQFh"
      },
      "execution_count": null,
      "outputs": []
    },
    {
      "cell_type": "markdown",
      "source": [
        "#### Distribution of Product_ids Across Categories?"
      ],
      "metadata": {
        "id": "aygZDo2NmQFi"
      }
    },
    {
      "cell_type": "code",
      "source": [
        "df = train_sales_df.groupby(['cat_id'])['id'].count().reset_index(name='total_entries')\n",
        "fig = px.pie(df, values='total_entries', names='cat_id', \n",
        "            color_discrete_sequence=px.colors.sequential.RdBu,\n",
        "            width = 750, height=450, title = 'Distribution of Product_IDs Across Categories')\n",
        "fig.show()"
      ],
      "metadata": {
        "execution": {
          "iopub.status.busy": "2021-12-29T13:38:09.345912Z",
          "iopub.execute_input": "2021-12-29T13:38:09.346358Z",
          "iopub.status.idle": "2021-12-29T13:38:12.478587Z",
          "shell.execute_reply.started": "2021-12-29T13:38:09.34628Z",
          "shell.execute_reply": "2021-12-29T13:38:12.4771Z"
        },
        "trusted": true,
        "id": "mVHnKyXMmQFi"
      },
      "execution_count": null,
      "outputs": []
    },
    {
      "cell_type": "markdown",
      "source": [
        "Food items are the most sold out item that are followed by household items and then hobbies items."
      ],
      "metadata": {
        "id": "qTeb7gvJmQFj"
      }
    },
    {
      "cell_type": "code",
      "source": [
        "df = train_sales_df.groupby(['state_id'])['total_sales_all_days'].sum().reset_index()\n",
        "fig = px.pie(df, values='total_sales_all_days', names='state_id', \n",
        "            color_discrete_sequence=px.colors.sequential.Aggrnyl,\n",
        "            width = 750, height=450, title = 'Distribution of Total_Sales Across States')\n",
        "fig.show()"
      ],
      "metadata": {
        "execution": {
          "iopub.status.busy": "2021-12-29T13:38:12.480555Z",
          "iopub.execute_input": "2021-12-29T13:38:12.480897Z",
          "iopub.status.idle": "2021-12-29T13:38:12.900685Z",
          "shell.execute_reply.started": "2021-12-29T13:38:12.480845Z",
          "shell.execute_reply": "2021-12-29T13:38:12.899779Z"
        },
        "trusted": true,
        "id": "MbrvSoF2mQFj"
      },
      "execution_count": null,
      "outputs": []
    },
    {
      "cell_type": "markdown",
      "source": [
        "With respect to the total number of sales, it is evident once again that the number of items sold on total have the greatest contributing share in CA, followed by Texas and Wisconsin. Now is it the case with the total revenue generated as well? We'd find that out using the revenue dataframe "
      ],
      "metadata": {
        "id": "uPdLHb1tmQFk"
      }
    },
    {
      "cell_type": "code",
      "source": [
        "df1 = train_sales_df.groupby(['cat_id'])['id'].count().reset_index(name='total_entries')\n",
        "df2 = train_sales_df.groupby(['cat_id', 'state_id'])['total_sales_all_days'].sum().reset_index()"
      ],
      "metadata": {
        "execution": {
          "iopub.status.busy": "2021-12-29T13:38:12.902126Z",
          "iopub.execute_input": "2021-12-29T13:38:12.902408Z",
          "iopub.status.idle": "2021-12-29T13:38:12.934046Z",
          "shell.execute_reply.started": "2021-12-29T13:38:12.902354Z",
          "shell.execute_reply": "2021-12-29T13:38:12.932769Z"
        },
        "trusted": true,
        "id": "yKM-uY36mQFk"
      },
      "execution_count": null,
      "outputs": []
    },
    {
      "cell_type": "code",
      "source": [
        "sns.set_style('whitegrid')\n",
        "sns.axes_style(style='ticks')\n",
        "fig, (ax1, ax2) = plt.subplots(1,2, figsize=(14,5))\n",
        "\n",
        "sns.barplot(x = 'cat_id', y='total_entries', data=df1, \n",
        "            palette='mako', ax=ax1)\n",
        "sns.barplot(x = 'cat_id', y='total_sales_all_days', hue='state_id', data=df2, \n",
        "            palette='magma', ax=ax2)\n",
        "\n",
        "plt.xticks(rotation=90)\n",
        "plt.show()"
      ],
      "metadata": {
        "execution": {
          "iopub.status.busy": "2021-12-29T13:38:12.935652Z",
          "iopub.execute_input": "2021-12-29T13:38:12.935987Z",
          "iopub.status.idle": "2021-12-29T13:38:13.573562Z",
          "shell.execute_reply.started": "2021-12-29T13:38:12.935934Z",
          "shell.execute_reply": "2021-12-29T13:38:13.572468Z"
        },
        "trusted": true,
        "id": "flQ7JLHAmQFl"
      },
      "execution_count": null,
      "outputs": []
    },
    {
      "cell_type": "markdown",
      "source": [
        "The above two plots indicate:\n",
        "- Most items sold belong to the FOODS category, followed by HOUSEHOLD and HOBBIES\n",
        "- CA leads in the number of \"Total items\" sold in either category (FOODS, HOBBIES AND HOUSEHOLD) , while WISCONSIN lags behind TX in each category except FOODS. We would see whether the same difference translates in terms of revenue extracted off these states or not"
      ],
      "metadata": {
        "id": "g6LbCCOemQFm"
      }
    },
    {
      "cell_type": "code",
      "source": [
        "#df3 = train_sales_df.groupby(['cat_id', 'store_id'])['total_sales_all_days'].sum().reset_index()"
      ],
      "metadata": {
        "execution": {
          "iopub.status.busy": "2021-12-29T13:38:13.575046Z",
          "iopub.execute_input": "2021-12-29T13:38:13.575298Z",
          "iopub.status.idle": "2021-12-29T13:38:13.580331Z",
          "shell.execute_reply.started": "2021-12-29T13:38:13.575262Z",
          "shell.execute_reply": "2021-12-29T13:38:13.579566Z"
        },
        "trusted": true,
        "id": "ztvcpfJUmQFm"
      },
      "execution_count": null,
      "outputs": []
    },
    {
      "cell_type": "code",
      "source": [
        "#sns.set_style('whitegrid')\n",
        "#sns.axes_style(style='ticks')\n",
        "#fig, ax1 = plt.subplots(figsize=(14,5))\n",
        "\n",
        "#sns.barplot(x = 'store_id', y='total_sales_all_days', hue='cat_id', data=df3, \n",
        "#            palette='afmhot', ax=ax1)\n",
        "\n",
        "#plt.xticks(rotation=90)\n",
        "#plt.show()"
      ],
      "metadata": {
        "execution": {
          "iopub.status.busy": "2021-12-29T13:38:13.581767Z",
          "iopub.execute_input": "2021-12-29T13:38:13.582044Z",
          "iopub.status.idle": "2021-12-29T13:38:13.593526Z",
          "shell.execute_reply.started": "2021-12-29T13:38:13.581997Z",
          "shell.execute_reply": "2021-12-29T13:38:13.59219Z"
        },
        "trusted": true,
        "id": "_z5eUVfImQFn"
      },
      "execution_count": null,
      "outputs": []
    },
    {
      "cell_type": "markdown",
      "source": [
        "Same results across all stores"
      ],
      "metadata": {
        "id": "AyUc56rBmQFo"
      }
    },
    {
      "cell_type": "code",
      "source": [
        "df = train_sales_df.groupby(['state_id', 'cat_id'])['id'].count().reset_index(name='num_sales_by_category')\n",
        "fig = px.bar(df, x=\"state_id\", y=\"num_sales_by_category\", \n",
        "             color=\"cat_id\", title=\"Distribution of Product_ids Count Across Categories & Each Locale\")\n",
        "fig.show()"
      ],
      "metadata": {
        "execution": {
          "iopub.status.busy": "2021-12-29T13:38:13.595217Z",
          "iopub.execute_input": "2021-12-29T13:38:13.59574Z",
          "iopub.status.idle": "2021-12-29T13:38:14.301056Z",
          "shell.execute_reply.started": "2021-12-29T13:38:13.59569Z",
          "shell.execute_reply": "2021-12-29T13:38:14.300155Z"
        },
        "trusted": true,
        "id": "0PrYMCBymQFy"
      },
      "execution_count": null,
      "outputs": []
    },
    {
      "cell_type": "markdown",
      "source": [
        "A couple of points that could be drawn from this observation are:\n",
        "- most items have been sold in california\n",
        "- Texas and Wisconsin stores have almost total sales i.e. during the same timeframe of 1913 days, same number of items had been sold in both Texas and Wisconsin. Would this observation hold true in the sell_prices_df (revenue dataset) ? Does the observation remain same across different store locations in both Texas and Wisonconsin?"
      ],
      "metadata": {
        "id": "VQl0hMW7mQFz"
      }
    },
    {
      "cell_type": "markdown",
      "source": [
        "#### Distribution of Items Across Department & Store_ids?"
      ],
      "metadata": {
        "id": "h_6k3Mr4mQF6"
      }
    },
    {
      "cell_type": "code",
      "source": [
        "df = train_sales_df.groupby(['dept_id', 'store_id', 'state_id', 'cat_id'])[train_sales_df.columns[6:]].sum().reset_index()\n",
        "df = df.sort_values('total_sales_all_days', ascending=False)"
      ],
      "metadata": {
        "execution": {
          "iopub.status.busy": "2021-12-29T13:38:14.302567Z",
          "iopub.execute_input": "2021-12-29T13:38:14.303197Z",
          "iopub.status.idle": "2021-12-29T13:38:15.395111Z",
          "shell.execute_reply.started": "2021-12-29T13:38:14.303142Z",
          "shell.execute_reply": "2021-12-29T13:38:15.394016Z"
        },
        "trusted": true,
        "id": "hLRWIEqumQF6"
      },
      "execution_count": null,
      "outputs": []
    },
    {
      "cell_type": "code",
      "source": [
        "x_dept = df['dept_id']\n",
        "x_store = df['store_id']\n",
        "\n",
        "def items_sold_per_days(x_spec,title_text, title):\n",
        "    \n",
        "    '''\n",
        "    returns plotly plots with drop down menus for specified parameter made in dataframe earlier\n",
        "    \n",
        "    inputs: x_spec (categorical feature on the x_axis), title_text(title on dropdown), \n",
        "            title (title of the plot)\n",
        "            \n",
        "    returns: plotly plots of categorical feature (x_axis) with dropdowns on specific \n",
        "    number of days        \n",
        "    '''\n",
        "    \n",
        "    cols = ['d_1', 'd_50', 'd_300', 'd_500', 'd_700', 'd_900', 'd_1100', 'd_1500', 'd_1700',\n",
        "        'total_sales_all_days', 'median_sales_all_days']\n",
        "\n",
        "    buttons1 = [dict(method = \"restyle\",\n",
        "                 args = [{'x': [x_spec, 'undefined'],\n",
        "                          'y': [df[cols[k]], 'undefined'],\n",
        "                          'visible':[True, False]}], \n",
        "                 label = cols[k])   for k in range(0, len(cols))]\n",
        "\n",
        "    fig = go.Figure()\n",
        "    fig.add_trace(go.Bar(x=x_spec, y = df['d_1'], name='Dept.Sales on day2',\n",
        "                     marker_color='Crimson'))\n",
        "\n",
        "    fig.update_layout(title_text= title_text,\n",
        "                  title_x= 0.4, width=750, height=450, \n",
        "                  margin=dict(t=100, b=20, l=0, r=0),\n",
        "                  autosize = False,\n",
        "                  updatemenus=[dict(active=0,\n",
        "                                    buttons=buttons1,\n",
        "                                    x=0.08,\n",
        "                                    y=1.13,\n",
        "                                    xanchor='left',\n",
        "                                    yanchor='top')\n",
        "                              ]); \n",
        "\n",
        "    fig.add_annotation( x=0.00,  y=1.13, showarrow=False, xref='paper', yref='paper', xanchor='left',\n",
        "                   text=\"With<br>\"+str(title));\n",
        "    fig.show()\n",
        "\n",
        "items_sold_per_days(df['store_id'], 'Distribution of Sales Made on Each Store', 'Stores')\n",
        "items_sold_per_days(df['state_id'], \"Distribution of Sales Made In Each State\", 'States')"
      ],
      "metadata": {
        "_kg_hide-input": false,
        "execution": {
          "iopub.status.busy": "2021-12-29T13:38:15.396903Z",
          "iopub.execute_input": "2021-12-29T13:38:15.397204Z",
          "iopub.status.idle": "2021-12-29T13:38:15.875255Z",
          "shell.execute_reply.started": "2021-12-29T13:38:15.397155Z",
          "shell.execute_reply": "2021-12-29T13:38:15.874009Z"
        },
        "trusted": true,
        "id": "5C98piagmQF7"
      },
      "execution_count": null,
      "outputs": []
    },
    {
      "cell_type": "markdown",
      "source": [
        "The data_analysis on these points helps make it clear that:\n",
        "- Regarding the distribution of sales across department ids, most sales have been made across \"FOODS_3\" category followed by most sales made across household_1 category\n",
        "- Stores locale identity along with embedded state_ids helpe make it clear that the distribution of sales across Texas & Wisconsin stores are NOT the same , though the total number represented across categories (foods, houshold and hobbies) might have come the same.\n",
        "- The outperformers in Each state of CA, TX and Wisonsin are the stores with ids CA_3, TX_2 and WI_3 respectively"
      ],
      "metadata": {
        "id": "NNFFi2NamQGC"
      }
    },
    {
      "cell_type": "markdown",
      "source": [
        "#### Specific Item OutSelling the Most?"
      ],
      "metadata": {
        "id": "NFgAqG5RmQGD"
      }
    },
    {
      "cell_type": "markdown",
      "source": [
        "Since the train_sales_df contains the information about each specific item and the number of sales made, we can make a few observations regarding the most frequently purchased item too.\n",
        "\n",
        "We could plot its behavior across the number of days to get a general gist of its sales pattern across given days. i.e d_1 to d_1913"
      ],
      "metadata": {
        "id": "AAI83Y-rmQGE"
      }
    },
    {
      "cell_type": "code",
      "source": [
        "train_sales_df.groupby(['id'])['total_sales_all_days'].sum().sort_values(ascending=False)"
      ],
      "metadata": {
        "execution": {
          "iopub.status.busy": "2021-12-29T13:38:15.876958Z",
          "iopub.execute_input": "2021-12-29T13:38:15.877253Z",
          "iopub.status.idle": "2021-12-29T13:38:15.966956Z",
          "shell.execute_reply.started": "2021-12-29T13:38:15.877206Z",
          "shell.execute_reply": "2021-12-29T13:38:15.965706Z"
        },
        "trusted": true,
        "id": "cAR2C2WbmQGE"
      },
      "execution_count": null,
      "outputs": []
    },
    {
      "cell_type": "markdown",
      "source": [
        "Once the total number of sales have been grouped against specific item id i.e. 'id' parameter, it is clear that the item \"**FOODS_3_090_CA_3_validation**\" has clearly sold most units than any other item in the category followed by **\"FOODS_3_586_TX_2_validation\"**. i.e. the first item belongs to food_3 category and sold in the CA_3 store location. Similarly, the second one belongs to TX_2 store location (i.e. second store in Texas) also belonging to the same category of FOODS_3 which is also consistent with observations made before"
      ],
      "metadata": {
        "id": "5qTqO-hRmQGG"
      }
    },
    {
      "cell_type": "code",
      "source": [
        "sns.set_style('whitegrid')\n",
        "\n",
        "def plot_dailysales(spec_id):\n",
        "    \"\"\"\n",
        "    plots the behavior of dailysales of specific ids i.e. spec_id\n",
        "    \n",
        "    input: spec_id\n",
        "    returns : number of sales plotted across number of days \n",
        "    \"\"\"\n",
        "    train_sales_df.loc[train_sales_df['id'] == spec_id ].set_index('id')[d_cols]\\\n",
        "                .T\\\n",
        "                .plot(figsize = (13,2.5),\n",
        "                      title =  str(spec_id)+\"_item daily sales\", \n",
        "                      color = next(color_cycle) )\n",
        "    plt.legend()\n",
        "    plt.show()\n",
        "\n",
        "plot_dailysales('FOODS_3_090_CA_3_validation') \n",
        "plot_dailysales('FOODS_3_586_TX_2_validation')"
      ],
      "metadata": {
        "execution": {
          "iopub.status.busy": "2021-12-29T13:38:15.968857Z",
          "iopub.execute_input": "2021-12-29T13:38:15.969265Z",
          "iopub.status.idle": "2021-12-29T13:38:16.630975Z",
          "shell.execute_reply.started": "2021-12-29T13:38:15.969192Z",
          "shell.execute_reply": "2021-12-29T13:38:16.629804Z"
        },
        "trusted": true,
        "id": "hUd1MepjmQGH"
      },
      "execution_count": null,
      "outputs": []
    },
    {
      "cell_type": "markdown",
      "source": [
        "#### Item ID Outselling Most in Each Category?"
      ],
      "metadata": {
        "id": "Jq5C61F7mQGH"
      }
    },
    {
      "cell_type": "code",
      "source": [
        "df_agg = pd.DataFrame(train_sales_df.groupby(['id', 'cat_id', 'store_id'])['total_sales_all_days'].sum().sort_values(ascending=False))\n",
        "df_agg = df_agg.reset_index()\n",
        "df_agg.head(3)"
      ],
      "metadata": {
        "execution": {
          "iopub.status.busy": "2021-12-29T13:38:16.633125Z",
          "iopub.execute_input": "2021-12-29T13:38:16.633868Z",
          "iopub.status.idle": "2021-12-29T13:38:16.741854Z",
          "shell.execute_reply.started": "2021-12-29T13:38:16.633797Z",
          "shell.execute_reply": "2021-12-29T13:38:16.740899Z"
        },
        "trusted": true,
        "id": "52PJGMXXmQGI"
      },
      "execution_count": null,
      "outputs": []
    },
    {
      "cell_type": "markdown",
      "source": [
        "Now that the dataset has been arranged in descending order of total sales, it would be a lot easier to estimate the item_id ('id') outselling others in each category"
      ],
      "metadata": {
        "id": "WM5Nf44qmQGI"
      }
    },
    {
      "cell_type": "code",
      "source": [
        "print(\"The 3 item_ids outselling most in FOODS category are: {}\".format(list(df_agg.loc[df_agg['cat_id'] == 'FOODS']['id'][:3])))\n",
        "print(\"The 3 item_ids outselling most in HOUSEHOLDS category are: {}\".format(list(df_agg.loc[df_agg['cat_id'] == 'HOUSEHOLD']['id'][:3])))\n",
        "print(\"The 3 item_ids outselling most in HOBBIES category are: {}\".format(list(df_agg.loc[df_agg['cat_id'] == 'HOBBIES']['id'][:3])))"
      ],
      "metadata": {
        "execution": {
          "iopub.status.busy": "2021-12-29T13:38:16.743101Z",
          "iopub.execute_input": "2021-12-29T13:38:16.743415Z",
          "iopub.status.idle": "2021-12-29T13:38:16.77877Z",
          "shell.execute_reply.started": "2021-12-29T13:38:16.743329Z",
          "shell.execute_reply": "2021-12-29T13:38:16.777907Z"
        },
        "trusted": true,
        "id": "KAzPz_HdmQGI"
      },
      "execution_count": null,
      "outputs": []
    },
    {
      "cell_type": "code",
      "source": [
        "#df = pd.DataFrame({\"days\": list(train_sales_df[train_sales_df['id'] == 'FOODS_3_090_CA_3_validation'][d_cols].columns),\n",
        "#                   \"sales_data\": list(train_sales_df[train_sales_df['id'] == 'FOODS_3_090_CA_3_validation'][d_cols].values.flatten())})"
      ],
      "metadata": {
        "execution": {
          "iopub.status.busy": "2021-12-29T13:38:16.780552Z",
          "iopub.execute_input": "2021-12-29T13:38:16.780895Z",
          "iopub.status.idle": "2021-12-29T13:38:16.784868Z",
          "shell.execute_reply.started": "2021-12-29T13:38:16.780838Z",
          "shell.execute_reply": "2021-12-29T13:38:16.783989Z"
        },
        "trusted": true,
        "id": "g1fdUrbZmQGJ"
      },
      "execution_count": null,
      "outputs": []
    },
    {
      "cell_type": "code",
      "source": [
        "#fig, (ax1, ax2, ax3) = plt.subplots(3, 1, figsize=(14, 7))\n",
        "\n",
        "def plot_sample_sales(spec_id, sm_start, sm_end, samples_pick=50):\n",
        "    \"\"\"\n",
        "    plots sample sales data with selection point and ending point specified, along with\n",
        "    samples_pick point that specifies the samples picked after specified intervals\n",
        "    \n",
        "    input: spec_id (item_id or id), sm_start (sample_start), sm_end(sample_end),\n",
        "    samples_pick (samples picked after how many intervals)\n",
        "    \n",
        "    returns: outputs a graph of sample points plotted against daily sales data d_1 to d_1913\n",
        "    \"\"\"\n",
        "    fig, ax1 = plt.subplots(figsize=(13, 2.5))\n",
        "    \n",
        "    x1 = list(train_sales_df[train_sales_df['id'] == spec_id][d_cols]\\\n",
        "              .columns)[sm_start:sm_end]\n",
        "    y1 = list(train_sales_df[train_sales_df['id'] == spec_id][d_cols]\\\n",
        "              .values.flatten())[sm_start:sm_end]\n",
        "    \n",
        "    #this conversion for regplot only\n",
        "    x1 = [x.replace(\"d_\", \"\") for x in x1]\n",
        "    x1 = [int(x) for x in x1]\n",
        "    \n",
        "    #sns.lineplot(x=x1, y=y1, ax=ax1)\n",
        "    sns.regplot(x=x1, y=y1, order=10, ax=ax1)\n",
        "    ax1.set_ylabel(\"Number of Sales\")\n",
        "    ax1.set_xlabel(\"Days\")\n",
        "\n",
        "    ax1.set_xticks(x1[::samples_pick])\n",
        "    ax1.set_xticklabels(x1[::samples_pick], rotation=0)\n",
        "\n",
        "    fig.tight_layout()\n",
        "    plt.show()"
      ],
      "metadata": {
        "_kg_hide-input": true,
        "execution": {
          "iopub.status.busy": "2021-12-29T13:38:16.786243Z",
          "iopub.execute_input": "2021-12-29T13:38:16.786711Z",
          "iopub.status.idle": "2021-12-29T13:38:16.80249Z",
          "shell.execute_reply.started": "2021-12-29T13:38:16.786659Z",
          "shell.execute_reply": "2021-12-29T13:38:16.801252Z"
        },
        "trusted": true,
        "id": "pCtHGJ5WmQGJ"
      },
      "execution_count": null,
      "outputs": []
    },
    {
      "cell_type": "code",
      "source": [
        "plot_sample_sales('FOODS_3_090_CA_3_validation', 500, 1300)\n",
        "plot_sample_sales('FOODS_3_586_TX_2_validation', 500, 1300)\n",
        "plot_sample_sales('FOODS_3_090_CA_1_validation', 500, 1300)\n"
      ],
      "metadata": {
        "execution": {
          "iopub.status.busy": "2021-12-29T13:38:16.804349Z",
          "iopub.execute_input": "2021-12-29T13:38:16.80491Z",
          "iopub.status.idle": "2021-12-29T13:38:19.747665Z",
          "shell.execute_reply.started": "2021-12-29T13:38:16.804829Z",
          "shell.execute_reply": "2021-12-29T13:38:19.746494Z"
        },
        "trusted": true,
        "id": "eVHxSxP0mQGK"
      },
      "execution_count": null,
      "outputs": []
    },
    {
      "cell_type": "markdown",
      "source": [
        "Looking at the above graphs, our regression model does a fairly good job of fitting the line on the sales trend observed between the days 500th to 900th, for the item ids 'FOODS_3_090_CA_3_validation' and 'FOODS_3_586_TX_2_validation'. The graph also points out to the similar trends of troughs and crests between the specific days pointing out towards the occurence of special occasions and events that are driving sales. (To do _explain on order of polynomial and take more cases of ids across foods, household categories across different stores)"
      ],
      "metadata": {
        "id": "9Pvbh2tpmQGK"
      }
    },
    {
      "cell_type": "markdown",
      "source": [
        "### Questions on Sales Revenue?\n",
        "\n",
        "First of all, we'd be interested in finding out what the specific revenue with respect to each product is? But since we have not been provided the dataset with ids (product_ids) in sell_prices_df(revenue dataframe) and there is a mismatch in dataset entries between the both datasets (train_sales_df with almost 30000 rows and sell_prices_df with almost 6M entries), therefore, atbest, a rough estimate could be made by merging both datasets.\n",
        "\n",
        "Frotunately enouhg, Revenue Dataframe (sell_prices_df) has the categorical level data available, so we could make an estimation regarding the items sold in each category to see what is the specific price where most items are getting sold. \n",
        "\n",
        "We'll first try fitting the non-parametric method of probability distribution since we suspect the data distribution might not be exact replica of a distribution we have seen before, and may include peaks or outliers. (https://machinelearningmastery.com/probability-density-estimation/)\n",
        "\n",
        "If the behavior of data distribution does not resemble a known distribution, further investigation would be made to remove the specific data outliers"
      ],
      "metadata": {
        "id": "bFdBBFQLmQGK"
      }
    },
    {
      "cell_type": "code",
      "source": [
        "sell_prices_df.head(3)"
      ],
      "metadata": {
        "execution": {
          "iopub.status.busy": "2021-12-29T13:38:19.749407Z",
          "iopub.execute_input": "2021-12-29T13:38:19.75005Z",
          "iopub.status.idle": "2021-12-29T13:38:19.767967Z",
          "shell.execute_reply.started": "2021-12-29T13:38:19.749982Z",
          "shell.execute_reply": "2021-12-29T13:38:19.76685Z"
        },
        "trusted": true,
        "id": "0e1WGeiNmQGL"
      },
      "execution_count": null,
      "outputs": []
    },
    {
      "cell_type": "code",
      "source": [
        "# making a new column category out of the item_id \n",
        "sell_prices_df['category'] = sell_prices_df['item_id'].str.split(\"_\", expand=True)[0]"
      ],
      "metadata": {
        "execution": {
          "iopub.status.busy": "2021-12-29T13:38:19.770002Z",
          "iopub.execute_input": "2021-12-29T13:38:19.770841Z",
          "iopub.status.idle": "2021-12-29T13:38:48.669019Z",
          "shell.execute_reply.started": "2021-12-29T13:38:19.770391Z",
          "shell.execute_reply": "2021-12-29T13:38:48.667864Z"
        },
        "trusted": true,
        "id": "GLU1uFcCmQGL"
      },
      "execution_count": null,
      "outputs": []
    },
    {
      "cell_type": "markdown",
      "source": [
        "#### Distribution of Price Among Categories?"
      ],
      "metadata": {
        "id": "wNJcBRsUmQGL"
      }
    },
    {
      "cell_type": "code",
      "source": [
        "sns.set_style('whitegrid')\n",
        "#plt.figure(figsize=(15,5))\n",
        "\n",
        "def kde_plotting(df, category, bin_size, color, label):\n",
        "    \n",
        "    '''\n",
        "    plots the kde density plot of the continuous features of df specified\n",
        "    \n",
        "    inputs: df, category(whether, foods, household or hobbies), bin_size(bin size for histogram)\n",
        "            color (color of the plot), label (label to the plot)\n",
        "    returns: kde plots with logarithmic scale taken on x_axis\n",
        "            \n",
        "    '''\n",
        "    fig, ax1 = plt.subplots(figsize=(13, 2.5) )\n",
        "\n",
        "    sns.distplot(df[df['category'] == category]['sell_price'], \n",
        "               axlabel = label ,bins=bin_size, color = color, ax=ax1) \n",
        "\n",
        "    fig.tight_layout()\n",
        "    ax1.set_xscale('log')\n",
        "    plt.legend()\n",
        "    plt.show()\n",
        "    \n",
        "kde_plotting(sell_prices_df, 'HOBBIES', 150, 'b', 'hobbies')   \n",
        "kde_plotting(sell_prices_df, 'FOODS', 250, 'g', 'foods') \n",
        "kde_plotting(sell_prices_df, 'HOUSEHOLD', 150, 'r', 'household') "
      ],
      "metadata": {
        "execution": {
          "iopub.status.busy": "2021-12-29T13:38:48.671181Z",
          "iopub.execute_input": "2021-12-29T13:38:48.672713Z",
          "iopub.status.idle": "2021-12-29T13:38:58.232856Z",
          "shell.execute_reply.started": "2021-12-29T13:38:48.671556Z",
          "shell.execute_reply": "2021-12-29T13:38:58.231616Z"
        },
        "trusted": true,
        "id": "emG9QlOJmQGL"
      },
      "execution_count": null,
      "outputs": []
    },
    {
      "cell_type": "markdown",
      "source": [
        "We could extract following useful information by looking at these kde plots. \n",
        "\n",
        "- The probability distribution plot of the **household** items follows an almost normal distribution with a mean centered around a price of 5 Dollars and most items being sold within the 1 to 10 dollars range. This would indicate that most household items that are getting sold lie within the price bracket of 25 cents to 10 dollars\n",
        "- **Foods** items prices is a multimodal distribution indicating frequent variation in interest among food items purchased. The values occur both towards the relative higher price bracket as well as lower price bracket indicating that the degree of interest of consumers in food items is not only varied but that the Walmart stores have a catalogue of food items that are peaking consumer's interest across different categories. The price bracket in this case also happens to lie within 2 cents to 10 dollars with only very few items getting sold past that range\n",
        "- The probability distribution of **hobbies** related items prices indicates a mix of bimodal and multimodal distributions. This indicates that while a few items in specific category were sold more than others (first peak that lies in the area between 0.01 dollar to 1 dollar) there are also items towards a relative higher price bracket that have been also sold quite frequently enought to give it a multimodal distribution with small decreasing peaks indicative of decreasing interest in hobbies related items that are relatively expensive but sill significant enough to generate consumer interest. "
      ],
      "metadata": {
        "id": "DsJGlpnUmQGL"
      }
    },
    {
      "cell_type": "markdown",
      "source": [
        "#### Removing Outliers to Observe Price Distribution? \n",
        "#### **Quartile Method**"
      ],
      "metadata": {
        "id": "dkIK5AOZmQGM"
      }
    },
    {
      "cell_type": "code",
      "source": [
        "def remove_outliers(df):\n",
        "    \n",
        "    '''\n",
        "    removes the outliers in continous features using quartile ranges\n",
        "    \n",
        "    inputs: df(df specified with continous features along side categorical features)\n",
        "    returns: df with removed outliers\n",
        "    '''\n",
        "    Q1=df.quantile(0.25)\n",
        "    Q3=df.quantile(0.75)\n",
        "    IQR=Q3-Q1\n",
        "    df_final=df[~((df<(Q1-1.5*IQR)) | (df>(Q3+1.5*IQR)))]\n",
        "    \n",
        "    return df_final\n",
        "\n",
        "df = sell_prices_df[['category', 'sell_price']]\n",
        "df = remove_outliers(df)"
      ],
      "metadata": {
        "execution": {
          "iopub.status.busy": "2021-12-29T13:38:58.235031Z",
          "iopub.execute_input": "2021-12-29T13:38:58.235458Z",
          "iopub.status.idle": "2021-12-29T13:38:59.742391Z",
          "shell.execute_reply.started": "2021-12-29T13:38:58.235375Z",
          "shell.execute_reply": "2021-12-29T13:38:59.741229Z"
        },
        "trusted": true,
        "id": "Fsm98QhnmQGM"
      },
      "execution_count": null,
      "outputs": []
    },
    {
      "cell_type": "code",
      "source": [
        "sns.set_style('whitegrid')\n",
        "sns.axes_style(style='ticks')\n",
        "plt.figure(figsize=(13,3))\n",
        "sns.boxplot(y=df['category'], x=df['sell_price'])\n",
        "plt.show()"
      ],
      "metadata": {
        "execution": {
          "iopub.status.busy": "2021-12-29T13:38:59.744245Z",
          "iopub.execute_input": "2021-12-29T13:38:59.744684Z",
          "iopub.status.idle": "2021-12-29T13:39:01.936582Z",
          "shell.execute_reply.started": "2021-12-29T13:38:59.744594Z",
          "shell.execute_reply": "2021-12-29T13:39:01.93544Z"
        },
        "trusted": true,
        "id": "oPuUEXehmQGM"
      },
      "execution_count": null,
      "outputs": []
    },
    {
      "cell_type": "markdown",
      "source": [
        "After removing most of the outliers, it is apparent that for \n",
        "- FOODS related items, 75 % of the items sold are those that are less than 4 dollars\n",
        "- HOBBIES related items, 75 % of the items sold were less than 6 dollars with an mean price centered around 3.25-3.5 dollars\n",
        "- HOUSEHOLD items, 75 % of the items sold were less than 6.5 dollars. \n",
        "\n",
        "It also represents that there are quite a few outliers in our price data. Since we had observed before using the kdeplots, that the distributions of the dataset were mostly skewed, we used the quartile method of removing the outliers. \n",
        "\n",
        "(https://www.analyticsvidhya.com/blog/2021/05/feature-engineering-how-to-detect-and-remove-outliers-with-python-code/)"
      ],
      "metadata": {
        "id": "j87hDP6WmQGM"
      }
    },
    {
      "cell_type": "markdown",
      "source": [
        "### Distribution of Sales On Weekdays & Special Occasions?\n",
        "\n",
        "Our third dataset named, calendar_df, provides valuable information along the timeseries for the dataset of product_id. This dataset also contains information about Special occasions, SNAP (Supplementary Nutrition Assistance Programme) in the USA and coupled with the product_id dataset i.e. train_sales_df would be helpful in observing sales along weekdays, specific dates and special occasions"
      ],
      "metadata": {
        "id": "HM-AVICqmQGN"
      }
    },
    {
      "cell_type": "code",
      "source": [
        "calendar_df.head(3)"
      ],
      "metadata": {
        "execution": {
          "iopub.status.busy": "2021-12-29T13:39:01.938953Z",
          "iopub.execute_input": "2021-12-29T13:39:01.939388Z",
          "iopub.status.idle": "2021-12-29T13:39:01.960653Z",
          "shell.execute_reply.started": "2021-12-29T13:39:01.939308Z",
          "shell.execute_reply": "2021-12-29T13:39:01.958684Z"
        },
        "trusted": true,
        "id": "qkvmK_5emQGQ"
      },
      "execution_count": null,
      "outputs": []
    },
    {
      "cell_type": "code",
      "source": [
        "calendar_df.groupby(['event_name_1', 'event_type_1'])['wday'].count()"
      ],
      "metadata": {
        "execution": {
          "iopub.status.busy": "2021-12-29T13:39:01.962559Z",
          "iopub.execute_input": "2021-12-29T13:39:01.963033Z",
          "iopub.status.idle": "2021-12-29T13:39:01.980071Z",
          "shell.execute_reply.started": "2021-12-29T13:39:01.962964Z",
          "shell.execute_reply": "2021-12-29T13:39:01.97862Z"
        },
        "trusted": true,
        "id": "UDhRuuvLmQGR"
      },
      "execution_count": null,
      "outputs": []
    },
    {
      "cell_type": "markdown",
      "source": [
        "Looking at the distribution of data in 'event_name_1' and 'event_type_1' it is clear the data here relates to holidays which could reveal important trends when coupled with the information of sales made on the specific event."
      ],
      "metadata": {
        "id": "1mivAoNAmQGR"
      }
    },
    {
      "cell_type": "code",
      "source": [
        "calendar_df.groupby(['event_name_2', 'event_type_2'])['wday'].count()"
      ],
      "metadata": {
        "execution": {
          "iopub.status.busy": "2021-12-29T13:39:01.981489Z",
          "iopub.execute_input": "2021-12-29T13:39:01.98186Z",
          "iopub.status.idle": "2021-12-29T13:39:01.998649Z",
          "shell.execute_reply.started": "2021-12-29T13:39:01.981768Z",
          "shell.execute_reply": "2021-12-29T13:39:01.99781Z"
        },
        "trusted": true,
        "id": "0vyHtSSwmQGU"
      },
      "execution_count": null,
      "outputs": []
    },
    {
      "cell_type": "markdown",
      "source": [
        "It seems a few entries that have not been made to the 'event_name_1' attribute have been made available in a different category"
      ],
      "metadata": {
        "id": "ZsWvtKmtmQGU"
      }
    },
    {
      "cell_type": "code",
      "source": [
        "#Making in and including a new entry of days as well as merging the events_1 and event_2 into\n",
        "# a single new events_names and types category\n",
        "\n",
        "calendar_df['days'] = [d.split('-')[2] for d in calendar_df['date']]\n",
        "calendar_df['events_names'] = pd.concat([calendar_df['event_name_1'], calendar_df['event_name_2']], \n",
        "                                        ignore_index=True)\n",
        "calendar_df['events_types'] = pd.concat([calendar_df['event_type_1'], calendar_df['event_type_2']], \n",
        "                                        ignore_index=True)\n",
        "#calendar_df.drop(['event_name_1', 'event_name_2', 'event_type_1', 'event_type_2'], axis=1, inplace=True)"
      ],
      "metadata": {
        "execution": {
          "iopub.status.busy": "2021-12-29T13:39:02.012694Z",
          "iopub.execute_input": "2021-12-29T13:39:02.01361Z",
          "iopub.status.idle": "2021-12-29T13:39:02.029175Z",
          "shell.execute_reply.started": "2021-12-29T13:39:02.013512Z",
          "shell.execute_reply": "2021-12-29T13:39:02.027841Z"
        },
        "trusted": true,
        "id": "O7z65zSkmQGU"
      },
      "execution_count": null,
      "outputs": []
    },
    {
      "cell_type": "markdown",
      "source": [
        "#### What are **SNAP_CA, SNAP_TX, SNAP_WI**?\n",
        "\n",
        "SNAP stands for \"Supplementary Nutrition Assistance Program\" that is a federal level program aimed at providing food essentials to low-income households. This program is geared towards providing the food essentials and within the current dataset, the catagories of household items and hobbies items do not fall within the requirements of this program.\n",
        "\n",
        "This program is only geared towards fighting the food hunger in america and only food related items can be purchased under this program"
      ],
      "metadata": {
        "id": "3WrelNpamQGV"
      }
    },
    {
      "cell_type": "code",
      "source": [
        "df = calendar_df.groupby(['events_types'])['snap_CA'].value_counts().reset_index(name='counts')"
      ],
      "metadata": {
        "execution": {
          "iopub.status.busy": "2021-12-29T13:39:02.031926Z",
          "iopub.execute_input": "2021-12-29T13:39:02.032508Z",
          "iopub.status.idle": "2021-12-29T13:39:02.158758Z",
          "shell.execute_reply.started": "2021-12-29T13:39:02.032444Z",
          "shell.execute_reply": "2021-12-29T13:39:02.157797Z"
        },
        "trusted": true,
        "id": "Lwh9NHUImQGV"
      },
      "execution_count": null,
      "outputs": []
    },
    {
      "cell_type": "code",
      "source": [
        "sns.set_style('whitegrid')\n",
        "sns.axes_style(style='ticks')\n",
        "plt.figure(figsize=(13,3))\n",
        "sns.barplot(x = 'events_types', y='counts', hue='snap_CA', data=df, palette='bwr')\n",
        "plt.show()"
      ],
      "metadata": {
        "execution": {
          "iopub.status.busy": "2021-12-29T13:39:02.160249Z",
          "iopub.execute_input": "2021-12-29T13:39:02.160532Z",
          "iopub.status.idle": "2021-12-29T13:39:02.420842Z",
          "shell.execute_reply.started": "2021-12-29T13:39:02.160487Z",
          "shell.execute_reply": "2021-12-29T13:39:02.419693Z"
        },
        "trusted": true,
        "id": "5S3GpLUGmQGV"
      },
      "execution_count": null,
      "outputs": []
    },
    {
      "cell_type": "code",
      "source": [
        "df = calendar_df.groupby(['events_names'])['snap_CA'].value_counts().reset_index(name='counts')"
      ],
      "metadata": {
        "execution": {
          "iopub.status.busy": "2021-12-29T13:39:02.424794Z",
          "iopub.execute_input": "2021-12-29T13:39:02.425786Z",
          "iopub.status.idle": "2021-12-29T13:39:02.440809Z",
          "shell.execute_reply.started": "2021-12-29T13:39:02.425702Z",
          "shell.execute_reply": "2021-12-29T13:39:02.439418Z"
        },
        "trusted": true,
        "id": "4YPqC4VUmQGW"
      },
      "execution_count": null,
      "outputs": []
    },
    {
      "cell_type": "code",
      "source": [
        "sns.set_style('whitegrid')\n",
        "sns.axes_style(style='ticks')\n",
        "plt.figure(figsize=(13,3))\n",
        "sns.barplot(x = 'events_names', y='counts', hue='snap_CA', data=df, \n",
        "            order = df.sort_values(['counts'], ascending=False).events_names, \n",
        "            palette='OrRd')\n",
        "plt.xticks(rotation=90)\n",
        "plt.show()"
      ],
      "metadata": {
        "execution": {
          "iopub.status.busy": "2021-12-29T13:39:02.442799Z",
          "iopub.execute_input": "2021-12-29T13:39:02.443205Z",
          "iopub.status.idle": "2021-12-29T13:39:03.648885Z",
          "shell.execute_reply.started": "2021-12-29T13:39:02.443143Z",
          "shell.execute_reply": "2021-12-29T13:39:03.648035Z"
        },
        "trusted": true,
        "id": "Kzqc-uxmmQGW"
      },
      "execution_count": null,
      "outputs": []
    },
    {
      "cell_type": "markdown",
      "source": [
        "A look at both of these plots indicates the special occasions when the SNAP programme in CA were availed.  "
      ],
      "metadata": {
        "id": "UaakB4g7mQGW"
      }
    },
    {
      "cell_type": "markdown",
      "source": [
        "### Distribution of Sales Items vs Sales Revenue? \n",
        "Now that we have product_id df as well as revenue_df, we'll merge the dataset now to start exploring trends of item_specific_data and sale_price_specific data "
      ],
      "metadata": {
        "id": "xL-DJJGWmQGX"
      }
    },
    {
      "cell_type": "code",
      "source": [
        "#product id df (train_sales_df) vs revenue_df(sell_prices_df)\n",
        "train_sales_prices_df = train_sales_df.merge(sell_prices_df, how='inner', on='item_id', \n",
        "                                            left_index=True, right_index=True, \n",
        "                                            validate=\"1:1\")\n"
      ],
      "metadata": {
        "execution": {
          "iopub.status.busy": "2021-12-29T13:39:03.650621Z",
          "iopub.execute_input": "2021-12-29T13:39:03.651386Z",
          "iopub.status.idle": "2021-12-29T13:39:05.130952Z",
          "shell.execute_reply.started": "2021-12-29T13:39:03.651288Z",
          "shell.execute_reply": "2021-12-29T13:39:05.129488Z"
        },
        "trusted": true,
        "id": "PKkpde8FmQGX"
      },
      "execution_count": null,
      "outputs": []
    },
    {
      "cell_type": "code",
      "source": [
        "df = train_sales_prices_df.groupby(['cat_id', 'state_id', 'store_id_x'])['sell_price'].sum().reset_index(name='total_revenue')\n",
        "df = df.sort_values(by='total_revenue', ascending=False)"
      ],
      "metadata": {
        "execution": {
          "iopub.status.busy": "2021-12-29T13:39:05.132704Z",
          "iopub.execute_input": "2021-12-29T13:39:05.133046Z",
          "iopub.status.idle": "2021-12-29T13:39:05.863767Z",
          "shell.execute_reply.started": "2021-12-29T13:39:05.132986Z",
          "shell.execute_reply": "2021-12-29T13:39:05.862602Z"
        },
        "trusted": true,
        "id": "PLsfsdx8mQGX"
      },
      "execution_count": null,
      "outputs": []
    },
    {
      "cell_type": "code",
      "source": [
        "sns.set_style('whitegrid')\n",
        "sns.axes_style(style='ticks')\n",
        "fig, (ax1, ax2) = plt.subplots(1,2, figsize=(14,5))\n",
        "\n",
        "sns.barplot(x = 'state_id', y='total_revenue', data=df, \n",
        "            palette='coolwarm', ax=ax1)\n",
        "sns.barplot(x = 'cat_id', y='total_revenue', hue='state_id', data=df, \n",
        "            palette='plasma', ax=ax2)\n",
        "\n",
        "plt.xticks(rotation=90)\n",
        "plt.show()"
      ],
      "metadata": {
        "execution": {
          "iopub.status.busy": "2021-12-29T13:39:05.865802Z",
          "iopub.execute_input": "2021-12-29T13:39:05.866414Z",
          "iopub.status.idle": "2021-12-29T13:39:06.811246Z",
          "shell.execute_reply.started": "2021-12-29T13:39:05.866167Z",
          "shell.execute_reply": "2021-12-29T13:39:06.810234Z"
        },
        "trusted": true,
        "id": "RazYG841mQGY"
      },
      "execution_count": null,
      "outputs": []
    },
    {
      "cell_type": "markdown",
      "source": [
        "Despite the fact that salesprices data contains almost 6M entries, in the present case, we are only considering common entries between revenue df and product_ids df. A few significant insights have come forward, i.e. \n",
        "\n",
        "- Although we saw that california consistently was the one state where the unique product_id most sales were made, the most revenue collected came from the Wisconsin State stores\n",
        "- Similarly, within the distribution of Categories, WI and TX contrinute more sales revenue than do the CA stores. \n",
        "- Wisconsin leads the revenue in FOODS and HOBBIES, while Texas leads the revenue in HOUSEHOLD\n",
        "- CA tends to contribute the smallest revenue out of all three states, despite having the most sales of items in its stores locations"
      ],
      "metadata": {
        "id": "GXOQIP7tmQGY"
      }
    },
    {
      "cell_type": "markdown",
      "source": [
        "%%%%^^^^^^^^^!!!^^^^^^^^^%%%%%"
      ],
      "metadata": {
        "id": "7zf9LiGbmQGY"
      }
    },
    {
      "cell_type": "code",
      "source": [
        "#train_sales_cal_df = train_sales_df.set_index('id')[d_cols].T.merge(calendar_df.set_index('d'), \n",
        " #                                                                   left_index=True, right_index=True,\n",
        " #                                                                   validate=\"1:1\").set_index('date')\n"
      ],
      "metadata": {
        "execution": {
          "iopub.status.busy": "2021-12-29T13:39:06.813073Z",
          "iopub.execute_input": "2021-12-29T13:39:06.81396Z",
          "iopub.status.idle": "2021-12-29T13:39:06.8186Z",
          "shell.execute_reply.started": "2021-12-29T13:39:06.813768Z",
          "shell.execute_reply": "2021-12-29T13:39:06.817454Z"
        },
        "trusted": true,
        "id": "LVppE0wlmQGZ"
      },
      "execution_count": null,
      "outputs": []
    },
    {
      "cell_type": "code",
      "source": [
        "##train_sales_cal_df.T"
      ],
      "metadata": {
        "execution": {
          "iopub.status.busy": "2021-12-29T13:39:06.820491Z",
          "iopub.execute_input": "2021-12-29T13:39:06.82129Z",
          "iopub.status.idle": "2021-12-29T13:39:06.831916Z",
          "shell.execute_reply.started": "2021-12-29T13:39:06.821216Z",
          "shell.execute_reply": "2021-12-29T13:39:06.830859Z"
        },
        "trusted": true,
        "id": "vQ4pHnermQGZ"
      },
      "execution_count": null,
      "outputs": []
    },
    {
      "cell_type": "markdown",
      "source": [
        "### *Behaviour on TimeSeries & Analysis?*\n",
        "\n",
        "Timeseries questions would involve merging the datasets of product_ids and data information to enable a thorough analysis through time. We could find out information on the sales of items alongside the timeseries and also find out what specific effects, the weekends and specials occasions might have had on number of units sold\n",
        "\n",
        "**Rolling Averages** : Rolling averages are a useful tool to employ to understand the long term effects in a timeseries represented data. The rationale behind using rolling averages is the fact that resulting reading coming out of rolling averages smoothes out the data against daily fluctuations, and could help data professionals understand the long term impact of the sales/inventory across time. Therefore, we are going to use both rolling average as a necassary tool to help aid ou"
      ],
      "metadata": {
        "id": "E-dGMe5UmQGZ"
      }
    },
    {
      "cell_type": "markdown",
      "source": [
        "#### Distribution of Total Sales Against Product_id on TimeSeries?"
      ],
      "metadata": {
        "id": "_GZR7RhUmQGb"
      }
    },
    {
      "cell_type": "code",
      "source": [
        "#Changing the date type to datetime so that it is depicted as so:\n",
        "\n",
        "#calendar_df.date = pd.to_datetime(calendar_df.date)\n",
        "#type(calendar_df.date)"
      ],
      "metadata": {
        "execution": {
          "iopub.status.busy": "2021-12-29T13:39:06.833776Z",
          "iopub.execute_input": "2021-12-29T13:39:06.834542Z",
          "iopub.status.idle": "2021-12-29T13:39:06.843272Z",
          "shell.execute_reply.started": "2021-12-29T13:39:06.834476Z",
          "shell.execute_reply": "2021-12-29T13:39:06.842408Z"
        },
        "trusted": true,
        "id": "mdA8j8N9mQGb"
      },
      "execution_count": null,
      "outputs": []
    },
    {
      "cell_type": "code",
      "source": [
        "train_sales_cal_df = train_sales_df.set_index('id')[d_cols].T.merge(calendar_df.set_index('d')['date'], \n",
        "                                                                    left_index=True, right_index=True,\n",
        "                                                                    validate=\"1:1\").set_index('date')\n",
        "train_sales_cal_df['total_sales'] = train_sales_cal_df.sum(axis=1)\n"
      ],
      "metadata": {
        "execution": {
          "iopub.status.busy": "2021-12-29T13:39:06.844933Z",
          "iopub.execute_input": "2021-12-29T13:39:06.845551Z",
          "iopub.status.idle": "2021-12-29T13:39:08.538924Z",
          "shell.execute_reply.started": "2021-12-29T13:39:06.845482Z",
          "shell.execute_reply": "2021-12-29T13:39:08.537855Z"
        },
        "trusted": true,
        "id": "MeoliQmEmQGb"
      },
      "execution_count": null,
      "outputs": []
    },
    {
      "cell_type": "code",
      "source": [
        "train_sales_cal_df = train_sales_cal_df[['total_sales']]\n",
        "train_sales_cal_df = train_sales_cal_df.reset_index()"
      ],
      "metadata": {
        "execution": {
          "iopub.status.busy": "2021-12-29T13:39:08.540724Z",
          "iopub.execute_input": "2021-12-29T13:39:08.541109Z",
          "iopub.status.idle": "2021-12-29T13:39:09.096685Z",
          "shell.execute_reply.started": "2021-12-29T13:39:08.54105Z",
          "shell.execute_reply": "2021-12-29T13:39:09.095529Z"
        },
        "trusted": true,
        "id": "ski9tsF0mQGb"
      },
      "execution_count": null,
      "outputs": []
    },
    {
      "cell_type": "code",
      "source": [
        "fig = px.line(train_sales_cal_df, x='date', y=\"total_sales\", \n",
        "             template = 'plotly_white', title = 'Total Sales by Product id', \n",
        "             width=800, height=450)\n",
        "\n",
        "fig.update_xaxes(rangeslider_visible=True)\n",
        "fig.update_layout(\n",
        "    xaxis=dict(\n",
        "    rangeselector=dict( buttons=list([ dict(count=1, label=\"1m\", step=\"month\", stepmode=\"backward\"),\n",
        "    dict(count=6,label=\"6m\", step=\"month\", stepmode=\"backward\"),\n",
        "    dict(count=1, label=\"YTD\", step=\"year\", stepmode=\"todate\"),\n",
        "    dict(count=1, label=\"1y\", step=\"year\", stepmode=\"backward\"),\n",
        "    dict(step=\"all\")\n",
        "            ]) \n",
        "                      ),\n",
        "        rangeslider=dict(\n",
        "            visible=True\n",
        "        ),\n",
        "        type=\"date\"\n",
        "    )\n",
        ")\n",
        "\n",
        "fig.show()"
      ],
      "metadata": {
        "execution": {
          "iopub.status.busy": "2021-12-29T13:39:09.098918Z",
          "iopub.execute_input": "2021-12-29T13:39:09.099336Z",
          "iopub.status.idle": "2021-12-29T13:39:09.705283Z",
          "shell.execute_reply.started": "2021-12-29T13:39:09.099254Z",
          "shell.execute_reply": "2021-12-29T13:39:09.703837Z"
        },
        "trusted": true,
        "id": "wPNjPZ4AmQGb"
      },
      "execution_count": null,
      "outputs": []
    },
    {
      "cell_type": "markdown",
      "source": [
        "From this graph it is difficult to tell the trend and seasonality patterns within our dataset. Althogh there is an increasing trend, the number of values for the entire dataset represented in the graph make it difficult to ascertain the true picture.\n",
        "\n",
        "Fortunately, using the seasonal_decompose module in statsmodel, we could find out the seasonality and trend patterns in the timeseries. We are going to choose the \"mulitplicative seasonality\" owing to the fact of variability in the magnitude of the number of sales along the timeseries\n"
      ],
      "metadata": {
        "id": "YDtbuIM0mQGc"
      }
    },
    {
      "cell_type": "code",
      "source": [
        "from statsmodels.tsa.seasonal import seasonal_decompose\n",
        "\n",
        "def time_series_decompose(df, model_specified, period):\n",
        "\n",
        "    '''\n",
        "    returns decomposed time series components (with seasonality, trend and residuals ) of time_series df\n",
        "    \n",
        "    inputs: df(time series df), model_specified (whether additive or multiplicative ), period(number of days)\n",
        "    returns: trend values, seasonality values and residual values of time_series df\n",
        "    \n",
        "    '''\n",
        "    df_decomposition = seasonal_decompose(\n",
        "                               x=df.set_index(['date']), \n",
        "                               model= model_specified, \n",
        "                               period=period)\n",
        "    \n",
        "    est_trend = df_decomposition.trend\n",
        "    est_trend = est_trend.reset_index(name='trend').set_index('date')\n",
        "    est_seasonal = df_decomposition.seasonal\n",
        "    est_seasonal = est_seasonal.reset_index(name='seasonal').set_index('date')\n",
        "    est_residual = df_decomposition.resid\n",
        "    est_residual = est_residual.reset_index(name='resid').set_index('date')\n",
        "    \n",
        "    return est_trend, est_seasonal, est_residual\n",
        "\n",
        "sample_time_s1 = train_sales_cal_df[400:700]\n",
        "est_trend, est_seasonal, est_residual = time_series_decompose(sample_time_s1, \n",
        "                                                              'multiplicative', 30)"
      ],
      "metadata": {
        "execution": {
          "iopub.status.busy": "2021-12-29T13:39:09.70743Z",
          "iopub.execute_input": "2021-12-29T13:39:09.707848Z",
          "iopub.status.idle": "2021-12-29T13:39:09.73236Z",
          "shell.execute_reply.started": "2021-12-29T13:39:09.707776Z",
          "shell.execute_reply": "2021-12-29T13:39:09.730772Z"
        },
        "trusted": true,
        "id": "eM1oeb-5mQGc"
      },
      "execution_count": null,
      "outputs": []
    },
    {
      "cell_type": "code",
      "source": [
        "fig, (ax1, ax2, ax3) = plt.subplots(3, 1, figsize=(14, 7))\n",
        "\n",
        "est_trend.plot(figsize=(15, 5) ,\n",
        "                 alpha=0.9, \n",
        "                 lw=3, ax = ax1)\n",
        "est_seasonal.plot(figsize=(15, 5) ,\n",
        "                 alpha=0.9, \n",
        "                 lw=3, ax = ax2)\n",
        "est_residual.plot(figsize=(15, 5) ,\n",
        "                 alpha=0.9, \n",
        "                 lw=3, ax = ax3)\n",
        "\n",
        "fig.tight_layout()\n",
        "plt.show()"
      ],
      "metadata": {
        "execution": {
          "iopub.status.busy": "2021-12-29T13:39:09.734188Z",
          "iopub.execute_input": "2021-12-29T13:39:09.734649Z",
          "iopub.status.idle": "2021-12-29T13:39:10.269844Z",
          "shell.execute_reply.started": "2021-12-29T13:39:09.734542Z",
          "shell.execute_reply": "2021-12-29T13:39:10.268832Z"
        },
        "trusted": true,
        "id": "9uOZirvymQGc"
      },
      "execution_count": null,
      "outputs": []
    },
    {
      "cell_type": "markdown",
      "source": [
        "fter looking at the trend, the seasonality and residuals patterns, we have the following information gathered:\n",
        "\n",
        "* There is definitely seasonality in our dataset, and in order to observe its pattern, we have taken a subset of dataset\n",
        "* Since the seasonal and residual components are changing the trend line by an amount that is 'Dependent\" of the changes in seasonal and residual components, we have a multiplicative behaviour"
      ],
      "metadata": {
        "id": "soC5ezOqmQGc"
      }
    },
    {
      "cell_type": "code",
      "source": [
        "train_sales_cal_df = train_sales_cal_df.set_index('date')"
      ],
      "metadata": {
        "execution": {
          "iopub.status.busy": "2021-12-29T13:39:10.271033Z",
          "iopub.execute_input": "2021-12-29T13:39:10.271316Z",
          "iopub.status.idle": "2021-12-29T13:39:10.281008Z",
          "shell.execute_reply.started": "2021-12-29T13:39:10.271277Z",
          "shell.execute_reply": "2021-12-29T13:39:10.279615Z"
        },
        "trusted": true,
        "id": "JoDkvmzhmQGd"
      },
      "execution_count": null,
      "outputs": []
    },
    {
      "cell_type": "code",
      "source": [
        "def time_and_rolling_plot(df, title_text, rolling_days=30, height=2.2):\n",
        "\n",
        "    '''\n",
        "    plots the time_series of dailysales made along with rolling mean plot\n",
        "    \n",
        "    inputs: df, title_text(plot title), rolling_days (rolling mean to be taken across), \n",
        "            height(height of the plot to be specified)\n",
        "            \n",
        "    returns: time series plot and rolling mean plot of the variable specified \n",
        "    '''\n",
        "    sns.set_style('whitegrid')\n",
        "    fig, ax1 = plt.subplots(1, 1, figsize=(13, height))\n",
        "    df.plot(figsize=(13, height),\n",
        "                        alpha=0.8,\n",
        "                        title=\"Time Plot for the \" + str(title_text), \n",
        "                        lw=2, color=next(color_cycle), ax=ax1)\n",
        "    df.rolling(rolling_days).mean().plot(figsize=(13, height),\n",
        "                                          alpha=1, \n",
        "                                          legend=\"Rolling Mean on 30 days\", \n",
        "                                          lw=2.5, color=next(color_cycle), ax=ax1)\n",
        "    ax1.legend(['Total Sales Per Category', 'total_sales_rolling_mean'])\n",
        "    plt.show()"
      ],
      "metadata": {
        "execution": {
          "iopub.status.busy": "2021-12-29T13:39:10.283008Z",
          "iopub.execute_input": "2021-12-29T13:39:10.283753Z",
          "iopub.status.idle": "2021-12-29T13:39:10.299283Z",
          "shell.execute_reply.started": "2021-12-29T13:39:10.283674Z",
          "shell.execute_reply": "2021-12-29T13:39:10.297978Z"
        },
        "trusted": true,
        "id": "Stamw6z4mQGd"
      },
      "execution_count": null,
      "outputs": []
    },
    {
      "cell_type": "code",
      "source": [
        "time_and_rolling_plot(train_sales_cal_df, 'Total_Sales_Data')"
      ],
      "metadata": {
        "execution": {
          "iopub.status.busy": "2021-12-29T13:39:10.301647Z",
          "iopub.execute_input": "2021-12-29T13:39:10.302265Z",
          "iopub.status.idle": "2021-12-29T13:39:10.663159Z",
          "shell.execute_reply.started": "2021-12-29T13:39:10.302065Z",
          "shell.execute_reply": "2021-12-29T13:39:10.661775Z"
        },
        "trusted": true,
        "id": "J8Mjig9_mQGd"
      },
      "execution_count": null,
      "outputs": []
    },
    {
      "cell_type": "markdown",
      "source": [
        "Looking at the graph, it is obvious that the unit sales across timeline have been on a steady increase. This would imply that \n",
        "\n",
        "* There are items remaining in inventory must be tracked\n",
        "* We could plot a sales of a few items to see how the behavior of each one fares across timeline. "
      ],
      "metadata": {
        "id": "mkVfaO7jmQGd"
      }
    },
    {
      "cell_type": "code",
      "source": [
        "#finding the product_ids of 25 most sold units\n",
        "train_sales_most_sold_25 = train_sales_df.groupby(['id'])['total_sales_all_days'].sum(axis=1).sort_values(ascending=False)[:25]\n",
        "train_sales_most_sold_25 = train_sales_most_sold_25.reset_index(name='total_sales')\n",
        "train_sales_most_sold_25.iloc[0:5]"
      ],
      "metadata": {
        "execution": {
          "iopub.status.busy": "2021-12-29T13:39:10.665514Z",
          "iopub.execute_input": "2021-12-29T13:39:10.666409Z",
          "iopub.status.idle": "2021-12-29T13:39:14.171224Z",
          "shell.execute_reply.started": "2021-12-29T13:39:10.666324Z",
          "shell.execute_reply": "2021-12-29T13:39:14.170127Z"
        },
        "trusted": true,
        "id": "dtEoUIE_mQGe"
      },
      "execution_count": null,
      "outputs": []
    },
    {
      "cell_type": "code",
      "source": [
        "train_sales_most_sold_25['state'] = train_sales_most_sold_25['id'].str.split(\"_\", expand=True)[3]\n",
        "train_sales_most_sold_25.groupby(['state'])['total_sales'].sum(axis=1).sort_values(ascending=False)"
      ],
      "metadata": {
        "execution": {
          "iopub.status.busy": "2021-12-29T13:39:14.172868Z",
          "iopub.execute_input": "2021-12-29T13:39:14.173273Z",
          "iopub.status.idle": "2021-12-29T13:39:14.190098Z",
          "shell.execute_reply.started": "2021-12-29T13:39:14.17311Z",
          "shell.execute_reply": "2021-12-29T13:39:14.189179Z"
        },
        "trusted": true,
        "id": "zUX8YD54mQGf"
      },
      "execution_count": null,
      "outputs": []
    },
    {
      "cell_type": "markdown",
      "source": [
        "So, out of the most popular categories of 25 most sold items, more items had been sold in Texas than in either California or Wisconsin"
      ],
      "metadata": {
        "id": "NAfCR6M-mQGg"
      }
    },
    {
      "cell_type": "code",
      "source": [
        "train_sales_cal_df = train_sales_df.set_index('id')[d_cols].T.merge(calendar_df.set_index('d')['date'], \n",
        "                                                                    left_index=True, right_index=True,\n",
        "                                                                    validate=\"1:1\").set_index('date')"
      ],
      "metadata": {
        "execution": {
          "iopub.status.busy": "2021-12-29T13:39:14.191412Z",
          "iopub.execute_input": "2021-12-29T13:39:14.191914Z",
          "iopub.status.idle": "2021-12-29T13:39:15.690744Z",
          "shell.execute_reply.started": "2021-12-29T13:39:14.19185Z",
          "shell.execute_reply": "2021-12-29T13:39:15.689847Z"
        },
        "trusted": true,
        "id": "qAkPGl8mmQGh"
      },
      "execution_count": null,
      "outputs": []
    },
    {
      "cell_type": "code",
      "source": [
        "time_and_rolling_plot(train_sales_cal_df[['FOODS_3_586_WI_3_validation']], \"Product_id_FOODS_3_586_WI_3_validation\")\n",
        "time_and_rolling_plot(train_sales_cal_df[['FOODS_3_090_CA_1_validation']], \"Product_id_FOODS_3_090_CA_1_validation\")\n",
        "time_and_rolling_plot(train_sales_cal_df[['FOODS_3_586_CA_3_validation']], \"Product_id_FOODS_3_586_CA_3_validation\")\n",
        "time_and_rolling_plot(train_sales_cal_df[['FOODS_3_090_TX_2_validation']], \"Product_id_FOODS_3_090_TX_2_validation\")\n",
        "time_and_rolling_plot(train_sales_cal_df[['FOODS_3_120_CA_3_validation']], \"Product_id_FOODS_3_120_CA_3_validation\")\n",
        "time_and_rolling_plot(train_sales_cal_df[['FOODS_3_252_TX_3_validation']], \"Product_id_FOODS_3_252_TX_3_validation\")"
      ],
      "metadata": {
        "execution": {
          "iopub.status.busy": "2021-12-29T13:39:15.692101Z",
          "iopub.execute_input": "2021-12-29T13:39:15.692578Z",
          "iopub.status.idle": "2021-12-29T13:39:17.550539Z",
          "shell.execute_reply.started": "2021-12-29T13:39:15.692518Z",
          "shell.execute_reply": "2021-12-29T13:39:17.549458Z"
        },
        "trusted": true,
        "id": "jcsCxG03mQGh"
      },
      "execution_count": null,
      "outputs": []
    },
    {
      "cell_type": "markdown",
      "source": [
        "### Distribution of Total Sales Against Each Category?"
      ],
      "metadata": {
        "id": "6Ml9uirfmQGi"
      }
    },
    {
      "cell_type": "code",
      "source": [
        "train_sales_cal_df = train_sales_df.groupby(['cat_id'])[d_cols].sum(axis=1).\\\n",
        "                                                T.merge(calendar_df.set_index('d')['date'], \n",
        "                                                                    left_index=True, right_index=True,\n",
        "                                                                    validate=\"1:1\").set_index('date')"
      ],
      "metadata": {
        "execution": {
          "iopub.status.busy": "2021-12-29T13:39:17.552284Z",
          "iopub.execute_input": "2021-12-29T13:39:17.552853Z",
          "iopub.status.idle": "2021-12-29T13:39:26.679913Z",
          "shell.execute_reply.started": "2021-12-29T13:39:17.552786Z",
          "shell.execute_reply": "2021-12-29T13:39:26.678812Z"
        },
        "trusted": true,
        "id": "HbfNQmrVmQGi"
      },
      "execution_count": null,
      "outputs": []
    },
    {
      "cell_type": "code",
      "source": [
        "train_sales_cal_df.head(2)"
      ],
      "metadata": {
        "execution": {
          "iopub.status.busy": "2021-12-29T13:39:26.681413Z",
          "iopub.execute_input": "2021-12-29T13:39:26.681752Z",
          "iopub.status.idle": "2021-12-29T13:39:26.693757Z",
          "shell.execute_reply.started": "2021-12-29T13:39:26.681694Z",
          "shell.execute_reply": "2021-12-29T13:39:26.692852Z"
        },
        "trusted": true,
        "id": "4rWbe0LjmQGj"
      },
      "execution_count": null,
      "outputs": []
    },
    {
      "cell_type": "code",
      "source": [
        "def plotly_time_plot_markers(df, text, samples_onwards=1000):\n",
        "\n",
        "    '''\n",
        "    plots time_series plotly scatter plot of the format specified in df \n",
        "    \n",
        "    inputs: df(dataframe), text(title text ), samples_onwards (time_series_sample and the end)\n",
        "    returns : plotly time series scatter plot\n",
        "    \n",
        "    '''\n",
        "    fig = go.Figure()\n",
        "    for c in df.columns[:4]:\n",
        "        fig.add_traces(go.Scatter(x=train_sales_cal_df[samples_onwards:].index, \n",
        "                              y=train_sales_cal_df[samples_onwards:][c],\n",
        "                              mode='markers',\n",
        "                              name = c))\n",
        "\n",
        "    fig.update_layout( title = 'Sales per Day by ' + str(text), template = 'plotly_white',\n",
        "        width=750, height=550,\n",
        "        xaxis_tickformatstops = [\n",
        "            dict(dtickrange=[\"M1\", \"M12\"], value=\"%b '%y\"),\n",
        "        ]\n",
        "    )\n",
        "    \n",
        "    fig.update_layout(\n",
        "    xaxis=dict(\n",
        "    rangeselector=dict( buttons=list([ dict(count=1, label=\"1m\", step=\"month\", stepmode=\"backward\"),\n",
        "    dict(count=6,label=\"6m\", step=\"month\", stepmode=\"backward\"),\n",
        "    dict(count=1, label=\"YTD\", step=\"year\", stepmode=\"todate\"),\n",
        "    dict(count=1, label=\"1y\", step=\"year\", stepmode=\"backward\"),\n",
        "    dict(step=\"all\") ])  ),\n",
        "        rangeslider=dict(\n",
        "            visible=True\n",
        "        ),\n",
        "        type=\"date\" ) )\n",
        "\n",
        "    fig.update_xaxes(rangeslider_visible=True)    \n",
        "    fig.show()    \n",
        "\n",
        "plotly_time_plot_markers(train_sales_cal_df, 'Category')  "
      ],
      "metadata": {
        "execution": {
          "iopub.status.busy": "2021-12-29T13:39:26.69531Z",
          "iopub.execute_input": "2021-12-29T13:39:26.69562Z",
          "iopub.status.idle": "2021-12-29T13:39:27.11123Z",
          "shell.execute_reply.started": "2021-12-29T13:39:26.695563Z",
          "shell.execute_reply": "2021-12-29T13:39:27.110205Z"
        },
        "trusted": true,
        "id": "3beBlMLkmQGj"
      },
      "execution_count": null,
      "outputs": []
    },
    {
      "cell_type": "markdown",
      "source": [
        "The results of the plot indicate that:\n",
        "\n",
        "* There is defintely an increase in the number of items being sold with time\n",
        "* The items sold in the Food and Household category have seen a more gradual increase than those of hobbies related items."
      ],
      "metadata": {
        "id": "MP0VyNJVmQGk"
      }
    },
    {
      "cell_type": "markdown",
      "source": [
        "#### Distribution of Total Sales Sold Per State?"
      ],
      "metadata": {
        "id": "oa7pGIJ5mQGk"
      }
    },
    {
      "cell_type": "code",
      "source": [
        "train_sales_cal_df = train_sales_df.groupby(['state_id'])[d_cols].sum(axis=1).T.merge(calendar_df.set_index('d')['date'], \n",
        "                                                                    left_index=True, right_index=True,\n",
        "                                                                    validate=\"1:1\").set_index('date')"
      ],
      "metadata": {
        "execution": {
          "iopub.status.busy": "2021-12-29T13:39:27.113716Z",
          "iopub.execute_input": "2021-12-29T13:39:27.114038Z",
          "iopub.status.idle": "2021-12-29T13:39:36.234382Z",
          "shell.execute_reply.started": "2021-12-29T13:39:27.113989Z",
          "shell.execute_reply": "2021-12-29T13:39:36.233232Z"
        },
        "trusted": true,
        "id": "GYYvKusimQGk"
      },
      "execution_count": null,
      "outputs": []
    },
    {
      "cell_type": "code",
      "source": [
        "#train_sales_cal_df = train_sales_cal_df.reset_index()\n",
        "train_sales_cal_df"
      ],
      "metadata": {
        "execution": {
          "iopub.status.busy": "2021-12-29T13:39:36.236064Z",
          "iopub.execute_input": "2021-12-29T13:39:36.236359Z",
          "iopub.status.idle": "2021-12-29T13:39:36.251047Z",
          "shell.execute_reply.started": "2021-12-29T13:39:36.236313Z",
          "shell.execute_reply": "2021-12-29T13:39:36.24984Z"
        },
        "trusted": true,
        "id": "kFNIq20smQGl"
      },
      "execution_count": null,
      "outputs": []
    },
    {
      "cell_type": "code",
      "source": [
        "from plotly.subplots import make_subplots\n",
        "\n",
        "def plotly_time_plot_rolling(df, text, start_col=0, end_col=3, rolling_days=30):\n",
        "\n",
        "    '''\n",
        "    time series rolling plots of the categories specified in df\n",
        "    inputs: df (dataframe with ts as index, and columns as categories), text (title of the plot)\n",
        "            rolling_days (number of rolling days)\n",
        "    \n",
        "    returns: plotly time series plot of sales along the categories specified as columns in df\n",
        "    '''\n",
        "    fig = go.Figure()\n",
        "    for c in df.columns[start_col:end_col]:\n",
        "        fig.add_traces(go.Scatter(x=df.rolling(rolling_days).mean().index, \n",
        "                              y=df.rolling(rolling_days).mean()[c],\n",
        "                              mode='lines+markers',\n",
        "                              name = c))\n",
        "\n",
        "    fig.update_layout( title = 'Sales per Day by ' + str(text), template = 'plotly_white',\n",
        "        width=750, height=550,\n",
        "        xaxis_tickformatstops = [\n",
        "            dict(dtickrange=[\"M1\", \"M12\"], value=\"%b '%y\"),\n",
        "        ]\n",
        "    )\n",
        "    \n",
        "    fig.update_layout(\n",
        "    xaxis=dict(\n",
        "    rangeselector=dict( buttons=list([ dict(count=1, label=\"1m\", step=\"month\", stepmode=\"backward\"),\n",
        "    dict(count=6,label=\"6m\", step=\"month\", stepmode=\"backward\"),\n",
        "    dict(count=1, label=\"YTD\", step=\"year\", stepmode=\"todate\"),\n",
        "    dict(count=1, label=\"1y\", step=\"year\", stepmode=\"backward\"),\n",
        "    dict(step=\"all\") ])  ),\n",
        "        rangeslider=dict(\n",
        "            visible=True\n",
        "        ),\n",
        "        type=\"date\" ) )\n",
        "\n",
        "    fig.update_xaxes(rangeslider_visible=True)    \n",
        "    fig.show()   \n",
        "\n",
        "plotly_time_plot_rolling(train_sales_cal_df, 'State')"
      ],
      "metadata": {
        "execution": {
          "iopub.status.busy": "2021-12-29T13:39:36.253029Z",
          "iopub.execute_input": "2021-12-29T13:39:36.253478Z",
          "iopub.status.idle": "2021-12-29T13:39:36.700075Z",
          "shell.execute_reply.started": "2021-12-29T13:39:36.253372Z",
          "shell.execute_reply": "2021-12-29T13:39:36.698874Z"
        },
        "trusted": true,
        "id": "8t-rbbXWmQGl"
      },
      "execution_count": null,
      "outputs": []
    },
    {
      "cell_type": "markdown",
      "source": [
        "While there has been an increase in the number of sales across all three states i.e. CA, TX, and WI interesting to note is the fact that:\n",
        "\n",
        "* There is an overall increase in the sales of items across all states\n",
        "* WI sales cross TX sales at around Oct'14 and Sept'15 indicating that that could be boost in the sales of category of items that are seasonal. We'll try and investigate the sales of categories across separate states to further shed a light on this answer"
      ],
      "metadata": {
        "id": "5aS53LILmQGl"
      }
    },
    {
      "cell_type": "code",
      "source": [
        "#referring to the solution provided at https://stackoverflow.com/questions/43223615/join-dataframes-one-with-multiindex-columns-and-the-other-without\n",
        "\n",
        "train_sales_cal_df = train_sales_df.groupby(['state_id', 'cat_id'])[d_cols].sum(axis=1).T\\\n",
        "              .join(pd.concat([calendar_df.set_index('d')['date']], axis=1, keys=['dates']))\n",
        "train_sales_cal_df.head(2)"
      ],
      "metadata": {
        "execution": {
          "iopub.status.busy": "2021-12-29T13:39:36.701584Z",
          "iopub.execute_input": "2021-12-29T13:39:36.701901Z",
          "iopub.status.idle": "2021-12-29T13:39:42.697589Z",
          "shell.execute_reply.started": "2021-12-29T13:39:36.701851Z",
          "shell.execute_reply": "2021-12-29T13:39:42.696524Z"
        },
        "trusted": true,
        "id": "9SLutr3ymQGm"
      },
      "execution_count": null,
      "outputs": []
    },
    {
      "cell_type": "code",
      "source": [
        "#train_sales_cal_df = train_sales_cal_df.set_index('dates')"
      ],
      "metadata": {
        "execution": {
          "iopub.status.busy": "2021-12-29T13:39:42.699565Z",
          "iopub.execute_input": "2021-12-29T13:39:42.699892Z",
          "iopub.status.idle": "2021-12-29T13:39:42.70421Z",
          "shell.execute_reply.started": "2021-12-29T13:39:42.699833Z",
          "shell.execute_reply": "2021-12-29T13:39:42.703154Z"
        },
        "trusted": true,
        "id": "7XNnW2fYmQGm"
      },
      "execution_count": null,
      "outputs": []
    },
    {
      "cell_type": "code",
      "source": [
        "select_cols_ca = [c for c in train_sales_cal_df.columns if 'CA' in c]\n",
        "select_cols_tx = [c for c in train_sales_cal_df.columns if 'TX' in c]\n",
        "select_cols_wi = [c for c in train_sales_cal_df.columns if 'WI' in c]\n",
        "#train_sales_df['total_sales_all_days'] = train_sales_df[d_cols].sum(axis = 1)\n",
        "#train_sales_cal_df = \n",
        "df_CA = train_sales_cal_df.set_index('dates')[select_cols_ca]\n",
        "df_TX = train_sales_cal_df.set_index('dates')[select_cols_tx]\n",
        "df_WI = train_sales_cal_df.set_index('dates')[select_cols_wi]\n",
        "\n",
        "#df_CA.columns = [col[1] for col in df_CA.columns]\n",
        "#df_TX.columns = [col[1] for col in df_TX.columns]\n",
        "#df_WI.columns = [col[1] for col in df_WI.columns]"
      ],
      "metadata": {
        "execution": {
          "iopub.status.busy": "2021-12-29T13:39:42.706094Z",
          "iopub.execute_input": "2021-12-29T13:39:42.706431Z",
          "iopub.status.idle": "2021-12-29T13:39:42.72691Z",
          "shell.execute_reply.started": "2021-12-29T13:39:42.706375Z",
          "shell.execute_reply": "2021-12-29T13:39:42.725598Z"
        },
        "trusted": true,
        "id": "IGcN8slsmQGm"
      },
      "execution_count": null,
      "outputs": []
    },
    {
      "cell_type": "code",
      "source": [
        "time_and_rolling_plot(df_CA, 'CA(California) FOODS, HOBBIES and HOUSEHOLD', height=2.7)\n",
        "time_and_rolling_plot(df_TX, 'TX(Texas) FOODS, HOBBIES and HOUSEHOLD', height=2.7)\n",
        "time_and_rolling_plot(df_WI, 'WI(Wisconsin) FOODS, HOBBIES and HOUSEHOLD', height=2.7)\n",
        "#time_and_rolling_plot(df_CA.iloc[:,1].reset_index(), \"CA HOBBIES\")\n",
        "#time_and_rolling_plot(df_CA.iloc[:,2].reset_index(), \"CA State\")"
      ],
      "metadata": {
        "execution": {
          "iopub.status.busy": "2021-12-29T13:39:42.728502Z",
          "iopub.execute_input": "2021-12-29T13:39:42.728921Z",
          "iopub.status.idle": "2021-12-29T13:39:44.001459Z",
          "shell.execute_reply.started": "2021-12-29T13:39:42.728851Z",
          "shell.execute_reply": "2021-12-29T13:39:44.000076Z"
        },
        "trusted": true,
        "id": "1sGE18cGmQGn"
      },
      "execution_count": null,
      "outputs": []
    },
    {
      "cell_type": "markdown",
      "source": [
        "By looking at the above graphs, some of the trends regarding in the food distribution category along separate states have become evident. \n",
        "\n",
        "* Along the FOODS distribution, both CA and TX see large bumps in sales around june'12 and september'12-October'12 with the next peak coming around in Oct'13 that is larger than the sales in June'12 with the same trend continuing to repeat itself along other dates in 2014, and 2015\n",
        "* However, the sales along WI stores have a slightly different pattern with peaks of sales occuring in July'12 and next largest being observed in Feb-Mar'13. Similarly, the sales pick up around September in 2013, and then in Mar'13\n",
        "\n",
        "* In Household items distribution, the peaks of sales across all stores in CA, TX and WI occur around July, March while relatively huge dips in sales occuring in all three locations around the month of Jan-Feb. \n",
        "\n",
        "* In Hobbies items sales, there is surprising peak in sales (albiet different in actual number of units sold) across similar dates in all store locations (for example Feb'13 and Feb'15) with a slight dip in sale in Aug-Sep'13."
      ],
      "metadata": {
        "id": "Y80vUiafmQGn"
      }
    },
    {
      "cell_type": "code",
      "source": [
        "train_sales_cal_df = train_sales_df.set_index('id')[d_cols].T.merge(calendar_df.set_index('d')['date'], \n",
        "                                                                    left_index=True, right_index=True,\n",
        "                                                                    validate=\"1:1\").set_index('date')\n",
        "train_sales_cal_df['total_sales'] = train_sales_cal_df.sum(axis=1)\n"
      ],
      "metadata": {
        "execution": {
          "iopub.status.busy": "2021-12-29T13:39:44.003026Z",
          "iopub.execute_input": "2021-12-29T13:39:44.003455Z",
          "iopub.status.idle": "2021-12-29T13:39:45.595152Z",
          "shell.execute_reply.started": "2021-12-29T13:39:44.003254Z",
          "shell.execute_reply": "2021-12-29T13:39:45.593969Z"
        },
        "trusted": true,
        "id": "OefPrypDmQGo"
      },
      "execution_count": null,
      "outputs": []
    },
    {
      "cell_type": "code",
      "source": [
        "item_ids = [c for c in train_sales_cal_df.columns if 'validation' in c]"
      ],
      "metadata": {
        "execution": {
          "iopub.status.busy": "2021-12-29T13:39:45.596553Z",
          "iopub.execute_input": "2021-12-29T13:39:45.596849Z",
          "iopub.status.idle": "2021-12-29T13:39:45.613687Z",
          "shell.execute_reply.started": "2021-12-29T13:39:45.596803Z",
          "shell.execute_reply": "2021-12-29T13:39:45.612483Z"
        },
        "trusted": true,
        "id": "vCi-whWdmQGo"
      },
      "execution_count": null,
      "outputs": []
    },
    {
      "cell_type": "code",
      "source": [
        "\n",
        "train_sales_cal_df = train_sales_cal_df.reset_index()\n",
        "train_sales_cal_df['date'] = pd.to_datetime(train_sales_cal_df['date'])\n",
        "train_sales_cal_df['month'] = train_sales_cal_df.date.dt.month\n",
        "train_sales_cal_df['year'] = train_sales_cal_df.date.dt.year"
      ],
      "metadata": {
        "execution": {
          "iopub.status.busy": "2021-12-29T13:39:45.615438Z",
          "iopub.execute_input": "2021-12-29T13:39:45.61611Z",
          "iopub.status.idle": "2021-12-29T13:39:46.521397Z",
          "shell.execute_reply.started": "2021-12-29T13:39:45.615819Z",
          "shell.execute_reply": "2021-12-29T13:39:46.520323Z"
        },
        "trusted": true,
        "id": "-T5zVcxomQGo"
      },
      "execution_count": null,
      "outputs": []
    },
    {
      "cell_type": "code",
      "source": [
        "df = train_sales_cal_df.groupby(['year', 'month'])[item_ids].sum()\n",
        "df = df.reset_index()"
      ],
      "metadata": {
        "execution": {
          "iopub.status.busy": "2021-12-29T13:39:46.523154Z",
          "iopub.execute_input": "2021-12-29T13:39:46.523597Z",
          "iopub.status.idle": "2021-12-29T13:39:48.29976Z",
          "shell.execute_reply.started": "2021-12-29T13:39:46.523518Z",
          "shell.execute_reply": "2021-12-29T13:39:48.298293Z"
        },
        "trusted": true,
        "id": "Iv_7glxnmQGo"
      },
      "execution_count": null,
      "outputs": []
    },
    {
      "cell_type": "code",
      "source": [
        "def find_items_per_specific_date(df, year, month, category, number):\n",
        "    \n",
        "    '''\n",
        "    finds the five most sold product_ids in user specified category, year and month\n",
        "    \n",
        "    inputs: df(item_ids along with year and month), year, month, category (household, \n",
        "    foods or hobbies), number (how many results to be displayed)\n",
        "    \n",
        "    returns : table of product ids with specfied number and date and number of sales made\n",
        "    '''\n",
        "    \n",
        "    df = df.loc[(df['year'] == year) & (df['month'] == month)][item_ids].T.reset_index()\n",
        "    df.columns = ['item_id', 'sales_count']\n",
        "    df = df.set_index('item_id')\n",
        "    item_type = [c for c in df.index if category in c]\n",
        "    df = df[df.index.isin(item_type)]\n",
        "    df = df.sort_values(by = ['sales_count'], ascending=False)[:number]\n",
        "    \n",
        "    return df\n",
        "\n",
        "print(\"Most sold Foods during requested date\\n\"\n",
        "      ,find_items_per_specific_date(df, 2012, 7, 'FOODS', 5) )\n",
        "print(\"Most sold Household items during requested date\\n\" \n",
        "      ,find_items_per_specific_date(df, 2013, 3, 'HOUSEHOLD', 5) )"
      ],
      "metadata": {
        "execution": {
          "iopub.status.busy": "2021-12-29T13:39:48.301993Z",
          "iopub.execute_input": "2021-12-29T13:39:48.302454Z",
          "iopub.status.idle": "2021-12-29T13:39:48.488349Z",
          "shell.execute_reply.started": "2021-12-29T13:39:48.302369Z",
          "shell.execute_reply": "2021-12-29T13:39:48.486996Z"
        },
        "trusted": true,
        "id": "DoJNt7-YmQGp"
      },
      "execution_count": null,
      "outputs": []
    },
    {
      "cell_type": "markdown",
      "source": [
        "These are the five item ids that have been selling most in California and Texas locations.\n",
        "* While the first one \"FOODS_3_090_CA_3_validation\" is the same as the one that was most sold during our earlier analysis, the second observation is quite different to earlier assessment and the item most sold in second place has id \"FOODS_3_281_CA_3_validation\"\n",
        "* The items that were contributing to the sales bump of household items are also mentioned above. The household item sold most during the bump period is HOUSEHOLD_1_334_CA_3_validation "
      ],
      "metadata": {
        "id": "EneVuEy2mQGp"
      }
    },
    {
      "cell_type": "markdown",
      "source": [
        "### Distribution of Total Sales Vs Store_ID?"
      ],
      "metadata": {
        "id": "OlfP1oJZmQGp"
      }
    },
    {
      "cell_type": "code",
      "source": [
        "train_sales_cal_df = train_sales_df.groupby(['store_id'])[d_cols].sum(axis=1)\\\n",
        "                                                .T.merge(calendar_df.set_index('d')['date'], \n",
        "                                                        left_index=True, right_index=True,\n",
        "                                                        validate=\"1:1\").set_index('date')"
      ],
      "metadata": {
        "execution": {
          "iopub.status.busy": "2021-12-29T13:39:48.490168Z",
          "iopub.execute_input": "2021-12-29T13:39:48.490582Z",
          "iopub.status.idle": "2021-12-29T13:39:59.073466Z",
          "shell.execute_reply.started": "2021-12-29T13:39:48.490497Z",
          "shell.execute_reply": "2021-12-29T13:39:59.072485Z"
        },
        "trusted": true,
        "id": "1ldDUeZpmQGq"
      },
      "execution_count": null,
      "outputs": []
    },
    {
      "cell_type": "code",
      "source": [
        "train_sales_cal_df.head(2)"
      ],
      "metadata": {
        "execution": {
          "iopub.status.busy": "2021-12-29T13:39:59.075386Z",
          "iopub.execute_input": "2021-12-29T13:39:59.07575Z",
          "iopub.status.idle": "2021-12-29T13:39:59.090601Z",
          "shell.execute_reply.started": "2021-12-29T13:39:59.07569Z",
          "shell.execute_reply": "2021-12-29T13:39:59.089649Z"
        },
        "trusted": true,
        "id": "jDYrXR4UmQGq"
      },
      "execution_count": null,
      "outputs": []
    },
    {
      "cell_type": "code",
      "source": [
        "#PLOT one by one to avoid memory overload\n",
        "\n",
        "#plotly_time_plot_rolling(train_sales_cal_df, 'Store')\n",
        "plotly_time_plot_rolling(train_sales_cal_df, 'Store', start_col=4, end_col=7)\n",
        "#plotly_time_plot_rolling(train_sales_cal_df, 'Store', start_col=7, end_col=10)"
      ],
      "metadata": {
        "execution": {
          "iopub.status.busy": "2021-12-29T13:39:59.092262Z",
          "iopub.execute_input": "2021-12-29T13:39:59.092553Z",
          "iopub.status.idle": "2021-12-29T13:39:59.53594Z",
          "shell.execute_reply.started": "2021-12-29T13:39:59.092507Z",
          "shell.execute_reply": "2021-12-29T13:39:59.534751Z"
        },
        "trusted": true,
        "id": "C6v-2j5LmQGq"
      },
      "execution_count": null,
      "outputs": []
    },
    {
      "cell_type": "markdown",
      "source": [
        "Looking at the above plot with respect to specific stores, it is indicative that:\n",
        "\n",
        "* CA_3 store location has the most items sold\n",
        "* CA_4 store location has the least items old across the timeline\n",
        "* TX_2 has the most items sold across timeline with most items sales peaking around Sep'13\n",
        "* All Texas store locations (TX_1, TX_2, TX_3) experience a boost in sales around Feb_Mar'15 , with a peak around August'15 and then bottom out around Dec'15\n",
        "* Wisconsin Store locations experience a rather unpredictable pattern\n",
        "* Store WI_2 accelerates past the sold of WI_3 in Dec'12 and then continues to maintain the lead\n",
        "* Stores WI_2, WI_1 were underperformers in the beginning but experienced a boost in sales July'12 and November'12 respectively\n",
        "* There appears to be a continuous decline in the performance of sold items for the store location WI_3 that are only relatively improved towards the end"
      ],
      "metadata": {
        "id": "pT5rgIy-mQGr"
      }
    },
    {
      "cell_type": "markdown",
      "source": [
        "### Distribution of Sales Per Specific Days/Weekends?"
      ],
      "metadata": {
        "id": "D6DLdnZEmQGr"
      }
    },
    {
      "cell_type": "code",
      "source": [
        "train_sales_cal_df = train_sales_df.groupby(['cat_id'])[d_cols].sum(axis=1).\\\n",
        "                                                T.merge(calendar_df.set_index('d')['date'], \n",
        "                                                                    left_index=True, right_index=True,\n",
        "                                                                    validate=\"1:1\").set_index('date')"
      ],
      "metadata": {
        "execution": {
          "iopub.status.busy": "2021-12-29T13:39:59.537429Z",
          "iopub.execute_input": "2021-12-29T13:39:59.537819Z",
          "iopub.status.idle": "2021-12-29T13:40:08.468123Z",
          "shell.execute_reply.started": "2021-12-29T13:39:59.53774Z",
          "shell.execute_reply": "2021-12-29T13:40:08.467128Z"
        },
        "trusted": true,
        "id": "DMn0B694mQGs"
      },
      "execution_count": null,
      "outputs": []
    },
    {
      "cell_type": "code",
      "source": [
        "train_sales_cal_df = train_sales_cal_df.reset_index()\n",
        "train_sales_cal_df['date'] = pd.to_datetime(train_sales_cal_df['date'])\n",
        "train_sales_cal_df['month'] = train_sales_cal_df.date.dt.month\n",
        "train_sales_cal_df['day'] = train_sales_cal_df.date.dt.day\n",
        "train_sales_cal_df['year'] = train_sales_cal_df.date.dt.year\n",
        "train_sales_cal_df['weekday'] = train_sales_cal_df.date.dt.weekday\n",
        "train_sales_cal_df['weekday'] = train_sales_cal_df.date.dt.day_name()\n",
        "train_sales_cal_df.head(2)"
      ],
      "metadata": {
        "execution": {
          "iopub.status.busy": "2021-12-29T13:40:08.470153Z",
          "iopub.execute_input": "2021-12-29T13:40:08.470708Z",
          "iopub.status.idle": "2021-12-29T13:40:08.504003Z",
          "shell.execute_reply.started": "2021-12-29T13:40:08.470645Z",
          "shell.execute_reply": "2021-12-29T13:40:08.503224Z"
        },
        "trusted": true,
        "id": "gxqk56iCmQGs"
      },
      "execution_count": null,
      "outputs": []
    },
    {
      "cell_type": "code",
      "source": [
        "df_food = train_sales_cal_df.groupby(['weekday', 'day'])['FOODS'].sum().reset_index(name='sales')\n",
        "df_house = train_sales_cal_df.groupby(['weekday', 'day'])['HOUSEHOLD'].sum().reset_index(name='sales')\n",
        "df_hob = train_sales_cal_df.groupby(['weekday', 'day'])['HOBBIES'].sum().reset_index(name='sales')\n"
      ],
      "metadata": {
        "execution": {
          "iopub.status.busy": "2021-12-29T13:40:08.505397Z",
          "iopub.execute_input": "2021-12-29T13:40:08.505915Z",
          "iopub.status.idle": "2021-12-29T13:40:08.533717Z",
          "shell.execute_reply.started": "2021-12-29T13:40:08.505868Z",
          "shell.execute_reply": "2021-12-29T13:40:08.532886Z"
        },
        "trusted": true,
        "id": "ClPlTT9KmQGt"
      },
      "execution_count": null,
      "outputs": []
    },
    {
      "cell_type": "code",
      "source": [
        "def heatmap_plot_dates(df, title_text):\n",
        "\n",
        "    '''\n",
        "    returns the heatmap based plot for the df with time_series data in it\n",
        "    \n",
        "    inputs : df (dataframe with time based elements, such as weekdays, months etc.)\n",
        "             title_text (text of the plot to be shown)\n",
        "    returns : Heatmaps of Weekdays along number of days of a months\n",
        "    '''\n",
        "    fig = make_subplots(rows=1, cols=1, vertical_spacing = 0.15, \n",
        "                    subplot_titles=title_text,\n",
        "                    shared_yaxes = True\n",
        "                   )\n",
        "    fig.add_trace( go.Heatmap(\n",
        "                   z=[[df.loc[(df['day'] == day) & (df['weekday'] == weekday)]['sales'].sum()\n",
        "                     for day in range(1, 31+1)] for weekday in df.weekday.unique()],\n",
        "                   x=list(df.day.unique()),\n",
        "                   y=list(df.weekday.unique()),\n",
        "                   hoverongaps = False, \n",
        "                   colorbar = dict(title= title_text + '_Sales', \n",
        "                                   thickness=15)), row=1, col=1)\n",
        "    fig.update_layout(title = title_text + '_Sale Distribution', height=2 * 20 + 300, width=1 * 700, showlegend=False)\n",
        "    fig.show()"
      ],
      "metadata": {
        "execution": {
          "iopub.status.busy": "2021-12-29T13:40:08.535148Z",
          "iopub.execute_input": "2021-12-29T13:40:08.535648Z",
          "iopub.status.idle": "2021-12-29T13:40:08.547221Z",
          "shell.execute_reply.started": "2021-12-29T13:40:08.535588Z",
          "shell.execute_reply": "2021-12-29T13:40:08.546061Z"
        },
        "trusted": true,
        "id": "P1GoYf_dmQGt"
      },
      "execution_count": null,
      "outputs": []
    },
    {
      "cell_type": "code",
      "source": [
        "heatmap_plot_dates(df_food, 'FOODS')\n",
        "heatmap_plot_dates(df_hob, 'HOBBIES')\n",
        "heatmap_plot_dates(df_house, 'HOUSEHOLD')"
      ],
      "metadata": {
        "execution": {
          "iopub.status.busy": "2021-12-29T13:40:08.549165Z",
          "iopub.execute_input": "2021-12-29T13:40:08.549519Z",
          "iopub.status.idle": "2021-12-29T13:40:10.520149Z",
          "shell.execute_reply.started": "2021-12-29T13:40:08.549444Z",
          "shell.execute_reply": "2021-12-29T13:40:10.519175Z"
        },
        "trusted": true,
        "id": "8zxy0P9gmQGu"
      },
      "execution_count": null,
      "outputs": []
    },
    {
      "cell_type": "markdown",
      "source": [
        "## *Time Series Forecasting*\n",
        "\n",
        "In time series forecasting, it is imperitive that the time series is stationary. A series is said to be stationary if its mean and variance remain constant over time. A time series forecasting requires that series be stationary so that any particular forecast will be more accurate if the current particular behavior over time is known. Should it be non-constant, there is high probability that the predictions made at one time would NOT be represented in series over some other time interval. \n",
        "\n",
        "Time series forecasting requires very specific criterion i.e.\n",
        "\n",
        "1. Constant Mean\n",
        "2. Constant Variance\n",
        "3. an auto-correlation that does not depend on time"
      ],
      "metadata": {
        "id": "9Lre54UWmQGv"
      }
    },
    {
      "cell_type": "markdown",
      "source": [
        "#### Stationary Time Series\n",
        "\n",
        "Before we could make the time series stationary, we are going to need some form of a method where we could confirm that the time series extracted is indeed stationary. There are a few statistics test as well as we can plot the time series mean and variance as a function of time to observe that the series is indeed stationary. \n",
        "\n",
        "One of the time series stationary test is called the Dickey-Fuller Test. This test provides us with a test statistic as well as confidence intervals for the critical values. The objective is to determine whether the test statistic is less than the critical value, if it is we can **reject** the null hypothesis. The assumption of null and alternative hypotheses in this test is as follows:\n",
        "\n",
        "* Null Hypothesis: The time series has some time component, and has a unit root suggesting a highly dependent time orientation indicating the presence of non-stationarity.\n",
        "* Alternative Hypothesis: The time series does not have a unit root, indicating that it does NOT have a time dependent structure and consequently the time series is stationary."
      ],
      "metadata": {
        "id": "SDOiGIdKmQGx"
      }
    },
    {
      "cell_type": "code",
      "source": [
        "train_sales_cal_df = train_sales_df.set_index('id')[d_cols].T.merge(calendar_df.set_index('d')['date'], \n",
        "                                                                    left_index=True, right_index=True,\n",
        "                                                                    validate=\"1:1\")\n",
        "train_sales_cal_df['avg_sales'] = train_sales_cal_df.mean(axis=1)\n"
      ],
      "metadata": {
        "execution": {
          "iopub.status.busy": "2021-12-29T13:40:10.521553Z",
          "iopub.execute_input": "2021-12-29T13:40:10.521836Z",
          "iopub.status.idle": "2021-12-29T13:40:25.35282Z",
          "shell.execute_reply.started": "2021-12-29T13:40:10.521792Z",
          "shell.execute_reply": "2021-12-29T13:40:25.351413Z"
        },
        "trusted": true,
        "id": "lGmyu_ztmQGy"
      },
      "execution_count": null,
      "outputs": []
    },
    {
      "cell_type": "code",
      "source": [
        "##train_sales_cal_df = train_sales_cal_df[['total_sales']]\n",
        "##train_sales_cal_df = train_sales_cal_df.reset_index()\n",
        "##train_sales_cal_df = train_sales_cal_df.set_index('date')\n",
        "\n",
        "train_sales_cal_df = train_sales_cal_df.reset_index()\n",
        "train_sales_cal_df.rename(columns={'index': 'daysnum'}, inplace=True)\n",
        "train_sales_cal_df = train_sales_cal_df.set_index('date').asfreq('d')\n",
        "train_sales_cal_df.head(2)"
      ],
      "metadata": {
        "execution": {
          "iopub.status.busy": "2021-12-29T13:40:25.354154Z",
          "iopub.status.idle": "2021-12-29T13:40:25.354792Z"
        },
        "trusted": true,
        "id": "A0zS0xIfmQGz"
      },
      "execution_count": null,
      "outputs": []
    },
    {
      "cell_type": "code",
      "source": [
        "train_sales_cal_df.index = pd.to_datetime(train_sales_cal_df.index)\n",
        "type(train_sales_cal_df.index)"
      ],
      "metadata": {
        "execution": {
          "iopub.status.busy": "2021-12-29T13:40:25.356053Z",
          "iopub.status.idle": "2021-12-29T13:40:25.356498Z"
        },
        "trusted": true,
        "id": "TGOhvS6xmQGz"
      },
      "execution_count": null,
      "outputs": []
    },
    {
      "cell_type": "code",
      "source": [
        "def time_series_stationary_test(df):\n",
        "    \n",
        "    '''\n",
        "    returns time_series plots along with rolling mean plot, standard_dev calculated plot\n",
        "    and results of the Dickey_Fuller Test performed on time_series df\n",
        "    \n",
        "    inputs: df (time_series based df)\n",
        "    \n",
        "    returns : time_series plot, rolling_mean plot, std_plot and Dickey_Fuller Test Statistics\n",
        "              performed on time_series\n",
        "    '''\n",
        "    #df_filter = df.loc[df['id'] == series_ids][d_cols]\n",
        "    #df_filter = df.loc[df['id'] == series_ids]['sold']\n",
        "    #df_filter = pd.Series(df_filter.values.flatten())\n",
        "    \n",
        "    sns.set_style(\"whitegrid\")\n",
        "    fig, ax1 = plt.subplots(1, 1, figsize=(15, 5))\n",
        "    \n",
        "    rolling_mean = df.rolling(window=7).mean()\n",
        "    rolling_std =  df.rolling(window=7).std()\n",
        "    \n",
        "    #plotting the points\n",
        "    original_series = df.plot(figsize=(15, 5), alpha=1, \n",
        "                        lw=1.2, color=next(color_cycle), label='original_series', ax=ax1)\n",
        "    mean_series = rolling_mean.plot(figsize=(15, 5), alpha=1, \n",
        "                        lw=1.2, marker = 'o', color=next(color_cycle), label='rolling_mean', ax=ax1)\n",
        "    std_series = rolling_std.plot(figsize=(15, 5), alpha=1, \n",
        "                        lw=1.2, marker = '*' , color=next(color_cycle), label='rolling_std', ax=ax1)\n",
        "    \n",
        "    ax1.legend(['Original_Series', 'Mean_Series', \"Std_Series\"])\n",
        "    plt.show()\n",
        "    \n",
        "    #Performing a Dickey-Fuller Test\n",
        "    print(\"\\n============++++==========\\n\")\n",
        "    print(\"Results of the Dickey_Fuller Test\")\n",
        "    result = adfuller(df, autolag='AIC')\n",
        "    print('ADF Statistic: %f' % result[0])\n",
        "    print('No of lags: %f' %result[2])\n",
        "    print('No of Obs used for ADF Calculation & Critical Values: %f' %result[3])\n",
        "    print('p-value: %f' % result[1])\n",
        "    print('Critical Values:')\n",
        "    for key, value in result[4].items():\n",
        "        print('\\t%s: %.3f' % (key, value))\n",
        "    #output = pd.Series(result[0:4], index=['ADF Statistic','p-value','#Lags Used','Number of Observations Used'])\n",
        "    #for key,value in result[4].items():\n",
        "    #    output['Critical Value (%s)'%key] = value\n",
        "    #print (output)"
      ],
      "metadata": {
        "execution": {
          "iopub.status.busy": "2021-12-29T13:40:25.357717Z",
          "iopub.status.idle": "2021-12-29T13:40:25.358127Z"
        },
        "trusted": true,
        "id": "Yq0PuXtkmQGz"
      },
      "execution_count": null,
      "outputs": []
    },
    {
      "cell_type": "code",
      "source": [
        "time_series_stationary_test(train_sales_cal_df[['avg_sales']])"
      ],
      "metadata": {
        "execution": {
          "iopub.status.busy": "2021-12-29T13:40:25.35911Z",
          "iopub.status.idle": "2021-12-29T13:40:25.359503Z"
        },
        "trusted": true,
        "id": "Ome6VUzjmQG0"
      },
      "execution_count": null,
      "outputs": []
    },
    {
      "cell_type": "markdown",
      "source": [
        "A few keypoints from the graph and the Dickey-Fuller tests indicate that:\n",
        "* Mean series is increasing with time and is not constant so series is not stationary\n",
        "* Standard deviation series also has quite a few deivations which indicates that the time series is not stationary\n",
        "* ADF statistic is larger than the critical value which indicates that the series still has a unit root"
      ],
      "metadata": {
        "id": "tK2paw2gmQG0"
      }
    },
    {
      "cell_type": "markdown",
      "source": [
        "#### **Methods For Making Time Series Stationary**\n",
        "Since the time series has both seasonality and trend components, we are going to adopt methods that would remove both trend and seasonality. Methods that we are going to use include:\n",
        "\n",
        "* **Differencing**\n",
        "* **Decomposition**"
      ],
      "metadata": {
        "id": "w15VpTr1mQG0"
      }
    },
    {
      "cell_type": "markdown",
      "source": [
        "##### **Differencing**\n",
        "\n",
        "In order to perform this let us first take log , perform a log difference between the time series and its lag and look at the results"
      ],
      "metadata": {
        "id": "Pnl_E944mQG0"
      }
    },
    {
      "cell_type": "code",
      "source": [
        "df_log_diff = np.log(train_sales_cal_df[['avg_sales']]) - np.log(train_sales_cal_df[['avg_sales']]).shift()\n",
        "#df['sold'] = df_log_diff\n",
        "#df['sold'] = df['sold'].dropna()\n",
        "df_log_diff = df_log_diff.dropna()"
      ],
      "metadata": {
        "execution": {
          "iopub.status.busy": "2021-12-29T13:40:25.36052Z",
          "iopub.status.idle": "2021-12-29T13:40:25.361119Z"
        },
        "trusted": true,
        "id": "Ax_regmemQG1"
      },
      "execution_count": null,
      "outputs": []
    },
    {
      "cell_type": "code",
      "source": [
        "time_series_stationary_test(df_log_diff)"
      ],
      "metadata": {
        "execution": {
          "iopub.status.busy": "2021-12-29T13:40:25.362242Z",
          "iopub.status.idle": "2021-12-29T13:40:25.362762Z"
        },
        "trusted": true,
        "id": "z3_lYeJymQG1"
      },
      "execution_count": null,
      "outputs": []
    },
    {
      "cell_type": "markdown",
      "source": [
        "We can observe that the test statistic value is less than even 1 % of the critical value, which indicates that we can reject the null hypothesis (that series is non-stationary) with 99 % confidence and p_value of 0 indicates that the test result is significant. "
      ],
      "metadata": {
        "id": "yWLpok97mQG1"
      }
    },
    {
      "cell_type": "markdown",
      "source": [
        "#### **Decomposition**\n",
        "Decomposition is another way to make the time series stationary. The decomposition of dataset yields three properties for the time series dataset\n",
        "\n",
        "* Trend - That is whether there is an increase or decrease in total sales over long term\n",
        "* Seasonality - Whether there are repeating patterns within the dataset\n",
        "* Residual - What is the contribution of behavior in the time series dataset (total sales ) without trend and seasonality added"
      ],
      "metadata": {
        "id": "BFogo43fmQG1"
      }
    },
    {
      "cell_type": "code",
      "source": [
        "from statsmodels.tsa.seasonal import seasonal_decompose\n",
        "\n",
        "def time_series_decompose(df, model_specified, period):\n",
        "    \n",
        "    '''\n",
        "    returns the trend, seasonality, and residual components decomposition of time_Series and\n",
        "    plots the results \n",
        "    \n",
        "    inputs: df(time_series df along with sales specified), model_specified (whether to use\n",
        "            additive or multiplicative), period (number of days where seasonality \n",
        "            is to be observed)\n",
        "    returns: decomposition plots along with decomposition components, in trend, seasonality\n",
        "    and residuals\n",
        "    '''\n",
        "\n",
        "    df_decomposition = seasonal_decompose(\n",
        "                               x=df, \n",
        "                               model= model_specified, \n",
        "                               period=period)\n",
        "    \n",
        "    est_trend = df_decomposition.trend\n",
        "    est_trend = est_trend.reset_index(name='trend').set_index('date')\n",
        "    est_seasonal = df_decomposition.seasonal\n",
        "    est_seasonal = est_seasonal.reset_index(name='seasonal').set_index('date')\n",
        "    est_residual = df_decomposition.resid\n",
        "    est_residual = est_residual.reset_index(name='resid').set_index('date')\n",
        "    \n",
        "    fig, (ax1, ax2, ax3, ax4) = plt.subplots(4, 1, figsize=(14, 24))\n",
        "\n",
        "    df.plot(figsize=(14, 8) ,\n",
        "                 alpha=0.8, \n",
        "                 lw=1.5, ax = ax1)\n",
        "    est_trend.plot(figsize=(14, 8) ,\n",
        "                 alpha=0.8, \n",
        "                 lw=1.5, ax = ax2)\n",
        "    est_seasonal.plot(figsize=(14, 8) ,\n",
        "                 alpha=0.8, \n",
        "                 lw=1.5, ax = ax3)\n",
        "    est_residual.plot(figsize=(14, 8) ,\n",
        "                 alpha=0.6, \n",
        "                 lw=3, style = 'o', ax = ax4)\n",
        "\n",
        "    fig.tight_layout()\n",
        "    plt.show()\n",
        "    \n",
        "    return est_trend, est_seasonal, est_residual\n",
        "\n",
        "#sample_time_s1 = train_sales_cal_df[400:700]\n",
        "#est_trend, est_seasonal, est_residual = time_series_decompose(sample_time_s1, 'multiplicative', 15)"
      ],
      "metadata": {
        "execution": {
          "iopub.status.busy": "2021-12-29T13:40:25.363914Z",
          "iopub.status.idle": "2021-12-29T13:40:25.364472Z"
        },
        "trusted": true,
        "id": "-3bLxGX3mQG2"
      },
      "execution_count": null,
      "outputs": []
    },
    {
      "cell_type": "code",
      "source": [
        "trend_comp, seas_comp, residual_comp = time_series_decompose(train_sales_cal_df[['avg_sales']], 'multiplicative', 30)"
      ],
      "metadata": {
        "execution": {
          "iopub.status.busy": "2021-12-29T13:40:25.3655Z",
          "iopub.status.idle": "2021-12-29T13:40:25.365947Z"
        },
        "trusted": true,
        "id": "MxUJUDtymQG2"
      },
      "execution_count": null,
      "outputs": []
    },
    {
      "cell_type": "markdown",
      "source": [
        "The above results indicate that the presence of an increasing trend, as well as high seasonality in the time series being observed. The **residuals** are infact the component of the time series *without the seasonality and trend.*\n",
        "\n",
        "Let's see what the results of the dickey-fuller test in decomposition are"
      ],
      "metadata": {
        "id": "KrTh6WLAmQG3"
      }
    },
    {
      "cell_type": "code",
      "source": [
        "residual_comp = residual_comp.dropna()\n",
        "time_series_stationary_test(residual_comp)"
      ],
      "metadata": {
        "execution": {
          "iopub.status.busy": "2021-12-29T13:40:25.366891Z",
          "iopub.status.idle": "2021-12-29T13:40:25.367233Z"
        },
        "trusted": true,
        "id": "gvjJqjJymQG3"
      },
      "execution_count": null,
      "outputs": []
    },
    {
      "cell_type": "markdown",
      "source": [
        "The test statistic is less than 1 % of the critical value so we reject the null hypothesis with 99 % confidence and therefore, the time series is stationary"
      ],
      "metadata": {
        "id": "BrfupcD6mQG3"
      }
    },
    {
      "cell_type": "markdown",
      "source": [
        "### **SARIMAX**\n",
        "SARIMAX (Seasonal Auto-Regressive Integrated Moving Averages With Exogenous Factors) is an extension of the ARIMA model but one that is able to handle the seasonality component along with exogenous factors. i.e. holidays. \n",
        "\n",
        "ARIMA forecasting for a stationary time series is nothing but a regression equation. The prediction on the arima model is determined by its 'Trend' parameters p,d and q. They represent:\n",
        "\n",
        "* Number of AR (auto-regressive) terms (p) : AR terms are just lags of the dependent variable. e.g. if p is 2, the predictors for x(t) will be x(t-1), x(t-2) OR AR terms view the value at one time as a weighted sum of past values.\n",
        "* Number of MA (moving averages) terms (q) : MA terms are lagged forecast errors e(i) in prediction equation where e(i) is the difference between the moving avg at ith term vs the actual value. For q = 2, the predictors for x(t) will be e(t-1), e(t-2).\n",
        "* Number of differences (d) : These are the number of non-seasonal differences. \n",
        "\n",
        "The SARIMAX adds other seasonal components to handle the seasonality with P, D, Q and m represpresenting the seasonal 'Auto-regressive' 'Differencing' and 'Moving-Average' Orders with m representing the number of time steps that are observing the seasonal behaviour. \n",
        "\n",
        "The equation for SARIMAX is given as SARIMAX (p, d, q) = (P, D, Q, S)\n",
        "\n",
        "To find out the appropriate values for p and q, we generally employ ACF (auto-correlation function) and PCF (Partial-correlation function). \n",
        "\n",
        "* **ACF** - AutoCorrelationFunction: It is the measure of the correlation of a time series against lagged version of itself. e.g. with a lag of 3, ACF would compare the time instances t1, t2 with t1-3, t2-3\n",
        "* **PCF** - PartialCorrelationFunction: It is a measure of correlation of a time series against a lagged version of itself but after removing the already calculated variations. e.g. with a lag of 4, PCF would check the correlation of against the lagged version but after removing the effects explained by lag1 to lag3 "
      ],
      "metadata": {
        "id": "tKf9DaWSmQG4"
      }
    },
    {
      "cell_type": "code",
      "source": [
        "df_log_diff = np.log(train_sales_cal_df['avg_sales']) - np.log(train_sales_cal_df['avg_sales']).shift()\n",
        "df_log_diff = df_log_diff.dropna()"
      ],
      "metadata": {
        "execution": {
          "iopub.status.busy": "2021-12-29T13:40:25.368152Z",
          "iopub.status.idle": "2021-12-29T13:40:25.36872Z"
        },
        "trusted": true,
        "id": "rm10RhgzmQG4"
      },
      "execution_count": null,
      "outputs": []
    },
    {
      "cell_type": "markdown",
      "source": [
        "### ACF & PACF: Finding Pdq Visually?"
      ],
      "metadata": {
        "id": "o9XlGfDymQG4"
      }
    },
    {
      "cell_type": "code",
      "source": [
        "from statsmodels.tsa.stattools import acf, pacf\n",
        "\n",
        "def auto_par_corr(ts_stat, nlags=25): \n",
        "\n",
        "    '''\n",
        "    returns the ACF and PACF plots of the time series\n",
        "    \n",
        "    inputs: ts_stat (time series along with data), nlags (optimal number of lags)\n",
        "    \n",
        "    returns: plot of ACF and PACF\n",
        "    '''\n",
        "    lag_acf = acf(ts_stat, nlags)\n",
        "    lag_pacf = pacf(ts_stat, nlags, method='ols')\n",
        "    \n",
        "    sns.set_style(\"whitegrid\")\n",
        "\n",
        "    \n",
        "    plt.figure(figsize=(15, 8))\n",
        "    plt.subplot(121)\n",
        "    #plt.plot(lag_acf)\n",
        "    plt.stem(lag_acf)\n",
        "    plt.axhline(y=0,linestyle='--',color='g')\n",
        "    plt.axhline(y=-1.96/np.sqrt(len(ts_stat)), linestyle='--',color='r')\n",
        "    plt.axhline(y=1.96/np.sqrt(len(ts_stat)), linestyle='--',color='r')\n",
        "    plt.title('Auto-Correlation')\n",
        "    \n",
        "    #lag_pacf.plot(figsize=(15, 5), alpha=1, \n",
        "    #                    lw=3, color=next(color_cycle), label='par_corr', ax=ax2)\n",
        "    plt.subplot(122)\n",
        "    #plt.plot(lag_pacf)\n",
        "    plt.stem(lag_pacf)\n",
        "    plt.axhline(y=0,linestyle='--',color='g')\n",
        "    plt.axhline(y=-1.96/np.sqrt(len(ts_stat)), linestyle='--',color='r')\n",
        "    plt.axhline(y=1.96/np.sqrt(len(ts_stat)), linestyle='--',color='r')\n",
        "    plt.title('Partial Auto-Correlation')\n",
        "    \n",
        "    plt.legend()\n",
        "    plt.show()\n",
        "    "
      ],
      "metadata": {
        "execution": {
          "iopub.status.busy": "2021-12-29T13:40:25.36979Z",
          "iopub.status.idle": "2021-12-29T13:40:25.370188Z"
        },
        "trusted": true,
        "id": "d4bukrE4mQG5"
      },
      "execution_count": null,
      "outputs": []
    },
    {
      "cell_type": "code",
      "source": [
        "auto_par_corr(df_log_diff, nlags=25)"
      ],
      "metadata": {
        "execution": {
          "iopub.status.busy": "2021-12-29T13:40:25.371286Z",
          "iopub.status.idle": "2021-12-29T13:40:25.371764Z"
        },
        "trusted": true,
        "id": "H0Ij8a21mQG5"
      },
      "execution_count": null,
      "outputs": []
    },
    {
      "cell_type": "markdown",
      "source": [
        "A couple of things of note here are :\n",
        "\n",
        "* In the first plot of autocorreation, the first significant value occurs at between 1 and 2, so therefore we are going to select q=1, while in the second plot of PACF, the significant value occurs at 2 so p=2\n",
        "* In the ACF plot, we have regular peaks at interval of 7 so we are going to select the value of parameter m in seasonal order as 7, and since this lag is positive therefore the value for P=1, and for Q=0.\n",
        "* As for value of d (differencing), we are going to select d as being 1 since we have taken a first order differencing, and since our seasonal pattern in ACF plot is stable we are going to choose value of D=1 (as opposed to D=0 when seasonal pattern is unstable) "
      ],
      "metadata": {
        "id": "hcYhH6HSmQG6"
      }
    },
    {
      "cell_type": "code",
      "source": [
        "#train_sales_cal_df.index = pd.DatetimeIndex(train_sales_cal_df.index.values,\n",
        "#                               freq=train_sales_cal_df.index.inferred_freq)"
      ],
      "metadata": {
        "execution": {
          "iopub.status.busy": "2021-12-29T13:40:25.372785Z",
          "iopub.status.idle": "2021-12-29T13:40:25.373402Z"
        },
        "trusted": true,
        "id": "q9f3ikgvmQG6"
      },
      "execution_count": null,
      "outputs": []
    },
    {
      "cell_type": "code",
      "source": [
        "#Let us split the time series into training and testing sets\n",
        "#perc_training = 0.7\n",
        "#split_p = round(len(train_sales_cal_df['avg_sales']) * perc_training)\n",
        "#training_p, testing_p = train_sales_cal_df['avg_sales'][0:split_p], train_sales_cal_df['avg_sales'][split_p:]\n",
        "\n",
        "training_p = train_sales_cal_df.loc[:'2015-10-14', ['avg_sales']]\n",
        "testing_p = train_sales_cal_df.loc['2015-10-15':, ['avg_sales']]\n",
        "training_p.head(2)"
      ],
      "metadata": {
        "execution": {
          "iopub.status.busy": "2021-12-29T13:40:25.37458Z",
          "iopub.status.idle": "2021-12-29T13:40:25.37504Z"
        },
        "trusted": true,
        "id": "uPfDpdU7mQG6"
      },
      "execution_count": null,
      "outputs": []
    },
    {
      "cell_type": "markdown",
      "source": [
        "#### Making Exogeneous Factors"
      ],
      "metadata": {
        "id": "XGJgTapemQG6"
      }
    },
    {
      "cell_type": "code",
      "source": [
        "#for prophet model:\n",
        "df_event_1 = pd.DataFrame({'holiday': 'Event 1', 'ds': calendar_df[~calendar_df['event_name_1'].isna()]['date']})\n",
        "df_event_2 = pd.DataFrame({'holiday': 'Event 2', 'ds': calendar_df[~calendar_df['event_name_2'].isna()]['date']})\n",
        "df_snapca = pd.DataFrame({'holiday': 'snap_CA', 'ds': calendar_df[calendar_df['snap_CA'] == 1]['date']})\n",
        "df_snaptx = pd.DataFrame({'holiday': 'snap_TX', 'ds': calendar_df[calendar_df['snap_TX'] == 1]['date']})\n",
        "df_snapwi = pd.DataFrame({'holiday': 'snap_WI', 'ds': calendar_df[calendar_df['snap_WI'] == 1]['date']})\n",
        "holidays = pd.concat((df_event_1, df_event_2, df_snapca, df_snaptx, df_snapwi))\n",
        "holidays.head(3)"
      ],
      "metadata": {
        "execution": {
          "iopub.status.busy": "2021-12-29T13:40:25.37605Z",
          "iopub.status.idle": "2021-12-29T13:40:25.376437Z"
        },
        "trusted": true,
        "id": "LqOD8VVDmQG7"
      },
      "execution_count": null,
      "outputs": []
    },
    {
      "cell_type": "code",
      "source": [
        "#ever since spliting exo, it is to be added additionally\n",
        "holidays['ds'] = pd.to_datetime(holidays['ds'])"
      ],
      "metadata": {
        "execution": {
          "iopub.status.busy": "2021-12-29T13:40:25.377335Z",
          "iopub.status.idle": "2021-12-29T13:40:25.377768Z"
        },
        "trusted": true,
        "id": "iUP9PiYGmQG7"
      },
      "execution_count": null,
      "outputs": []
    },
    {
      "cell_type": "code",
      "source": [
        "# for SARIMAX Model:\n",
        "\n",
        "data = {'date':train_sales_cal_df.index,\n",
        "        'holidays': 0 }\n",
        "\n",
        "exo = pd.DataFrame(data)\n",
        "\n",
        "for idx, date1 in enumerate(exo['date']):\n",
        "    for date2 in holidays['ds']:\n",
        "        if date2 == date1:\n",
        "            exo['holidays'].iloc[idx] = 1\n",
        "        else:\n",
        "            continue       "
      ],
      "metadata": {
        "execution": {
          "iopub.status.busy": "2021-12-29T13:40:25.378735Z",
          "iopub.status.idle": "2021-12-29T13:40:25.379456Z"
        },
        "trusted": true,
        "id": "iz07IYflmQG7"
      },
      "execution_count": null,
      "outputs": []
    },
    {
      "cell_type": "code",
      "source": [
        "exo = exo.set_index(['date']).asfreq('D')\n",
        "exo.head(4)"
      ],
      "metadata": {
        "execution": {
          "iopub.status.busy": "2021-12-29T13:40:25.380496Z",
          "iopub.status.idle": "2021-12-29T13:40:25.380937Z"
        },
        "trusted": true,
        "id": "hwBGLnfKmQG8"
      },
      "execution_count": null,
      "outputs": []
    },
    {
      "cell_type": "code",
      "source": [
        "exo_train = exo.loc[:'2015-10-14']\n",
        "exo_test = exo.loc['2015-10-15':]"
      ],
      "metadata": {
        "execution": {
          "iopub.status.busy": "2021-12-29T13:40:25.381835Z",
          "iopub.status.idle": "2021-12-29T13:40:25.382285Z"
        },
        "trusted": true,
        "id": "S5wfh_EXmQG8"
      },
      "execution_count": null,
      "outputs": []
    },
    {
      "cell_type": "code",
      "source": [
        "#Conversion into Series according to SARiMAX req:\n",
        "#conversion into timeseries if required, for now there is neither benefit nor requirement\n",
        "#exo_train = pd.Series(exo_train.iloc[:, 0])\n",
        "#exo_test = pd.Series(exo_test.iloc[:, 0])"
      ],
      "metadata": {
        "execution": {
          "iopub.status.busy": "2021-12-29T13:40:25.383182Z",
          "iopub.status.idle": "2021-12-29T13:40:25.383617Z"
        },
        "trusted": true,
        "id": "AqJ2q9--mQG9"
      },
      "execution_count": null,
      "outputs": []
    },
    {
      "cell_type": "code",
      "source": [
        "def SARIMAX_tune(ts, total_params):\n",
        "\n",
        "    '''\n",
        "    returns the optimal tuned results using AIC as a prediction accuracy metric\n",
        "    \n",
        "    inputs : ts (time series), total_params (SARIMAX models parameters to be specified)\n",
        "    \n",
        "    returns: results of SARIMAX tuned model\n",
        "    '''\n",
        "    results = []\n",
        "\n",
        "    for param in total_params:\n",
        "        try:\n",
        "            model = SARIMAX(ts, exog = exo, order=param[0], seasonal_order=param[1], \n",
        "                           initialization='approximate_diffuse')\n",
        "            res = model.fit(method='powell')\n",
        "            results.append((res, res.aic, res.params))\n",
        "            print(\"The results of SARIMAX{}x{} in AIC are: {}\".format(param[0], param[1], res.aic))\n",
        "        except Exception as e:\n",
        "            print(e)\n",
        "            continue\n",
        "    \n",
        "    return results"
      ],
      "metadata": {
        "execution": {
          "iopub.status.busy": "2021-12-29T13:40:25.384775Z",
          "iopub.status.idle": "2021-12-29T13:40:25.385328Z"
        },
        "trusted": true,
        "id": "YfuRZHSRmQG9"
      },
      "execution_count": null,
      "outputs": []
    },
    {
      "cell_type": "code",
      "source": [
        "###########New Code#############\n",
        "from sklearn.model_selection import TimeSeriesSplit\n",
        "from sklearn.metrics import mean_squared_error\n",
        "import statsmodels.api as sm\n",
        "from sklearn.model_selection import GridSearchCV\n",
        "\n",
        "def SARIMAX_tune_with_RMSE(ts, total_params):\n",
        "    \n",
        "    '''\n",
        "    returns the optimal tuned results using RMSE as a prediction error metric\n",
        "    \n",
        "    inputs : ts (time series), total_params (SARIMAX models parameters to be specified)\n",
        "    \n",
        "    returns: results of SARIMAX tuned model with RMSE as the error metric\n",
        "    '''\n",
        "    tscv = TimeSeriesSplit(n_splits = 5)\n",
        "    rmse_array = []\n",
        "    timeseries = ts #train_sales_cal_df[['avg_sales']]\n",
        "    results = []\n",
        "    \n",
        "    for train_index, test_index in tscv.split(timeseries):\n",
        "        cv_train, cv_test = timeseries.iloc[train_index], timeseries.iloc[test_index]\n",
        "        \n",
        "        for param in total_params:\n",
        "            try:\n",
        "                model = SARIMAX(cv_train, order=param[0], seasonal_order=param[1], \n",
        "                               initialization='approximate_diffuse')\n",
        "                res = model.fit(method=\"powell\")\n",
        "                results.append((res, res.params))\n",
        "                #use this statement for further troubleshooting on mle #print(\"MLE retvals for this iter are: {}\".format(res.mle_retvals))\n",
        "                #print(\"The results of SARIMAX{}x{} in are: {}\".format(param[0], param[1]))\n",
        "            except Exception as e:\n",
        "                print(e)\n",
        "                continue\n",
        "\n",
        "            sarimax = model.fit(disp=0)\n",
        "            predictions = sarimax.predict(cv_test.index.values[0], cv_test.index.values[-1])\n",
        "            true_values = cv_test.values\n",
        "            #true_values = cv_test\n",
        "            #wrmse_array.append(wrmse(true_values, predictions))\n",
        "            #rmse_array.append(np.sqrt(mean_squared_error(true_values, predictions)))\n",
        "            print(\"Results of SARIMAX in {} x {} in RMSE: {}\".format(param[0], param[1], \n",
        "                                                                 np.sqrt(mean_squared_error(true_values, predictions))))\n",
        "        \n",
        "        return results"
      ],
      "metadata": {
        "execution": {
          "iopub.status.busy": "2021-12-29T13:40:25.386413Z",
          "iopub.status.idle": "2021-12-29T13:40:25.386898Z"
        },
        "trusted": true,
        "id": "pbtonnysmQG9"
      },
      "execution_count": null,
      "outputs": []
    },
    {
      "cell_type": "markdown",
      "source": [
        "### The Accuracy Metric AIC: \n",
        "\n",
        "Since the **AIC (Akaike-Information Criterion)** is given by the difference of number of paramters vs log-likelihood of the model, it is therefore desirable to select the values of AIC that are as small (or in the current case) as negative as possible. \n",
        "The formula for the AIC is :\n",
        "\n",
        "*  **AIC = 2K - ln(k)**\n",
        "\n",
        "where k is the number of parameters for the selection of the model\n",
        "\n",
        "Since the combination for pdq in our case tends to come out as 2,1,1 and for seasonal_PDQ as 0,1,2,7 Therefore, we are going to select those values "
      ],
      "metadata": {
        "id": "HH01nprcmQG-"
      }
    },
    {
      "cell_type": "markdown",
      "source": [
        "### Validation SARIMAX"
      ],
      "metadata": {
        "id": "R9eLkUN5mQG-"
      }
    },
    {
      "cell_type": "code",
      "source": [
        "p, d, q =range(1,3), [1], range(1,3)\n",
        "P, D, Q, S =range(0,3), [1], range(1,3), [7]\n",
        "pdq = list(itertools.product(p,d,q))\n",
        "seasonal_pdq = list(itertools.product(P,D,Q,S))\n",
        "total_params = list(itertools.product(pdq, seasonal_pdq))\n",
        "\n",
        "#NOTE: memory intensive operation if range set at 0,3, readings have already been taken by running it once:\n",
        "#all_results = SARIMAX_tune(train_sales_cal_df['avg_sales'], total_params)\n",
        "#all_results = SARIMAX_tune_with_RMSE(train_sales_cal_df[['avg_sales']], total_params)\n",
        "\n",
        "#More information regarding fixng the error nle_retvals can be found at:\n",
        "#https://stats.stackexchange.com/questions/313426/mle-convergence-errors-with-statespace-sarimax"
      ],
      "metadata": {
        "execution": {
          "iopub.status.busy": "2021-12-29T13:40:25.387815Z",
          "iopub.status.idle": "2021-12-29T13:40:25.388359Z"
        },
        "trusted": true,
        "id": "OVDzP1wLmQHB"
      },
      "execution_count": null,
      "outputs": []
    },
    {
      "cell_type": "code",
      "source": [
        "#all_results = SARIMAX_tune_with_RMSE(train_sales_cal_df[['avg_sales']], total_params)"
      ],
      "metadata": {
        "execution": {
          "iopub.status.busy": "2021-12-29T13:40:25.389656Z",
          "iopub.status.idle": "2021-12-29T13:40:25.390204Z"
        },
        "trusted": true,
        "id": "a7E-V9VOmQHG"
      },
      "execution_count": null,
      "outputs": []
    },
    {
      "cell_type": "code",
      "source": [
        "#######NOTE: THIS WAS THE MISTAKE THAT WAS STOPPING TIMESERIES GRAPHS FROM RENDERGIN#####\n",
        "#train_sales_cal_df.index = pd.to_datetime(train_sales_cal_df.index)\n",
        "#type(train_sales_cal_df.index)"
      ],
      "metadata": {
        "execution": {
          "iopub.status.busy": "2021-12-29T13:40:25.391209Z",
          "iopub.status.idle": "2021-12-29T13:40:25.391589Z"
        },
        "trusted": true,
        "id": "BX0Ke8cgmQHH"
      },
      "execution_count": null,
      "outputs": []
    },
    {
      "cell_type": "code",
      "source": [
        "#Fitting in the SARIMAX Model\n",
        "#include the exo_train in here , exo_test in prediction (model_fit_SARIMAX) to check results: for now, abandoning their use because\n",
        "# of the error in package, since even converting exo_train, exo_test into time series/using df results\n",
        "# in errors. \n",
        "#model values earlier 1,1,1, 0,1,1,7 \n",
        "#values with RMSE - order=(2,1,1), seasonal_order=(2,1,1,7), \n",
        "model = SARIMAX(training_p,\n",
        "                order=(2,1,1), seasonal_order=(2,1,1,7), \n",
        "                enforce_stationarity=False, enforce_invertibility=False)\n",
        "model_fit = model.fit(disp=0)\n",
        "print(model_fit.summary())\n",
        "model_fit.plot_diagnostics(figsize=(15,7))\n",
        "plt.show()\n",
        "#information on whether particular model is a goodfit\n",
        "#https://analyticsindiamag.com/complete-guide-to-sarimax-in-python-for-time-series-modeling/"
      ],
      "metadata": {
        "execution": {
          "iopub.status.busy": "2021-12-29T13:40:25.392793Z",
          "iopub.status.idle": "2021-12-29T13:40:25.39343Z"
        },
        "trusted": true,
        "id": "KX9qZo-VmQHI"
      },
      "execution_count": null,
      "outputs": []
    },
    {
      "cell_type": "markdown",
      "source": [
        "The above plots confirm the inferences of the following information:\n",
        "- The first left plot shows that residual errors fluctuate around a mean of zero and have uniform variance\n",
        "- The first right plot indicates that density plot also has a mean of almost zero\n",
        "- The second left plot indicate an almost a perfect fit on red line pointing to the fact that distribution is not skewed\n",
        "- The low auto-correlation of residuals is indicated in the second right plot. "
      ],
      "metadata": {
        "id": "6m66dOHVmQHJ"
      }
    },
    {
      "cell_type": "markdown",
      "source": [
        "### SARIMAX Graphical Validation & Forecasting"
      ],
      "metadata": {
        "id": "qg_Ds_5amQHJ"
      }
    },
    {
      "cell_type": "code",
      "source": [
        "def model_fit_SARIMAX(model_set, model_fit_srt_tm='2015-10-15', ts_st_tm='2013'):\n",
        "    \n",
        "    '''\n",
        "    makes predictions using SARIMAX model tuned earlier and returns plots along with \n",
        "    predictions made\n",
        "    \n",
        "    inputs: model_set (model tuned), model_fit_srt_tm (model prediction starting time), \n",
        "            ts_st_tm (time series plot to be plotted beginning point)\n",
        "    returns: forecast plot along with time_series, and pred (predictions made series)\n",
        "    \n",
        "    '''\n",
        "    \n",
        "    #1.# pred = model_fit.forecast(len(testing_p), alpha=0.05, dynamic=False)  # 95% conf\n",
        "    pred = model_set.get_prediction(start=pd.to_datetime(model_fit_srt_tm), end='2016-06-01', dynamic=False)\n",
        "    pred_conf = pred.conf_int()\n",
        "    #for dynamic prediction of time_series:\n",
        "    #pred_dy = model_set.get_prediction(dynamic=pred_srt_tm)\n",
        "    #pred_dy_conf = pred_dy.conf_int()\n",
        "\n",
        "    # Make as pandas series\n",
        "    #pred_series = pd.Series(pred, index=testing_p.index)\n",
        "\n",
        "    sns.set_style('whitegrid')\n",
        "    fig, ax1 = plt.subplots(1, 1, figsize=(14, 4))\n",
        "\n",
        "    train_sales_cal_df['avg_sales'][ts_st_tm:].plot(label='original',\n",
        "                                                  alpha=0.7, \n",
        "                                                  lw=1.5 , ax=ax1)\n",
        "    pred.predicted_mean.plot(label='predicted_validation',\n",
        "                             alpha=0.9, color='red',\n",
        "                             lw=2, ax=ax1)\n",
        "    ax1.fill_between(pred_conf.index, \n",
        "                     pred_conf.iloc[:,0], \n",
        "                     pred_conf.iloc[:, 1], color='purple', alpha=0.2)\n",
        "    fig.tight_layout()\n",
        "    ax1.set_xlabel('Date')\n",
        "    ax1.set_ylabel('Mean Number of Sales')\n",
        "    plt.legend(loc='upper left')\n",
        "    plt.show()\n",
        "    \n",
        "    return pred\n",
        "\n",
        "pred_made = model_fit_SARIMAX(model_fit, ts_st_tm='2015')    "
      ],
      "metadata": {
        "execution": {
          "iopub.status.busy": "2021-12-29T13:40:25.394651Z",
          "iopub.status.idle": "2021-12-29T13:40:25.39513Z"
        },
        "trusted": true,
        "id": "CDlsJND3mQHJ"
      },
      "execution_count": null,
      "outputs": []
    },
    {
      "cell_type": "markdown",
      "source": [
        "Looking at the above graphical representation, we can see that: \n",
        "- our model (indicated by green line) provides quite a good enough approximation for modeling the time_series behavior with the maroon background indicating a confidence interval for the new predicted time series. \n",
        "- We have applied the model on the test_dataset (data already present in our time series). In the next step, we would try to predict this time series response in the future"
      ],
      "metadata": {
        "id": "KJpMHb6TmQHK"
      }
    },
    {
      "cell_type": "code",
      "source": [
        "#def forecast_error(prediction, original, date, col):\n",
        "#    \n",
        "#    '''\n",
        "#    returns the Mean Absolute Error (MAE) and root mean square error (RMSE)\n",
        "#    \n",
        "#    inputs: prediction (forecasted series, with dates as predicted above), original (orginal time series df), \n",
        "#            date (where the model was started for forecast), col(column with time_series_values)\n",
        "#    \n",
        "#    returns : MAE, and RMSE \n",
        "#    '''\n",
        "#    forecasted = prediction.predicted_mean\n",
        "#    original = original.loc[date:, col]\n",
        "#\n",
        "#    MAE = np.abs(forecasted - original).mean()\n",
        "#    RMSE = np.sqrt(((forecasted - original)**2).mean())\n",
        "#\n",
        "#    print(\"The mean absolute error is : {}\".format(MAE))\n",
        "#    print(\"The root mean square error is : {}\".format(RMSE))\n",
        "#\n",
        "#\n",
        "#forecast_error(pred_made, testing_p, '2015-10-15', 'avg_sales')    "
      ],
      "metadata": {
        "execution": {
          "iopub.status.busy": "2021-12-29T13:40:25.396103Z",
          "iopub.status.idle": "2021-12-29T13:40:25.396633Z"
        },
        "trusted": true,
        "id": "5938umFVmQHL"
      },
      "execution_count": null,
      "outputs": []
    },
    {
      "cell_type": "code",
      "source": [
        "#fitting the model once again now to all the timeseries data (train_sales_cal_df['avg_sales']) available:\n",
        "#old_values - 2,1,1 & 0,1,2,7\n",
        "model = SARIMAX(train_sales_cal_df['avg_sales'],\n",
        "                order=(2,1,1), seasonal_order=(2,1,1,7), \n",
        "                enforce_stationarity=False, enforce_invertibility=False)\n",
        "model_fit = model.fit(disp=0)"
      ],
      "metadata": {
        "execution": {
          "iopub.status.busy": "2021-12-29T13:40:25.397713Z",
          "iopub.status.idle": "2021-12-29T13:40:25.398232Z"
        },
        "trusted": true,
        "id": "Hh1F9MdbmQHM"
      },
      "execution_count": null,
      "outputs": []
    },
    {
      "cell_type": "code",
      "source": [
        "#Making Future Prediction:\n",
        "#note: exo_sub = exo.loc['2016-01-25':], if it is needed to provide the holidays , equate exo_sub to exog in get forecast\n",
        "\n",
        "#pred_future = model_fit.get_forecast(steps=90) #Making Prediction for next 3 months\n",
        "\n",
        "pred_future = model_fit.get_prediction(start='2016-04-24', end='2016-06-24', dynamic=False)\n",
        "pred_f_conf = pred_future.conf_int()\n",
        "\n",
        "fig, ax2 = plt.subplots(figsize=(16, 4))\n",
        "\n",
        "\n",
        "#now using the entire original series, instead of training or testing:\n",
        "\n",
        "train_sales_cal_df['avg_sales']['2015-06-15':].plot(label='original',\n",
        "                 alpha=0.7, \n",
        "                 lw=1.5 , color=next(color_cycle), ax=ax2)\n",
        "\n",
        "pred_future.predicted_mean.plot(label='one_step_ahead',\n",
        "                 alpha=0.9, \n",
        "                 lw=2, color=next(color_cycle), ax=ax2)\n",
        "\n",
        "ci = pred_f_conf.loc['2016-04-24':]\n",
        "\n",
        "ax2.fill_between(ci.index, \n",
        "                ci.iloc[:,0], \n",
        "                ci.iloc[:, 1], color=next(color_cycle), alpha=0.3)\n",
        "\n",
        "plt.legend(loc='upper left')\n",
        "plt.show()"
      ],
      "metadata": {
        "execution": {
          "iopub.status.busy": "2021-12-29T13:40:25.399309Z",
          "iopub.status.idle": "2021-12-29T13:40:25.39981Z"
        },
        "trusted": true,
        "id": "oJwaruKOmQHM"
      },
      "execution_count": null,
      "outputs": []
    },
    {
      "cell_type": "markdown",
      "source": [
        "The 'original' label represents the timeseries data for which we have the data of average sales available. Whereas the 'one_ahead_label' indicates the forecast made for the time series of average sales, AND the filled background indicates the confidence interval. \n",
        "\n",
        "The Forecast is a fairly good response of average number of sales that would be made into the future."
      ],
      "metadata": {
        "id": "6WmmojtxmQHN"
      }
    },
    {
      "cell_type": "markdown",
      "source": [
        "### WRMSSE Calculation\n",
        "\n",
        "In order to measure the performance of the model, the competition metric has been provided already. This competiton metric can be found at the guidlines provided in the following link. \n",
        "\n",
        "WRMSSE is a sales metric that derives itself from RMSSE metric which is a variation on the metric of MASE (mean absolute scaled error). RMSSE specifically evaluate the sales forecast for datasets where heirarchical data level is made available. Since the first dataset of train_sales_val has heirarchical sales data available (i.e.sales divided along product_ids, item_ids, dept_ids, and store_ids level) and one that is also intermittent (i.e. has greater incidence of zero sales in some days while significant sales in other days), RMSSE's utility makes sense. The RMSSE metric also penalizes too large or too small values, therefore it is symmetric. \n",
        "\n",
        "\\begin{equation}\n",
        "WRMSSE = \\sum_{i=1}^{42840} \\left(\\frac{W_i}{\\sqrt{S_i}} \\times \\sqrt{\\sum{(D)^2}}\\right)\n",
        "\\end{equation}\n",
        "\n",
        "Note: Difference in rolled up vectors is equal to their rolled up difference:\n",
        "\\begin{equation}\n",
        "Y×M−Y^×M=(Y−Y^)×M=D\n",
        "\\end{equation}\n",
        "\n",
        "where Y_t is the actual future value of the examined time series at point t, (Y_t ) is the generated forecast, n the length of the training sample (number of historical observations), and h the forecasting horizon. \n",
        "\n"
      ],
      "metadata": {
        "id": "n-L0P8W-mQHN"
      }
    },
    {
      "cell_type": "code",
      "source": [
        "# Memory reduction helper function:\n",
        "def reduce_mem_usage(df, verbose=True):\n",
        "    numerics = ['int16', 'int32', 'int64', 'float16', 'float32', 'float64']\n",
        "    start_mem = df.memory_usage().sum() / 1024**2    \n",
        "    for col in df.columns: #columns\n",
        "        col_type = df[col].dtypes\n",
        "        if col_type in numerics: #numerics\n",
        "            c_min = df[col].min()\n",
        "            c_max = df[col].max()\n",
        "            if str(col_type)[:3] == 'int':\n",
        "                if c_min > np.iinfo(np.int8).min and c_max < np.iinfo(np.int8).max:\n",
        "                    df[col] = df[col].astype(np.int8)\n",
        "                elif c_min > np.iinfo(np.int16).min and c_max < np.iinfo(np.int16).max:\n",
        "                    df[col] = df[col].astype(np.int16)\n",
        "                elif c_min > np.iinfo(np.int32).min and c_max < np.iinfo(np.int32).max:\n",
        "                    df[col] = df[col].astype(np.int32)\n",
        "                elif c_min > np.iinfo(np.int64).min and c_max < np.iinfo(np.int64).max:\n",
        "                    df[col] = df[col].astype(np.int64)  \n",
        "            else:\n",
        "                if c_min > np.finfo(np.float16).min and c_max < np.finfo(np.float16).max:\n",
        "                    df[col] = df[col].astype(np.float16)\n",
        "                elif c_min > np.finfo(np.float32).min and c_max < np.finfo(np.float32).max:\n",
        "                    df[col] = df[col].astype(np.float32)\n",
        "                else:\n",
        "                    df[col] = df[col].astype(np.float64)    \n",
        "    end_mem = df.memory_usage().sum() / 1024**2\n",
        "    if verbose: print('Mem. usage decreased to {:5.2f} Mb ({:.1f}% reduction)'.format(end_mem, 100 * (start_mem - end_mem) / start_mem))\n",
        "    return df\n",
        "\n",
        "calendar_df = reduce_mem_usage(calendar_df)\n",
        "\n",
        "sell_prices_df = reduce_mem_usage(sell_prices_df)"
      ],
      "metadata": {
        "execution": {
          "iopub.status.busy": "2021-12-29T13:40:25.400781Z",
          "iopub.status.idle": "2021-12-29T13:40:25.401145Z"
        },
        "trusted": true,
        "id": "z9IrbB4mmQHO"
      },
      "execution_count": null,
      "outputs": []
    },
    {
      "cell_type": "code",
      "source": [
        "from scipy.sparse import csr_matrix\n",
        "import gc\n",
        "\n",
        "NUM_ITEMS = train_sales_df.shape[0]  # 30490\n",
        "DAYS_PRED = submission_file.shape[1] - 1  # 28\n",
        "\n",
        "# Dataframe with only last 28 days:\n",
        "sales = train_sales_df\n",
        "cols = [\"d_{}\".format(i) for i in range(1914-28, 1914)]\n",
        "data = sales[[\"id\", 'store_id', 'item_id'] + cols]\n",
        "\n",
        "# To long form:\n",
        "data = data.melt(id_vars=[\"id\", 'store_id', 'item_id'], \n",
        "                 var_name=\"d\", value_name=\"sale\")\n",
        "\n",
        "# Add week of year column from 'calendar':\n",
        "data = pd.merge(data, calendar_df, how = 'left', \n",
        "                left_on = ['d'], right_on = ['d'])\n",
        "\n",
        "data = data[[\"id\", 'store_id', 'item_id', \"sale\", \"d\", \"wm_yr_wk\"]]\n",
        "\n",
        "# Add weekly price from 'sell_prices':\n",
        "data = data.merge(sell_prices_df, on = ['store_id', 'item_id', 'wm_yr_wk'], how = 'left')\n",
        "data.drop(columns = ['wm_yr_wk'], inplace=True)\n",
        "\n",
        "# Calculate daily sales in USD:\n",
        "data['sale_usd'] = data['sale'] * data['sell_price']\n",
        "data.head()\n",
        "\n",
        "#this part is correct"
      ],
      "metadata": {
        "execution": {
          "iopub.status.busy": "2021-12-29T13:40:25.40215Z",
          "iopub.status.idle": "2021-12-29T13:40:25.40251Z"
        },
        "trusted": true,
        "id": "-2GLmKs5mQHO"
      },
      "execution_count": null,
      "outputs": []
    },
    {
      "cell_type": "code",
      "source": [
        "# List of categories combinations for aggregations as defined in docs:\n",
        "dummies_list = [sales.state_id, sales.store_id, \n",
        "                sales.cat_id, sales.dept_id, \n",
        "                sales.state_id +'_'+ sales.cat_id, sales.state_id +'_'+ sales.dept_id,\n",
        "                sales.store_id +'_'+ sales.cat_id, sales.store_id +'_'+ sales.dept_id, \n",
        "                sales.item_id, sales.state_id +'_'+ sales.item_id, sales.id]\n",
        "\n",
        "\n",
        "## First element Level_0 aggregation 'all_sales':\n",
        "dummies_df_list =[pd.DataFrame(np.ones(sales.shape[0]).astype(np.int8), \n",
        "                               index=sales.index, columns=['all']).T]\n",
        "\n",
        "# List of dummy dataframes:\n",
        "for i, cats in enumerate(dummies_list):\n",
        "    dummies_df_list +=[pd.get_dummies(cats, drop_first=False, dtype=np.int8).T]\n",
        "    \n",
        "# Concat dummy dataframes in one go:\n",
        "## Level is constructed for free.\n",
        "roll_mat_df = pd.concat(dummies_df_list, keys=list(range(12)), \n",
        "                        names=['level','id'])#.astype(np.int8, copy=False)\n",
        "\n",
        "# Save values as sparse matrix & save index for future reference:\n",
        "roll_index = roll_mat_df.index\n",
        "roll_mat_csr = csr_matrix(roll_mat_df.values)\n",
        "roll_mat_csr.shape"
      ],
      "metadata": {
        "execution": {
          "iopub.status.busy": "2021-12-29T13:40:25.403528Z",
          "iopub.status.idle": "2021-12-29T13:40:25.404041Z"
        },
        "trusted": true,
        "id": "xB3JlAO_mQHP"
      },
      "execution_count": null,
      "outputs": []
    },
    {
      "cell_type": "code",
      "source": [
        "roll_mat_df.to_pickle('roll_mat_df.pkl')\n",
        "del dummies_df_list, roll_mat_df\n",
        "gc.collect()"
      ],
      "metadata": {
        "execution": {
          "iopub.status.busy": "2021-12-29T13:40:25.405301Z",
          "iopub.status.idle": "2021-12-29T13:40:25.405872Z"
        },
        "trusted": true,
        "id": "_tjk4G7rmQHP"
      },
      "execution_count": null,
      "outputs": []
    },
    {
      "cell_type": "code",
      "source": [
        "# Fucntion to calculate S weights:\n",
        "def get_s(drop_days=0):\n",
        "    \n",
        "    \"\"\"\n",
        "    drop_days: int, equals 0 by default, so S is calculated on all data.\n",
        "               If equals 28, last 28 days won't be used in calculating S.\n",
        "    \"\"\"\n",
        "    # Rollup sales:\n",
        "    d_name = ['d_' + str(i+1) for i in range(1913-drop_days)]\n",
        "    sales_train_val = roll_mat_csr * sales[d_name].values\n",
        "\n",
        "    no_sales = np.cumsum(sales_train_val, axis=1) == 0\n",
        "    sales_train_val = np.where(no_sales, np.nan, sales_train_val)\n",
        "\n",
        "    # Denominator of RMSSE / RMSSE\n",
        "    weight1 = np.nanmean(np.diff(sales_train_val,axis=1)**2,axis=1)\n",
        "    \n",
        "    return weight1"
      ],
      "metadata": {
        "execution": {
          "iopub.status.busy": "2021-12-29T13:40:25.406807Z",
          "iopub.status.idle": "2021-12-29T13:40:25.407333Z"
        },
        "trusted": true,
        "id": "BSJVU8JCmQHS"
      },
      "execution_count": null,
      "outputs": []
    },
    {
      "cell_type": "code",
      "source": [
        "S = get_s(drop_days=0)\n",
        "S.shape"
      ],
      "metadata": {
        "execution": {
          "iopub.status.busy": "2021-12-29T13:40:25.408189Z",
          "iopub.status.idle": "2021-12-29T13:40:25.408545Z"
        },
        "trusted": true,
        "id": "TDerVxIRmQHU"
      },
      "execution_count": null,
      "outputs": []
    },
    {
      "cell_type": "code",
      "source": [
        "# Functinon to calculate weights:\n",
        "def get_w(sale_usd):\n",
        "    \"\"\"\n",
        "    \"\"\"\n",
        "    # Calculate the total sales in USD for each item id:\n",
        "    total_sales_usd = sale_usd.groupby(\n",
        "        ['id'], sort=False)['sale_usd'].apply(np.sum).values\n",
        "    \n",
        "    # Roll up total sales by ids to higher levels:\n",
        "    weight2 = roll_mat_csr * total_sales_usd\n",
        "    \n",
        "    return 12*weight2/np.sum(weight2)"
      ],
      "metadata": {
        "execution": {
          "iopub.status.busy": "2021-12-29T13:40:25.409533Z",
          "iopub.status.idle": "2021-12-29T13:40:25.410026Z"
        },
        "trusted": true,
        "id": "jOaeaBW2mQHU"
      },
      "execution_count": null,
      "outputs": []
    },
    {
      "cell_type": "code",
      "source": [
        "W = get_w(data[['id','sale_usd']])\n",
        "W.shape"
      ],
      "metadata": {
        "execution": {
          "iopub.status.busy": "2021-12-29T13:40:25.410885Z",
          "iopub.status.idle": "2021-12-29T13:40:25.411223Z"
        },
        "trusted": true,
        "id": "-0JhcjY-mQHU"
      },
      "execution_count": null,
      "outputs": []
    },
    {
      "cell_type": "code",
      "source": [
        "# Predicted weights\n",
        "##W_df = pd.DataFrame(W,index = roll_index,columns=['w'])\n",
        "\n",
        "# Load the original weights:\n",
        "##data_pass = '/kaggle/input/original-weights/'\n",
        "##W_original_df = pd.read_csv(data_pass+'weights_validation.csv')\n",
        "\n",
        "# Set new index, calculate difference between original and predicted:\n",
        "##W_original_df = W_original_df.set_index(W_df.index)\n",
        "##W_original_df['Predicted'] = W_df.w\n",
        "##W_original_df['diff'] = W_original_df.Weight - W_original_df.Predicted\n",
        "\n",
        "# See where we are off by more than e-6\n",
        "##m = W_original_df.Weight.values - W_df.w.values > 0.000001\n",
        "##W_original_df[m]"
      ],
      "metadata": {
        "execution": {
          "iopub.status.busy": "2021-12-29T13:40:25.412133Z",
          "iopub.status.idle": "2021-12-29T13:40:25.41256Z"
        },
        "trusted": true,
        "id": "0gMSjESemQHU"
      },
      "execution_count": null,
      "outputs": []
    },
    {
      "cell_type": "code",
      "source": [
        "SW = W/np.sqrt(S)\n",
        "sw_df = pd.DataFrame(np.stack((S, W, SW), axis=-1),index = roll_index,columns=['s','w','sw'])\n",
        "sw_df.to_pickle('sw_df.pkl')"
      ],
      "metadata": {
        "execution": {
          "iopub.status.busy": "2021-12-29T13:40:25.413503Z",
          "iopub.status.idle": "2021-12-29T13:40:25.414073Z"
        },
        "trusted": true,
        "id": "go082BnbmQHU"
      },
      "execution_count": null,
      "outputs": []
    },
    {
      "cell_type": "code",
      "source": [
        "# Function to do quick rollups:\n",
        "def rollup(v):\n",
        "    '''\n",
        "    v - np.array of size (30490 rows, n day columns)\n",
        "    v_rolledup - array of size (n, 42840)\n",
        "    '''\n",
        "    return roll_mat_csr*v #(v.T*roll_mat_csr.T).T\n",
        "\n",
        "\n",
        "# Function to calculate WRMSSE:\n",
        "def wrmsse(preds, y_true, score_only=False, s = S, w = W, sw=SW):\n",
        "    '''\n",
        "    preds - Predictions: pd.DataFrame of size (30490 rows, N day columns)\n",
        "    y_true - True values: pd.DataFrame of size (30490 rows, N day columns)\n",
        "    sequence_length - np.array of size (42840,)\n",
        "    sales_weight - sales weights based on last 28 days: np.array (42840,)\n",
        "    '''\n",
        "    \n",
        "    if score_only:\n",
        "        return np.sum(\n",
        "                np.sqrt(\n",
        "                    np.mean(\n",
        "                        np.square(rollup(preds.values-y_true.values))\n",
        "                            ,axis=1)) * sw)/12 #<-used to be mistake here\n",
        "    else: \n",
        "        score_matrix = (np.square(rollup(preds.values-y_true.values)) * np.square(w)[:, None])/ s[:, None]\n",
        "        score = np.sum(np.sqrt(np.mean(score_matrix,axis=1)))/12 #<-used to be mistake here\n",
        "        return score, score_matrix"
      ],
      "metadata": {
        "execution": {
          "iopub.status.busy": "2021-12-29T13:40:25.415334Z",
          "iopub.status.idle": "2021-12-29T13:40:25.415858Z"
        },
        "trusted": true,
        "id": "ut996rF5mQHV"
      },
      "execution_count": null,
      "outputs": []
    },
    {
      "cell_type": "markdown",
      "source": [
        "### **Prophet Time Series Modeling**\n",
        "Prophet is a time-series forecasting tool developed by facebook team that has advanced capabilities to predict the time series data taking into consideration the weekly, monthly or yearly data seasonality. Prophet also has advanced capability to implement custom changepoints observed in time series data as well as specify holiday points where trends are continuously changing."
      ],
      "metadata": {
        "id": "f5Qy7Rm-mQHV"
      }
    },
    {
      "cell_type": "code",
      "source": [
        "#dates_s = [pd.to_datetime(calendar_df.loc[calendar_df['d'] == str_date,'date'].values[0]) for str_date in d_cols]\n"
      ],
      "metadata": {
        "execution": {
          "iopub.status.busy": "2021-12-29T13:40:25.416864Z",
          "iopub.status.idle": "2021-12-29T13:40:25.417309Z"
        },
        "trusted": true,
        "id": "TWbt7ClUmQHW"
      },
      "execution_count": null,
      "outputs": []
    },
    {
      "cell_type": "code",
      "source": [
        "#df_sale_group_item = train_sales_df[np.hstack([['dept_id','store_id'],d_cols])].groupby(['dept_id','store_id']).sum()\n",
        "#df_sale_group_item = df_sale_group_item.reset_index()\n",
        "\n",
        "#item_series =  df_sale_group_item[(df_sale_group_item.dept_id == 'FOODS_1') & (df_sale_group_item.store_id == 'TX_1')]\n",
        "#dates = pd.DataFrame({'ds': dates_s}, index=range(len(dates_s)))\n",
        "#dates['y'] = item_series[d_cols].values[0].transpose() "
      ],
      "metadata": {
        "execution": {
          "iopub.status.busy": "2021-12-29T13:40:25.418214Z",
          "iopub.status.idle": "2021-12-29T13:40:25.418762Z"
        },
        "trusted": true,
        "id": "3gdjI8_nmQHX"
      },
      "execution_count": null,
      "outputs": []
    },
    {
      "cell_type": "markdown",
      "source": [
        "### Fb Prophet: Training and Validation Data Split"
      ],
      "metadata": {
        "id": "SPuE8EGnmQHX"
      }
    },
    {
      "cell_type": "code",
      "source": [
        "#prophet forecast from here\n",
        "from fbprophet import Prophet\n",
        "from tqdm.notebook import tqdm as tqdm\n",
        "\n",
        "####Observing behavior of Avg Number of Sales using Prophet#######\n",
        "####Converting the data into required ds and y format for Prophet Model#####\n",
        "\n",
        "ts = train_sales_cal_df[['avg_sales']].reset_index()\n",
        "ts = ts.set_axis(['ds', 'y'], axis=1, inplace=False)\n",
        "\n",
        "#####Specifying data for only one year to better visulize future predictions#######\n",
        "threshold_date = pd.to_datetime('2015-04-22') \n",
        "select_d = ts ['ds'] > threshold_date\n",
        "\n",
        "ts = ts[select_d][['ds', 'y']]\n",
        "\n",
        "#####prophet_plot(ts)######\n",
        "\n",
        "mod_params = { 'weekly_seasonality': True, 'seasonality_mode': 'multiplicative'} \n",
        "sales_model = Prophet(**mod_params, interval_width=0.95)\n",
        "#data['cap'] = data['y'].max() + data['y'].std() * 0.05 #incase logistic model growth used\n",
        "\n",
        "######fitting the prophet model########\n",
        "\n",
        "sales_model.fit(ts)\n",
        "future = sales_model.make_future_dataframe(28, 'D')\n",
        "#future['cap'] = data['cap'].max() #incase logistic model growth used in params\n",
        "sales_forecast = sales_model.predict(future)\n",
        "\n",
        "########Train/Test split of Data#######################\n",
        "\n",
        "threshold_date = pd.to_datetime('2016-03-01') #for the test/validation split\n",
        "forecast_date = pd.to_datetime('2016-04-24') #for the actual forecast date to begin\n",
        "select_d = ts ['ds'] < threshold_date\n",
        "\n",
        "ts_train = ts[select_d][['ds', 'y']]\n",
        "ts_test = ts[~ select_d][['ds', 'y']]\n",
        "\n",
        "select_d2 = sales_forecast['ds'] < forecast_date\n",
        "\n",
        "\n",
        "forecast_train = sales_forecast[select_d2]\n",
        "forecast_test = sales_forecast[~ select_d2]\n"
      ],
      "metadata": {
        "execution": {
          "iopub.status.busy": "2021-12-29T13:40:25.419803Z",
          "iopub.status.idle": "2021-12-29T13:40:25.420227Z"
        },
        "trusted": true,
        "id": "W7oaQr_JmQHX"
      },
      "execution_count": null,
      "outputs": []
    },
    {
      "cell_type": "markdown",
      "source": [
        "### Prophet Forecasting On Average Sales Using Seaborn"
      ],
      "metadata": {
        "id": "c5l5ioHhmQHY"
      }
    },
    {
      "cell_type": "code",
      "source": [
        "#Seaborn based plot for the fb_Prophet Model\n",
        "sns.set_style('whitegrid')\n",
        "sns_c = sns.color_palette(palette='deep')\n",
        "\n",
        "fig, ax = plt.subplots(figsize=(15,5))\n",
        "\n",
        "ax.fill_between(\n",
        "    x=sales_forecast['ds'], y1=sales_forecast['yhat_lower'], y2=sales_forecast['yhat_upper'],\n",
        "    color=sns_c[2],  alpha=0.25, label=r'95% confidence_interval'\n",
        ")\n",
        "\n",
        "sns.lineplot(x='ds', y='y', label='y_train', data=ts_train, ax=ax)\n",
        "sns.lineplot(x='ds', y='y', label='y_test', data=ts_test, ax=ax)\n",
        "#sns.lineplot(x='ds', y='yhat', label='y_hat', data=sales_forecast, ax=ax)\n",
        "sns.lineplot(x='ds', y='yhat', label='y_hat', data=forecast_test, ax=ax)\n",
        "ax.axvline(forecast_date, color='g', linestyle='--', label='train test split')\n",
        "\n",
        "ax.legend(loc='lower left')\n",
        "ax.set(title='Avg Sales of Units', ylabel='');"
      ],
      "metadata": {
        "execution": {
          "iopub.status.busy": "2021-12-29T13:40:25.421379Z",
          "iopub.status.idle": "2021-12-29T13:40:25.421949Z"
        },
        "trusted": true,
        "id": "8_ZA9j8fmQHY"
      },
      "execution_count": null,
      "outputs": []
    },
    {
      "cell_type": "markdown",
      "source": [
        "The above plot indicates the prophet model forecasting using average number of sales as a dependent variable. The plot indicatest that:\n",
        "- y_train(blue line plot) represents the training set data\n",
        "- y_test (green line ) is representative of validation data response\n",
        "- y_hat (red line) is a modeled response obtained using the Prophet Prediction Model\n",
        "- green filled area represents the 95 % confidence interval for the plot "
      ],
      "metadata": {
        "id": "Hx_fSidLmQHY"
      }
    },
    {
      "cell_type": "markdown",
      "source": [
        "### Prophet Forecast Using Individual Product IDs"
      ],
      "metadata": {
        "id": "RXCnzjZxmQHY"
      }
    },
    {
      "cell_type": "code",
      "source": [
        "#selecting the product ids for which we require prophet prediction\n",
        "\n",
        "id1 = 'FOODS_3_443_CA_1_validation'\n",
        "id2 =  'HOUSEHOLD_1_005_CA_3_validation'\n",
        "id3 =  'FOODS_3_823_WI_3_validation'\n",
        "id4 = 'FOODS_3_090_CA_3_validation'\n",
        "id5 = 'FOODS_3_586_TX_2_validation'\n",
        "id6 = 'FOODS_3_586_TX_3_validation'\n",
        "\n",
        "#train_sales_cal_df[id2]\n"
      ],
      "metadata": {
        "execution": {
          "iopub.status.busy": "2021-12-29T13:40:25.423043Z",
          "iopub.status.idle": "2021-12-29T13:40:25.42353Z"
        },
        "trusted": true,
        "id": "hZBcBNdImQHY"
      },
      "execution_count": null,
      "outputs": []
    },
    {
      "cell_type": "code",
      "source": [
        "def make_id_timeseries(idx, date='2016-02-22'):\n",
        "    \n",
        "    '''\n",
        "    selects and makes the timeseries adjusted for fb prophet model by adjusting names\n",
        "    of columns\n",
        "    \n",
        "    inputs: product_id\n",
        "    \n",
        "    returns: time series with data specified in format for prophet\n",
        "    \n",
        "    '''\n",
        "    \n",
        "    dates_series = [date for date in train_sales_cal_df.index]\n",
        "    id_series =  train_sales_df[(train_sales_df.id == idx )]\n",
        "    item_ts = pd.DataFrame({'ds': dates_series}, index=range(len(dates_series)))\n",
        "    item_ts['y'] = id_series[d_cols].values[0].transpose()\n",
        "    \n",
        "    ######Following steps would shorten the behavior of historic timeline data########\n",
        "    ######Choosing the threshold date near to the date where prediction needs to be made \n",
        "    ######because of close correlation in time series\n",
        "    \n",
        "    threshold_date = pd.to_datetime(date) \n",
        "    mask = item_ts['ds'] > threshold_date\n",
        "\n",
        "    item_ts = item_ts[mask][['ds', 'y']]\n",
        "    \n",
        "    return item_ts\n",
        "\n",
        "data1 = make_id_timeseries(id6)\n",
        "data4 = make_id_timeseries(id4)"
      ],
      "metadata": {
        "execution": {
          "iopub.status.busy": "2021-12-29T13:40:25.424401Z",
          "iopub.status.idle": "2021-12-29T13:40:25.424901Z"
        },
        "trusted": true,
        "id": "F7-6MBwpmQHY"
      },
      "execution_count": null,
      "outputs": []
    },
    {
      "cell_type": "code",
      "source": [
        "#weighted_coeff = (df_cv['yhat'] - df_cv['y'])/(df_cv['yhat'] - df_cv['y']).mean()\n",
        "#e = ((df_cv['yhat'] - df_cv['y']) * weighted_coeff )/ (weighted_coeff*df_cv['y'])\n",
        "#resulting_wmape = pd.DataFrame(df_cv['yhat'], df_cv['y'], weighted_coeff, e)\n",
        "##print(\"yhat:{}, actual:{}, coeff:{}, error:{}\".format(df_cv['yhat'], df_cv['y'], weighted_coeff, e))\n",
        "#data = {'yhat':list(df_cv['yhat']),\n",
        "#        'actual':list(df_cv['y']),\n",
        "#        'diff' : list(df_cv['yhat'] - df_cv['y']),\n",
        "#       'weighted_coef': list(weighted_coeff), \n",
        "#       'error': list(e)}\n",
        "#  \n",
        "# Create DataFrame\n",
        "#pd.DataFrame(data)"
      ],
      "metadata": {
        "execution": {
          "iopub.status.busy": "2021-12-29T13:40:25.425903Z",
          "iopub.status.idle": "2021-12-29T13:40:25.426332Z"
        },
        "trusted": true,
        "id": "weL_fJhRmQHZ"
      },
      "execution_count": null,
      "outputs": []
    },
    {
      "cell_type": "markdown",
      "source": [
        "### Custom Loss Function For Fb Prophet Tuning"
      ],
      "metadata": {
        "id": "yGZPnqsGmQHZ"
      }
    },
    {
      "cell_type": "code",
      "source": [
        "##########New Code Working For Custom Error###########\n",
        "import itertools\n",
        "from fbprophet.diagnostics import cross_validation\n",
        "from fbprophet.diagnostics import performance_metrics\n",
        "\n",
        "#Note : the code was generated using the explanation at the following link\n",
        "#https://www.baeldung.com/cs/mape-vs-wape-vs-wmape\n",
        "\n",
        "def fbprophet_tuning_per_single_id(id_data, changepoint_prior_list=[0.5, 0.6, 0.7], \n",
        "                                   changepoint_range_list=[0.6, 0.7, 0.8], \n",
        "                                   n_changepoints_list=[50, 60]):\n",
        "    param_grid = {  \n",
        "        'changepoint_prior_scale': changepoint_prior_list,\n",
        "        'changepoint_range': changepoint_range_list,\n",
        "        'n_changepoints' : n_changepoints_list\n",
        "    }\n",
        "\n",
        "    # Generate all combinations of parameters\n",
        "    all_params = [dict(zip(param_grid.keys(), v)) for v in itertools.product(*param_grid.values())]\n",
        "    #wapes = []  # Store the RMSEs for each params here\n",
        "    wmapes = []\n",
        "\n",
        "    # Use cross validation to evaluate all parameters\n",
        "    for params in all_params:\n",
        "        mod = Prophet(**params).fit(id_data)  # Fit model with given params\n",
        "        df_cv = cross_validation(mod, initial = '32 days', period = '3 days', horizon='28 days')\n",
        "        #df_p = performance_metrics(df_cv, rolling_window=1)\n",
        "        #rmses.append(df_p['rmse'].values[0])\n",
        "        #wapes.append(np.sum(df_cv['yhat'] - df_cv['y']) / (np.sum(df_cv['y'])))\n",
        "        weighted_coeff = (df_cv['yhat'] - df_cv['y'])/(df_cv['yhat'] - df_cv['y']).mean()\n",
        "        wmapes.append(np.sum((df_cv['yhat'] - df_cv['y']) * weighted_coeff )/ np.sum(weighted_coeff*df_cv['y']) )\n",
        "\n",
        "    # Find the best parameters\n",
        "    tuning_results = pd.DataFrame(all_params)\n",
        "    tuning_results['wmape'] = wmapes\n",
        "    print(tuning_results)\n",
        "    \n",
        "fbprophet_tuning_per_single_id(data1)    "
      ],
      "metadata": {
        "execution": {
          "iopub.status.busy": "2021-12-29T13:40:25.427433Z",
          "iopub.status.idle": "2021-12-29T13:40:25.427897Z"
        },
        "trusted": true,
        "id": "FjTi9FhSmQHf"
      },
      "execution_count": null,
      "outputs": []
    },
    {
      "cell_type": "code",
      "source": [
        "def prophet_plot(data, periods=28, freq='D'):\n",
        "    \n",
        "    '''\n",
        "    plots the fb prophet model for the data of id specified\n",
        "    \n",
        "    inputs: data (product id along with data for previous days), periods(predictions for \n",
        "    the next days to be made)\n",
        "    \n",
        "    returns: plots the immediate historic data along with forecast for the future made\n",
        "    '''\n",
        "    \n",
        "    mod_params = { 'weekly_seasonality': True, 'seasonality_mode': 'multiplicative'} \n",
        "\n",
        "    sales_model = Prophet(**mod_params, holidays=holidays, interval_width=0.95)\n",
        "    #data['cap'] = data['y'].max() + data['y'].std() * 0.05 #incase logistic model growth used\n",
        "    #fitting the model\n",
        "    sales_model.fit(data)\n",
        "    future = sales_model.make_future_dataframe(periods, freq)\n",
        "    #future['cap'] = data['cap'].max() #incase logistic model growth used in params\n",
        "\n",
        "    sales_forecast = sales_model.predict(future)\n",
        "    \n",
        "    plt.figure(figsize=(15,3))\n",
        "    #fig, ax = plt.subplots(figsize=(14,5))\n",
        "    sales_model.plot(sales_forecast, xlabel='Date', ylabel='Unit Sales Behavior')\n",
        "    #plt.axvline(x=sales_forecast[sales_forecast.ds == '2016-04-22']['ds'], color='r')\n",
        "    #ax.axvline(threshold_date, color='g', linestyle='--', label='Prediction Onwards')\n",
        "    #ax.legend(loc='upper left')\n",
        "    #ax.set(title='Avg Sales of Units', ylabel='');\n",
        "    plt.title(\"Unit Sales Trend on Each ID\")\n",
        "    plt.show()\n",
        "\n",
        "\n",
        "prophet_plot(data1)\n",
        "prophet_plot(data4)    "
      ],
      "metadata": {
        "execution": {
          "iopub.status.busy": "2021-12-29T13:40:25.429346Z",
          "iopub.status.idle": "2021-12-29T13:40:25.43016Z"
        },
        "trusted": true,
        "id": "RKsGMKKJmQHg"
      },
      "execution_count": null,
      "outputs": []
    },
    {
      "cell_type": "markdown",
      "source": [
        "These prophet plots of the individual product_ids indicate that the prophet model does quite a significantly better job at predicting the future response of the number of sales for each product_id. \n",
        "\n",
        "We are going to use prophet model at predicting number of sales for individual ids because it would provide us with a better suited data for participation into the competition than say, using an average of sales for each product, as we did in SARIMAX."
      ],
      "metadata": {
        "id": "pYzZj5oImQHg"
      }
    },
    {
      "cell_type": "code",
      "source": [
        "all_ids = train_sales_cal_df.columns.drop(['daysnum', 'avg_sales'])\n",
        "sales_forecast_list = []\n",
        "\n",
        "def prophet_pred_df(start=15500, end=15650):\n",
        "    '''\n",
        "    makes a dataframe with prophet predictions made for each product_id \n",
        "    \n",
        "    input: start = product_id start, end = product_id to be the last one for prediction\n",
        "    \n",
        "    returns: dataframe with predictions made for the next 28 days using prophet of the product\n",
        "             ids specified in input\n",
        "    '''\n",
        "\n",
        "    for idc in tqdm(range(start, end)):\n",
        "        train_sub = train_sales_cal_df.iloc[-28:, idc].reset_index()\n",
        "        idx = train_sub.columns[1]\n",
        "        train_sub.set_axis(['ds', 'y'], axis=1, inplace=True)\n",
        "        mod_params = { 'changepoint_prior_scale': 0.5 , 'changepoint_range': 0.6,\n",
        "                      'n_changepoints': 50, \n",
        "                      'weekly_seasonality': True, 'seasonality_mode': 'multiplicative'} \n",
        "        sales_model = Prophet(**mod_params, interval_width=0.95)\n",
        "        #data['cap'] = data['y'].max() + data['y'].std() * 0.05 #incase logistic model growth used\n",
        "\n",
        "        ######fitting the prophet model########\n",
        "        \n",
        "        sales_model.fit(train_sub)\n",
        "        future = sales_model.make_future_dataframe(28, 'D')\n",
        "        #future['cap'] = data['cap'].max() #incase logistic model growth used in params\n",
        "        sales_forecast = sales_model.predict(future)[-28:]\n",
        "        sales_forecast_list.append( (np.append(np.array([idx]), sales_forecast['yhat'].values.transpose())) )\n",
        "    \n",
        "    return sales_forecast_list\n",
        "\n",
        "#list_table would collect all entries\n",
        "\n",
        "list_table = prophet_pred_df()"
      ],
      "metadata": {
        "execution": {
          "iopub.status.busy": "2021-12-29T13:40:25.431431Z",
          "iopub.status.idle": "2021-12-29T13:40:25.431831Z"
        },
        "trusted": true,
        "id": "WXUWgFAJmQHg"
      },
      "execution_count": null,
      "outputs": []
    },
    {
      "cell_type": "code",
      "source": [
        "#changing column names to those as specified in submission file\n",
        "df_prophet_forecast = pd.DataFrame(list_table)\n",
        "df_prophet_forecast.columns = submission_file.columns\n",
        "#df_prophet_forecast = df_prophet_forecast.round(decimals = 2)\n",
        "df_prophet_forecast.head(6)"
      ],
      "metadata": {
        "execution": {
          "iopub.status.busy": "2021-12-29T13:40:25.433048Z",
          "iopub.status.idle": "2021-12-29T13:40:25.433486Z"
        },
        "trusted": true,
        "id": "NC7QTedHmQHh"
      },
      "execution_count": null,
      "outputs": []
    },
    {
      "cell_type": "code",
      "source": [
        "########Remove Unwanted Columns###################\n",
        "train_sales_df = train_sales_df.drop(['total_sales_all_days', 'avg_sales_all_days', 'median_sales_all_days'], axis=1)\n",
        "\n",
        "###########Making the dataframe of predictions for all ids############\n",
        "req_sales_df = train_sales_df.iloc[:, np.r_[0,-28:0]].melt('id', var_name='d', value_name='sale')\n",
        "req_sales_df = req_sales_df.merge(calendar_df.loc[:,['d','date','wday']])\n",
        "#req_sales_df\n",
        "lastest_date = int(req_sales_df.d.max()[2:])\n",
        "req_sales_df = req_sales_df.groupby(['id','wday'])['sale'].mean()\n",
        "req_sales_df.head(7)"
      ],
      "metadata": {
        "execution": {
          "iopub.status.busy": "2021-12-29T13:40:25.434507Z",
          "iopub.status.idle": "2021-12-29T13:40:25.435176Z"
        },
        "trusted": true,
        "id": "IgOrB9FWmQHh"
      },
      "execution_count": null,
      "outputs": []
    },
    {
      "cell_type": "code",
      "source": [],
      "metadata": {
        "id": "g5O1BN8KmQHh"
      },
      "execution_count": null,
      "outputs": []
    },
    {
      "cell_type": "code",
      "source": [
        "###########Generating Submission Dataframe of ids for 28 next days with 0 values############\n",
        "\n",
        "mv_avg_forecast = submission_file.copy()\n",
        "mv_avg_forecast.columns = ['id'] + ['d_' + str(lastest_date + x) for x in range(1, 29)]\n",
        "mv_avg_forecast = mv_avg_forecast.loc[mv_avg_forecast.id.str.contains('validation')]\n",
        "#mv_avg_forecast"
      ],
      "metadata": {
        "execution": {
          "iopub.status.busy": "2021-12-29T13:40:25.436219Z",
          "iopub.status.idle": "2021-12-29T13:40:25.436773Z"
        },
        "trusted": true,
        "id": "ahqB9UA3mQHh"
      },
      "execution_count": null,
      "outputs": []
    },
    {
      "cell_type": "code",
      "source": [
        "###########Generating Dataframe for Moving Average Values###############\n",
        "\n",
        "mv_avg_forecast = mv_avg_forecast.melt('id', var_name='d', value_name='sale')\n",
        "mv_avg_forecast = mv_avg_forecast.drop('sale',axis = 1)\n",
        "#mv_avg_forecast\n",
        "\n",
        "mv_avg_forecast = mv_avg_forecast.merge(calendar_df.loc[:,['d','date','wday']])\n",
        "mv_avg_forecast = mv_avg_forecast.join(req_sales_df, on=['id', 'wday'])\n",
        "#mv_avg_forecast\n",
        "\n",
        "mv_avg_forecast = mv_avg_forecast.pivot(index='id', columns='d', values='sale')\n",
        "mv_avg_forecast = mv_avg_forecast.reset_index()\n",
        "mv_avg_forecast"
      ],
      "metadata": {
        "execution": {
          "iopub.status.busy": "2021-12-29T13:40:25.437878Z",
          "iopub.status.idle": "2021-12-29T13:40:25.438274Z"
        },
        "trusted": true,
        "id": "L4MuPAX_mQHi"
      },
      "execution_count": null,
      "outputs": []
    },
    {
      "cell_type": "code",
      "source": [
        "#del mv_avg_forecast.index.name\n",
        "mv_avg_forecast.rename_axis(None).index.name\n",
        "mv_avg_forecast.head(4)"
      ],
      "metadata": {
        "execution": {
          "iopub.status.busy": "2021-12-29T13:40:25.440517Z",
          "iopub.status.idle": "2021-12-29T13:40:25.440988Z"
        },
        "trusted": true,
        "id": "B5tpk2BemQHi"
      },
      "execution_count": null,
      "outputs": []
    },
    {
      "cell_type": "code",
      "source": [
        "#df_sub_valid = pd.concat([mv_avg_forecast, df_prophet_forecast_1, \n",
        "#                        df_prophet_forecast_2,df_prophet_forecast_3, \n",
        "#                        df_prophet_forecast_4, df_prophet_forecast_5, \n",
        "#                        df_prophet_forecast_6], sort=False)\n",
        "\n",
        "#re-adjusting the old columns against new-ones\n",
        "\n",
        "mv_avg_forecast.columns = submission_file.columns\n",
        "\n",
        "df_valid = pd.concat([mv_avg_forecast[~mv_avg_forecast.id.isin(df_prophet_forecast.id)], df_prophet_forecast], sort=False)\n",
        "\n",
        "df_eval = df_valid.copy()\n",
        "df_eval['id'] = df_eval['id'].str.replace(\"validation\", \"evaluation\")\n",
        "\n",
        "submission_df = pd.concat([df_valid, df_eval], sort=False)\n",
        "submission_df = submission_df.sort_values('id')\n"
      ],
      "metadata": {
        "execution": {
          "iopub.status.busy": "2021-12-29T13:40:25.442158Z",
          "iopub.status.idle": "2021-12-29T13:40:25.442776Z"
        },
        "trusted": true,
        "id": "TgiYgXtvmQHi"
      },
      "execution_count": null,
      "outputs": []
    },
    {
      "cell_type": "code",
      "source": [
        "submission_df.columns"
      ],
      "metadata": {
        "execution": {
          "iopub.status.busy": "2021-12-29T13:40:25.443805Z",
          "iopub.status.idle": "2021-12-29T13:40:25.444177Z"
        },
        "trusted": true,
        "id": "sd0i9B_LmQHi"
      },
      "execution_count": null,
      "outputs": []
    },
    {
      "cell_type": "code",
      "source": [
        "#submission_df.columns = ['id'] + ['F' + str(x) for x in range(1, 29)]\n",
        "#submission_df"
      ],
      "metadata": {
        "execution": {
          "iopub.status.busy": "2021-12-29T13:40:25.445245Z",
          "iopub.status.idle": "2021-12-29T13:40:25.44561Z"
        },
        "trusted": true,
        "id": "Y2J0DIZUmQHi"
      },
      "execution_count": null,
      "outputs": []
    },
    {
      "cell_type": "markdown",
      "source": [
        "### WRMSSE Error Calculation on Prediction"
      ],
      "metadata": {
        "id": "5NO7QYlsmQHi"
      }
    },
    {
      "cell_type": "code",
      "source": [
        "#DAYS_PRED = 28\n",
        "dayCols = [\"d_{}\".format(i) for i in range(1914-DAYS_PRED, 1914)]\n",
        "y_true = train_sales_df[dayCols]"
      ],
      "metadata": {
        "execution": {
          "iopub.status.busy": "2021-12-29T13:40:25.446653Z",
          "iopub.status.idle": "2021-12-29T13:40:25.447054Z"
        },
        "trusted": true,
        "id": "3d9cJMZDmQHj"
      },
      "execution_count": null,
      "outputs": []
    },
    {
      "cell_type": "code",
      "source": [
        "df_valid_w = df_valid.drop('id', 1)\n",
        "for col in df_valid_w.columns:\n",
        "    df_valid_w[col] = pd.to_numeric(df_valid_w[col], errors='coerce')#.convert_dtypes() cp95 solution recommends using convertdtypes if nan present"
      ],
      "metadata": {
        "execution": {
          "iopub.status.busy": "2021-12-29T13:40:25.448045Z",
          "iopub.status.idle": "2021-12-29T13:40:25.448488Z"
        },
        "trusted": true,
        "id": "UIY_QOAbmQHj"
      },
      "execution_count": null,
      "outputs": []
    },
    {
      "cell_type": "code",
      "source": [
        "wrmsse(y_true, df_valid_w, score_only=True)"
      ],
      "metadata": {
        "execution": {
          "iopub.status.busy": "2021-12-29T13:40:25.449507Z",
          "iopub.status.idle": "2021-12-29T13:40:25.450014Z"
        },
        "trusted": true,
        "id": "MOQvUcCWmQHj"
      },
      "execution_count": null,
      "outputs": []
    },
    {
      "cell_type": "markdown",
      "source": [
        "### Final Submission File Preparation"
      ],
      "metadata": {
        "id": "rssdFxvqmQHj"
      }
    },
    {
      "cell_type": "code",
      "source": [
        "# Fix negative forecast\n",
        "num = submission_df._get_numeric_data()\n",
        "num[num < 0] = 0\n",
        "# Prepare the submission file\n",
        "submission_df.to_csv('submission.csv', index=False)\n",
        "\n",
        "print(f'Submission shape: {submission_df.shape}')"
      ],
      "metadata": {
        "execution": {
          "iopub.status.busy": "2021-12-29T13:40:25.451226Z",
          "iopub.status.idle": "2021-12-29T13:40:25.45192Z"
        },
        "trusted": true,
        "id": "jo4pUQIimQHk"
      },
      "execution_count": null,
      "outputs": []
    },
    {
      "cell_type": "code",
      "source": [
        "#kaggle competitions submit -c m5-forecasting-accuracy -f submission.csv -m \"from 450 to 600\""
      ],
      "metadata": {
        "execution": {
          "iopub.status.busy": "2021-12-29T13:40:25.452871Z",
          "iopub.status.idle": "2021-12-29T13:40:25.453294Z"
        },
        "trusted": true,
        "id": "vUBpkMx8mQHk"
      },
      "execution_count": null,
      "outputs": []
    },
    {
      "cell_type": "markdown",
      "source": [
        "The resullts will be compiled here :\n",
        "- First file with 50 ids prediction from 500 to 550 had an accuracy of 0.752\n",
        "- Second file with 260 (from 20 to 280) ids and holidays included had accuracy of 0.758\n",
        "- Third file with holidays removed, and 310 ids yields a public score of 0.754\n",
        "- Fourth file with simple moving average chosen yields a public leaderboard score of 1.082\n",
        "- Fifth file with product ids ranging from 350th to 1000th yielded a public leaderboard score of 0.7576\n",
        "- Sixth submission with product ids from 450th to 600th resulted in public leaderboard score of 0.7531\n",
        "- Seventh submission with product ids ranging from 15500th to 16000th gave a public leaderboard score 0.752\n",
        "- Eighth submission file with product ids ranging from 15500th to 17000th (almost 1500 product ids) using prophet forecast, resulted in public leaderboard score improvement for 0.738"
      ],
      "metadata": {
        "id": "Wy75tKBimQHk"
      }
    },
    {
      "cell_type": "markdown",
      "source": [
        "## Further Recommendations on Improvement\n",
        "\n",
        "Usingh the prophet model along with a general moving average prediction for rest of the ids not predicted using prophet model were used to make forecast for the next 28 days. However, the accuracy score from kaggle private leaderboard has come out to be around 0.73. There are a few other kernels that have described ways to improve this further\n",
        "\n",
        "Please Feel Free to Improve Upon this notebook and give your feedback\n",
        "\n",
        "- Run the model of prophet forecast for atleast 1/3rd of the all product ids to explore its potential of improving the forecast , using a fast machine.\n",
        "- Use another model implementation such as LightGBM, Convolution NN to improve the score\n",
        "- Make new features with rolling mean as well as a lag feature that have been observed to improve score when using models such as lightgbm"
      ],
      "metadata": {
        "id": "KxbzQJuhmQHk"
      }
    },
    {
      "cell_type": "markdown",
      "source": [
        "## References and Further Readings:\n",
        "\n",
        "Quite a few resources proved helpful while others that offered more opportunity for learning are mentioned below\n",
        "\n",
        "- https://www.statsmodels.org/dev/examples/notebooks/generated/statespace_sarimax_stata.html\n",
        "- https://www.machinelearningplus.com/time-series/arima-model-time-series-forecasting-python/\n",
        "- https://towardsdatascience.com/time-series-forecasting-a-getting-started-guide-c435f9fa2216\n",
        "- https://towardsdatascience.com/an-end-to-end-project-on-time-series-analysis-and-forecasting-with-python-4835e6bf050b\n",
        "- https://facebook.github.io/prophet/docs/diagnostics.html\n",
        "- https://www.baeldung.com/cs/mape-vs-wape-vs-wmape\n",
        "- https://www.kaggle.com/c/m5-forecasting-accuracy/discussion/144067\n",
        "- Special thanks to the kernel of TSURU https://www.kaggle.com/girmdshinsei/for-japanese-beginner-with-wrmsse-in-lgbm#WRMSSE-calculation\n",
        "- Specal thanks to the kernel of sibmike for making WRMSSE calculation faster https://www.kaggle.com/mubashir1/fast-clear-wrmsse-18ms/edit\n",
        "- https://www.kaggle.com/binhlc/forecasting-multiple-time-series-using-prophet\n",
        "- https://www.kaggle.com/tnmasui/m5-wrmsse-evaluation-dashboard"
      ],
      "metadata": {
        "id": "5IsaxnqMmQHk"
      }
    },
    {
      "cell_type": "code",
      "source": [],
      "metadata": {
        "id": "J0sgtoOFmQHk"
      },
      "execution_count": null,
      "outputs": []
    },
    {
      "cell_type": "markdown",
      "source": [
        "**=============++++++================**"
      ],
      "metadata": {
        "id": "2Mbowg0QmQHk"
      }
    }
  ]
}