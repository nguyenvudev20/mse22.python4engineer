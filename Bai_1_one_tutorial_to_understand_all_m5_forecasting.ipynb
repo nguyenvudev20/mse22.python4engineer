{
  "metadata": {
    "kernelspec": {
      "language": "python",
      "display_name": "Python 3",
      "name": "python3"
    },
    "language_info": {
      "pygments_lexer": "ipython3",
      "nbconvert_exporter": "python",
      "version": "3.6.4",
      "file_extension": ".py",
      "codemirror_mode": {
        "name": "ipython",
        "version": 3
      },
      "name": "python",
      "mimetype": "text/x-python"
    },
    "colab": {
      "provenance": [],
      "toc_visible": true,
      "include_colab_link": true
    }
  },
  "nbformat_minor": 0,
  "nbformat": 4,
  "cells": [
    {
      "cell_type": "markdown",
      "metadata": {
        "id": "view-in-github",
        "colab_type": "text"
      },
      "source": [
        "<a href=\"https://colab.research.google.com/github/nguyenvudev20/mse22.python4engineer/blob/main/Bai_1_one_tutorial_to_understand_all_m5_forecasting.ipynb\" target=\"_parent\"><img src=\"https://colab.research.google.com/assets/colab-badge.svg\" alt=\"Open In Colab\"/></a>"
      ]
    },
    {
      "cell_type": "markdown",
      "source": [
        "# **BÀI 1: Đọc hiểu  One Tutorial to Understand All (M5-Forecasting)**\n",
        "\n",
        "nguồn: [Kaggle](https://www.kaggle.com/code/mubashir1/one-tutorial-to-understand-all-m5-forecasting/notebook)"
      ],
      "metadata": {
        "id": "guZRp6ygmQEE"
      }
    },
    {
      "cell_type": "markdown",
      "source": [
        "### Giới thiệu:\n",
        "\n",
        "**M5-Forecasting** là cuộc thi được **Walmart** tổ chức nhằm dự đoán doanh số bán hàng trong 28 ngày tới với dữ liệu được **Walmart** cung cấp"
      ],
      "metadata": {
        "id": "IAIPN0wTmQEU"
      }
    },
    {
      "cell_type": "markdown",
      "source": [
        "## **Trong bài Tutorial giải quyết các vấn đề sau:**\n",
        "\n",
        "\n",
        "*   Phân bố các mặt hàng dựa trên danh mục sản phẩm?\n",
        "*   Tỷ trọng các danh mục sản phẩm trên các chi nhánh?\n",
        "*   Sản phẩm nào bán chạy nhất?\n",
        "*   Sản phẩm bán chạy nhất theo danh mục sản phẩm?\n",
        "\n",
        "\n"
      ],
      "metadata": {
        "id": "iondDwromQEW"
      }
    },
    {
      "cell_type": "markdown",
      "source": [
        "## Khởi tạo môi trường"
      ],
      "metadata": {
        "id": "Jm481DGL70VM"
      }
    },
    {
      "cell_type": "markdown",
      "source": [
        "### Cài đặt các thư viện chưa có để hỗ trợ"
      ],
      "metadata": {
        "id": "0b8oMJR1mQEa"
      }
    },
    {
      "cell_type": "code",
      "source": [
        "#dùng pip cài đặt thư viện kaggle để kết nối và tải dữ liệu về Olab\n",
        "!pip install -q kaggle "
      ],
      "metadata": {
        "id": "wpqD1nTCmQEc"
      },
      "execution_count": 1,
      "outputs": []
    },
    {
      "cell_type": "code",
      "source": [
        "# Phiên bản package của thư viện scipy trên kaggle yêu cầu bản 1.2 nên cần cài đặt lại Olab để phù hợp\n",
        "!pip3 install scipy==1.2.1\n",
        "scipy.__version__"
      ],
      "metadata": {
        "id": "ySWbcvMoncU2"
      },
      "execution_count": null,
      "outputs": []
    },
    {
      "cell_type": "markdown",
      "source": [
        "### Thêm các thư viện vào chương trình"
      ],
      "metadata": {
        "id": "1mz5-rupmQEd"
      }
    },
    {
      "cell_type": "code",
      "source": [
        "# Dự án chạy trên nền Python 3 và các thư viện hổ trợ tương ứng\n",
        "\n",
        "\n",
        "# thêm các thư viện cơ bản để xử lý \n",
        "import numpy as np\n",
        "import pandas as pd\n",
        "import matplotlib.pyplot as plt\n",
        "import time\n",
        "import math\n",
        "import datetime\n",
        "import os\n",
        "\n",
        "\n",
        "\n",
        "# thêm các thư viện xử lý\n",
        "from ipywidgets import widgets, interactive, interact\n",
        "import ipywidgets as widgets\n",
        "from IPython.display import display\n",
        "\n",
        "from math import log, floor\n",
        "from sklearn.neighbors import KDTree\n",
        "\n",
        "import seaborn as sns\n",
        "\n",
        "import plotly.express as px\n",
        "import plotly.graph_objects as go\n",
        "import plotly.figure_factory as ff\n",
        "from plotly.subplots import make_subplots\n",
        "\n",
        "import pywt\n",
        "from statsmodels.robust import mad\n",
        "\n",
        "import scipy\n",
        "import statsmodels\n",
        "from scipy import signal\n",
        "\n",
        "from statsmodels.tsa.arima_model import ARIMA\n",
        "from statsmodels.tsa.statespace.sarimax import SARIMAX\n",
        "from statsmodels.tsa.api import ExponentialSmoothing, SimpleExpSmoothing, Holt\n",
        "from statsmodels.tsa.stattools import adfuller\n",
        "\n",
        "import itertools\n",
        "from itertools import cycle\n",
        "plt.style.use('seaborn')\n",
        "color_cycle = cycle(plt.rcParams['axes.prop_cycle'].by_key()['color'])\n"
      ],
      "metadata": {
        "_uuid": "8f2839f25d086af736a60e9eeb907d3b93b6e0e5",
        "_cell_guid": "b1076dfc-b9ad-4769-8c92-a6c4dae69d19",
        "execution": {
          "iopub.status.busy": "2021-12-29T13:37:46.671299Z",
          "iopub.execute_input": "2021-12-29T13:37:46.671697Z",
          "iopub.status.idle": "2021-12-29T13:37:51.916881Z",
          "shell.execute_reply.started": "2021-12-29T13:37:46.671644Z",
          "shell.execute_reply": "2021-12-29T13:37:51.915301Z"
        },
        "trusted": true,
        "id": "4HXMvvgYmQEe"
      },
      "execution_count": null,
      "outputs": []
    },
    {
      "cell_type": "code",
      "source": [
        "# tạo các tham số môi trường cho api kaggle để kết nối tải file \n",
        "os.environ['KAGGLE_USERNAME'] = \"vunguyen2020\"\n",
        "os.environ['KAGGLE_KEY'] = \"ceaa092a89951b4d01485d4ee50cf382\"\n",
        "\n",
        "!kaggle competitions download -c m5-forecasting-accuracy #tải gói data cho bài tutorial từ kaggle dưới dạng zip file\n",
        "!mkdir kaggle #tạo folder để unzip file vừa tải\n",
        "!unzip /content/m5-forecasting-accuracy.zip -d kaggle #tiến hành unzip vào folder kaggle"
      ],
      "metadata": {
        "id": "FFBJkIZLn-zu"
      },
      "execution_count": null,
      "outputs": []
    },
    {
      "cell_type": "markdown",
      "source": [
        "### Tạo các tập dữ liệu"
      ],
      "metadata": {
        "id": "mtSfmEWNmQE_"
      }
    },
    {
      "cell_type": "code",
      "source": [
        "#thiết lập các data frame\n",
        "sell_prices_df = pd.read_csv('kaggle/sell_prices.csv') # data bán hàng theo cửa hàng và mã hàng\n",
        "calendar_df = pd.read_csv('kaggle/calendar.csv') #data về các ngày bán hàng cũng như các sự kiện\n",
        "submission_file = pd.read_csv('kaggle/sample_submission.csv') #data các nhãn để tạo doanh số bán hàng\n",
        "train_sales_df = pd.read_csv('kaggle/sales_train_validation.csv') # data bán hàng với nhiều chỉ số\n"
      ],
      "metadata": {
        "_uuid": "d629ff2d2480ee46fbb7e2d37f6b5fab8052498a",
        "_cell_guid": "79c7e3d0-c299-4dcb-8224-4455121ee9b0",
        "execution": {
          "iopub.status.busy": "2021-12-29T13:37:51.92067Z",
          "iopub.execute_input": "2021-12-29T13:37:51.921036Z",
          "iopub.status.idle": "2021-12-29T13:38:06.751183Z",
          "shell.execute_reply.started": "2021-12-29T13:37:51.92096Z",
          "shell.execute_reply": "2021-12-29T13:38:06.750278Z"
        },
        "trusted": true,
        "id": "BFdHK42KmQFB"
      },
      "execution_count": 5,
      "outputs": []
    },
    {
      "cell_type": "markdown",
      "source": [
        "### Xem thông tin các tập dữ liệu với lệnh info()"
      ],
      "metadata": {
        "id": "PGSEIVhrmQFD"
      }
    },
    {
      "cell_type": "code",
      "source": [
        "sell_prices_df.info()"
      ],
      "metadata": {
        "execution": {
          "iopub.status.busy": "2021-12-29T13:38:06.753019Z",
          "iopub.execute_input": "2021-12-29T13:38:06.753659Z",
          "iopub.status.idle": "2021-12-29T13:38:06.772391Z",
          "shell.execute_reply.started": "2021-12-29T13:38:06.753571Z",
          "shell.execute_reply": "2021-12-29T13:38:06.77121Z"
        },
        "trusted": true,
        "id": "l3Md2zV3mQFD"
      },
      "execution_count": null,
      "outputs": []
    },
    {
      "cell_type": "code",
      "source": [
        "train_sales_df.info()"
      ],
      "metadata": {
        "execution": {
          "iopub.status.busy": "2021-12-29T13:38:06.774324Z",
          "iopub.execute_input": "2021-12-29T13:38:06.774662Z",
          "iopub.status.idle": "2021-12-29T13:38:06.944259Z",
          "shell.execute_reply.started": "2021-12-29T13:38:06.774583Z",
          "shell.execute_reply": "2021-12-29T13:38:06.943158Z"
        },
        "trusted": true,
        "id": "lCZscZr_mQFE"
      },
      "execution_count": null,
      "outputs": []
    },
    {
      "cell_type": "code",
      "source": [
        "calendar_df.info()"
      ],
      "metadata": {
        "execution": {
          "iopub.status.busy": "2021-12-29T13:38:06.948278Z",
          "iopub.execute_input": "2021-12-29T13:38:06.948598Z",
          "iopub.status.idle": "2021-12-29T13:38:06.961482Z",
          "shell.execute_reply.started": "2021-12-29T13:38:06.948551Z",
          "shell.execute_reply": "2021-12-29T13:38:06.960493Z"
        },
        "trusted": true,
        "id": "waOSqWqMmQFE"
      },
      "execution_count": null,
      "outputs": []
    },
    {
      "cell_type": "code",
      "source": [
        "submission_file.info()"
      ],
      "metadata": {
        "id": "pACX3P1u6tUz"
      },
      "execution_count": null,
      "outputs": []
    },
    {
      "cell_type": "markdown",
      "source": [
        "### Thêm các cột dữ liệu vào dataframe train_sales_df để tiến hành phần tích\n"
      ],
      "metadata": {
        "id": "bUwu-_M6mQFf"
      }
    },
    {
      "cell_type": "code",
      "source": [
        "# Xem 3 hàng đầu tiên trong dataframe\n",
        "train_sales_df.head(3) "
      ],
      "metadata": {
        "execution": {
          "iopub.status.busy": "2021-12-29T13:38:06.964992Z",
          "iopub.execute_input": "2021-12-29T13:38:06.965298Z",
          "iopub.status.idle": "2021-12-29T13:38:07.011076Z",
          "shell.execute_reply.started": "2021-12-29T13:38:06.965257Z",
          "shell.execute_reply": "2021-12-29T13:38:07.009844Z"
        },
        "trusted": true,
        "id": "8AbvDfyemQFg"
      },
      "execution_count": null,
      "outputs": []
    },
    {
      "cell_type": "code",
      "source": [
        "d_cols = [c for c in train_sales_df.columns if 'd_' in c] # tạo danh mục các cột với tên bắt đầu là \"d_\"\n",
        "#d_cols\n",
        "#train_sales_df[d_cols]\n",
        "\n",
        "train_sales_df['total_sales_all_days'] = train_sales_df[d_cols].sum(axis = 1) # khởi tạo cột total_sales_all_days với giá trị là tổng doanh thu sản phẩm tất cã các ngày\n",
        "#train_sales_df.head(1)\n",
        "\n",
        "train_sales_df['avg_sales_all_days'] = train_sales_df[d_cols].mean(axis = 1) # khởi tạo cột avg_sales_all_days với giá trị là trung bình doanh thu sản phẩm tất cã các ngày\n",
        "#train_sales_df.head(1)\n",
        "\n",
        "train_sales_df['median_sales_all_days'] = train_sales_df[d_cols].median(axis = 1) # khởi tạo cột median_sales_all_days với giá trị là trung vị của doanh thu sản phẩm tất cã các ngày\n",
        "#train_sales_df.head(1)\n",
        "\n",
        "#train_sales_df.groupby(['id'])['total_sales_all_days'].sum().sort_values(ascending=False)  # tổng doanh thu của sản phẩm  được sắp xếp giảm dần\n",
        "\n"
      ],
      "metadata": {
        "execution": {
          "iopub.status.busy": "2021-12-29T13:38:07.013321Z",
          "iopub.execute_input": "2021-12-29T13:38:07.01378Z",
          "iopub.status.idle": "2021-12-29T13:38:09.343134Z",
          "shell.execute_reply.started": "2021-12-29T13:38:07.013699Z",
          "shell.execute_reply": "2021-12-29T13:38:09.341907Z"
        },
        "trusted": true,
        "id": "T_MpYP7wmQFh"
      },
      "execution_count": 7,
      "outputs": []
    },
    {
      "cell_type": "markdown",
      "source": [
        "## Tiến hành phân tích dữ liệu (EDA)"
      ],
      "metadata": {
        "id": "LoqqnAkPopZe"
      }
    },
    {
      "cell_type": "markdown",
      "source": [
        "### Thống kê sản phẩm\n",
        "---\n",
        "\n"
      ],
      "metadata": {
        "id": "aygZDo2NmQFi"
      }
    },
    {
      "cell_type": "markdown",
      "source": [
        "#### Thống kê sản phẩm bán ra theo danh mục sản phẩm"
      ],
      "metadata": {
        "id": "SsKF_cgjHMf2"
      }
    },
    {
      "cell_type": "code",
      "source": [
        "df = train_sales_df.groupby(['cat_id'])['id'].count().reset_index(name='total_entries') #tạo dataframe chứa thông tin Thống kê theo danh mục sản phẩm\n",
        "#print(df)\n",
        "# tạo biểu dồ dạng hình tròn\n",
        "fig = px.pie(df, values='total_entries', names='cat_id',\n",
        "            color_discrete_sequence=px.colors.sequential.RdBu,\n",
        "            width = 750, height=450, title = 'Thống kê sản phẩm theo danh mục')\n",
        "fig.update_traces(text = df['cat_id'].value_counts(), textinfo = 'label+percent')\n",
        "fig.show() # hiển thị biểu đồ"
      ],
      "metadata": {
        "execution": {
          "iopub.status.busy": "2021-12-29T13:38:09.345912Z",
          "iopub.execute_input": "2021-12-29T13:38:09.346358Z",
          "iopub.status.idle": "2021-12-29T13:38:12.478587Z",
          "shell.execute_reply.started": "2021-12-29T13:38:09.34628Z",
          "shell.execute_reply": "2021-12-29T13:38:12.4771Z"
        },
        "trusted": true,
        "id": "mVHnKyXMmQFi",
        "outputId": "fcb47414-de62-4901-f6d5-3e0dbfba233d",
        "colab": {
          "base_uri": "https://localhost:8080/",
          "height": 467
        }
      },
      "execution_count": 40,
      "outputs": [
        {
          "output_type": "display_data",
          "data": {
            "text/html": [
              "<html>\n",
              "<head><meta charset=\"utf-8\" /></head>\n",
              "<body>\n",
              "    <div>            <script src=\"https://cdnjs.cloudflare.com/ajax/libs/mathjax/2.7.5/MathJax.js?config=TeX-AMS-MML_SVG\"></script><script type=\"text/javascript\">if (window.MathJax) {MathJax.Hub.Config({SVG: {font: \"STIX-Web\"}});}</script>                <script type=\"text/javascript\">window.PlotlyConfig = {MathJaxConfig: 'local'};</script>\n",
              "        <script src=\"https://cdn.plot.ly/plotly-2.8.3.min.js\"></script>                <div id=\"8de12a64-c404-49d8-a181-119a2e956412\" class=\"plotly-graph-div\" style=\"height:450px; width:750px;\"></div>            <script type=\"text/javascript\">                                    window.PLOTLYENV=window.PLOTLYENV || {};                                    if (document.getElementById(\"8de12a64-c404-49d8-a181-119a2e956412\")) {                    Plotly.newPlot(                        \"8de12a64-c404-49d8-a181-119a2e956412\",                        [{\"domain\":{\"x\":[0.0,1.0],\"y\":[0.0,1.0]},\"hovertemplate\":\"cat_id=%{label}<br>total_entries=%{value}<extra></extra>\",\"labels\":[\"FOODS\",\"HOBBIES\",\"HOUSEHOLD\"],\"legendgroup\":\"\",\"name\":\"\",\"showlegend\":true,\"values\":[14370,5650,10470],\"type\":\"pie\",\"text\":[1,1,1],\"textinfo\":\"label+percent\"}],                        {\"template\":{\"data\":{\"bar\":[{\"error_x\":{\"color\":\"#2a3f5f\"},\"error_y\":{\"color\":\"#2a3f5f\"},\"marker\":{\"line\":{\"color\":\"#E5ECF6\",\"width\":0.5},\"pattern\":{\"fillmode\":\"overlay\",\"size\":10,\"solidity\":0.2}},\"type\":\"bar\"}],\"barpolar\":[{\"marker\":{\"line\":{\"color\":\"#E5ECF6\",\"width\":0.5},\"pattern\":{\"fillmode\":\"overlay\",\"size\":10,\"solidity\":0.2}},\"type\":\"barpolar\"}],\"carpet\":[{\"aaxis\":{\"endlinecolor\":\"#2a3f5f\",\"gridcolor\":\"white\",\"linecolor\":\"white\",\"minorgridcolor\":\"white\",\"startlinecolor\":\"#2a3f5f\"},\"baxis\":{\"endlinecolor\":\"#2a3f5f\",\"gridcolor\":\"white\",\"linecolor\":\"white\",\"minorgridcolor\":\"white\",\"startlinecolor\":\"#2a3f5f\"},\"type\":\"carpet\"}],\"choropleth\":[{\"colorbar\":{\"outlinewidth\":0,\"ticks\":\"\"},\"type\":\"choropleth\"}],\"contour\":[{\"colorbar\":{\"outlinewidth\":0,\"ticks\":\"\"},\"colorscale\":[[0.0,\"#0d0887\"],[0.1111111111111111,\"#46039f\"],[0.2222222222222222,\"#7201a8\"],[0.3333333333333333,\"#9c179e\"],[0.4444444444444444,\"#bd3786\"],[0.5555555555555556,\"#d8576b\"],[0.6666666666666666,\"#ed7953\"],[0.7777777777777778,\"#fb9f3a\"],[0.8888888888888888,\"#fdca26\"],[1.0,\"#f0f921\"]],\"type\":\"contour\"}],\"contourcarpet\":[{\"colorbar\":{\"outlinewidth\":0,\"ticks\":\"\"},\"type\":\"contourcarpet\"}],\"heatmap\":[{\"colorbar\":{\"outlinewidth\":0,\"ticks\":\"\"},\"colorscale\":[[0.0,\"#0d0887\"],[0.1111111111111111,\"#46039f\"],[0.2222222222222222,\"#7201a8\"],[0.3333333333333333,\"#9c179e\"],[0.4444444444444444,\"#bd3786\"],[0.5555555555555556,\"#d8576b\"],[0.6666666666666666,\"#ed7953\"],[0.7777777777777778,\"#fb9f3a\"],[0.8888888888888888,\"#fdca26\"],[1.0,\"#f0f921\"]],\"type\":\"heatmap\"}],\"heatmapgl\":[{\"colorbar\":{\"outlinewidth\":0,\"ticks\":\"\"},\"colorscale\":[[0.0,\"#0d0887\"],[0.1111111111111111,\"#46039f\"],[0.2222222222222222,\"#7201a8\"],[0.3333333333333333,\"#9c179e\"],[0.4444444444444444,\"#bd3786\"],[0.5555555555555556,\"#d8576b\"],[0.6666666666666666,\"#ed7953\"],[0.7777777777777778,\"#fb9f3a\"],[0.8888888888888888,\"#fdca26\"],[1.0,\"#f0f921\"]],\"type\":\"heatmapgl\"}],\"histogram\":[{\"marker\":{\"pattern\":{\"fillmode\":\"overlay\",\"size\":10,\"solidity\":0.2}},\"type\":\"histogram\"}],\"histogram2d\":[{\"colorbar\":{\"outlinewidth\":0,\"ticks\":\"\"},\"colorscale\":[[0.0,\"#0d0887\"],[0.1111111111111111,\"#46039f\"],[0.2222222222222222,\"#7201a8\"],[0.3333333333333333,\"#9c179e\"],[0.4444444444444444,\"#bd3786\"],[0.5555555555555556,\"#d8576b\"],[0.6666666666666666,\"#ed7953\"],[0.7777777777777778,\"#fb9f3a\"],[0.8888888888888888,\"#fdca26\"],[1.0,\"#f0f921\"]],\"type\":\"histogram2d\"}],\"histogram2dcontour\":[{\"colorbar\":{\"outlinewidth\":0,\"ticks\":\"\"},\"colorscale\":[[0.0,\"#0d0887\"],[0.1111111111111111,\"#46039f\"],[0.2222222222222222,\"#7201a8\"],[0.3333333333333333,\"#9c179e\"],[0.4444444444444444,\"#bd3786\"],[0.5555555555555556,\"#d8576b\"],[0.6666666666666666,\"#ed7953\"],[0.7777777777777778,\"#fb9f3a\"],[0.8888888888888888,\"#fdca26\"],[1.0,\"#f0f921\"]],\"type\":\"histogram2dcontour\"}],\"mesh3d\":[{\"colorbar\":{\"outlinewidth\":0,\"ticks\":\"\"},\"type\":\"mesh3d\"}],\"parcoords\":[{\"line\":{\"colorbar\":{\"outlinewidth\":0,\"ticks\":\"\"}},\"type\":\"parcoords\"}],\"pie\":[{\"automargin\":true,\"type\":\"pie\"}],\"scatter\":[{\"marker\":{\"colorbar\":{\"outlinewidth\":0,\"ticks\":\"\"}},\"type\":\"scatter\"}],\"scatter3d\":[{\"line\":{\"colorbar\":{\"outlinewidth\":0,\"ticks\":\"\"}},\"marker\":{\"colorbar\":{\"outlinewidth\":0,\"ticks\":\"\"}},\"type\":\"scatter3d\"}],\"scattercarpet\":[{\"marker\":{\"colorbar\":{\"outlinewidth\":0,\"ticks\":\"\"}},\"type\":\"scattercarpet\"}],\"scattergeo\":[{\"marker\":{\"colorbar\":{\"outlinewidth\":0,\"ticks\":\"\"}},\"type\":\"scattergeo\"}],\"scattergl\":[{\"marker\":{\"colorbar\":{\"outlinewidth\":0,\"ticks\":\"\"}},\"type\":\"scattergl\"}],\"scattermapbox\":[{\"marker\":{\"colorbar\":{\"outlinewidth\":0,\"ticks\":\"\"}},\"type\":\"scattermapbox\"}],\"scatterpolar\":[{\"marker\":{\"colorbar\":{\"outlinewidth\":0,\"ticks\":\"\"}},\"type\":\"scatterpolar\"}],\"scatterpolargl\":[{\"marker\":{\"colorbar\":{\"outlinewidth\":0,\"ticks\":\"\"}},\"type\":\"scatterpolargl\"}],\"scatterternary\":[{\"marker\":{\"colorbar\":{\"outlinewidth\":0,\"ticks\":\"\"}},\"type\":\"scatterternary\"}],\"surface\":[{\"colorbar\":{\"outlinewidth\":0,\"ticks\":\"\"},\"colorscale\":[[0.0,\"#0d0887\"],[0.1111111111111111,\"#46039f\"],[0.2222222222222222,\"#7201a8\"],[0.3333333333333333,\"#9c179e\"],[0.4444444444444444,\"#bd3786\"],[0.5555555555555556,\"#d8576b\"],[0.6666666666666666,\"#ed7953\"],[0.7777777777777778,\"#fb9f3a\"],[0.8888888888888888,\"#fdca26\"],[1.0,\"#f0f921\"]],\"type\":\"surface\"}],\"table\":[{\"cells\":{\"fill\":{\"color\":\"#EBF0F8\"},\"line\":{\"color\":\"white\"}},\"header\":{\"fill\":{\"color\":\"#C8D4E3\"},\"line\":{\"color\":\"white\"}},\"type\":\"table\"}]},\"layout\":{\"annotationdefaults\":{\"arrowcolor\":\"#2a3f5f\",\"arrowhead\":0,\"arrowwidth\":1},\"autotypenumbers\":\"strict\",\"coloraxis\":{\"colorbar\":{\"outlinewidth\":0,\"ticks\":\"\"}},\"colorscale\":{\"diverging\":[[0,\"#8e0152\"],[0.1,\"#c51b7d\"],[0.2,\"#de77ae\"],[0.3,\"#f1b6da\"],[0.4,\"#fde0ef\"],[0.5,\"#f7f7f7\"],[0.6,\"#e6f5d0\"],[0.7,\"#b8e186\"],[0.8,\"#7fbc41\"],[0.9,\"#4d9221\"],[1,\"#276419\"]],\"sequential\":[[0.0,\"#0d0887\"],[0.1111111111111111,\"#46039f\"],[0.2222222222222222,\"#7201a8\"],[0.3333333333333333,\"#9c179e\"],[0.4444444444444444,\"#bd3786\"],[0.5555555555555556,\"#d8576b\"],[0.6666666666666666,\"#ed7953\"],[0.7777777777777778,\"#fb9f3a\"],[0.8888888888888888,\"#fdca26\"],[1.0,\"#f0f921\"]],\"sequentialminus\":[[0.0,\"#0d0887\"],[0.1111111111111111,\"#46039f\"],[0.2222222222222222,\"#7201a8\"],[0.3333333333333333,\"#9c179e\"],[0.4444444444444444,\"#bd3786\"],[0.5555555555555556,\"#d8576b\"],[0.6666666666666666,\"#ed7953\"],[0.7777777777777778,\"#fb9f3a\"],[0.8888888888888888,\"#fdca26\"],[1.0,\"#f0f921\"]]},\"colorway\":[\"#636efa\",\"#EF553B\",\"#00cc96\",\"#ab63fa\",\"#FFA15A\",\"#19d3f3\",\"#FF6692\",\"#B6E880\",\"#FF97FF\",\"#FECB52\"],\"font\":{\"color\":\"#2a3f5f\"},\"geo\":{\"bgcolor\":\"white\",\"lakecolor\":\"white\",\"landcolor\":\"#E5ECF6\",\"showlakes\":true,\"showland\":true,\"subunitcolor\":\"white\"},\"hoverlabel\":{\"align\":\"left\"},\"hovermode\":\"closest\",\"mapbox\":{\"style\":\"light\"},\"paper_bgcolor\":\"white\",\"plot_bgcolor\":\"#E5ECF6\",\"polar\":{\"angularaxis\":{\"gridcolor\":\"white\",\"linecolor\":\"white\",\"ticks\":\"\"},\"bgcolor\":\"#E5ECF6\",\"radialaxis\":{\"gridcolor\":\"white\",\"linecolor\":\"white\",\"ticks\":\"\"}},\"scene\":{\"xaxis\":{\"backgroundcolor\":\"#E5ECF6\",\"gridcolor\":\"white\",\"gridwidth\":2,\"linecolor\":\"white\",\"showbackground\":true,\"ticks\":\"\",\"zerolinecolor\":\"white\"},\"yaxis\":{\"backgroundcolor\":\"#E5ECF6\",\"gridcolor\":\"white\",\"gridwidth\":2,\"linecolor\":\"white\",\"showbackground\":true,\"ticks\":\"\",\"zerolinecolor\":\"white\"},\"zaxis\":{\"backgroundcolor\":\"#E5ECF6\",\"gridcolor\":\"white\",\"gridwidth\":2,\"linecolor\":\"white\",\"showbackground\":true,\"ticks\":\"\",\"zerolinecolor\":\"white\"}},\"shapedefaults\":{\"line\":{\"color\":\"#2a3f5f\"}},\"ternary\":{\"aaxis\":{\"gridcolor\":\"white\",\"linecolor\":\"white\",\"ticks\":\"\"},\"baxis\":{\"gridcolor\":\"white\",\"linecolor\":\"white\",\"ticks\":\"\"},\"bgcolor\":\"#E5ECF6\",\"caxis\":{\"gridcolor\":\"white\",\"linecolor\":\"white\",\"ticks\":\"\"}},\"title\":{\"x\":0.05},\"xaxis\":{\"automargin\":true,\"gridcolor\":\"white\",\"linecolor\":\"white\",\"ticks\":\"\",\"title\":{\"standoff\":15},\"zerolinecolor\":\"white\",\"zerolinewidth\":2},\"yaxis\":{\"automargin\":true,\"gridcolor\":\"white\",\"linecolor\":\"white\",\"ticks\":\"\",\"title\":{\"standoff\":15},\"zerolinecolor\":\"white\",\"zerolinewidth\":2}}},\"legend\":{\"tracegroupgap\":0},\"title\":{\"text\":\"Th\\u1ed1ng k\\u00ea s\\u1ea3n ph\\u1ea9m theo danh m\\u1ee5c\"},\"piecolorway\":[\"rgb(103,0,31)\",\"rgb(178,24,43)\",\"rgb(214,96,77)\",\"rgb(244,165,130)\",\"rgb(253,219,199)\",\"rgb(247,247,247)\",\"rgb(209,229,240)\",\"rgb(146,197,222)\",\"rgb(67,147,195)\",\"rgb(33,102,172)\",\"rgb(5,48,97)\"],\"height\":450,\"width\":750},                        {\"responsive\": true}                    ).then(function(){\n",
              "                            \n",
              "var gd = document.getElementById('8de12a64-c404-49d8-a181-119a2e956412');\n",
              "var x = new MutationObserver(function (mutations, observer) {{\n",
              "        var display = window.getComputedStyle(gd).display;\n",
              "        if (!display || display === 'none') {{\n",
              "            console.log([gd, 'removed!']);\n",
              "            Plotly.purge(gd);\n",
              "            observer.disconnect();\n",
              "        }}\n",
              "}});\n",
              "\n",
              "// Listen for the removal of the full notebook cells\n",
              "var notebookContainer = gd.closest('#notebook-container');\n",
              "if (notebookContainer) {{\n",
              "    x.observe(notebookContainer, {childList: true});\n",
              "}}\n",
              "\n",
              "// Listen for the clearing of the current output cell\n",
              "var outputEl = gd.closest('.output');\n",
              "if (outputEl) {{\n",
              "    x.observe(outputEl, {childList: true});\n",
              "}}\n",
              "\n",
              "                        })                };                            </script>        </div>\n",
              "</body>\n",
              "</html>"
            ]
          },
          "metadata": {}
        }
      ]
    },
    {
      "cell_type": "markdown",
      "source": [
        "*Dựa vào biểu đồ ta có thể thấy được rằng thực phẩm bán chạy nhất tiếp theo là đồ gia dụng và cuối cùng là đồ theo sở thích.*"
      ],
      "metadata": {
        "id": "qTeb7gvJmQFj"
      }
    },
    {
      "cell_type": "markdown",
      "source": [
        "#### Thống kê theo Bang ( trong dữ liệu được cung cấp chỉ có 3 bang là: CA,TX,WI)"
      ],
      "metadata": {
        "id": "-UJ3VEhxHTUN"
      }
    },
    {
      "cell_type": "code",
      "source": [
        "df = train_sales_df.groupby(['state_id'])['total_sales_all_days'].sum().reset_index() # tạo dataframe chứa Thống kê sản phẩm theo Bang\n",
        "# tạo biểu dồ dạng hình tròn\n",
        "fig = px.pie(df, values='total_sales_all_days', names='state_id', \n",
        "            color_discrete_sequence=px.colors.sequential.Aggrnyl,\n",
        "            width = 750, height=450, title = 'Thống kê sản phẩm phân bố theo bang')\n",
        "fig.update_traces(text = df['state_id'].value_counts(), textinfo = 'label+percent')\n",
        "fig.show() # hiển thị biểu đồ"
      ],
      "metadata": {
        "execution": {
          "iopub.status.busy": "2021-12-29T13:38:12.480555Z",
          "iopub.execute_input": "2021-12-29T13:38:12.480897Z",
          "iopub.status.idle": "2021-12-29T13:38:12.900685Z",
          "shell.execute_reply.started": "2021-12-29T13:38:12.480845Z",
          "shell.execute_reply": "2021-12-29T13:38:12.899779Z"
        },
        "trusted": true,
        "id": "MbrvSoF2mQFj",
        "outputId": "545d51d3-2ed2-4b0b-ceaa-475ec8e9cc1b",
        "colab": {
          "base_uri": "https://localhost:8080/",
          "height": 467
        }
      },
      "execution_count": 36,
      "outputs": [
        {
          "output_type": "display_data",
          "data": {
            "text/html": [
              "<html>\n",
              "<head><meta charset=\"utf-8\" /></head>\n",
              "<body>\n",
              "    <div>            <script src=\"https://cdnjs.cloudflare.com/ajax/libs/mathjax/2.7.5/MathJax.js?config=TeX-AMS-MML_SVG\"></script><script type=\"text/javascript\">if (window.MathJax) {MathJax.Hub.Config({SVG: {font: \"STIX-Web\"}});}</script>                <script type=\"text/javascript\">window.PlotlyConfig = {MathJaxConfig: 'local'};</script>\n",
              "        <script src=\"https://cdn.plot.ly/plotly-2.8.3.min.js\"></script>                <div id=\"ba0727c1-218c-40b9-bdc2-b09b2104eb0f\" class=\"plotly-graph-div\" style=\"height:450px; width:750px;\"></div>            <script type=\"text/javascript\">                                    window.PLOTLYENV=window.PLOTLYENV || {};                                    if (document.getElementById(\"ba0727c1-218c-40b9-bdc2-b09b2104eb0f\")) {                    Plotly.newPlot(                        \"ba0727c1-218c-40b9-bdc2-b09b2104eb0f\",                        [{\"domain\":{\"x\":[0.0,1.0],\"y\":[0.0,1.0]},\"hovertemplate\":\"state_id=%{label}<br>total_sales_all_days=%{value}<extra></extra>\",\"labels\":[\"CA\",\"TX\",\"WI\"],\"legendgroup\":\"\",\"name\":\"\",\"showlegend\":true,\"values\":[28675547,18899006,18120856],\"type\":\"pie\",\"text\":[1,1,1],\"textinfo\":\"label+percent\"}],                        {\"template\":{\"data\":{\"bar\":[{\"error_x\":{\"color\":\"#2a3f5f\"},\"error_y\":{\"color\":\"#2a3f5f\"},\"marker\":{\"line\":{\"color\":\"#E5ECF6\",\"width\":0.5},\"pattern\":{\"fillmode\":\"overlay\",\"size\":10,\"solidity\":0.2}},\"type\":\"bar\"}],\"barpolar\":[{\"marker\":{\"line\":{\"color\":\"#E5ECF6\",\"width\":0.5},\"pattern\":{\"fillmode\":\"overlay\",\"size\":10,\"solidity\":0.2}},\"type\":\"barpolar\"}],\"carpet\":[{\"aaxis\":{\"endlinecolor\":\"#2a3f5f\",\"gridcolor\":\"white\",\"linecolor\":\"white\",\"minorgridcolor\":\"white\",\"startlinecolor\":\"#2a3f5f\"},\"baxis\":{\"endlinecolor\":\"#2a3f5f\",\"gridcolor\":\"white\",\"linecolor\":\"white\",\"minorgridcolor\":\"white\",\"startlinecolor\":\"#2a3f5f\"},\"type\":\"carpet\"}],\"choropleth\":[{\"colorbar\":{\"outlinewidth\":0,\"ticks\":\"\"},\"type\":\"choropleth\"}],\"contour\":[{\"colorbar\":{\"outlinewidth\":0,\"ticks\":\"\"},\"colorscale\":[[0.0,\"#0d0887\"],[0.1111111111111111,\"#46039f\"],[0.2222222222222222,\"#7201a8\"],[0.3333333333333333,\"#9c179e\"],[0.4444444444444444,\"#bd3786\"],[0.5555555555555556,\"#d8576b\"],[0.6666666666666666,\"#ed7953\"],[0.7777777777777778,\"#fb9f3a\"],[0.8888888888888888,\"#fdca26\"],[1.0,\"#f0f921\"]],\"type\":\"contour\"}],\"contourcarpet\":[{\"colorbar\":{\"outlinewidth\":0,\"ticks\":\"\"},\"type\":\"contourcarpet\"}],\"heatmap\":[{\"colorbar\":{\"outlinewidth\":0,\"ticks\":\"\"},\"colorscale\":[[0.0,\"#0d0887\"],[0.1111111111111111,\"#46039f\"],[0.2222222222222222,\"#7201a8\"],[0.3333333333333333,\"#9c179e\"],[0.4444444444444444,\"#bd3786\"],[0.5555555555555556,\"#d8576b\"],[0.6666666666666666,\"#ed7953\"],[0.7777777777777778,\"#fb9f3a\"],[0.8888888888888888,\"#fdca26\"],[1.0,\"#f0f921\"]],\"type\":\"heatmap\"}],\"heatmapgl\":[{\"colorbar\":{\"outlinewidth\":0,\"ticks\":\"\"},\"colorscale\":[[0.0,\"#0d0887\"],[0.1111111111111111,\"#46039f\"],[0.2222222222222222,\"#7201a8\"],[0.3333333333333333,\"#9c179e\"],[0.4444444444444444,\"#bd3786\"],[0.5555555555555556,\"#d8576b\"],[0.6666666666666666,\"#ed7953\"],[0.7777777777777778,\"#fb9f3a\"],[0.8888888888888888,\"#fdca26\"],[1.0,\"#f0f921\"]],\"type\":\"heatmapgl\"}],\"histogram\":[{\"marker\":{\"pattern\":{\"fillmode\":\"overlay\",\"size\":10,\"solidity\":0.2}},\"type\":\"histogram\"}],\"histogram2d\":[{\"colorbar\":{\"outlinewidth\":0,\"ticks\":\"\"},\"colorscale\":[[0.0,\"#0d0887\"],[0.1111111111111111,\"#46039f\"],[0.2222222222222222,\"#7201a8\"],[0.3333333333333333,\"#9c179e\"],[0.4444444444444444,\"#bd3786\"],[0.5555555555555556,\"#d8576b\"],[0.6666666666666666,\"#ed7953\"],[0.7777777777777778,\"#fb9f3a\"],[0.8888888888888888,\"#fdca26\"],[1.0,\"#f0f921\"]],\"type\":\"histogram2d\"}],\"histogram2dcontour\":[{\"colorbar\":{\"outlinewidth\":0,\"ticks\":\"\"},\"colorscale\":[[0.0,\"#0d0887\"],[0.1111111111111111,\"#46039f\"],[0.2222222222222222,\"#7201a8\"],[0.3333333333333333,\"#9c179e\"],[0.4444444444444444,\"#bd3786\"],[0.5555555555555556,\"#d8576b\"],[0.6666666666666666,\"#ed7953\"],[0.7777777777777778,\"#fb9f3a\"],[0.8888888888888888,\"#fdca26\"],[1.0,\"#f0f921\"]],\"type\":\"histogram2dcontour\"}],\"mesh3d\":[{\"colorbar\":{\"outlinewidth\":0,\"ticks\":\"\"},\"type\":\"mesh3d\"}],\"parcoords\":[{\"line\":{\"colorbar\":{\"outlinewidth\":0,\"ticks\":\"\"}},\"type\":\"parcoords\"}],\"pie\":[{\"automargin\":true,\"type\":\"pie\"}],\"scatter\":[{\"marker\":{\"colorbar\":{\"outlinewidth\":0,\"ticks\":\"\"}},\"type\":\"scatter\"}],\"scatter3d\":[{\"line\":{\"colorbar\":{\"outlinewidth\":0,\"ticks\":\"\"}},\"marker\":{\"colorbar\":{\"outlinewidth\":0,\"ticks\":\"\"}},\"type\":\"scatter3d\"}],\"scattercarpet\":[{\"marker\":{\"colorbar\":{\"outlinewidth\":0,\"ticks\":\"\"}},\"type\":\"scattercarpet\"}],\"scattergeo\":[{\"marker\":{\"colorbar\":{\"outlinewidth\":0,\"ticks\":\"\"}},\"type\":\"scattergeo\"}],\"scattergl\":[{\"marker\":{\"colorbar\":{\"outlinewidth\":0,\"ticks\":\"\"}},\"type\":\"scattergl\"}],\"scattermapbox\":[{\"marker\":{\"colorbar\":{\"outlinewidth\":0,\"ticks\":\"\"}},\"type\":\"scattermapbox\"}],\"scatterpolar\":[{\"marker\":{\"colorbar\":{\"outlinewidth\":0,\"ticks\":\"\"}},\"type\":\"scatterpolar\"}],\"scatterpolargl\":[{\"marker\":{\"colorbar\":{\"outlinewidth\":0,\"ticks\":\"\"}},\"type\":\"scatterpolargl\"}],\"scatterternary\":[{\"marker\":{\"colorbar\":{\"outlinewidth\":0,\"ticks\":\"\"}},\"type\":\"scatterternary\"}],\"surface\":[{\"colorbar\":{\"outlinewidth\":0,\"ticks\":\"\"},\"colorscale\":[[0.0,\"#0d0887\"],[0.1111111111111111,\"#46039f\"],[0.2222222222222222,\"#7201a8\"],[0.3333333333333333,\"#9c179e\"],[0.4444444444444444,\"#bd3786\"],[0.5555555555555556,\"#d8576b\"],[0.6666666666666666,\"#ed7953\"],[0.7777777777777778,\"#fb9f3a\"],[0.8888888888888888,\"#fdca26\"],[1.0,\"#f0f921\"]],\"type\":\"surface\"}],\"table\":[{\"cells\":{\"fill\":{\"color\":\"#EBF0F8\"},\"line\":{\"color\":\"white\"}},\"header\":{\"fill\":{\"color\":\"#C8D4E3\"},\"line\":{\"color\":\"white\"}},\"type\":\"table\"}]},\"layout\":{\"annotationdefaults\":{\"arrowcolor\":\"#2a3f5f\",\"arrowhead\":0,\"arrowwidth\":1},\"autotypenumbers\":\"strict\",\"coloraxis\":{\"colorbar\":{\"outlinewidth\":0,\"ticks\":\"\"}},\"colorscale\":{\"diverging\":[[0,\"#8e0152\"],[0.1,\"#c51b7d\"],[0.2,\"#de77ae\"],[0.3,\"#f1b6da\"],[0.4,\"#fde0ef\"],[0.5,\"#f7f7f7\"],[0.6,\"#e6f5d0\"],[0.7,\"#b8e186\"],[0.8,\"#7fbc41\"],[0.9,\"#4d9221\"],[1,\"#276419\"]],\"sequential\":[[0.0,\"#0d0887\"],[0.1111111111111111,\"#46039f\"],[0.2222222222222222,\"#7201a8\"],[0.3333333333333333,\"#9c179e\"],[0.4444444444444444,\"#bd3786\"],[0.5555555555555556,\"#d8576b\"],[0.6666666666666666,\"#ed7953\"],[0.7777777777777778,\"#fb9f3a\"],[0.8888888888888888,\"#fdca26\"],[1.0,\"#f0f921\"]],\"sequentialminus\":[[0.0,\"#0d0887\"],[0.1111111111111111,\"#46039f\"],[0.2222222222222222,\"#7201a8\"],[0.3333333333333333,\"#9c179e\"],[0.4444444444444444,\"#bd3786\"],[0.5555555555555556,\"#d8576b\"],[0.6666666666666666,\"#ed7953\"],[0.7777777777777778,\"#fb9f3a\"],[0.8888888888888888,\"#fdca26\"],[1.0,\"#f0f921\"]]},\"colorway\":[\"#636efa\",\"#EF553B\",\"#00cc96\",\"#ab63fa\",\"#FFA15A\",\"#19d3f3\",\"#FF6692\",\"#B6E880\",\"#FF97FF\",\"#FECB52\"],\"font\":{\"color\":\"#2a3f5f\"},\"geo\":{\"bgcolor\":\"white\",\"lakecolor\":\"white\",\"landcolor\":\"#E5ECF6\",\"showlakes\":true,\"showland\":true,\"subunitcolor\":\"white\"},\"hoverlabel\":{\"align\":\"left\"},\"hovermode\":\"closest\",\"mapbox\":{\"style\":\"light\"},\"paper_bgcolor\":\"white\",\"plot_bgcolor\":\"#E5ECF6\",\"polar\":{\"angularaxis\":{\"gridcolor\":\"white\",\"linecolor\":\"white\",\"ticks\":\"\"},\"bgcolor\":\"#E5ECF6\",\"radialaxis\":{\"gridcolor\":\"white\",\"linecolor\":\"white\",\"ticks\":\"\"}},\"scene\":{\"xaxis\":{\"backgroundcolor\":\"#E5ECF6\",\"gridcolor\":\"white\",\"gridwidth\":2,\"linecolor\":\"white\",\"showbackground\":true,\"ticks\":\"\",\"zerolinecolor\":\"white\"},\"yaxis\":{\"backgroundcolor\":\"#E5ECF6\",\"gridcolor\":\"white\",\"gridwidth\":2,\"linecolor\":\"white\",\"showbackground\":true,\"ticks\":\"\",\"zerolinecolor\":\"white\"},\"zaxis\":{\"backgroundcolor\":\"#E5ECF6\",\"gridcolor\":\"white\",\"gridwidth\":2,\"linecolor\":\"white\",\"showbackground\":true,\"ticks\":\"\",\"zerolinecolor\":\"white\"}},\"shapedefaults\":{\"line\":{\"color\":\"#2a3f5f\"}},\"ternary\":{\"aaxis\":{\"gridcolor\":\"white\",\"linecolor\":\"white\",\"ticks\":\"\"},\"baxis\":{\"gridcolor\":\"white\",\"linecolor\":\"white\",\"ticks\":\"\"},\"bgcolor\":\"#E5ECF6\",\"caxis\":{\"gridcolor\":\"white\",\"linecolor\":\"white\",\"ticks\":\"\"}},\"title\":{\"x\":0.05},\"xaxis\":{\"automargin\":true,\"gridcolor\":\"white\",\"linecolor\":\"white\",\"ticks\":\"\",\"title\":{\"standoff\":15},\"zerolinecolor\":\"white\",\"zerolinewidth\":2},\"yaxis\":{\"automargin\":true,\"gridcolor\":\"white\",\"linecolor\":\"white\",\"ticks\":\"\",\"title\":{\"standoff\":15},\"zerolinecolor\":\"white\",\"zerolinewidth\":2}}},\"legend\":{\"tracegroupgap\":0},\"title\":{\"text\":\"Danh s\\u1ed1 s\\u1ea3n ph\\u1ea9m ph\\u00e2n b\\u1ed1 theo bang\"},\"piecolorway\":[\"rgb(36, 86, 104)\",\"rgb(15, 114, 121)\",\"rgb(13, 143, 129)\",\"rgb(57, 171, 126)\",\"rgb(110, 197, 116)\",\"rgb(169, 220, 103)\",\"rgb(237, 239, 93)\"],\"height\":450,\"width\":750},                        {\"responsive\": true}                    ).then(function(){\n",
              "                            \n",
              "var gd = document.getElementById('ba0727c1-218c-40b9-bdc2-b09b2104eb0f');\n",
              "var x = new MutationObserver(function (mutations, observer) {{\n",
              "        var display = window.getComputedStyle(gd).display;\n",
              "        if (!display || display === 'none') {{\n",
              "            console.log([gd, 'removed!']);\n",
              "            Plotly.purge(gd);\n",
              "            observer.disconnect();\n",
              "        }}\n",
              "}});\n",
              "\n",
              "// Listen for the removal of the full notebook cells\n",
              "var notebookContainer = gd.closest('#notebook-container');\n",
              "if (notebookContainer) {{\n",
              "    x.observe(notebookContainer, {childList: true});\n",
              "}}\n",
              "\n",
              "// Listen for the clearing of the current output cell\n",
              "var outputEl = gd.closest('.output');\n",
              "if (outputEl) {{\n",
              "    x.observe(outputEl, {childList: true});\n",
              "}}\n",
              "\n",
              "                        })                };                            </script>        </div>\n",
              "</body>\n",
              "</html>"
            ]
          },
          "metadata": {}
        }
      ]
    },
    {
      "cell_type": "markdown",
      "source": [
        "Dựa vào biểu đồ ta thấy CA chiếu tỷ trọng cao nhất trong 3 bang tiếp theo là TX và WI"
      ],
      "metadata": {
        "id": "uPdLHb1tmQFk"
      }
    },
    {
      "cell_type": "markdown",
      "source": [
        "#### Dùng biểu đồ hình cột để thể hiện tổng thể các chỉ số Thống kê theo danh mục và theo Bang"
      ],
      "metadata": {
        "id": "DqeE9APBJ_kp"
      }
    },
    {
      "cell_type": "code",
      "source": [
        "df1 = train_sales_df.groupby(['cat_id'])['id'].count().reset_index(name='total_entries') #tạo dataframe chứa thông tin Thống kê theo danh mục sản phẩm\n",
        "#print(df1)\n",
        "df2 = train_sales_df.groupby(['cat_id', 'state_id'])['total_sales_all_days'].sum().reset_index() # tạo dataframe chứa Thống kê sản phẩm theo Bang\n",
        "#print(df2)"
      ],
      "metadata": {
        "execution": {
          "iopub.status.busy": "2021-12-29T13:38:12.902126Z",
          "iopub.execute_input": "2021-12-29T13:38:12.902408Z",
          "iopub.status.idle": "2021-12-29T13:38:12.934046Z",
          "shell.execute_reply.started": "2021-12-29T13:38:12.902354Z",
          "shell.execute_reply": "2021-12-29T13:38:12.932769Z"
        },
        "trusted": true,
        "id": "yKM-uY36mQFk"
      },
      "execution_count": null,
      "outputs": []
    },
    {
      "cell_type": "code",
      "source": [
        "# tạo biểu đồ hình cột sử dụng thư viện seaborn\n",
        "sns.set_style('whitegrid')\n",
        "sns.axes_style(style='ticks')\n",
        "\n",
        "fig, (ax1, ax2) = plt.subplots(1,2, figsize=(14,5))\n",
        "\n",
        "#biêu đồ thống kê theo danh mục sản phẩm\n",
        "sns.barplot(x = 'cat_id', y='total_entries', data=df1, \n",
        "            palette='mako', ax=ax1)\n",
        "#biểu đồ thống kê theo danh danh mục sản phẩm và phân bố theo Bang\n",
        "sns.barplot(x = 'cat_id', y='total_sales_all_days', hue='state_id', data=df2, \n",
        "            palette='magma', ax=ax2)\n",
        "\n",
        "plt.xticks(rotation=90)\n",
        "plt.show()"
      ],
      "metadata": {
        "execution": {
          "iopub.status.busy": "2021-12-29T13:38:12.935652Z",
          "iopub.execute_input": "2021-12-29T13:38:12.935987Z",
          "iopub.status.idle": "2021-12-29T13:38:13.573562Z",
          "shell.execute_reply.started": "2021-12-29T13:38:12.935934Z",
          "shell.execute_reply": "2021-12-29T13:38:13.572468Z"
        },
        "trusted": true,
        "id": "flQ7JLHAmQFl",
        "outputId": "6afbe2c0-2d6b-4eed-aa0a-0d88b807d3a8",
        "colab": {
          "base_uri": "https://localhost:8080/",
          "height": 399
        }
      },
      "execution_count": 42,
      "outputs": [
        {
          "output_type": "display_data",
          "data": {
            "text/plain": [
              "<Figure size 1008x360 with 2 Axes>"
            ],
            "image/png": "[encoded data removed]"
          },
          "metadata": {}
        }
      ]
    },
    {
      "cell_type": "markdown",
      "source": [
        "#### Thống kê sản phẩm phân bố theo danh mục và theo từng cửa hàng ở các Bang"
      ],
      "metadata": {
        "id": "qCEIuZAcLWhN"
      }
    },
    {
      "cell_type": "code",
      "source": [
        "df3 = train_sales_df.groupby(['cat_id', 'store_id'])['total_sales_all_days'].sum().reset_index()"
      ],
      "metadata": {
        "execution": {
          "iopub.status.busy": "2021-12-29T13:38:13.575046Z",
          "iopub.execute_input": "2021-12-29T13:38:13.575298Z",
          "iopub.status.idle": "2021-12-29T13:38:13.580331Z",
          "shell.execute_reply.started": "2021-12-29T13:38:13.575262Z",
          "shell.execute_reply": "2021-12-29T13:38:13.579566Z"
        },
        "trusted": true,
        "id": "ztvcpfJUmQFm"
      },
      "execution_count": 43,
      "outputs": []
    },
    {
      "cell_type": "code",
      "source": [
        "#sns.set_style('whitegrid')\n",
        "#sns.axes_style(style='ticks')\n",
        "fig, ax1 = plt.subplots(figsize=(14,5))\n",
        "\n",
        "sns.barplot(x = 'store_id', y='total_sales_all_days', hue='cat_id', data=df3, \n",
        "            palette='afmhot', ax=ax1)\n",
        "\n",
        "plt.xticks(rotation=90)\n",
        "plt.show()"
      ],
      "metadata": {
        "execution": {
          "iopub.status.busy": "2021-12-29T13:38:13.581767Z",
          "iopub.execute_input": "2021-12-29T13:38:13.582044Z",
          "iopub.status.idle": "2021-12-29T13:38:13.593526Z",
          "shell.execute_reply.started": "2021-12-29T13:38:13.581997Z",
          "shell.execute_reply": "2021-12-29T13:38:13.59219Z"
        },
        "trusted": true,
        "id": "_z5eUVfImQFn",
        "colab": {
          "base_uri": "https://localhost:8080/",
          "height": 361
        },
        "outputId": "4f14cc98-1f1b-4dc6-893a-1d02f4d4efef"
      },
      "execution_count": 44,
      "outputs": [
        {
          "output_type": "display_data",
          "data": {
            "text/plain": [
              "<Figure size 1008x360 with 1 Axes>"
            ],
            "image/png": "[encoded data removed]"
          },
          "metadata": {}
        }
      ]
    },
    {
      "cell_type": "markdown",
      "source": [
        "#### Thống kê sản phẩm theo từng Bang"
      ],
      "metadata": {
        "id": "AyUc56rBmQFo"
      }
    },
    {
      "cell_type": "code",
      "source": [
        "df = train_sales_df.groupby(['state_id', 'cat_id'])['id'].count().reset_index(name='num_sales_by_category')\n",
        "fig = px.bar(df, x=\"state_id\", y=\"num_sales_by_category\", \n",
        "             color=\"cat_id\", title=\"Thống kê sản phẩm theo từng nhóm và từng Bang\")\n",
        "fig.show()"
      ],
      "metadata": {
        "execution": {
          "iopub.status.busy": "2021-12-29T13:38:13.595217Z",
          "iopub.execute_input": "2021-12-29T13:38:13.59574Z",
          "iopub.status.idle": "2021-12-29T13:38:14.301056Z",
          "shell.execute_reply.started": "2021-12-29T13:38:13.59569Z",
          "shell.execute_reply": "2021-12-29T13:38:14.300155Z"
        },
        "trusted": true,
        "id": "0PrYMCBymQFy",
        "outputId": "0783d9f1-9b25-45cd-d48f-5b85bbb2d303",
        "colab": {
          "base_uri": "https://localhost:8080/",
          "height": 542
        }
      },
      "execution_count": 45,
      "outputs": [
        {
          "output_type": "display_data",
          "data": {
            "text/html": [
              "<html>\n",
              "<head><meta charset=\"utf-8\" /></head>\n",
              "<body>\n",
              "    <div>            <script src=\"https://cdnjs.cloudflare.com/ajax/libs/mathjax/2.7.5/MathJax.js?config=TeX-AMS-MML_SVG\"></script><script type=\"text/javascript\">if (window.MathJax) {MathJax.Hub.Config({SVG: {font: \"STIX-Web\"}});}</script>                <script type=\"text/javascript\">window.PlotlyConfig = {MathJaxConfig: 'local'};</script>\n",
              "        <script src=\"https://cdn.plot.ly/plotly-2.8.3.min.js\"></script>                <div id=\"73df52a4-233a-4da4-964f-cfe10631f61d\" class=\"plotly-graph-div\" style=\"height:525px; width:100%;\"></div>            <script type=\"text/javascript\">                                    window.PLOTLYENV=window.PLOTLYENV || {};                                    if (document.getElementById(\"73df52a4-233a-4da4-964f-cfe10631f61d\")) {                    Plotly.newPlot(                        \"73df52a4-233a-4da4-964f-cfe10631f61d\",                        [{\"alignmentgroup\":\"True\",\"hovertemplate\":\"cat_id=FOODS<br>state_id=%{x}<br>num_sales_by_category=%{y}<extra></extra>\",\"legendgroup\":\"FOODS\",\"marker\":{\"color\":\"#636efa\",\"pattern\":{\"shape\":\"\"}},\"name\":\"FOODS\",\"offsetgroup\":\"FOODS\",\"orientation\":\"v\",\"showlegend\":true,\"textposition\":\"auto\",\"x\":[\"CA\",\"TX\",\"WI\"],\"xaxis\":\"x\",\"y\":[5748,4311,4311],\"yaxis\":\"y\",\"type\":\"bar\"},{\"alignmentgroup\":\"True\",\"hovertemplate\":\"cat_id=HOBBIES<br>state_id=%{x}<br>num_sales_by_category=%{y}<extra></extra>\",\"legendgroup\":\"HOBBIES\",\"marker\":{\"color\":\"#EF553B\",\"pattern\":{\"shape\":\"\"}},\"name\":\"HOBBIES\",\"offsetgroup\":\"HOBBIES\",\"orientation\":\"v\",\"showlegend\":true,\"textposition\":\"auto\",\"x\":[\"CA\",\"TX\",\"WI\"],\"xaxis\":\"x\",\"y\":[2260,1695,1695],\"yaxis\":\"y\",\"type\":\"bar\"},{\"alignmentgroup\":\"True\",\"hovertemplate\":\"cat_id=HOUSEHOLD<br>state_id=%{x}<br>num_sales_by_category=%{y}<extra></extra>\",\"legendgroup\":\"HOUSEHOLD\",\"marker\":{\"color\":\"#00cc96\",\"pattern\":{\"shape\":\"\"}},\"name\":\"HOUSEHOLD\",\"offsetgroup\":\"HOUSEHOLD\",\"orientation\":\"v\",\"showlegend\":true,\"textposition\":\"auto\",\"x\":[\"CA\",\"TX\",\"WI\"],\"xaxis\":\"x\",\"y\":[4188,3141,3141],\"yaxis\":\"y\",\"type\":\"bar\"}],                        {\"template\":{\"data\":{\"bar\":[{\"error_x\":{\"color\":\"#2a3f5f\"},\"error_y\":{\"color\":\"#2a3f5f\"},\"marker\":{\"line\":{\"color\":\"#E5ECF6\",\"width\":0.5},\"pattern\":{\"fillmode\":\"overlay\",\"size\":10,\"solidity\":0.2}},\"type\":\"bar\"}],\"barpolar\":[{\"marker\":{\"line\":{\"color\":\"#E5ECF6\",\"width\":0.5},\"pattern\":{\"fillmode\":\"overlay\",\"size\":10,\"solidity\":0.2}},\"type\":\"barpolar\"}],\"carpet\":[{\"aaxis\":{\"endlinecolor\":\"#2a3f5f\",\"gridcolor\":\"white\",\"linecolor\":\"white\",\"minorgridcolor\":\"white\",\"startlinecolor\":\"#2a3f5f\"},\"baxis\":{\"endlinecolor\":\"#2a3f5f\",\"gridcolor\":\"white\",\"linecolor\":\"white\",\"minorgridcolor\":\"white\",\"startlinecolor\":\"#2a3f5f\"},\"type\":\"carpet\"}],\"choropleth\":[{\"colorbar\":{\"outlinewidth\":0,\"ticks\":\"\"},\"type\":\"choropleth\"}],\"contour\":[{\"colorbar\":{\"outlinewidth\":0,\"ticks\":\"\"},\"colorscale\":[[0.0,\"#0d0887\"],[0.1111111111111111,\"#46039f\"],[0.2222222222222222,\"#7201a8\"],[0.3333333333333333,\"#9c179e\"],[0.4444444444444444,\"#bd3786\"],[0.5555555555555556,\"#d8576b\"],[0.6666666666666666,\"#ed7953\"],[0.7777777777777778,\"#fb9f3a\"],[0.8888888888888888,\"#fdca26\"],[1.0,\"#f0f921\"]],\"type\":\"contour\"}],\"contourcarpet\":[{\"colorbar\":{\"outlinewidth\":0,\"ticks\":\"\"},\"type\":\"contourcarpet\"}],\"heatmap\":[{\"colorbar\":{\"outlinewidth\":0,\"ticks\":\"\"},\"colorscale\":[[0.0,\"#0d0887\"],[0.1111111111111111,\"#46039f\"],[0.2222222222222222,\"#7201a8\"],[0.3333333333333333,\"#9c179e\"],[0.4444444444444444,\"#bd3786\"],[0.5555555555555556,\"#d8576b\"],[0.6666666666666666,\"#ed7953\"],[0.7777777777777778,\"#fb9f3a\"],[0.8888888888888888,\"#fdca26\"],[1.0,\"#f0f921\"]],\"type\":\"heatmap\"}],\"heatmapgl\":[{\"colorbar\":{\"outlinewidth\":0,\"ticks\":\"\"},\"colorscale\":[[0.0,\"#0d0887\"],[0.1111111111111111,\"#46039f\"],[0.2222222222222222,\"#7201a8\"],[0.3333333333333333,\"#9c179e\"],[0.4444444444444444,\"#bd3786\"],[0.5555555555555556,\"#d8576b\"],[0.6666666666666666,\"#ed7953\"],[0.7777777777777778,\"#fb9f3a\"],[0.8888888888888888,\"#fdca26\"],[1.0,\"#f0f921\"]],\"type\":\"heatmapgl\"}],\"histogram\":[{\"marker\":{\"pattern\":{\"fillmode\":\"overlay\",\"size\":10,\"solidity\":0.2}},\"type\":\"histogram\"}],\"histogram2d\":[{\"colorbar\":{\"outlinewidth\":0,\"ticks\":\"\"},\"colorscale\":[[0.0,\"#0d0887\"],[0.1111111111111111,\"#46039f\"],[0.2222222222222222,\"#7201a8\"],[0.3333333333333333,\"#9c179e\"],[0.4444444444444444,\"#bd3786\"],[0.5555555555555556,\"#d8576b\"],[0.6666666666666666,\"#ed7953\"],[0.7777777777777778,\"#fb9f3a\"],[0.8888888888888888,\"#fdca26\"],[1.0,\"#f0f921\"]],\"type\":\"histogram2d\"}],\"histogram2dcontour\":[{\"colorbar\":{\"outlinewidth\":0,\"ticks\":\"\"},\"colorscale\":[[0.0,\"#0d0887\"],[0.1111111111111111,\"#46039f\"],[0.2222222222222222,\"#7201a8\"],[0.3333333333333333,\"#9c179e\"],[0.4444444444444444,\"#bd3786\"],[0.5555555555555556,\"#d8576b\"],[0.6666666666666666,\"#ed7953\"],[0.7777777777777778,\"#fb9f3a\"],[0.8888888888888888,\"#fdca26\"],[1.0,\"#f0f921\"]],\"type\":\"histogram2dcontour\"}],\"mesh3d\":[{\"colorbar\":{\"outlinewidth\":0,\"ticks\":\"\"},\"type\":\"mesh3d\"}],\"parcoords\":[{\"line\":{\"colorbar\":{\"outlinewidth\":0,\"ticks\":\"\"}},\"type\":\"parcoords\"}],\"pie\":[{\"automargin\":true,\"type\":\"pie\"}],\"scatter\":[{\"marker\":{\"colorbar\":{\"outlinewidth\":0,\"ticks\":\"\"}},\"type\":\"scatter\"}],\"scatter3d\":[{\"line\":{\"colorbar\":{\"outlinewidth\":0,\"ticks\":\"\"}},\"marker\":{\"colorbar\":{\"outlinewidth\":0,\"ticks\":\"\"}},\"type\":\"scatter3d\"}],\"scattercarpet\":[{\"marker\":{\"colorbar\":{\"outlinewidth\":0,\"ticks\":\"\"}},\"type\":\"scattercarpet\"}],\"scattergeo\":[{\"marker\":{\"colorbar\":{\"outlinewidth\":0,\"ticks\":\"\"}},\"type\":\"scattergeo\"}],\"scattergl\":[{\"marker\":{\"colorbar\":{\"outlinewidth\":0,\"ticks\":\"\"}},\"type\":\"scattergl\"}],\"scattermapbox\":[{\"marker\":{\"colorbar\":{\"outlinewidth\":0,\"ticks\":\"\"}},\"type\":\"scattermapbox\"}],\"scatterpolar\":[{\"marker\":{\"colorbar\":{\"outlinewidth\":0,\"ticks\":\"\"}},\"type\":\"scatterpolar\"}],\"scatterpolargl\":[{\"marker\":{\"colorbar\":{\"outlinewidth\":0,\"ticks\":\"\"}},\"type\":\"scatterpolargl\"}],\"scatterternary\":[{\"marker\":{\"colorbar\":{\"outlinewidth\":0,\"ticks\":\"\"}},\"type\":\"scatterternary\"}],\"surface\":[{\"colorbar\":{\"outlinewidth\":0,\"ticks\":\"\"},\"colorscale\":[[0.0,\"#0d0887\"],[0.1111111111111111,\"#46039f\"],[0.2222222222222222,\"#7201a8\"],[0.3333333333333333,\"#9c179e\"],[0.4444444444444444,\"#bd3786\"],[0.5555555555555556,\"#d8576b\"],[0.6666666666666666,\"#ed7953\"],[0.7777777777777778,\"#fb9f3a\"],[0.8888888888888888,\"#fdca26\"],[1.0,\"#f0f921\"]],\"type\":\"surface\"}],\"table\":[{\"cells\":{\"fill\":{\"color\":\"#EBF0F8\"},\"line\":{\"color\":\"white\"}},\"header\":{\"fill\":{\"color\":\"#C8D4E3\"},\"line\":{\"color\":\"white\"}},\"type\":\"table\"}]},\"layout\":{\"annotationdefaults\":{\"arrowcolor\":\"#2a3f5f\",\"arrowhead\":0,\"arrowwidth\":1},\"autotypenumbers\":\"strict\",\"coloraxis\":{\"colorbar\":{\"outlinewidth\":0,\"ticks\":\"\"}},\"colorscale\":{\"diverging\":[[0,\"#8e0152\"],[0.1,\"#c51b7d\"],[0.2,\"#de77ae\"],[0.3,\"#f1b6da\"],[0.4,\"#fde0ef\"],[0.5,\"#f7f7f7\"],[0.6,\"#e6f5d0\"],[0.7,\"#b8e186\"],[0.8,\"#7fbc41\"],[0.9,\"#4d9221\"],[1,\"#276419\"]],\"sequential\":[[0.0,\"#0d0887\"],[0.1111111111111111,\"#46039f\"],[0.2222222222222222,\"#7201a8\"],[0.3333333333333333,\"#9c179e\"],[0.4444444444444444,\"#bd3786\"],[0.5555555555555556,\"#d8576b\"],[0.6666666666666666,\"#ed7953\"],[0.7777777777777778,\"#fb9f3a\"],[0.8888888888888888,\"#fdca26\"],[1.0,\"#f0f921\"]],\"sequentialminus\":[[0.0,\"#0d0887\"],[0.1111111111111111,\"#46039f\"],[0.2222222222222222,\"#7201a8\"],[0.3333333333333333,\"#9c179e\"],[0.4444444444444444,\"#bd3786\"],[0.5555555555555556,\"#d8576b\"],[0.6666666666666666,\"#ed7953\"],[0.7777777777777778,\"#fb9f3a\"],[0.8888888888888888,\"#fdca26\"],[1.0,\"#f0f921\"]]},\"colorway\":[\"#636efa\",\"#EF553B\",\"#00cc96\",\"#ab63fa\",\"#FFA15A\",\"#19d3f3\",\"#FF6692\",\"#B6E880\",\"#FF97FF\",\"#FECB52\"],\"font\":{\"color\":\"#2a3f5f\"},\"geo\":{\"bgcolor\":\"white\",\"lakecolor\":\"white\",\"landcolor\":\"#E5ECF6\",\"showlakes\":true,\"showland\":true,\"subunitcolor\":\"white\"},\"hoverlabel\":{\"align\":\"left\"},\"hovermode\":\"closest\",\"mapbox\":{\"style\":\"light\"},\"paper_bgcolor\":\"white\",\"plot_bgcolor\":\"#E5ECF6\",\"polar\":{\"angularaxis\":{\"gridcolor\":\"white\",\"linecolor\":\"white\",\"ticks\":\"\"},\"bgcolor\":\"#E5ECF6\",\"radialaxis\":{\"gridcolor\":\"white\",\"linecolor\":\"white\",\"ticks\":\"\"}},\"scene\":{\"xaxis\":{\"backgroundcolor\":\"#E5ECF6\",\"gridcolor\":\"white\",\"gridwidth\":2,\"linecolor\":\"white\",\"showbackground\":true,\"ticks\":\"\",\"zerolinecolor\":\"white\"},\"yaxis\":{\"backgroundcolor\":\"#E5ECF6\",\"gridcolor\":\"white\",\"gridwidth\":2,\"linecolor\":\"white\",\"showbackground\":true,\"ticks\":\"\",\"zerolinecolor\":\"white\"},\"zaxis\":{\"backgroundcolor\":\"#E5ECF6\",\"gridcolor\":\"white\",\"gridwidth\":2,\"linecolor\":\"white\",\"showbackground\":true,\"ticks\":\"\",\"zerolinecolor\":\"white\"}},\"shapedefaults\":{\"line\":{\"color\":\"#2a3f5f\"}},\"ternary\":{\"aaxis\":{\"gridcolor\":\"white\",\"linecolor\":\"white\",\"ticks\":\"\"},\"baxis\":{\"gridcolor\":\"white\",\"linecolor\":\"white\",\"ticks\":\"\"},\"bgcolor\":\"#E5ECF6\",\"caxis\":{\"gridcolor\":\"white\",\"linecolor\":\"white\",\"ticks\":\"\"}},\"title\":{\"x\":0.05},\"xaxis\":{\"automargin\":true,\"gridcolor\":\"white\",\"linecolor\":\"white\",\"ticks\":\"\",\"title\":{\"standoff\":15},\"zerolinecolor\":\"white\",\"zerolinewidth\":2},\"yaxis\":{\"automargin\":true,\"gridcolor\":\"white\",\"linecolor\":\"white\",\"ticks\":\"\",\"title\":{\"standoff\":15},\"zerolinecolor\":\"white\",\"zerolinewidth\":2}}},\"xaxis\":{\"anchor\":\"y\",\"domain\":[0.0,1.0],\"title\":{\"text\":\"state_id\"}},\"yaxis\":{\"anchor\":\"x\",\"domain\":[0.0,1.0],\"title\":{\"text\":\"num_sales_by_category\"}},\"legend\":{\"title\":{\"text\":\"cat_id\"},\"tracegroupgap\":0},\"title\":{\"text\":\"Th\\u1ed1ng k\\u00ea s\\u1ea3n ph\\u1ea9m theo t\\u1eebng nh\\u00f3m v\\u00e0 t\\u1eebng Bang\"},\"barmode\":\"relative\"},                        {\"responsive\": true}                    ).then(function(){\n",
              "                            \n",
              "var gd = document.getElementById('73df52a4-233a-4da4-964f-cfe10631f61d');\n",
              "var x = new MutationObserver(function (mutations, observer) {{\n",
              "        var display = window.getComputedStyle(gd).display;\n",
              "        if (!display || display === 'none') {{\n",
              "            console.log([gd, 'removed!']);\n",
              "            Plotly.purge(gd);\n",
              "            observer.disconnect();\n",
              "        }}\n",
              "}});\n",
              "\n",
              "// Listen for the removal of the full notebook cells\n",
              "var notebookContainer = gd.closest('#notebook-container');\n",
              "if (notebookContainer) {{\n",
              "    x.observe(notebookContainer, {childList: true});\n",
              "}}\n",
              "\n",
              "// Listen for the clearing of the current output cell\n",
              "var outputEl = gd.closest('.output');\n",
              "if (outputEl) {{\n",
              "    x.observe(outputEl, {childList: true});\n",
              "}}\n",
              "\n",
              "                        })                };                            </script>        </div>\n",
              "</body>\n",
              "</html>"
            ]
          },
          "metadata": {}
        }
      ]
    },
    {
      "cell_type": "markdown",
      "source": [
        "#### Thống kê sản phẩm theo các cửa hàng và bang theo các ngày cụ thể"
      ],
      "metadata": {
        "id": "h_6k3Mr4mQF6"
      }
    },
    {
      "cell_type": "code",
      "source": [
        "# tạo dataframe lọc dữ liệu cần thống kê\n",
        "df = train_sales_df.groupby(['dept_id', 'store_id', 'state_id', 'cat_id'])[train_sales_df.columns[6:]].sum().reset_index()\n",
        "df = df.sort_values('total_sales_all_days', ascending=False)\n"
      ],
      "metadata": {
        "execution": {
          "iopub.status.busy": "2021-12-29T13:38:14.302567Z",
          "iopub.execute_input": "2021-12-29T13:38:14.303197Z",
          "iopub.status.idle": "2021-12-29T13:38:15.395111Z",
          "shell.execute_reply.started": "2021-12-29T13:38:14.303142Z",
          "shell.execute_reply": "2021-12-29T13:38:15.394016Z"
        },
        "trusted": true,
        "id": "hLRWIEqumQF6"
      },
      "execution_count": 47,
      "outputs": []
    },
    {
      "cell_type": "code",
      "source": [
        "#professor = df[df.store_id == 'CA_3']\n",
        "print(df[['store_id','d_1']][:70])"
      ],
      "metadata": {
        "colab": {
          "base_uri": "https://localhost:8080/"
        },
        "id": "5GpioOCTNEDy",
        "outputId": "0cda04fb-a08a-4f70-82a2-e64508699bef"
      },
      "execution_count": 90,
      "outputs": [
        {
          "output_type": "stream",
          "name": "stdout",
          "text": [
            "   store_id   d_1\n",
            "22     CA_3  2478\n",
            "20     CA_1  2268\n",
            "25     TX_2  2044\n",
            "29     WI_3  2293\n",
            "28     WI_2  1269\n",
            "..      ...   ...\n",
            "47     WI_1    17\n",
            "44     TX_1    10\n",
            "48     WI_2    10\n",
            "49     WI_3    22\n",
            "43     CA_4     0\n",
            "\n",
            "[70 rows x 2 columns]\n"
          ]
        }
      ]
    },
    {
      "cell_type": "code",
      "source": [
        "# tạo hàm vẽ đồ thị với 3 tham số đầu vào\n",
        "# x_spec: datafram chứa dữ liệu\n",
        "# title_text : tên đồ thị hiển thị\n",
        "# title : tên đồ thị rút gọn\n",
        "\n",
        "def items_sold_per_days(x_spec,title_text, title): \n",
        "    \n",
        "    #tạo danh sách chứa các cột muốn lọc\n",
        "    cols = ['d_1', 'd_50', 'd_300', 'd_500', 'd_700', 'd_900', 'd_1100', 'd_1500', 'd_1700','total_sales_all_days', 'median_sales_all_days']\n",
        "\n",
        "    #tạo danh sách button theo danh sách cột\n",
        "    buttons1 = [dict(method = \"restyle\",\n",
        "                 args = [{'x': [x_spec, 'undefined'],\n",
        "                          'y': [df[cols[k]], 'undefined'],\n",
        "                          'visible':[True, False]}], \n",
        "                 label = cols[k])   for k in range(0, len(cols))]\n",
        "\n",
        "    # tạo đối tượng vẻ đồ thị sử dụng thư viện plotly.graph_objects\n",
        "    fig = go.Figure()\n",
        "    fig.add_trace(go.Bar(x=x_spec, y = df['d_1'], name='Dept', marker_color='Crimson'))\n",
        "\n",
        "    fig.update_layout(title_text= title_text,\n",
        "                  title_x= 0.4, width=900, height=450, \n",
        "                  margin=dict(t=100, b=20, l=0, r=0),\n",
        "                  autosize = False,\n",
        "                  updatemenus=[dict(active=0,\n",
        "                                    buttons=buttons1,\n",
        "                                    x=0.15,\n",
        "                                    y=1.13,\n",
        "                                    xanchor='left',\n",
        "                                    yanchor='top')\n",
        "                              ]); \n",
        "\n",
        "    # thêm lable cho danh sách chọn\n",
        "    fig.add_annotation( x=0.00,  y=1.11, showarrow=False, xref='paper', yref='paper', xanchor='left',\n",
        "                   text=\"Theo \"+str(title) +\" với: \");\n",
        "    \n",
        "    fig.show()\n",
        "\n",
        "items_sold_per_days(df['store_id'], 'Thống kê sản phẩm theo cửa hàng', 'Cửa Hàng') # gọi hàm tạo đồ thị thứ 1\n",
        "items_sold_per_days(df['state_id'], \"Thống kê sản phẩm theo Bang\", 'Bang') # gọi hàm tạo đồ thị thứ 2"
      ],
      "metadata": {
        "_kg_hide-input": false,
        "execution": {
          "iopub.status.busy": "2021-12-29T13:38:15.396903Z",
          "iopub.execute_input": "2021-12-29T13:38:15.397204Z",
          "iopub.status.idle": "2021-12-29T13:38:15.875255Z",
          "shell.execute_reply.started": "2021-12-29T13:38:15.397155Z",
          "shell.execute_reply": "2021-12-29T13:38:15.874009Z"
        },
        "trusted": true,
        "id": "5C98piagmQF7",
        "outputId": "26c528bd-d373-44ca-f552-33cf6c4ab035",
        "colab": {
          "base_uri": "https://localhost:8080/",
          "height": 917
        }
      },
      "execution_count": 94,
      "outputs": [
        {
          "output_type": "display_data",
          "data": {
            "text/html": [
              "<html>\n",
              "<head><meta charset=\"utf-8\" /></head>\n",
              "<body>\n",
              "    <div>            <script src=\"https://cdnjs.cloudflare.com/ajax/libs/mathjax/2.7.5/MathJax.js?config=TeX-AMS-MML_SVG\"></script><script type=\"text/javascript\">if (window.MathJax) {MathJax.Hub.Config({SVG: {font: \"STIX-Web\"}});}</script>                <script type=\"text/javascript\">window.PlotlyConfig = {MathJaxConfig: 'local'};</script>\n",
              "        <script src=\"https://cdn.plot.ly/plotly-2.8.3.min.js\"></script>                <div id=\"7c0a4346-2439-47db-b97c-ec34abd2cb65\" class=\"plotly-graph-div\" style=\"height:450px; width:900px;\"></div>            <script type=\"text/javascript\">                                    window.PLOTLYENV=window.PLOTLYENV || {};                                    if (document.getElementById(\"7c0a4346-2439-47db-b97c-ec34abd2cb65\")) {                    Plotly.newPlot(                        \"7c0a4346-2439-47db-b97c-ec34abd2cb65\",                        [{\"marker\":{\"color\":\"Crimson\"},\"name\":\"Dept\",\"x\":[\"CA_3\",\"CA_1\",\"TX_2\",\"WI_3\",\"WI_2\",\"TX_3\",\"TX_1\",\"CA_2\",\"WI_1\",\"CA_3\",\"CA_4\",\"TX_2\",\"WI_2\",\"CA_3\",\"TX_3\",\"TX_1\",\"CA_2\",\"CA_1\",\"WI_2\",\"WI_3\",\"CA_3\",\"CA_1\",\"WI_1\",\"CA_1\",\"WI_3\",\"TX_2\",\"TX_3\",\"CA_3\",\"CA_2\",\"TX_1\",\"WI_1\",\"WI_1\",\"CA_2\",\"CA_1\",\"CA_3\",\"TX_2\",\"CA_4\",\"CA_4\",\"WI_2\",\"CA_4\",\"TX_2\",\"WI_1\",\"CA_2\",\"TX_3\",\"WI_3\",\"TX_3\",\"WI_3\",\"TX_1\",\"TX_1\",\"CA_4\",\"CA_1\",\"CA_2\",\"WI_2\",\"TX_2\",\"TX_1\",\"TX_3\",\"WI_1\",\"WI_3\",\"WI_2\",\"CA_4\",\"CA_3\",\"TX_2\",\"TX_3\",\"CA_2\",\"CA_1\",\"WI_1\",\"TX_1\",\"WI_2\",\"WI_3\",\"CA_4\"],\"y\":[2478,2268,2044,2293,1269,1686,1239,1575,1130,457,759,480,353,627,383,418,529,361,155,584,531,674,360,528,583,534,460,341,406,390,598,108,522,297,286,364,158,351,191,180,210,343,234,232,256,138,152,241,152,113,181,212,180,199,106,120,148,148,98,64,19,21,11,16,28,17,10,10,22,0],\"type\":\"bar\"}],                        {\"template\":{\"data\":{\"bar\":[{\"error_x\":{\"color\":\"#2a3f5f\"},\"error_y\":{\"color\":\"#2a3f5f\"},\"marker\":{\"line\":{\"color\":\"#E5ECF6\",\"width\":0.5},\"pattern\":{\"fillmode\":\"overlay\",\"size\":10,\"solidity\":0.2}},\"type\":\"bar\"}],\"barpolar\":[{\"marker\":{\"line\":{\"color\":\"#E5ECF6\",\"width\":0.5},\"pattern\":{\"fillmode\":\"overlay\",\"size\":10,\"solidity\":0.2}},\"type\":\"barpolar\"}],\"carpet\":[{\"aaxis\":{\"endlinecolor\":\"#2a3f5f\",\"gridcolor\":\"white\",\"linecolor\":\"white\",\"minorgridcolor\":\"white\",\"startlinecolor\":\"#2a3f5f\"},\"baxis\":{\"endlinecolor\":\"#2a3f5f\",\"gridcolor\":\"white\",\"linecolor\":\"white\",\"minorgridcolor\":\"white\",\"startlinecolor\":\"#2a3f5f\"},\"type\":\"carpet\"}],\"choropleth\":[{\"colorbar\":{\"outlinewidth\":0,\"ticks\":\"\"},\"type\":\"choropleth\"}],\"contour\":[{\"colorbar\":{\"outlinewidth\":0,\"ticks\":\"\"},\"colorscale\":[[0.0,\"#0d0887\"],[0.1111111111111111,\"#46039f\"],[0.2222222222222222,\"#7201a8\"],[0.3333333333333333,\"#9c179e\"],[0.4444444444444444,\"#bd3786\"],[0.5555555555555556,\"#d8576b\"],[0.6666666666666666,\"#ed7953\"],[0.7777777777777778,\"#fb9f3a\"],[0.8888888888888888,\"#fdca26\"],[1.0,\"#f0f921\"]],\"type\":\"contour\"}],\"contourcarpet\":[{\"colorbar\":{\"outlinewidth\":0,\"ticks\":\"\"},\"type\":\"contourcarpet\"}],\"heatmap\":[{\"colorbar\":{\"outlinewidth\":0,\"ticks\":\"\"},\"colorscale\":[[0.0,\"#0d0887\"],[0.1111111111111111,\"#46039f\"],[0.2222222222222222,\"#7201a8\"],[0.3333333333333333,\"#9c179e\"],[0.4444444444444444,\"#bd3786\"],[0.5555555555555556,\"#d8576b\"],[0.6666666666666666,\"#ed7953\"],[0.7777777777777778,\"#fb9f3a\"],[0.8888888888888888,\"#fdca26\"],[1.0,\"#f0f921\"]],\"type\":\"heatmap\"}],\"heatmapgl\":[{\"colorbar\":{\"outlinewidth\":0,\"ticks\":\"\"},\"colorscale\":[[0.0,\"#0d0887\"],[0.1111111111111111,\"#46039f\"],[0.2222222222222222,\"#7201a8\"],[0.3333333333333333,\"#9c179e\"],[0.4444444444444444,\"#bd3786\"],[0.5555555555555556,\"#d8576b\"],[0.6666666666666666,\"#ed7953\"],[0.7777777777777778,\"#fb9f3a\"],[0.8888888888888888,\"#fdca26\"],[1.0,\"#f0f921\"]],\"type\":\"heatmapgl\"}],\"histogram\":[{\"marker\":{\"pattern\":{\"fillmode\":\"overlay\",\"size\":10,\"solidity\":0.2}},\"type\":\"histogram\"}],\"histogram2d\":[{\"colorbar\":{\"outlinewidth\":0,\"ticks\":\"\"},\"colorscale\":[[0.0,\"#0d0887\"],[0.1111111111111111,\"#46039f\"],[0.2222222222222222,\"#7201a8\"],[0.3333333333333333,\"#9c179e\"],[0.4444444444444444,\"#bd3786\"],[0.5555555555555556,\"#d8576b\"],[0.6666666666666666,\"#ed7953\"],[0.7777777777777778,\"#fb9f3a\"],[0.8888888888888888,\"#fdca26\"],[1.0,\"#f0f921\"]],\"type\":\"histogram2d\"}],\"histogram2dcontour\":[{\"colorbar\":{\"outlinewidth\":0,\"ticks\":\"\"},\"colorscale\":[[0.0,\"#0d0887\"],[0.1111111111111111,\"#46039f\"],[0.2222222222222222,\"#7201a8\"],[0.3333333333333333,\"#9c179e\"],[0.4444444444444444,\"#bd3786\"],[0.5555555555555556,\"#d8576b\"],[0.6666666666666666,\"#ed7953\"],[0.7777777777777778,\"#fb9f3a\"],[0.8888888888888888,\"#fdca26\"],[1.0,\"#f0f921\"]],\"type\":\"histogram2dcontour\"}],\"mesh3d\":[{\"colorbar\":{\"outlinewidth\":0,\"ticks\":\"\"},\"type\":\"mesh3d\"}],\"parcoords\":[{\"line\":{\"colorbar\":{\"outlinewidth\":0,\"ticks\":\"\"}},\"type\":\"parcoords\"}],\"pie\":[{\"automargin\":true,\"type\":\"pie\"}],\"scatter\":[{\"marker\":{\"colorbar\":{\"outlinewidth\":0,\"ticks\":\"\"}},\"type\":\"scatter\"}],\"scatter3d\":[{\"line\":{\"colorbar\":{\"outlinewidth\":0,\"ticks\":\"\"}},\"marker\":{\"colorbar\":{\"outlinewidth\":0,\"ticks\":\"\"}},\"type\":\"scatter3d\"}],\"scattercarpet\":[{\"marker\":{\"colorbar\":{\"outlinewidth\":0,\"ticks\":\"\"}},\"type\":\"scattercarpet\"}],\"scattergeo\":[{\"marker\":{\"colorbar\":{\"outlinewidth\":0,\"ticks\":\"\"}},\"type\":\"scattergeo\"}],\"scattergl\":[{\"marker\":{\"colorbar\":{\"outlinewidth\":0,\"ticks\":\"\"}},\"type\":\"scattergl\"}],\"scattermapbox\":[{\"marker\":{\"colorbar\":{\"outlinewidth\":0,\"ticks\":\"\"}},\"type\":\"scattermapbox\"}],\"scatterpolar\":[{\"marker\":{\"colorbar\":{\"outlinewidth\":0,\"ticks\":\"\"}},\"type\":\"scatterpolar\"}],\"scatterpolargl\":[{\"marker\":{\"colorbar\":{\"outlinewidth\":0,\"ticks\":\"\"}},\"type\":\"scatterpolargl\"}],\"scatterternary\":[{\"marker\":{\"colorbar\":{\"outlinewidth\":0,\"ticks\":\"\"}},\"type\":\"scatterternary\"}],\"surface\":[{\"colorbar\":{\"outlinewidth\":0,\"ticks\":\"\"},\"colorscale\":[[0.0,\"#0d0887\"],[0.1111111111111111,\"#46039f\"],[0.2222222222222222,\"#7201a8\"],[0.3333333333333333,\"#9c179e\"],[0.4444444444444444,\"#bd3786\"],[0.5555555555555556,\"#d8576b\"],[0.6666666666666666,\"#ed7953\"],[0.7777777777777778,\"#fb9f3a\"],[0.8888888888888888,\"#fdca26\"],[1.0,\"#f0f921\"]],\"type\":\"surface\"}],\"table\":[{\"cells\":{\"fill\":{\"color\":\"#EBF0F8\"},\"line\":{\"color\":\"white\"}},\"header\":{\"fill\":{\"color\":\"#C8D4E3\"},\"line\":{\"color\":\"white\"}},\"type\":\"table\"}]},\"layout\":{\"annotationdefaults\":{\"arrowcolor\":\"#2a3f5f\",\"arrowhead\":0,\"arrowwidth\":1},\"autotypenumbers\":\"strict\",\"coloraxis\":{\"colorbar\":{\"outlinewidth\":0,\"ticks\":\"\"}},\"colorscale\":{\"diverging\":[[0,\"#8e0152\"],[0.1,\"#c51b7d\"],[0.2,\"#de77ae\"],[0.3,\"#f1b6da\"],[0.4,\"#fde0ef\"],[0.5,\"#f7f7f7\"],[0.6,\"#e6f5d0\"],[0.7,\"#b8e186\"],[0.8,\"#7fbc41\"],[0.9,\"#4d9221\"],[1,\"#276419\"]],\"sequential\":[[0.0,\"#0d0887\"],[0.1111111111111111,\"#46039f\"],[0.2222222222222222,\"#7201a8\"],[0.3333333333333333,\"#9c179e\"],[0.4444444444444444,\"#bd3786\"],[0.5555555555555556,\"#d8576b\"],[0.6666666666666666,\"#ed7953\"],[0.7777777777777778,\"#fb9f3a\"],[0.8888888888888888,\"#fdca26\"],[1.0,\"#f0f921\"]],\"sequentialminus\":[[0.0,\"#0d0887\"],[0.1111111111111111,\"#46039f\"],[0.2222222222222222,\"#7201a8\"],[0.3333333333333333,\"#9c179e\"],[0.4444444444444444,\"#bd3786\"],[0.5555555555555556,\"#d8576b\"],[0.6666666666666666,\"#ed7953\"],[0.7777777777777778,\"#fb9f3a\"],[0.8888888888888888,\"#fdca26\"],[1.0,\"#f0f921\"]]},\"colorway\":[\"#636efa\",\"#EF553B\",\"#00cc96\",\"#ab63fa\",\"#FFA15A\",\"#19d3f3\",\"#FF6692\",\"#B6E880\",\"#FF97FF\",\"#FECB52\"],\"font\":{\"color\":\"#2a3f5f\"},\"geo\":{\"bgcolor\":\"white\",\"lakecolor\":\"white\",\"landcolor\":\"#E5ECF6\",\"showlakes\":true,\"showland\":true,\"subunitcolor\":\"white\"},\"hoverlabel\":{\"align\":\"left\"},\"hovermode\":\"closest\",\"mapbox\":{\"style\":\"light\"},\"paper_bgcolor\":\"white\",\"plot_bgcolor\":\"#E5ECF6\",\"polar\":{\"angularaxis\":{\"gridcolor\":\"white\",\"linecolor\":\"white\",\"ticks\":\"\"},\"bgcolor\":\"#E5ECF6\",\"radialaxis\":{\"gridcolor\":\"white\",\"linecolor\":\"white\",\"ticks\":\"\"}},\"scene\":{\"xaxis\":{\"backgroundcolor\":\"#E5ECF6\",\"gridcolor\":\"white\",\"gridwidth\":2,\"linecolor\":\"white\",\"showbackground\":true,\"ticks\":\"\",\"zerolinecolor\":\"white\"},\"yaxis\":{\"backgroundcolor\":\"#E5ECF6\",\"gridcolor\":\"white\",\"gridwidth\":2,\"linecolor\":\"white\",\"showbackground\":true,\"ticks\":\"\",\"zerolinecolor\":\"white\"},\"zaxis\":{\"backgroundcolor\":\"#E5ECF6\",\"gridcolor\":\"white\",\"gridwidth\":2,\"linecolor\":\"white\",\"showbackground\":true,\"ticks\":\"\",\"zerolinecolor\":\"white\"}},\"shapedefaults\":{\"line\":{\"color\":\"#2a3f5f\"}},\"ternary\":{\"aaxis\":{\"gridcolor\":\"white\",\"linecolor\":\"white\",\"ticks\":\"\"},\"baxis\":{\"gridcolor\":\"white\",\"linecolor\":\"white\",\"ticks\":\"\"},\"bgcolor\":\"#E5ECF6\",\"caxis\":{\"gridcolor\":\"white\",\"linecolor\":\"white\",\"ticks\":\"\"}},\"title\":{\"x\":0.05},\"xaxis\":{\"automargin\":true,\"gridcolor\":\"white\",\"linecolor\":\"white\",\"ticks\":\"\",\"title\":{\"standoff\":15},\"zerolinecolor\":\"white\",\"zerolinewidth\":2},\"yaxis\":{\"automargin\":true,\"gridcolor\":\"white\",\"linecolor\":\"white\",\"ticks\":\"\",\"title\":{\"standoff\":15},\"zerolinecolor\":\"white\",\"zerolinewidth\":2}}},\"title\":{\"text\":\"Th\\u1ed1ng k\\u00ea s\\u1ea3n ph\\u1ea9m theo c\\u1eeda h\\u00e0ng\",\"x\":0.4},\"margin\":{\"t\":100,\"b\":20,\"l\":0,\"r\":0},\"width\":900,\"height\":450,\"autosize\":false,\"updatemenus\":[{\"active\":0,\"buttons\":[{\"args\":[{\"x\":[[\"CA_3\",\"CA_1\",\"TX_2\",\"WI_3\",\"WI_2\",\"TX_3\",\"TX_1\",\"CA_2\",\"WI_1\",\"CA_3\",\"CA_4\",\"TX_2\",\"WI_2\",\"CA_3\",\"TX_3\",\"TX_1\",\"CA_2\",\"CA_1\",\"WI_2\",\"WI_3\",\"CA_3\",\"CA_1\",\"WI_1\",\"CA_1\",\"WI_3\",\"TX_2\",\"TX_3\",\"CA_3\",\"CA_2\",\"TX_1\",\"WI_1\",\"WI_1\",\"CA_2\",\"CA_1\",\"CA_3\",\"TX_2\",\"CA_4\",\"CA_4\",\"WI_2\",\"CA_4\",\"TX_2\",\"WI_1\",\"CA_2\",\"TX_3\",\"WI_3\",\"TX_3\",\"WI_3\",\"TX_1\",\"TX_1\",\"CA_4\",\"CA_1\",\"CA_2\",\"WI_2\",\"TX_2\",\"TX_1\",\"TX_3\",\"WI_1\",\"WI_3\",\"WI_2\",\"CA_4\",\"CA_3\",\"TX_2\",\"TX_3\",\"CA_2\",\"CA_1\",\"WI_1\",\"TX_1\",\"WI_2\",\"WI_3\",\"CA_4\"],\"undefined\"],\"y\":[[2478,2268,2044,2293,1269,1686,1239,1575,1130,457,759,480,353,627,383,418,529,361,155,584,531,674,360,528,583,534,460,341,406,390,598,108,522,297,286,364,158,351,191,180,210,343,234,232,256,138,152,241,152,113,181,212,180,199,106,120,148,148,98,64,19,21,11,16,28,17,10,10,22,0],\"undefined\"],\"visible\":[true,false]}],\"label\":\"d_1\",\"method\":\"restyle\"},{\"args\":[{\"x\":[[\"CA_3\",\"CA_1\",\"TX_2\",\"WI_3\",\"WI_2\",\"TX_3\",\"TX_1\",\"CA_2\",\"WI_1\",\"CA_3\",\"CA_4\",\"TX_2\",\"WI_2\",\"CA_3\",\"TX_3\",\"TX_1\",\"CA_2\",\"CA_1\",\"WI_2\",\"WI_3\",\"CA_3\",\"CA_1\",\"WI_1\",\"CA_1\",\"WI_3\",\"TX_2\",\"TX_3\",\"CA_3\",\"CA_2\",\"TX_1\",\"WI_1\",\"WI_1\",\"CA_2\",\"CA_1\",\"CA_3\",\"TX_2\",\"CA_4\",\"CA_4\",\"WI_2\",\"CA_4\",\"TX_2\",\"WI_1\",\"CA_2\",\"TX_3\",\"WI_3\",\"TX_3\",\"WI_3\",\"TX_1\",\"TX_1\",\"CA_4\",\"CA_1\",\"CA_2\",\"WI_2\",\"TX_2\",\"TX_1\",\"TX_3\",\"WI_1\",\"WI_3\",\"WI_2\",\"CA_4\",\"CA_3\",\"TX_2\",\"TX_3\",\"CA_2\",\"CA_1\",\"WI_1\",\"TX_1\",\"WI_2\",\"WI_3\",\"CA_4\"],\"undefined\"],\"y\":[[2539,1959,1837,2077,873,1313,1231,1382,868,827,681,441,434,699,343,411,644,422,183,592,469,561,415,644,513,473,233,334,422,330,487,67,595,306,327,359,198,297,194,190,158,248,306,169,253,130,134,199,128,109,225,188,133,167,111,108,171,116,79,101,40,22,27,17,25,15,13,14,21,2],\"undefined\"],\"visible\":[true,false]}],\"label\":\"d_50\",\"method\":\"restyle\"},{\"args\":[{\"x\":[[\"CA_3\",\"CA_1\",\"TX_2\",\"WI_3\",\"WI_2\",\"TX_3\",\"TX_1\",\"CA_2\",\"WI_1\",\"CA_3\",\"CA_4\",\"TX_2\",\"WI_2\",\"CA_3\",\"TX_3\",\"TX_1\",\"CA_2\",\"CA_1\",\"WI_2\",\"WI_3\",\"CA_3\",\"CA_1\",\"WI_1\",\"CA_1\",\"WI_3\",\"TX_2\",\"TX_3\",\"CA_3\",\"CA_2\",\"TX_1\",\"WI_1\",\"WI_1\",\"CA_2\",\"CA_1\",\"CA_3\",\"TX_2\",\"CA_4\",\"CA_4\",\"WI_2\",\"CA_4\",\"TX_2\",\"WI_1\",\"CA_2\",\"TX_3\",\"WI_3\",\"TX_3\",\"WI_3\",\"TX_1\",\"TX_1\",\"CA_4\",\"CA_1\",\"CA_2\",\"WI_2\",\"TX_2\",\"TX_1\",\"TX_3\",\"WI_1\",\"WI_3\",\"WI_2\",\"CA_4\",\"CA_3\",\"TX_2\",\"TX_3\",\"CA_2\",\"CA_1\",\"WI_1\",\"TX_1\",\"WI_2\",\"WI_3\",\"CA_4\"],\"undefined\"],\"y\":[[1848,1406,2164,1674,478,1360,1513,694,392,374,738,342,109,219,206,334,158,140,23,246,243,143,57,71,168,201,136,235,105,162,49,14,94,82,198,143,119,71,50,92,162,73,60,105,105,90,124,99,75,53,80,36,16,89,82,55,34,87,6,49,13,30,10,8,19,1,3,0,4,8],\"undefined\"],\"visible\":[true,false]}],\"label\":\"d_300\",\"method\":\"restyle\"},{\"args\":[{\"x\":[[\"CA_3\",\"CA_1\",\"TX_2\",\"WI_3\",\"WI_2\",\"TX_3\",\"TX_1\",\"CA_2\",\"WI_1\",\"CA_3\",\"CA_4\",\"TX_2\",\"WI_2\",\"CA_3\",\"TX_3\",\"TX_1\",\"CA_2\",\"CA_1\",\"WI_2\",\"WI_3\",\"CA_3\",\"CA_1\",\"WI_1\",\"CA_1\",\"WI_3\",\"TX_2\",\"TX_3\",\"CA_3\",\"CA_2\",\"TX_1\",\"WI_1\",\"WI_1\",\"CA_2\",\"CA_1\",\"CA_3\",\"TX_2\",\"CA_4\",\"CA_4\",\"WI_2\",\"CA_4\",\"TX_2\",\"WI_1\",\"CA_2\",\"TX_3\",\"WI_3\",\"TX_3\",\"WI_3\",\"TX_1\",\"TX_1\",\"CA_4\",\"CA_1\",\"CA_2\",\"WI_2\",\"TX_2\",\"TX_1\",\"TX_3\",\"WI_1\",\"WI_3\",\"WI_2\",\"CA_4\",\"CA_3\",\"TX_2\",\"TX_3\",\"CA_2\",\"CA_1\",\"WI_1\",\"TX_1\",\"WI_2\",\"WI_3\",\"CA_4\"],\"undefined\"],\"y\":[[4358,2492,2942,3281,2086,1999,1964,1432,879,1034,1371,720,563,673,556,630,618,518,737,546,370,480,428,455,531,528,441,362,348,369,239,38,267,228,261,312,176,304,292,263,309,201,195,208,255,158,310,167,249,157,122,130,156,167,104,100,91,114,72,98,34,24,39,11,15,19,14,13,10,3],\"undefined\"],\"visible\":[true,false]}],\"label\":\"d_500\",\"method\":\"restyle\"},{\"args\":[{\"x\":[[\"CA_3\",\"CA_1\",\"TX_2\",\"WI_3\",\"WI_2\",\"TX_3\",\"TX_1\",\"CA_2\",\"WI_1\",\"CA_3\",\"CA_4\",\"TX_2\",\"WI_2\",\"CA_3\",\"TX_3\",\"TX_1\",\"CA_2\",\"CA_1\",\"WI_2\",\"WI_3\",\"CA_3\",\"CA_1\",\"WI_1\",\"CA_1\",\"WI_3\",\"TX_2\",\"TX_3\",\"CA_3\",\"CA_2\",\"TX_1\",\"WI_1\",\"WI_1\",\"CA_2\",\"CA_1\",\"CA_3\",\"TX_2\",\"CA_4\",\"CA_4\",\"WI_2\",\"CA_4\",\"TX_2\",\"WI_1\",\"CA_2\",\"TX_3\",\"WI_3\",\"TX_3\",\"WI_3\",\"TX_1\",\"TX_1\",\"CA_4\",\"CA_1\",\"CA_2\",\"WI_2\",\"TX_2\",\"TX_1\",\"TX_3\",\"WI_1\",\"WI_3\",\"WI_2\",\"CA_4\",\"CA_3\",\"TX_2\",\"TX_3\",\"CA_2\",\"CA_1\",\"WI_1\",\"TX_1\",\"WI_2\",\"WI_3\",\"CA_4\"],\"undefined\"],\"y\":[[2441,1762,1896,1868,1620,1265,1254,1108,1376,1201,746,1093,833,532,797,865,665,528,387,734,370,447,464,274,301,389,311,314,388,288,232,320,200,206,240,279,226,234,300,232,435,216,176,160,238,214,195,124,171,112,152,112,154,188,114,110,112,93,87,78,26,20,18,22,9,11,0,5,9,0],\"undefined\"],\"visible\":[true,false]}],\"label\":\"d_700\",\"method\":\"restyle\"},{\"args\":[{\"x\":[[\"CA_3\",\"CA_1\",\"TX_2\",\"WI_3\",\"WI_2\",\"TX_3\",\"TX_1\",\"CA_2\",\"WI_1\",\"CA_3\",\"CA_4\",\"TX_2\",\"WI_2\",\"CA_3\",\"TX_3\",\"TX_1\",\"CA_2\",\"CA_1\",\"WI_2\",\"WI_3\",\"CA_3\",\"CA_1\",\"WI_1\",\"CA_1\",\"WI_3\",\"TX_2\",\"TX_3\",\"CA_3\",\"CA_2\",\"TX_1\",\"WI_1\",\"WI_1\",\"CA_2\",\"CA_1\",\"CA_3\",\"TX_2\",\"CA_4\",\"CA_4\",\"WI_2\",\"CA_4\",\"TX_2\",\"WI_1\",\"CA_2\",\"TX_3\",\"WI_3\",\"TX_3\",\"WI_3\",\"TX_1\",\"TX_1\",\"CA_4\",\"CA_1\",\"CA_2\",\"WI_2\",\"TX_2\",\"TX_1\",\"TX_3\",\"WI_1\",\"WI_3\",\"WI_2\",\"CA_4\",\"CA_3\",\"TX_2\",\"TX_3\",\"CA_2\",\"CA_1\",\"WI_1\",\"TX_1\",\"WI_2\",\"WI_3\",\"CA_4\"],\"undefined\"],\"y\":[[2617,1977,1855,1880,2167,1332,1212,1134,1286,1258,989,770,775,522,586,668,639,545,733,444,579,428,465,424,282,425,347,421,387,252,302,319,282,314,278,358,372,257,303,319,338,297,187,229,179,242,158,197,148,180,149,95,179,134,97,103,87,76,101,102,14,33,31,17,14,15,11,5,14,2],\"undefined\"],\"visible\":[true,false]}],\"label\":\"d_900\",\"method\":\"restyle\"},{\"args\":[{\"x\":[[\"CA_3\",\"CA_1\",\"TX_2\",\"WI_3\",\"WI_2\",\"TX_3\",\"TX_1\",\"CA_2\",\"WI_1\",\"CA_3\",\"CA_4\",\"TX_2\",\"WI_2\",\"CA_3\",\"TX_3\",\"TX_1\",\"CA_2\",\"CA_1\",\"WI_2\",\"WI_3\",\"CA_3\",\"CA_1\",\"WI_1\",\"CA_1\",\"WI_3\",\"TX_2\",\"TX_3\",\"CA_3\",\"CA_2\",\"TX_1\",\"WI_1\",\"WI_1\",\"CA_2\",\"CA_1\",\"CA_3\",\"TX_2\",\"CA_4\",\"CA_4\",\"WI_2\",\"CA_4\",\"TX_2\",\"WI_1\",\"CA_2\",\"TX_3\",\"WI_3\",\"TX_3\",\"WI_3\",\"TX_1\",\"TX_1\",\"CA_4\",\"CA_1\",\"CA_2\",\"WI_2\",\"TX_2\",\"TX_1\",\"TX_3\",\"WI_1\",\"WI_3\",\"WI_2\",\"CA_4\",\"CA_3\",\"TX_2\",\"TX_3\",\"CA_2\",\"CA_1\",\"WI_1\",\"TX_1\",\"WI_2\",\"WI_3\",\"CA_4\"],\"undefined\"],\"y\":[[3266,3432,2573,1966,2546,2158,1910,1910,1800,1169,1670,855,1005,579,848,824,1086,973,471,698,443,641,616,659,241,406,451,307,494,361,424,483,486,469,299,333,447,326,397,422,335,294,377,318,239,231,255,259,166,267,291,164,301,169,158,166,128,128,138,153,28,40,45,63,46,43,23,28,23,13],\"undefined\"],\"visible\":[true,false]}],\"label\":\"d_1100\",\"method\":\"restyle\"},{\"args\":[{\"x\":[[\"CA_3\",\"CA_1\",\"TX_2\",\"WI_3\",\"WI_2\",\"TX_3\",\"TX_1\",\"CA_2\",\"WI_1\",\"CA_3\",\"CA_4\",\"TX_2\",\"WI_2\",\"CA_3\",\"TX_3\",\"TX_1\",\"CA_2\",\"CA_1\",\"WI_2\",\"WI_3\",\"CA_3\",\"CA_1\",\"WI_1\",\"CA_1\",\"WI_3\",\"TX_2\",\"TX_3\",\"CA_3\",\"CA_2\",\"TX_1\",\"WI_1\",\"WI_1\",\"CA_2\",\"CA_1\",\"CA_3\",\"TX_2\",\"CA_4\",\"CA_4\",\"WI_2\",\"CA_4\",\"TX_2\",\"WI_1\",\"CA_2\",\"TX_3\",\"WI_3\",\"TX_3\",\"WI_3\",\"TX_1\",\"TX_1\",\"CA_4\",\"CA_1\",\"CA_2\",\"WI_2\",\"TX_2\",\"TX_1\",\"TX_3\",\"WI_1\",\"WI_3\",\"WI_2\",\"CA_4\",\"CA_3\",\"TX_2\",\"TX_3\",\"CA_2\",\"CA_1\",\"WI_1\",\"TX_1\",\"WI_2\",\"WI_3\",\"CA_4\"],\"undefined\"],\"y\":[[4211,2841,1991,1948,2478,1766,1694,1146,2166,2034,1388,838,888,873,915,897,894,1162,1320,742,741,742,766,548,553,524,534,551,311,508,372,819,408,357,439,373,347,393,370,406,207,316,398,398,287,215,169,271,225,207,261,116,248,233,191,184,236,180,155,169,55,63,32,55,60,64,21,33,49,27],\"undefined\"],\"visible\":[true,false]}],\"label\":\"d_1500\",\"method\":\"restyle\"},{\"args\":[{\"x\":[[\"CA_3\",\"CA_1\",\"TX_2\",\"WI_3\",\"WI_2\",\"TX_3\",\"TX_1\",\"CA_2\",\"WI_1\",\"CA_3\",\"CA_4\",\"TX_2\",\"WI_2\",\"CA_3\",\"TX_3\",\"TX_1\",\"CA_2\",\"CA_1\",\"WI_2\",\"WI_3\",\"CA_3\",\"CA_1\",\"WI_1\",\"CA_1\",\"WI_3\",\"TX_2\",\"TX_3\",\"CA_3\",\"CA_2\",\"TX_1\",\"WI_1\",\"WI_1\",\"CA_2\",\"CA_1\",\"CA_3\",\"TX_2\",\"CA_4\",\"CA_4\",\"WI_2\",\"CA_4\",\"TX_2\",\"WI_1\",\"CA_2\",\"TX_3\",\"WI_3\",\"TX_3\",\"WI_3\",\"TX_1\",\"TX_1\",\"CA_4\",\"CA_1\",\"CA_2\",\"WI_2\",\"TX_2\",\"TX_1\",\"TX_3\",\"WI_1\",\"WI_3\",\"WI_2\",\"CA_4\",\"CA_3\",\"TX_2\",\"TX_3\",\"CA_2\",\"CA_1\",\"WI_1\",\"TX_1\",\"WI_2\",\"WI_3\",\"CA_4\"],\"undefined\"],\"y\":[[2517,1584,1528,1405,1441,1542,1045,1558,1189,1167,962,710,782,493,671,680,550,626,661,496,486,365,458,359,294,312,384,421,331,337,319,465,355,321,254,259,398,330,358,375,231,305,256,218,214,339,183,176,204,198,148,312,174,151,110,134,97,100,108,89,66,88,33,43,27,44,35,36,41,19],\"undefined\"],\"visible\":[true,false]}],\"label\":\"d_1700\",\"method\":\"restyle\"},{\"args\":[{\"x\":[[\"CA_3\",\"CA_1\",\"TX_2\",\"WI_3\",\"WI_2\",\"TX_3\",\"TX_1\",\"CA_2\",\"WI_1\",\"CA_3\",\"CA_4\",\"TX_2\",\"WI_2\",\"CA_3\",\"TX_3\",\"TX_1\",\"CA_2\",\"CA_1\",\"WI_2\",\"WI_3\",\"CA_3\",\"CA_1\",\"WI_1\",\"CA_1\",\"WI_3\",\"TX_2\",\"TX_3\",\"CA_3\",\"CA_2\",\"TX_1\",\"WI_1\",\"WI_1\",\"CA_2\",\"CA_1\",\"CA_3\",\"TX_2\",\"CA_4\",\"CA_4\",\"WI_2\",\"CA_4\",\"TX_2\",\"WI_1\",\"CA_2\",\"TX_3\",\"WI_3\",\"TX_3\",\"WI_3\",\"TX_1\",\"TX_1\",\"CA_4\",\"CA_1\",\"CA_2\",\"WI_2\",\"TX_2\",\"TX_1\",\"TX_3\",\"WI_1\",\"WI_3\",\"WI_2\",\"CA_4\",\"CA_3\",\"TX_2\",\"TX_3\",\"CA_2\",\"CA_1\",\"WI_1\",\"TX_1\",\"WI_2\",\"WI_3\",\"CA_4\"],\"undefined\"],\"y\":[[5576362,3927835,3725146,3520357,3144591,2997456,2781040,2429853,2330856,2147073,1938580,1254219,1214718,1202566,1160237,1145836,1106852,1100165,1092639,1017626,885518,885144,822875,821524,811498,781462,754172,736862,717687,631513,608123,600794,578283,567849,564370,560671,541858,537315,530954,530925,508516,506702,460561,459967,426000,411460,398825,386024,365656,343530,340545,332719,328492,309044,242163,238747,232139,212808,190896,188871,75429,75326,67291,59520,55154,47573,43060,41722,40668,22597],\"undefined\"],\"visible\":[true,false]}],\"label\":\"total_sales_all_days\",\"method\":\"restyle\"},{\"args\":[{\"x\":[[\"CA_3\",\"CA_1\",\"TX_2\",\"WI_3\",\"WI_2\",\"TX_3\",\"TX_1\",\"CA_2\",\"WI_1\",\"CA_3\",\"CA_4\",\"TX_2\",\"WI_2\",\"CA_3\",\"TX_3\",\"TX_1\",\"CA_2\",\"CA_1\",\"WI_2\",\"WI_3\",\"CA_3\",\"CA_1\",\"WI_1\",\"CA_1\",\"WI_3\",\"TX_2\",\"TX_3\",\"CA_3\",\"CA_2\",\"TX_1\",\"WI_1\",\"WI_1\",\"CA_2\",\"CA_1\",\"CA_3\",\"TX_2\",\"CA_4\",\"CA_4\",\"WI_2\",\"CA_4\",\"TX_2\",\"WI_1\",\"CA_2\",\"TX_3\",\"WI_3\",\"TX_3\",\"WI_3\",\"TX_1\",\"TX_1\",\"CA_4\",\"CA_1\",\"CA_2\",\"WI_2\",\"TX_2\",\"TX_1\",\"TX_3\",\"WI_1\",\"WI_3\",\"WI_2\",\"CA_4\",\"CA_3\",\"TX_2\",\"TX_3\",\"CA_2\",\"CA_1\",\"WI_1\",\"TX_1\",\"WI_2\",\"WI_3\",\"CA_4\"],\"undefined\"],\"y\":[[2062.0,1335.0,1295.0,1131.0,866.0,983.0,887.0,679.0,636.0,743.0,578.0,360.0,348.0,385.0,338.0,339.0,289.0,304.0,205.0,284.0,214.0,251.0,200.0,180.0,177.0,210.0,212.0,205.0,190.0,151.0,131.0,56.0,86.0,143.0,101.0,91.0,114.0,121.0,125.0,97.0,120.0,132.0,66.0,61.0,63.0,79.0,77.0,36.0,61.0,73.0,26.0,58.0,28.0,23.0,13.0,19.0,9.0,17.0,9.0,9.0,3.0,1.0,1.0,0.0,0.0,0.0,0.0,0.0,0.0,0.0],\"undefined\"],\"visible\":[true,false]}],\"label\":\"median_sales_all_days\",\"method\":\"restyle\"}],\"x\":0.15,\"xanchor\":\"left\",\"y\":1.13,\"yanchor\":\"top\"}],\"annotations\":[{\"showarrow\":false,\"text\":\"Theo C\\u1eeda H\\u00e0ng v\\u1edbi: \",\"x\":0.0,\"xanchor\":\"left\",\"xref\":\"paper\",\"y\":1.11,\"yref\":\"paper\"}]},                        {\"responsive\": true}                    ).then(function(){\n",
              "                            \n",
              "var gd = document.getElementById('7c0a4346-2439-47db-b97c-ec34abd2cb65');\n",
              "var x = new MutationObserver(function (mutations, observer) {{\n",
              "        var display = window.getComputedStyle(gd).display;\n",
              "        if (!display || display === 'none') {{\n",
              "            console.log([gd, 'removed!']);\n",
              "            Plotly.purge(gd);\n",
              "            observer.disconnect();\n",
              "        }}\n",
              "}});\n",
              "\n",
              "// Listen for the removal of the full notebook cells\n",
              "var notebookContainer = gd.closest('#notebook-container');\n",
              "if (notebookContainer) {{\n",
              "    x.observe(notebookContainer, {childList: true});\n",
              "}}\n",
              "\n",
              "// Listen for the clearing of the current output cell\n",
              "var outputEl = gd.closest('.output');\n",
              "if (outputEl) {{\n",
              "    x.observe(outputEl, {childList: true});\n",
              "}}\n",
              "\n",
              "                        })                };                            </script>        </div>\n",
              "</body>\n",
              "</html>"
            ]
          },
          "metadata": {}
        },
        {
          "output_type": "display_data",
          "data": {
            "text/html": [
              "<html>\n",
              "<head><meta charset=\"utf-8\" /></head>\n",
              "<body>\n",
              "    <div>            <script src=\"https://cdnjs.cloudflare.com/ajax/libs/mathjax/2.7.5/MathJax.js?config=TeX-AMS-MML_SVG\"></script><script type=\"text/javascript\">if (window.MathJax) {MathJax.Hub.Config({SVG: {font: \"STIX-Web\"}});}</script>                <script type=\"text/javascript\">window.PlotlyConfig = {MathJaxConfig: 'local'};</script>\n",
              "        <script src=\"https://cdn.plot.ly/plotly-2.8.3.min.js\"></script>                <div id=\"bc269a6c-05a9-4963-8c99-d0c717bf1624\" class=\"plotly-graph-div\" style=\"height:450px; width:900px;\"></div>            <script type=\"text/javascript\">                                    window.PLOTLYENV=window.PLOTLYENV || {};                                    if (document.getElementById(\"bc269a6c-05a9-4963-8c99-d0c717bf1624\")) {                    Plotly.newPlot(                        \"bc269a6c-05a9-4963-8c99-d0c717bf1624\",                        [{\"marker\":{\"color\":\"Crimson\"},\"name\":\"Dept\",\"x\":[\"CA\",\"CA\",\"TX\",\"WI\",\"WI\",\"TX\",\"TX\",\"CA\",\"WI\",\"CA\",\"CA\",\"TX\",\"WI\",\"CA\",\"TX\",\"TX\",\"CA\",\"CA\",\"WI\",\"WI\",\"CA\",\"CA\",\"WI\",\"CA\",\"WI\",\"TX\",\"TX\",\"CA\",\"CA\",\"TX\",\"WI\",\"WI\",\"CA\",\"CA\",\"CA\",\"TX\",\"CA\",\"CA\",\"WI\",\"CA\",\"TX\",\"WI\",\"CA\",\"TX\",\"WI\",\"TX\",\"WI\",\"TX\",\"TX\",\"CA\",\"CA\",\"CA\",\"WI\",\"TX\",\"TX\",\"TX\",\"WI\",\"WI\",\"WI\",\"CA\",\"CA\",\"TX\",\"TX\",\"CA\",\"CA\",\"WI\",\"TX\",\"WI\",\"WI\",\"CA\"],\"y\":[2478,2268,2044,2293,1269,1686,1239,1575,1130,457,759,480,353,627,383,418,529,361,155,584,531,674,360,528,583,534,460,341,406,390,598,108,522,297,286,364,158,351,191,180,210,343,234,232,256,138,152,241,152,113,181,212,180,199,106,120,148,148,98,64,19,21,11,16,28,17,10,10,22,0],\"type\":\"bar\"}],                        {\"template\":{\"data\":{\"bar\":[{\"error_x\":{\"color\":\"#2a3f5f\"},\"error_y\":{\"color\":\"#2a3f5f\"},\"marker\":{\"line\":{\"color\":\"#E5ECF6\",\"width\":0.5},\"pattern\":{\"fillmode\":\"overlay\",\"size\":10,\"solidity\":0.2}},\"type\":\"bar\"}],\"barpolar\":[{\"marker\":{\"line\":{\"color\":\"#E5ECF6\",\"width\":0.5},\"pattern\":{\"fillmode\":\"overlay\",\"size\":10,\"solidity\":0.2}},\"type\":\"barpolar\"}],\"carpet\":[{\"aaxis\":{\"endlinecolor\":\"#2a3f5f\",\"gridcolor\":\"white\",\"linecolor\":\"white\",\"minorgridcolor\":\"white\",\"startlinecolor\":\"#2a3f5f\"},\"baxis\":{\"endlinecolor\":\"#2a3f5f\",\"gridcolor\":\"white\",\"linecolor\":\"white\",\"minorgridcolor\":\"white\",\"startlinecolor\":\"#2a3f5f\"},\"type\":\"carpet\"}],\"choropleth\":[{\"colorbar\":{\"outlinewidth\":0,\"ticks\":\"\"},\"type\":\"choropleth\"}],\"contour\":[{\"colorbar\":{\"outlinewidth\":0,\"ticks\":\"\"},\"colorscale\":[[0.0,\"#0d0887\"],[0.1111111111111111,\"#46039f\"],[0.2222222222222222,\"#7201a8\"],[0.3333333333333333,\"#9c179e\"],[0.4444444444444444,\"#bd3786\"],[0.5555555555555556,\"#d8576b\"],[0.6666666666666666,\"#ed7953\"],[0.7777777777777778,\"#fb9f3a\"],[0.8888888888888888,\"#fdca26\"],[1.0,\"#f0f921\"]],\"type\":\"contour\"}],\"contourcarpet\":[{\"colorbar\":{\"outlinewidth\":0,\"ticks\":\"\"},\"type\":\"contourcarpet\"}],\"heatmap\":[{\"colorbar\":{\"outlinewidth\":0,\"ticks\":\"\"},\"colorscale\":[[0.0,\"#0d0887\"],[0.1111111111111111,\"#46039f\"],[0.2222222222222222,\"#7201a8\"],[0.3333333333333333,\"#9c179e\"],[0.4444444444444444,\"#bd3786\"],[0.5555555555555556,\"#d8576b\"],[0.6666666666666666,\"#ed7953\"],[0.7777777777777778,\"#fb9f3a\"],[0.8888888888888888,\"#fdca26\"],[1.0,\"#f0f921\"]],\"type\":\"heatmap\"}],\"heatmapgl\":[{\"colorbar\":{\"outlinewidth\":0,\"ticks\":\"\"},\"colorscale\":[[0.0,\"#0d0887\"],[0.1111111111111111,\"#46039f\"],[0.2222222222222222,\"#7201a8\"],[0.3333333333333333,\"#9c179e\"],[0.4444444444444444,\"#bd3786\"],[0.5555555555555556,\"#d8576b\"],[0.6666666666666666,\"#ed7953\"],[0.7777777777777778,\"#fb9f3a\"],[0.8888888888888888,\"#fdca26\"],[1.0,\"#f0f921\"]],\"type\":\"heatmapgl\"}],\"histogram\":[{\"marker\":{\"pattern\":{\"fillmode\":\"overlay\",\"size\":10,\"solidity\":0.2}},\"type\":\"histogram\"}],\"histogram2d\":[{\"colorbar\":{\"outlinewidth\":0,\"ticks\":\"\"},\"colorscale\":[[0.0,\"#0d0887\"],[0.1111111111111111,\"#46039f\"],[0.2222222222222222,\"#7201a8\"],[0.3333333333333333,\"#9c179e\"],[0.4444444444444444,\"#bd3786\"],[0.5555555555555556,\"#d8576b\"],[0.6666666666666666,\"#ed7953\"],[0.7777777777777778,\"#fb9f3a\"],[0.8888888888888888,\"#fdca26\"],[1.0,\"#f0f921\"]],\"type\":\"histogram2d\"}],\"histogram2dcontour\":[{\"colorbar\":{\"outlinewidth\":0,\"ticks\":\"\"},\"colorscale\":[[0.0,\"#0d0887\"],[0.1111111111111111,\"#46039f\"],[0.2222222222222222,\"#7201a8\"],[0.3333333333333333,\"#9c179e\"],[0.4444444444444444,\"#bd3786\"],[0.5555555555555556,\"#d8576b\"],[0.6666666666666666,\"#ed7953\"],[0.7777777777777778,\"#fb9f3a\"],[0.8888888888888888,\"#fdca26\"],[1.0,\"#f0f921\"]],\"type\":\"histogram2dcontour\"}],\"mesh3d\":[{\"colorbar\":{\"outlinewidth\":0,\"ticks\":\"\"},\"type\":\"mesh3d\"}],\"parcoords\":[{\"line\":{\"colorbar\":{\"outlinewidth\":0,\"ticks\":\"\"}},\"type\":\"parcoords\"}],\"pie\":[{\"automargin\":true,\"type\":\"pie\"}],\"scatter\":[{\"marker\":{\"colorbar\":{\"outlinewidth\":0,\"ticks\":\"\"}},\"type\":\"scatter\"}],\"scatter3d\":[{\"line\":{\"colorbar\":{\"outlinewidth\":0,\"ticks\":\"\"}},\"marker\":{\"colorbar\":{\"outlinewidth\":0,\"ticks\":\"\"}},\"type\":\"scatter3d\"}],\"scattercarpet\":[{\"marker\":{\"colorbar\":{\"outlinewidth\":0,\"ticks\":\"\"}},\"type\":\"scattercarpet\"}],\"scattergeo\":[{\"marker\":{\"colorbar\":{\"outlinewidth\":0,\"ticks\":\"\"}},\"type\":\"scattergeo\"}],\"scattergl\":[{\"marker\":{\"colorbar\":{\"outlinewidth\":0,\"ticks\":\"\"}},\"type\":\"scattergl\"}],\"scattermapbox\":[{\"marker\":{\"colorbar\":{\"outlinewidth\":0,\"ticks\":\"\"}},\"type\":\"scattermapbox\"}],\"scatterpolar\":[{\"marker\":{\"colorbar\":{\"outlinewidth\":0,\"ticks\":\"\"}},\"type\":\"scatterpolar\"}],\"scatterpolargl\":[{\"marker\":{\"colorbar\":{\"outlinewidth\":0,\"ticks\":\"\"}},\"type\":\"scatterpolargl\"}],\"scatterternary\":[{\"marker\":{\"colorbar\":{\"outlinewidth\":0,\"ticks\":\"\"}},\"type\":\"scatterternary\"}],\"surface\":[{\"colorbar\":{\"outlinewidth\":0,\"ticks\":\"\"},\"colorscale\":[[0.0,\"#0d0887\"],[0.1111111111111111,\"#46039f\"],[0.2222222222222222,\"#7201a8\"],[0.3333333333333333,\"#9c179e\"],[0.4444444444444444,\"#bd3786\"],[0.5555555555555556,\"#d8576b\"],[0.6666666666666666,\"#ed7953\"],[0.7777777777777778,\"#fb9f3a\"],[0.8888888888888888,\"#fdca26\"],[1.0,\"#f0f921\"]],\"type\":\"surface\"}],\"table\":[{\"cells\":{\"fill\":{\"color\":\"#EBF0F8\"},\"line\":{\"color\":\"white\"}},\"header\":{\"fill\":{\"color\":\"#C8D4E3\"},\"line\":{\"color\":\"white\"}},\"type\":\"table\"}]},\"layout\":{\"annotationdefaults\":{\"arrowcolor\":\"#2a3f5f\",\"arrowhead\":0,\"arrowwidth\":1},\"autotypenumbers\":\"strict\",\"coloraxis\":{\"colorbar\":{\"outlinewidth\":0,\"ticks\":\"\"}},\"colorscale\":{\"diverging\":[[0,\"#8e0152\"],[0.1,\"#c51b7d\"],[0.2,\"#de77ae\"],[0.3,\"#f1b6da\"],[0.4,\"#fde0ef\"],[0.5,\"#f7f7f7\"],[0.6,\"#e6f5d0\"],[0.7,\"#b8e186\"],[0.8,\"#7fbc41\"],[0.9,\"#4d9221\"],[1,\"#276419\"]],\"sequential\":[[0.0,\"#0d0887\"],[0.1111111111111111,\"#46039f\"],[0.2222222222222222,\"#7201a8\"],[0.3333333333333333,\"#9c179e\"],[0.4444444444444444,\"#bd3786\"],[0.5555555555555556,\"#d8576b\"],[0.6666666666666666,\"#ed7953\"],[0.7777777777777778,\"#fb9f3a\"],[0.8888888888888888,\"#fdca26\"],[1.0,\"#f0f921\"]],\"sequentialminus\":[[0.0,\"#0d0887\"],[0.1111111111111111,\"#46039f\"],[0.2222222222222222,\"#7201a8\"],[0.3333333333333333,\"#9c179e\"],[0.4444444444444444,\"#bd3786\"],[0.5555555555555556,\"#d8576b\"],[0.6666666666666666,\"#ed7953\"],[0.7777777777777778,\"#fb9f3a\"],[0.8888888888888888,\"#fdca26\"],[1.0,\"#f0f921\"]]},\"colorway\":[\"#636efa\",\"#EF553B\",\"#00cc96\",\"#ab63fa\",\"#FFA15A\",\"#19d3f3\",\"#FF6692\",\"#B6E880\",\"#FF97FF\",\"#FECB52\"],\"font\":{\"color\":\"#2a3f5f\"},\"geo\":{\"bgcolor\":\"white\",\"lakecolor\":\"white\",\"landcolor\":\"#E5ECF6\",\"showlakes\":true,\"showland\":true,\"subunitcolor\":\"white\"},\"hoverlabel\":{\"align\":\"left\"},\"hovermode\":\"closest\",\"mapbox\":{\"style\":\"light\"},\"paper_bgcolor\":\"white\",\"plot_bgcolor\":\"#E5ECF6\",\"polar\":{\"angularaxis\":{\"gridcolor\":\"white\",\"linecolor\":\"white\",\"ticks\":\"\"},\"bgcolor\":\"#E5ECF6\",\"radialaxis\":{\"gridcolor\":\"white\",\"linecolor\":\"white\",\"ticks\":\"\"}},\"scene\":{\"xaxis\":{\"backgroundcolor\":\"#E5ECF6\",\"gridcolor\":\"white\",\"gridwidth\":2,\"linecolor\":\"white\",\"showbackground\":true,\"ticks\":\"\",\"zerolinecolor\":\"white\"},\"yaxis\":{\"backgroundcolor\":\"#E5ECF6\",\"gridcolor\":\"white\",\"gridwidth\":2,\"linecolor\":\"white\",\"showbackground\":true,\"ticks\":\"\",\"zerolinecolor\":\"white\"},\"zaxis\":{\"backgroundcolor\":\"#E5ECF6\",\"gridcolor\":\"white\",\"gridwidth\":2,\"linecolor\":\"white\",\"showbackground\":true,\"ticks\":\"\",\"zerolinecolor\":\"white\"}},\"shapedefaults\":{\"line\":{\"color\":\"#2a3f5f\"}},\"ternary\":{\"aaxis\":{\"gridcolor\":\"white\",\"linecolor\":\"white\",\"ticks\":\"\"},\"baxis\":{\"gridcolor\":\"white\",\"linecolor\":\"white\",\"ticks\":\"\"},\"bgcolor\":\"#E5ECF6\",\"caxis\":{\"gridcolor\":\"white\",\"linecolor\":\"white\",\"ticks\":\"\"}},\"title\":{\"x\":0.05},\"xaxis\":{\"automargin\":true,\"gridcolor\":\"white\",\"linecolor\":\"white\",\"ticks\":\"\",\"title\":{\"standoff\":15},\"zerolinecolor\":\"white\",\"zerolinewidth\":2},\"yaxis\":{\"automargin\":true,\"gridcolor\":\"white\",\"linecolor\":\"white\",\"ticks\":\"\",\"title\":{\"standoff\":15},\"zerolinecolor\":\"white\",\"zerolinewidth\":2}}},\"title\":{\"text\":\"Th\\u1ed1ng k\\u00ea s\\u1ea3n ph\\u1ea9m theo Bang\",\"x\":0.4},\"margin\":{\"t\":100,\"b\":20,\"l\":0,\"r\":0},\"width\":900,\"height\":450,\"autosize\":false,\"updatemenus\":[{\"active\":0,\"buttons\":[{\"args\":[{\"x\":[[\"CA\",\"CA\",\"TX\",\"WI\",\"WI\",\"TX\",\"TX\",\"CA\",\"WI\",\"CA\",\"CA\",\"TX\",\"WI\",\"CA\",\"TX\",\"TX\",\"CA\",\"CA\",\"WI\",\"WI\",\"CA\",\"CA\",\"WI\",\"CA\",\"WI\",\"TX\",\"TX\",\"CA\",\"CA\",\"TX\",\"WI\",\"WI\",\"CA\",\"CA\",\"CA\",\"TX\",\"CA\",\"CA\",\"WI\",\"CA\",\"TX\",\"WI\",\"CA\",\"TX\",\"WI\",\"TX\",\"WI\",\"TX\",\"TX\",\"CA\",\"CA\",\"CA\",\"WI\",\"TX\",\"TX\",\"TX\",\"WI\",\"WI\",\"WI\",\"CA\",\"CA\",\"TX\",\"TX\",\"CA\",\"CA\",\"WI\",\"TX\",\"WI\",\"WI\",\"CA\"],\"undefined\"],\"y\":[[2478,2268,2044,2293,1269,1686,1239,1575,1130,457,759,480,353,627,383,418,529,361,155,584,531,674,360,528,583,534,460,341,406,390,598,108,522,297,286,364,158,351,191,180,210,343,234,232,256,138,152,241,152,113,181,212,180,199,106,120,148,148,98,64,19,21,11,16,28,17,10,10,22,0],\"undefined\"],\"visible\":[true,false]}],\"label\":\"d_1\",\"method\":\"restyle\"},{\"args\":[{\"x\":[[\"CA\",\"CA\",\"TX\",\"WI\",\"WI\",\"TX\",\"TX\",\"CA\",\"WI\",\"CA\",\"CA\",\"TX\",\"WI\",\"CA\",\"TX\",\"TX\",\"CA\",\"CA\",\"WI\",\"WI\",\"CA\",\"CA\",\"WI\",\"CA\",\"WI\",\"TX\",\"TX\",\"CA\",\"CA\",\"TX\",\"WI\",\"WI\",\"CA\",\"CA\",\"CA\",\"TX\",\"CA\",\"CA\",\"WI\",\"CA\",\"TX\",\"WI\",\"CA\",\"TX\",\"WI\",\"TX\",\"WI\",\"TX\",\"TX\",\"CA\",\"CA\",\"CA\",\"WI\",\"TX\",\"TX\",\"TX\",\"WI\",\"WI\",\"WI\",\"CA\",\"CA\",\"TX\",\"TX\",\"CA\",\"CA\",\"WI\",\"TX\",\"WI\",\"WI\",\"CA\"],\"undefined\"],\"y\":[[2539,1959,1837,2077,873,1313,1231,1382,868,827,681,441,434,699,343,411,644,422,183,592,469,561,415,644,513,473,233,334,422,330,487,67,595,306,327,359,198,297,194,190,158,248,306,169,253,130,134,199,128,109,225,188,133,167,111,108,171,116,79,101,40,22,27,17,25,15,13,14,21,2],\"undefined\"],\"visible\":[true,false]}],\"label\":\"d_50\",\"method\":\"restyle\"},{\"args\":[{\"x\":[[\"CA\",\"CA\",\"TX\",\"WI\",\"WI\",\"TX\",\"TX\",\"CA\",\"WI\",\"CA\",\"CA\",\"TX\",\"WI\",\"CA\",\"TX\",\"TX\",\"CA\",\"CA\",\"WI\",\"WI\",\"CA\",\"CA\",\"WI\",\"CA\",\"WI\",\"TX\",\"TX\",\"CA\",\"CA\",\"TX\",\"WI\",\"WI\",\"CA\",\"CA\",\"CA\",\"TX\",\"CA\",\"CA\",\"WI\",\"CA\",\"TX\",\"WI\",\"CA\",\"TX\",\"WI\",\"TX\",\"WI\",\"TX\",\"TX\",\"CA\",\"CA\",\"CA\",\"WI\",\"TX\",\"TX\",\"TX\",\"WI\",\"WI\",\"WI\",\"CA\",\"CA\",\"TX\",\"TX\",\"CA\",\"CA\",\"WI\",\"TX\",\"WI\",\"WI\",\"CA\"],\"undefined\"],\"y\":[[1848,1406,2164,1674,478,1360,1513,694,392,374,738,342,109,219,206,334,158,140,23,246,243,143,57,71,168,201,136,235,105,162,49,14,94,82,198,143,119,71,50,92,162,73,60,105,105,90,124,99,75,53,80,36,16,89,82,55,34,87,6,49,13,30,10,8,19,1,3,0,4,8],\"undefined\"],\"visible\":[true,false]}],\"label\":\"d_300\",\"method\":\"restyle\"},{\"args\":[{\"x\":[[\"CA\",\"CA\",\"TX\",\"WI\",\"WI\",\"TX\",\"TX\",\"CA\",\"WI\",\"CA\",\"CA\",\"TX\",\"WI\",\"CA\",\"TX\",\"TX\",\"CA\",\"CA\",\"WI\",\"WI\",\"CA\",\"CA\",\"WI\",\"CA\",\"WI\",\"TX\",\"TX\",\"CA\",\"CA\",\"TX\",\"WI\",\"WI\",\"CA\",\"CA\",\"CA\",\"TX\",\"CA\",\"CA\",\"WI\",\"CA\",\"TX\",\"WI\",\"CA\",\"TX\",\"WI\",\"TX\",\"WI\",\"TX\",\"TX\",\"CA\",\"CA\",\"CA\",\"WI\",\"TX\",\"TX\",\"TX\",\"WI\",\"WI\",\"WI\",\"CA\",\"CA\",\"TX\",\"TX\",\"CA\",\"CA\",\"WI\",\"TX\",\"WI\",\"WI\",\"CA\"],\"undefined\"],\"y\":[[4358,2492,2942,3281,2086,1999,1964,1432,879,1034,1371,720,563,673,556,630,618,518,737,546,370,480,428,455,531,528,441,362,348,369,239,38,267,228,261,312,176,304,292,263,309,201,195,208,255,158,310,167,249,157,122,130,156,167,104,100,91,114,72,98,34,24,39,11,15,19,14,13,10,3],\"undefined\"],\"visible\":[true,false]}],\"label\":\"d_500\",\"method\":\"restyle\"},{\"args\":[{\"x\":[[\"CA\",\"CA\",\"TX\",\"WI\",\"WI\",\"TX\",\"TX\",\"CA\",\"WI\",\"CA\",\"CA\",\"TX\",\"WI\",\"CA\",\"TX\",\"TX\",\"CA\",\"CA\",\"WI\",\"WI\",\"CA\",\"CA\",\"WI\",\"CA\",\"WI\",\"TX\",\"TX\",\"CA\",\"CA\",\"TX\",\"WI\",\"WI\",\"CA\",\"CA\",\"CA\",\"TX\",\"CA\",\"CA\",\"WI\",\"CA\",\"TX\",\"WI\",\"CA\",\"TX\",\"WI\",\"TX\",\"WI\",\"TX\",\"TX\",\"CA\",\"CA\",\"CA\",\"WI\",\"TX\",\"TX\",\"TX\",\"WI\",\"WI\",\"WI\",\"CA\",\"CA\",\"TX\",\"TX\",\"CA\",\"CA\",\"WI\",\"TX\",\"WI\",\"WI\",\"CA\"],\"undefined\"],\"y\":[[2441,1762,1896,1868,1620,1265,1254,1108,1376,1201,746,1093,833,532,797,865,665,528,387,734,370,447,464,274,301,389,311,314,388,288,232,320,200,206,240,279,226,234,300,232,435,216,176,160,238,214,195,124,171,112,152,112,154,188,114,110,112,93,87,78,26,20,18,22,9,11,0,5,9,0],\"undefined\"],\"visible\":[true,false]}],\"label\":\"d_700\",\"method\":\"restyle\"},{\"args\":[{\"x\":[[\"CA\",\"CA\",\"TX\",\"WI\",\"WI\",\"TX\",\"TX\",\"CA\",\"WI\",\"CA\",\"CA\",\"TX\",\"WI\",\"CA\",\"TX\",\"TX\",\"CA\",\"CA\",\"WI\",\"WI\",\"CA\",\"CA\",\"WI\",\"CA\",\"WI\",\"TX\",\"TX\",\"CA\",\"CA\",\"TX\",\"WI\",\"WI\",\"CA\",\"CA\",\"CA\",\"TX\",\"CA\",\"CA\",\"WI\",\"CA\",\"TX\",\"WI\",\"CA\",\"TX\",\"WI\",\"TX\",\"WI\",\"TX\",\"TX\",\"CA\",\"CA\",\"CA\",\"WI\",\"TX\",\"TX\",\"TX\",\"WI\",\"WI\",\"WI\",\"CA\",\"CA\",\"TX\",\"TX\",\"CA\",\"CA\",\"WI\",\"TX\",\"WI\",\"WI\",\"CA\"],\"undefined\"],\"y\":[[2617,1977,1855,1880,2167,1332,1212,1134,1286,1258,989,770,775,522,586,668,639,545,733,444,579,428,465,424,282,425,347,421,387,252,302,319,282,314,278,358,372,257,303,319,338,297,187,229,179,242,158,197,148,180,149,95,179,134,97,103,87,76,101,102,14,33,31,17,14,15,11,5,14,2],\"undefined\"],\"visible\":[true,false]}],\"label\":\"d_900\",\"method\":\"restyle\"},{\"args\":[{\"x\":[[\"CA\",\"CA\",\"TX\",\"WI\",\"WI\",\"TX\",\"TX\",\"CA\",\"WI\",\"CA\",\"CA\",\"TX\",\"WI\",\"CA\",\"TX\",\"TX\",\"CA\",\"CA\",\"WI\",\"WI\",\"CA\",\"CA\",\"WI\",\"CA\",\"WI\",\"TX\",\"TX\",\"CA\",\"CA\",\"TX\",\"WI\",\"WI\",\"CA\",\"CA\",\"CA\",\"TX\",\"CA\",\"CA\",\"WI\",\"CA\",\"TX\",\"WI\",\"CA\",\"TX\",\"WI\",\"TX\",\"WI\",\"TX\",\"TX\",\"CA\",\"CA\",\"CA\",\"WI\",\"TX\",\"TX\",\"TX\",\"WI\",\"WI\",\"WI\",\"CA\",\"CA\",\"TX\",\"TX\",\"CA\",\"CA\",\"WI\",\"TX\",\"WI\",\"WI\",\"CA\"],\"undefined\"],\"y\":[[3266,3432,2573,1966,2546,2158,1910,1910,1800,1169,1670,855,1005,579,848,824,1086,973,471,698,443,641,616,659,241,406,451,307,494,361,424,483,486,469,299,333,447,326,397,422,335,294,377,318,239,231,255,259,166,267,291,164,301,169,158,166,128,128,138,153,28,40,45,63,46,43,23,28,23,13],\"undefined\"],\"visible\":[true,false]}],\"label\":\"d_1100\",\"method\":\"restyle\"},{\"args\":[{\"x\":[[\"CA\",\"CA\",\"TX\",\"WI\",\"WI\",\"TX\",\"TX\",\"CA\",\"WI\",\"CA\",\"CA\",\"TX\",\"WI\",\"CA\",\"TX\",\"TX\",\"CA\",\"CA\",\"WI\",\"WI\",\"CA\",\"CA\",\"WI\",\"CA\",\"WI\",\"TX\",\"TX\",\"CA\",\"CA\",\"TX\",\"WI\",\"WI\",\"CA\",\"CA\",\"CA\",\"TX\",\"CA\",\"CA\",\"WI\",\"CA\",\"TX\",\"WI\",\"CA\",\"TX\",\"WI\",\"TX\",\"WI\",\"TX\",\"TX\",\"CA\",\"CA\",\"CA\",\"WI\",\"TX\",\"TX\",\"TX\",\"WI\",\"WI\",\"WI\",\"CA\",\"CA\",\"TX\",\"TX\",\"CA\",\"CA\",\"WI\",\"TX\",\"WI\",\"WI\",\"CA\"],\"undefined\"],\"y\":[[4211,2841,1991,1948,2478,1766,1694,1146,2166,2034,1388,838,888,873,915,897,894,1162,1320,742,741,742,766,548,553,524,534,551,311,508,372,819,408,357,439,373,347,393,370,406,207,316,398,398,287,215,169,271,225,207,261,116,248,233,191,184,236,180,155,169,55,63,32,55,60,64,21,33,49,27],\"undefined\"],\"visible\":[true,false]}],\"label\":\"d_1500\",\"method\":\"restyle\"},{\"args\":[{\"x\":[[\"CA\",\"CA\",\"TX\",\"WI\",\"WI\",\"TX\",\"TX\",\"CA\",\"WI\",\"CA\",\"CA\",\"TX\",\"WI\",\"CA\",\"TX\",\"TX\",\"CA\",\"CA\",\"WI\",\"WI\",\"CA\",\"CA\",\"WI\",\"CA\",\"WI\",\"TX\",\"TX\",\"CA\",\"CA\",\"TX\",\"WI\",\"WI\",\"CA\",\"CA\",\"CA\",\"TX\",\"CA\",\"CA\",\"WI\",\"CA\",\"TX\",\"WI\",\"CA\",\"TX\",\"WI\",\"TX\",\"WI\",\"TX\",\"TX\",\"CA\",\"CA\",\"CA\",\"WI\",\"TX\",\"TX\",\"TX\",\"WI\",\"WI\",\"WI\",\"CA\",\"CA\",\"TX\",\"TX\",\"CA\",\"CA\",\"WI\",\"TX\",\"WI\",\"WI\",\"CA\"],\"undefined\"],\"y\":[[2517,1584,1528,1405,1441,1542,1045,1558,1189,1167,962,710,782,493,671,680,550,626,661,496,486,365,458,359,294,312,384,421,331,337,319,465,355,321,254,259,398,330,358,375,231,305,256,218,214,339,183,176,204,198,148,312,174,151,110,134,97,100,108,89,66,88,33,43,27,44,35,36,41,19],\"undefined\"],\"visible\":[true,false]}],\"label\":\"d_1700\",\"method\":\"restyle\"},{\"args\":[{\"x\":[[\"CA\",\"CA\",\"TX\",\"WI\",\"WI\",\"TX\",\"TX\",\"CA\",\"WI\",\"CA\",\"CA\",\"TX\",\"WI\",\"CA\",\"TX\",\"TX\",\"CA\",\"CA\",\"WI\",\"WI\",\"CA\",\"CA\",\"WI\",\"CA\",\"WI\",\"TX\",\"TX\",\"CA\",\"CA\",\"TX\",\"WI\",\"WI\",\"CA\",\"CA\",\"CA\",\"TX\",\"CA\",\"CA\",\"WI\",\"CA\",\"TX\",\"WI\",\"CA\",\"TX\",\"WI\",\"TX\",\"WI\",\"TX\",\"TX\",\"CA\",\"CA\",\"CA\",\"WI\",\"TX\",\"TX\",\"TX\",\"WI\",\"WI\",\"WI\",\"CA\",\"CA\",\"TX\",\"TX\",\"CA\",\"CA\",\"WI\",\"TX\",\"WI\",\"WI\",\"CA\"],\"undefined\"],\"y\":[[5576362,3927835,3725146,3520357,3144591,2997456,2781040,2429853,2330856,2147073,1938580,1254219,1214718,1202566,1160237,1145836,1106852,1100165,1092639,1017626,885518,885144,822875,821524,811498,781462,754172,736862,717687,631513,608123,600794,578283,567849,564370,560671,541858,537315,530954,530925,508516,506702,460561,459967,426000,411460,398825,386024,365656,343530,340545,332719,328492,309044,242163,238747,232139,212808,190896,188871,75429,75326,67291,59520,55154,47573,43060,41722,40668,22597],\"undefined\"],\"visible\":[true,false]}],\"label\":\"total_sales_all_days\",\"method\":\"restyle\"},{\"args\":[{\"x\":[[\"CA\",\"CA\",\"TX\",\"WI\",\"WI\",\"TX\",\"TX\",\"CA\",\"WI\",\"CA\",\"CA\",\"TX\",\"WI\",\"CA\",\"TX\",\"TX\",\"CA\",\"CA\",\"WI\",\"WI\",\"CA\",\"CA\",\"WI\",\"CA\",\"WI\",\"TX\",\"TX\",\"CA\",\"CA\",\"TX\",\"WI\",\"WI\",\"CA\",\"CA\",\"CA\",\"TX\",\"CA\",\"CA\",\"WI\",\"CA\",\"TX\",\"WI\",\"CA\",\"TX\",\"WI\",\"TX\",\"WI\",\"TX\",\"TX\",\"CA\",\"CA\",\"CA\",\"WI\",\"TX\",\"TX\",\"TX\",\"WI\",\"WI\",\"WI\",\"CA\",\"CA\",\"TX\",\"TX\",\"CA\",\"CA\",\"WI\",\"TX\",\"WI\",\"WI\",\"CA\"],\"undefined\"],\"y\":[[2062.0,1335.0,1295.0,1131.0,866.0,983.0,887.0,679.0,636.0,743.0,578.0,360.0,348.0,385.0,338.0,339.0,289.0,304.0,205.0,284.0,214.0,251.0,200.0,180.0,177.0,210.0,212.0,205.0,190.0,151.0,131.0,56.0,86.0,143.0,101.0,91.0,114.0,121.0,125.0,97.0,120.0,132.0,66.0,61.0,63.0,79.0,77.0,36.0,61.0,73.0,26.0,58.0,28.0,23.0,13.0,19.0,9.0,17.0,9.0,9.0,3.0,1.0,1.0,0.0,0.0,0.0,0.0,0.0,0.0,0.0],\"undefined\"],\"visible\":[true,false]}],\"label\":\"median_sales_all_days\",\"method\":\"restyle\"}],\"x\":0.15,\"xanchor\":\"left\",\"y\":1.13,\"yanchor\":\"top\"}],\"annotations\":[{\"showarrow\":false,\"text\":\"Theo Bang v\\u1edbi: \",\"x\":0.0,\"xanchor\":\"left\",\"xref\":\"paper\",\"y\":1.11,\"yref\":\"paper\"}]},                        {\"responsive\": true}                    ).then(function(){\n",
              "                            \n",
              "var gd = document.getElementById('bc269a6c-05a9-4963-8c99-d0c717bf1624');\n",
              "var x = new MutationObserver(function (mutations, observer) {{\n",
              "        var display = window.getComputedStyle(gd).display;\n",
              "        if (!display || display === 'none') {{\n",
              "            console.log([gd, 'removed!']);\n",
              "            Plotly.purge(gd);\n",
              "            observer.disconnect();\n",
              "        }}\n",
              "}});\n",
              "\n",
              "// Listen for the removal of the full notebook cells\n",
              "var notebookContainer = gd.closest('#notebook-container');\n",
              "if (notebookContainer) {{\n",
              "    x.observe(notebookContainer, {childList: true});\n",
              "}}\n",
              "\n",
              "// Listen for the clearing of the current output cell\n",
              "var outputEl = gd.closest('.output');\n",
              "if (outputEl) {{\n",
              "    x.observe(outputEl, {childList: true});\n",
              "}}\n",
              "\n",
              "                        })                };                            </script>        </div>\n",
              "</body>\n",
              "</html>"
            ]
          },
          "metadata": {}
        }
      ]
    },
    {
      "cell_type": "markdown",
      "source": [
        "The data_analysis on these points helps make it clear that:\n",
        "- Regarding the distribution of sales across department ids, most sales have been made across \"FOODS_3\" category followed by most sales made across household_1 category\n",
        "- Stores locale identity along with embedded state_ids helpe make it clear that the distribution of sales across Texas & Wisconsin stores are NOT the same , though the total number represented across categories (foods, houshold and hobbies) might have come the same.\n",
        "- The outperformers in Each state of CA, TX and Wisonsin are the stores with ids CA_3, TX_2 and WI_3 respectively"
      ],
      "metadata": {
        "id": "NNFFi2NamQGC"
      }
    },
    {
      "cell_type": "markdown",
      "source": [
        "#### Thống kê theo mặt hàng bán chạy nhất"
      ],
      "metadata": {
        "id": "NFgAqG5RmQGD"
      }
    },
    {
      "cell_type": "markdown",
      "source": [
        "Since the train_sales_df contains the information about each specific item and the number of sales made, we can make a few observations regarding the most frequently purchased item too.\n",
        "\n",
        "We could plot its behavior across the number of days to get a general gist of its sales pattern across given days. i.e d_1 to d_1913"
      ],
      "metadata": {
        "id": "AAI83Y-rmQGE"
      }
    },
    {
      "cell_type": "code",
      "source": [
        "train_sales_df.groupby(['id'])['total_sales_all_days'].sum().sort_values(ascending=False) # tạo dataframe chưa danh sách mặt hàng bán chạy nhất sắp xếp từ thấp đến cao\n"
      ],
      "metadata": {
        "execution": {
          "iopub.status.busy": "2021-12-29T13:38:15.876958Z",
          "iopub.execute_input": "2021-12-29T13:38:15.877253Z",
          "iopub.status.idle": "2021-12-29T13:38:15.966956Z",
          "shell.execute_reply.started": "2021-12-29T13:38:15.877206Z",
          "shell.execute_reply": "2021-12-29T13:38:15.965706Z"
        },
        "trusted": true,
        "id": "cAR2C2WbmQGE",
        "outputId": "136b0796-c03f-4e4b-91f0-591ef938a8a2",
        "colab": {
          "base_uri": "https://localhost:8080/"
        }
      },
      "execution_count": 154,
      "outputs": [
        {
          "output_type": "execute_result",
          "data": {
            "text/plain": [
              "id\n",
              "FOODS_3_090_CA_3_validation        250502\n",
              "FOODS_3_586_TX_2_validation        192835\n",
              "FOODS_3_586_TX_3_validation        150122\n",
              "FOODS_3_586_CA_3_validation        134386\n",
              "FOODS_3_090_CA_1_validation        127203\n",
              "                                    ...  \n",
              "FOODS_2_071_TX_3_validation            16\n",
              "FOODS_2_057_WI_2_validation            16\n",
              "HOBBIES_1_170_WI_3_validation          13\n",
              "FOODS_3_778_CA_2_validation            12\n",
              "HOUSEHOLD_1_020_CA_3_validation        10\n",
              "Name: total_sales_all_days, Length: 30490, dtype: int64"
            ]
          },
          "metadata": {},
          "execution_count": 154
        }
      ]
    },
    {
      "cell_type": "markdown",
      "source": [
        "Once the total number of sales have been grouped against specific item id i.e. 'id' parameter, it is clear that the item \"**FOODS_3_090_CA_3_validation**\" has clearly sold most units than any other item in the category followed by **\"FOODS_3_586_TX_2_validation\"**. i.e. the first item belongs to food_3 category and sold in the CA_3 store location. Similarly, the second one belongs to TX_2 store location (i.e. second store in Texas) also belonging to the same category of FOODS_3 which is also consistent with observations made before"
      ],
      "metadata": {
        "id": "5qTqO-hRmQGG"
      }
    },
    {
      "cell_type": "code",
      "source": [
        "# thiết lập lại kiểu cho đối tượng seaborn\n",
        "sns.set_style('whitegrid')\n",
        "\n",
        "# tạo hàm vẻ đồ thị với tham số truyền vào là sản phẩm muốn xem và title\n",
        "\n",
        "def plot_dailysales(spec_id,title):    \n",
        "    train_sales_df.loc[train_sales_df['id'] == spec_id ].set_index('id')[d_cols]\\\n",
        "                  .T\\\n",
        "                  .plot(figsize = (13,2.5),\n",
        "                        title = title,\n",
        "                        color = next(color_cycle))\n",
        "    plt.legend()\n",
        "    plt.show()\n",
        "\n",
        "plot_dailysales('FOODS_3_090_CA_3_validation',\"Sản phẩm FOODS_3_090_CA_3_validation top 1 doanh số bán ra theo từng ngày\") \n",
        "plot_dailysales('FOODS_3_090_CA_3_validation',\"Sản phẩm FOODS_3_090_CA_3_validation top 2 doanh số bán ra theo từng ngày\")"
      ],
      "metadata": {
        "execution": {
          "iopub.status.busy": "2021-12-29T13:38:15.968857Z",
          "iopub.execute_input": "2021-12-29T13:38:15.969265Z",
          "iopub.status.idle": "2021-12-29T13:38:16.630975Z",
          "shell.execute_reply.started": "2021-12-29T13:38:15.969192Z",
          "shell.execute_reply": "2021-12-29T13:38:16.629804Z"
        },
        "trusted": true,
        "id": "hUd1MepjmQGH",
        "outputId": "9803ace3-f6d7-4d4c-96bf-7e40c8fb78f6",
        "colab": {
          "base_uri": "https://localhost:8080/",
          "height": 387
        }
      },
      "execution_count": 164,
      "outputs": [
        {
          "output_type": "display_data",
          "data": {
            "text/plain": [
              "<Figure size 936x180 with 1 Axes>"
            ],
            "image/png": "[encoded data removed]"
          },
          "metadata": {}
        },
        {
          "output_type": "display_data",
          "data": {
            "text/plain": [
              "<Figure size 936x180 with 1 Axes>"
            ],
            "image/png": "[encoded data removed]"
          },
          "metadata": {}
        }
      ]
    },
    {
      "cell_type": "markdown",
      "source": [
        "#### Mặt hàng bán chạy nhất trong mỗi danh mục"
      ],
      "metadata": {
        "id": "Jq5C61F7mQGH"
      }
    },
    {
      "cell_type": "code",
      "source": [
        "# tạo dataframe sắp xếp doanh số tất cã ngày theo kiểu giảm dần\n",
        "df_agg = pd.DataFrame(train_sales_df.groupby(['id', 'cat_id', 'store_id'])['total_sales_all_days'].sum().sort_values(ascending=False))\n",
        "df_agg = df_agg.reset_index()\n",
        "df_agg.head(3)"
      ],
      "metadata": {
        "execution": {
          "iopub.status.busy": "2021-12-29T13:38:16.633125Z",
          "iopub.execute_input": "2021-12-29T13:38:16.633868Z",
          "iopub.status.idle": "2021-12-29T13:38:16.741854Z",
          "shell.execute_reply.started": "2021-12-29T13:38:16.633797Z",
          "shell.execute_reply": "2021-12-29T13:38:16.740899Z"
        },
        "trusted": true,
        "id": "52PJGMXXmQGI",
        "outputId": "c992e791-5b34-49a1-a18c-1b944c1066ce",
        "colab": {
          "base_uri": "https://localhost:8080/",
          "height": 143
        }
      },
      "execution_count": 197,
      "outputs": [
        {
          "output_type": "execute_result",
          "data": {
            "text/plain": [
              "                            id cat_id store_id  total_sales_all_days\n",
              "0  FOODS_3_090_CA_3_validation  FOODS     CA_3                250502\n",
              "1  FOODS_3_586_TX_2_validation  FOODS     TX_2                192835\n",
              "2  FOODS_3_586_TX_3_validation  FOODS     TX_3                150122"
            ],
            "text/html": [
              "\n",
              "  <div id=\"df-88d83ece-1535-439a-a460-008cbbeb8ee6\">\n",
              "    <div class=\"colab-df-container\">\n",
              "      <div>\n",
              "<style scoped>\n",
              "    .dataframe tbody tr th:only-of-type {\n",
              "        vertical-align: middle;\n",
              "    }\n",
              "\n",
              "    .dataframe tbody tr th {\n",
              "        vertical-align: top;\n",
              "    }\n",
              "\n",
              "    .dataframe thead th {\n",
              "        text-align: right;\n",
              "    }\n",
              "</style>\n",
              "<table border=\"1\" class=\"dataframe\">\n",
              "  <thead>\n",
              "    <tr style=\"text-align: right;\">\n",
              "      <th></th>\n",
              "      <th>id</th>\n",
              "      <th>cat_id</th>\n",
              "      <th>store_id</th>\n",
              "      <th>total_sales_all_days</th>\n",
              "    </tr>\n",
              "  </thead>\n",
              "  <tbody>\n",
              "    <tr>\n",
              "      <th>0</th>\n",
              "      <td>FOODS_3_090_CA_3_validation</td>\n",
              "      <td>FOODS</td>\n",
              "      <td>CA_3</td>\n",
              "      <td>250502</td>\n",
              "    </tr>\n",
              "    <tr>\n",
              "      <th>1</th>\n",
              "      <td>FOODS_3_586_TX_2_validation</td>\n",
              "      <td>FOODS</td>\n",
              "      <td>TX_2</td>\n",
              "      <td>192835</td>\n",
              "    </tr>\n",
              "    <tr>\n",
              "      <th>2</th>\n",
              "      <td>FOODS_3_586_TX_3_validation</td>\n",
              "      <td>FOODS</td>\n",
              "      <td>TX_3</td>\n",
              "      <td>150122</td>\n",
              "    </tr>\n",
              "  </tbody>\n",
              "</table>\n",
              "</div>\n",
              "      <button class=\"colab-df-convert\" onclick=\"convertToInteractive('df-88d83ece-1535-439a-a460-008cbbeb8ee6')\"\n",
              "              title=\"Convert this dataframe to an interactive table.\"\n",
              "              style=\"display:none;\">\n",
              "        \n",
              "  <svg xmlns=\"http://www.w3.org/2000/svg\" height=\"24px\"viewBox=\"0 0 24 24\"\n",
              "       width=\"24px\">\n",
              "    <path d=\"M0 0h24v24H0V0z\" fill=\"none\"/>\n",
              "    <path d=\"M18.56 5.44l.94 2.06.94-2.06 2.06-.94-2.06-.94-.94-2.06-.94 2.06-2.06.94zm-11 1L8.5 8.5l.94-2.06 2.06-.94-2.06-.94L8.5 2.5l-.94 2.06-2.06.94zm10 10l.94 2.06.94-2.06 2.06-.94-2.06-.94-.94-2.06-.94 2.06-2.06.94z\"/><path d=\"M17.41 7.96l-1.37-1.37c-.4-.4-.92-.59-1.43-.59-.52 0-1.04.2-1.43.59L10.3 9.45l-7.72 7.72c-.78.78-.78 2.05 0 2.83L4 21.41c.39.39.9.59 1.41.59.51 0 1.02-.2 1.41-.59l7.78-7.78 2.81-2.81c.8-.78.8-2.07 0-2.86zM5.41 20L4 18.59l7.72-7.72 1.47 1.35L5.41 20z\"/>\n",
              "  </svg>\n",
              "      </button>\n",
              "      \n",
              "  <style>\n",
              "    .colab-df-container {\n",
              "      display:flex;\n",
              "      flex-wrap:wrap;\n",
              "      gap: 12px;\n",
              "    }\n",
              "\n",
              "    .colab-df-convert {\n",
              "      background-color: #E8F0FE;\n",
              "      border: none;\n",
              "      border-radius: 50%;\n",
              "      cursor: pointer;\n",
              "      display: none;\n",
              "      fill: #1967D2;\n",
              "      height: 32px;\n",
              "      padding: 0 0 0 0;\n",
              "      width: 32px;\n",
              "    }\n",
              "\n",
              "    .colab-df-convert:hover {\n",
              "      background-color: #E2EBFA;\n",
              "      box-shadow: 0px 1px 2px rgba(60, 64, 67, 0.3), 0px 1px 3px 1px rgba(60, 64, 67, 0.15);\n",
              "      fill: #174EA6;\n",
              "    }\n",
              "\n",
              "    [theme=dark] .colab-df-convert {\n",
              "      background-color: #3B4455;\n",
              "      fill: #D2E3FC;\n",
              "    }\n",
              "\n",
              "    [theme=dark] .colab-df-convert:hover {\n",
              "      background-color: #434B5C;\n",
              "      box-shadow: 0px 1px 3px 1px rgba(0, 0, 0, 0.15);\n",
              "      filter: drop-shadow(0px 1px 2px rgba(0, 0, 0, 0.3));\n",
              "      fill: #FFFFFF;\n",
              "    }\n",
              "  </style>\n",
              "\n",
              "      <script>\n",
              "        const buttonEl =\n",
              "          document.querySelector('#df-88d83ece-1535-439a-a460-008cbbeb8ee6 button.colab-df-convert');\n",
              "        buttonEl.style.display =\n",
              "          google.colab.kernel.accessAllowed ? 'block' : 'none';\n",
              "\n",
              "        async function convertToInteractive(key) {\n",
              "          const element = document.querySelector('#df-88d83ece-1535-439a-a460-008cbbeb8ee6');\n",
              "          const dataTable =\n",
              "            await google.colab.kernel.invokeFunction('convertToInteractive',\n",
              "                                                     [key], {});\n",
              "          if (!dataTable) return;\n",
              "\n",
              "          const docLinkHtml = 'Like what you see? Visit the ' +\n",
              "            '<a target=\"_blank\" href=https://colab.research.google.com/notebooks/data_table.ipynb>data table notebook</a>'\n",
              "            + ' to learn more about interactive tables.';\n",
              "          element.innerHTML = '';\n",
              "          dataTable['output_type'] = 'display_data';\n",
              "          await google.colab.output.renderOutput(dataTable, element);\n",
              "          const docLink = document.createElement('div');\n",
              "          docLink.innerHTML = docLinkHtml;\n",
              "          element.appendChild(docLink);\n",
              "        }\n",
              "      </script>\n",
              "    </div>\n",
              "  </div>\n",
              "  "
            ]
          },
          "metadata": {},
          "execution_count": 197
        }
      ]
    },
    {
      "cell_type": "markdown",
      "source": [],
      "metadata": {
        "id": "WM5Nf44qmQGI"
      }
    },
    {
      "cell_type": "code",
      "source": [
        "# hiển thị 3 mặt hàng dẫn đầu doanh số theo từng danh mục\n",
        "print(\"The 3 item_ids outselling most in FOODS category are: {}\".format(list(df_agg.loc[df_agg['cat_id'] == 'FOODS']['id'][:3])))\n",
        "print(\"The 3 item_ids outselling most in HOUSEHOLDS category are: {}\".format(list(df_agg.loc[df_agg['cat_id'] == 'HOUSEHOLD']['id'][:3])))\n",
        "print(\"The 3 item_ids outselling most in HOBBIES category are: {}\".format(list(df_agg.loc[df_agg['cat_id'] == 'HOBBIES']['id'][:3])))\n"
      ],
      "metadata": {
        "execution": {
          "iopub.status.busy": "2021-12-29T13:38:16.743101Z",
          "iopub.execute_input": "2021-12-29T13:38:16.743415Z",
          "iopub.status.idle": "2021-12-29T13:38:16.77877Z",
          "shell.execute_reply.started": "2021-12-29T13:38:16.743329Z",
          "shell.execute_reply": "2021-12-29T13:38:16.777907Z"
        },
        "trusted": true,
        "id": "KAzPz_HdmQGI",
        "outputId": "18966b4b-5e9b-4423-a1a8-5a1c17413b78",
        "colab": {
          "base_uri": "https://localhost:8080/"
        }
      },
      "execution_count": 191,
      "outputs": [
        {
          "output_type": "stream",
          "name": "stdout",
          "text": [
            "The 3 item_ids outselling most in FOODS category are: ['FOODS_3_090_CA_3_validation', 'FOODS_3_586_TX_2_validation', 'FOODS_3_586_TX_3_validation']\n",
            "The 3 item_ids outselling most in HOUSEHOLDS category are: ['HOUSEHOLD_1_118_CA_3_validation', 'HOUSEHOLD_1_459_CA_3_validation', 'HOUSEHOLD_1_334_CA_3_validation']\n",
            "The 3 item_ids outselling most in HOBBIES category are: ['HOBBIES_1_234_CA_3_validation', 'HOBBIES_1_348_CA_1_validation', 'HOBBIES_1_371_CA_1_validation']\n"
          ]
        }
      ]
    },
    {
      "cell_type": "code",
      "source": [
        "# tạo dataframe lấy doanh số tất cã các ngày theo mã hàng\n",
        "#dfff = pd.DataFrame({\"days\": list(train_sales_df[train_sales_df['id'] == 'FOODS_3_090_CA_3_validation'][d_cols].columns),\n",
        "#                  \"sales_data\": list(train_sales_df[train_sales_df['id'] == 'FOODS_3_090_CA_3_validation'][d_cols].values.flatten())})\n",
        "#dfff"
      ],
      "metadata": {
        "execution": {
          "iopub.status.busy": "2021-12-29T13:38:16.780552Z",
          "iopub.execute_input": "2021-12-29T13:38:16.780895Z",
          "iopub.status.idle": "2021-12-29T13:38:16.784868Z",
          "shell.execute_reply.started": "2021-12-29T13:38:16.780838Z",
          "shell.execute_reply": "2021-12-29T13:38:16.783989Z"
        },
        "trusted": true,
        "id": "g1fdUrbZmQGJ"
      },
      "execution_count": null,
      "outputs": []
    },
    {
      "cell_type": "code",
      "source": [
        "#fig, (ax1, ax2, ax3) = plt.subplots(3, 1, figsize=(14, 7))\n",
        "\n",
        "# hàm vẽ biểu đồ dữ liệu bán hàng theo mã hàng và theo từ ngày đến ngày\n",
        "# với các tham số truyền vào\n",
        "# spec_id: mã sản phẩm\n",
        "# sm_start: ngày bắt đầu\n",
        "# sm_end: ngày kết thúc\n",
        "# samples_pick: độ dài các ngày hiển thị trên biểu đồ\n",
        "\n",
        "def plot_sample_sales(spec_id, sm_start, sm_end, samples_pick=100):\n",
        "\n",
        "    fig, ax1 = plt.subplots(figsize=(17, 5))\n",
        "   \n",
        "    x1 = list(train_sales_df[train_sales_df['id'] == spec_id][d_cols]\\\n",
        "              .columns)[sm_start:sm_end]\n",
        "    y1 = list(train_sales_df[train_sales_df['id'] == spec_id][d_cols]\\\n",
        "              .values.flatten())[sm_start:sm_end]\n",
        "    \n",
        "    #this conversion for regplot only\n",
        "    x1 = [x.replace(\"d_\", \"\") for x in x1]\n",
        "    x1 = [int(x) for x in x1]\n",
        "    \n",
        "    #sns.lineplot(x=x1, y=y1, ax=ax1)\n",
        "    sns.regplot(x=x1, y=y1, order=10, ax=ax1)\n",
        "    ax1.set_ylabel(\"Số lượng bán ra\")\n",
        "    ax1.set_xlabel(\"Ngày\")\n",
        "\n",
        "    ax1.set_xticks(x1[::samples_pick])\n",
        "    ax1.set_xticklabels(x1[::samples_pick], rotation=0)\n",
        "    ax1.autoscale(enable=True) \n",
        "\n",
        "    fig.tight_layout()\n",
        "    plt.show()"
      ],
      "metadata": {
        "_kg_hide-input": true,
        "execution": {
          "iopub.status.busy": "2021-12-29T13:38:16.786243Z",
          "iopub.execute_input": "2021-12-29T13:38:16.786711Z",
          "iopub.status.idle": "2021-12-29T13:38:16.80249Z",
          "shell.execute_reply.started": "2021-12-29T13:38:16.786659Z",
          "shell.execute_reply": "2021-12-29T13:38:16.801252Z"
        },
        "trusted": true,
        "id": "pCtHGJ5WmQGJ"
      },
      "execution_count": 194,
      "outputs": []
    },
    {
      "cell_type": "code",
      "source": [
        "# gọi hàm plot_sample_sales để vẽ biểu đồ cho sản phẩm  FOODS_3_090_CA_3_validation từ ngày thứ 50 đến 1300\n",
        "plot_sample_sales('FOODS_3_090_CA_3_validation', 500, 1300)\n",
        "#plot_sample_sales('FOODS_3_586_TX_2_validation', 500, 1300)\n",
        "#plot_sample_sales('FOODS_3_090_CA_1_validation', 500, 1300)\n"
      ],
      "metadata": {
        "execution": {
          "iopub.status.busy": "2021-12-29T13:38:16.804349Z",
          "iopub.execute_input": "2021-12-29T13:38:16.80491Z",
          "iopub.status.idle": "2021-12-29T13:38:19.747665Z",
          "shell.execute_reply.started": "2021-12-29T13:38:16.804829Z",
          "shell.execute_reply": "2021-12-29T13:38:19.746494Z"
        },
        "trusted": true,
        "id": "eVHxSxP0mQGK",
        "outputId": "7b582faa-a539-4ae5-dbfc-7e4b6fc42f7f",
        "colab": {
          "base_uri": "https://localhost:8080/",
          "height": 369
        }
      },
      "execution_count": 195,
      "outputs": [
        {
          "output_type": "display_data",
          "data": {
            "text/plain": [
              "<Figure size 1224x360 with 1 Axes>"
            ],
            "image/png": "[encoded data removed]"
          },
          "metadata": {}
        }
      ]
    },
    {
      "cell_type": "markdown",
      "source": [
        "### Thống kê doanh số bán hàng\n"
      ],
      "metadata": {
        "id": "bFdBBFQLmQGK"
      }
    },
    {
      "cell_type": "code",
      "source": [
        "sell_prices_df.head(3)"
      ],
      "metadata": {
        "execution": {
          "iopub.status.busy": "2021-12-29T13:38:19.749407Z",
          "iopub.execute_input": "2021-12-29T13:38:19.75005Z",
          "iopub.status.idle": "2021-12-29T13:38:19.767967Z",
          "shell.execute_reply.started": "2021-12-29T13:38:19.749982Z",
          "shell.execute_reply": "2021-12-29T13:38:19.76685Z"
        },
        "trusted": true,
        "id": "0e1WGeiNmQGL",
        "outputId": "e2e6f32e-b494-40a7-87fd-8e2481b42fd6",
        "colab": {
          "base_uri": "https://localhost:8080/",
          "height": 143
        }
      },
      "execution_count": 9,
      "outputs": [
        {
          "output_type": "execute_result",
          "data": {
            "text/plain": [
              "  store_id        item_id  wm_yr_wk  sell_price\n",
              "0     CA_1  HOBBIES_1_001     11325        9.58\n",
              "1     CA_1  HOBBIES_1_001     11326        9.58\n",
              "2     CA_1  HOBBIES_1_001     11327        8.26"
            ],
            "text/html": [
              "\n",
              "  <div id=\"df-a2cb11f4-24e4-4fe2-a825-99545714af05\">\n",
              "    <div class=\"colab-df-container\">\n",
              "      <div>\n",
              "<style scoped>\n",
              "    .dataframe tbody tr th:only-of-type {\n",
              "        vertical-align: middle;\n",
              "    }\n",
              "\n",
              "    .dataframe tbody tr th {\n",
              "        vertical-align: top;\n",
              "    }\n",
              "\n",
              "    .dataframe thead th {\n",
              "        text-align: right;\n",
              "    }\n",
              "</style>\n",
              "<table border=\"1\" class=\"dataframe\">\n",
              "  <thead>\n",
              "    <tr style=\"text-align: right;\">\n",
              "      <th></th>\n",
              "      <th>store_id</th>\n",
              "      <th>item_id</th>\n",
              "      <th>wm_yr_wk</th>\n",
              "      <th>sell_price</th>\n",
              "    </tr>\n",
              "  </thead>\n",
              "  <tbody>\n",
              "    <tr>\n",
              "      <th>0</th>\n",
              "      <td>CA_1</td>\n",
              "      <td>HOBBIES_1_001</td>\n",
              "      <td>11325</td>\n",
              "      <td>9.58</td>\n",
              "    </tr>\n",
              "    <tr>\n",
              "      <th>1</th>\n",
              "      <td>CA_1</td>\n",
              "      <td>HOBBIES_1_001</td>\n",
              "      <td>11326</td>\n",
              "      <td>9.58</td>\n",
              "    </tr>\n",
              "    <tr>\n",
              "      <th>2</th>\n",
              "      <td>CA_1</td>\n",
              "      <td>HOBBIES_1_001</td>\n",
              "      <td>11327</td>\n",
              "      <td>8.26</td>\n",
              "    </tr>\n",
              "  </tbody>\n",
              "</table>\n",
              "</div>\n",
              "      <button class=\"colab-df-convert\" onclick=\"convertToInteractive('df-a2cb11f4-24e4-4fe2-a825-99545714af05')\"\n",
              "              title=\"Convert this dataframe to an interactive table.\"\n",
              "              style=\"display:none;\">\n",
              "        \n",
              "  <svg xmlns=\"http://www.w3.org/2000/svg\" height=\"24px\"viewBox=\"0 0 24 24\"\n",
              "       width=\"24px\">\n",
              "    <path d=\"M0 0h24v24H0V0z\" fill=\"none\"/>\n",
              "    <path d=\"M18.56 5.44l.94 2.06.94-2.06 2.06-.94-2.06-.94-.94-2.06-.94 2.06-2.06.94zm-11 1L8.5 8.5l.94-2.06 2.06-.94-2.06-.94L8.5 2.5l-.94 2.06-2.06.94zm10 10l.94 2.06.94-2.06 2.06-.94-2.06-.94-.94-2.06-.94 2.06-2.06.94z\"/><path d=\"M17.41 7.96l-1.37-1.37c-.4-.4-.92-.59-1.43-.59-.52 0-1.04.2-1.43.59L10.3 9.45l-7.72 7.72c-.78.78-.78 2.05 0 2.83L4 21.41c.39.39.9.59 1.41.59.51 0 1.02-.2 1.41-.59l7.78-7.78 2.81-2.81c.8-.78.8-2.07 0-2.86zM5.41 20L4 18.59l7.72-7.72 1.47 1.35L5.41 20z\"/>\n",
              "  </svg>\n",
              "      </button>\n",
              "      \n",
              "  <style>\n",
              "    .colab-df-container {\n",
              "      display:flex;\n",
              "      flex-wrap:wrap;\n",
              "      gap: 12px;\n",
              "    }\n",
              "\n",
              "    .colab-df-convert {\n",
              "      background-color: #E8F0FE;\n",
              "      border: none;\n",
              "      border-radius: 50%;\n",
              "      cursor: pointer;\n",
              "      display: none;\n",
              "      fill: #1967D2;\n",
              "      height: 32px;\n",
              "      padding: 0 0 0 0;\n",
              "      width: 32px;\n",
              "    }\n",
              "\n",
              "    .colab-df-convert:hover {\n",
              "      background-color: #E2EBFA;\n",
              "      box-shadow: 0px 1px 2px rgba(60, 64, 67, 0.3), 0px 1px 3px 1px rgba(60, 64, 67, 0.15);\n",
              "      fill: #174EA6;\n",
              "    }\n",
              "\n",
              "    [theme=dark] .colab-df-convert {\n",
              "      background-color: #3B4455;\n",
              "      fill: #D2E3FC;\n",
              "    }\n",
              "\n",
              "    [theme=dark] .colab-df-convert:hover {\n",
              "      background-color: #434B5C;\n",
              "      box-shadow: 0px 1px 3px 1px rgba(0, 0, 0, 0.15);\n",
              "      filter: drop-shadow(0px 1px 2px rgba(0, 0, 0, 0.3));\n",
              "      fill: #FFFFFF;\n",
              "    }\n",
              "  </style>\n",
              "\n",
              "      <script>\n",
              "        const buttonEl =\n",
              "          document.querySelector('#df-a2cb11f4-24e4-4fe2-a825-99545714af05 button.colab-df-convert');\n",
              "        buttonEl.style.display =\n",
              "          google.colab.kernel.accessAllowed ? 'block' : 'none';\n",
              "\n",
              "        async function convertToInteractive(key) {\n",
              "          const element = document.querySelector('#df-a2cb11f4-24e4-4fe2-a825-99545714af05');\n",
              "          const dataTable =\n",
              "            await google.colab.kernel.invokeFunction('convertToInteractive',\n",
              "                                                     [key], {});\n",
              "          if (!dataTable) return;\n",
              "\n",
              "          const docLinkHtml = 'Like what you see? Visit the ' +\n",
              "            '<a target=\"_blank\" href=https://colab.research.google.com/notebooks/data_table.ipynb>data table notebook</a>'\n",
              "            + ' to learn more about interactive tables.';\n",
              "          element.innerHTML = '';\n",
              "          dataTable['output_type'] = 'display_data';\n",
              "          await google.colab.output.renderOutput(dataTable, element);\n",
              "          const docLink = document.createElement('div');\n",
              "          docLink.innerHTML = docLinkHtml;\n",
              "          element.appendChild(docLink);\n",
              "        }\n",
              "      </script>\n",
              "    </div>\n",
              "  </div>\n",
              "  "
            ]
          },
          "metadata": {},
          "execution_count": 9
        }
      ]
    },
    {
      "cell_type": "code",
      "source": [
        "# making a new column category out of the item_id \n",
        "sell_prices_df['category'] = sell_prices_df['item_id'].str.split(\"_\", expand=True)[0]"
      ],
      "metadata": {
        "execution": {
          "iopub.status.busy": "2021-12-29T13:38:19.770002Z",
          "iopub.execute_input": "2021-12-29T13:38:19.770841Z",
          "iopub.status.idle": "2021-12-29T13:38:48.669019Z",
          "shell.execute_reply.started": "2021-12-29T13:38:19.770391Z",
          "shell.execute_reply": "2021-12-29T13:38:48.667864Z"
        },
        "trusted": true,
        "id": "GLU1uFcCmQGL"
      },
      "execution_count": 10,
      "outputs": []
    },
    {
      "cell_type": "code",
      "source": [],
      "metadata": {
        "colab": {
          "base_uri": "https://localhost:8080/",
          "height": 35
        },
        "id": "ZLyX43VLm9gY",
        "outputId": "d3d24b3b-54b0-4d56-9c17-ea84ab1ea9c0"
      },
      "execution_count": 8,
      "outputs": [
        {
          "output_type": "execute_result",
          "data": {
            "text/plain": [
              "'1.2.1'"
            ],
            "application/vnd.google.colaboratory.intrinsic+json": {
              "type": "string"
            }
          },
          "metadata": {},
          "execution_count": 8
        }
      ]
    },
    {
      "cell_type": "markdown",
      "source": [
        "#### Distribution of Price Among Categories?"
      ],
      "metadata": {
        "id": "wNJcBRsUmQGL"
      }
    },
    {
      "cell_type": "code",
      "source": [
        "sns.set_style('whitegrid')\n",
        "#plt.figure(figsize=(15,5))\n",
        "\n",
        "def kde_plotting(df, category, bin_size, color, label):\n",
        "    \n",
        "    '''\n",
        "    plots the kde density plot of the continuous features of df specified\n",
        "    \n",
        "    inputs: df, category(whether, foods, household or hobbies), bin_size(bin size for histogram)\n",
        "            color (color of the plot), label (label to the plot)\n",
        "    returns: kde plots with logarithmic scale taken on x_axis\n",
        "            \n",
        "    '''\n",
        "    fig, ax1 = plt.subplots(figsize=(13, 2.5) )\n",
        "\n",
        "    sns.distplot(df[df['category'] == category]['sell_price'], \n",
        "               axlabel = label ,bins=bin_size, color = color, ax=ax1) \n",
        "\n",
        "    fig.tight_layout()\n",
        "    ax1.set_xscale('log')\n",
        "    plt.legend()\n",
        "    plt.show()\n",
        "    \n",
        "kde_plotting(sell_prices_df, 'HOBBIES', 150, 'b', 'hobbies')   \n",
        "kde_plotting(sell_prices_df, 'FOODS', 250, 'g', 'foods') \n",
        "kde_plotting(sell_prices_df, 'HOUSEHOLD', 150, 'r', 'household') "
      ],
      "metadata": {
        "execution": {
          "iopub.status.busy": "2021-12-29T13:38:48.671181Z",
          "iopub.execute_input": "2021-12-29T13:38:48.672713Z",
          "iopub.status.idle": "2021-12-29T13:38:58.232856Z",
          "shell.execute_reply.started": "2021-12-29T13:38:48.671556Z",
          "shell.execute_reply": "2021-12-29T13:38:58.231616Z"
        },
        "trusted": true,
        "id": "emG9QlOJmQGL"
      },
      "execution_count": null,
      "outputs": []
    },
    {
      "cell_type": "markdown",
      "source": [
        "We could extract following useful information by looking at these kde plots. \n",
        "\n",
        "- The probability distribution plot of the **household** items follows an almost normal distribution with a mean centered around a price of 5 Dollars and most items being sold within the 1 to 10 dollars range. This would indicate that most household items that are getting sold lie within the price bracket of 25 cents to 10 dollars\n",
        "- **Foods** items prices is a multimodal distribution indicating frequent variation in interest among food items purchased. The values occur both towards the relative higher price bracket as well as lower price bracket indicating that the degree of interest of consumers in food items is not only varied but that the Walmart stores have a catalogue of food items that are peaking consumer's interest across different categories. The price bracket in this case also happens to lie within 2 cents to 10 dollars with only very few items getting sold past that range\n",
        "- The probability distribution of **hobbies** related items prices indicates a mix of bimodal and multimodal distributions. This indicates that while a few items in specific category were sold more than others (first peak that lies in the area between 0.01 dollar to 1 dollar) there are also items towards a relative higher price bracket that have been also sold quite frequently enought to give it a multimodal distribution with small decreasing peaks indicative of decreasing interest in hobbies related items that are relatively expensive but sill significant enough to generate consumer interest. "
      ],
      "metadata": {
        "id": "DsJGlpnUmQGL"
      }
    },
    {
      "cell_type": "markdown",
      "source": [
        "#### Removing Outliers to Observe Price Distribution? \n",
        "#### **Quartile Method**"
      ],
      "metadata": {
        "id": "dkIK5AOZmQGM"
      }
    },
    {
      "cell_type": "code",
      "source": [
        "def remove_outliers(df):\n",
        "    \n",
        "    '''\n",
        "    removes the outliers in continous features using quartile ranges\n",
        "    \n",
        "    inputs: df(df specified with continous features along side categorical features)\n",
        "    returns: df with removed outliers\n",
        "    '''\n",
        "    Q1=df.quantile(0.25)\n",
        "    Q3=df.quantile(0.75)\n",
        "    IQR=Q3-Q1\n",
        "    df_final=df[~((df<(Q1-1.5*IQR)) | (df>(Q3+1.5*IQR)))]\n",
        "    \n",
        "    return df_final\n",
        "\n",
        "df = sell_prices_df[['category', 'sell_price']]\n",
        "df = remove_outliers(df)"
      ],
      "metadata": {
        "execution": {
          "iopub.status.busy": "2021-12-29T13:38:58.235031Z",
          "iopub.execute_input": "2021-12-29T13:38:58.235458Z",
          "iopub.status.idle": "2021-12-29T13:38:59.742391Z",
          "shell.execute_reply.started": "2021-12-29T13:38:58.235375Z",
          "shell.execute_reply": "2021-12-29T13:38:59.741229Z"
        },
        "trusted": true,
        "id": "Fsm98QhnmQGM",
        "outputId": "27d0414f-36a9-4005-eace-ce8c50a1a946",
        "colab": {
          "base_uri": "https://localhost:8080/"
        }
      },
      "execution_count": null,
      "outputs": [
        {
          "output_type": "stream",
          "name": "stderr",
          "text": [
            "/usr/local/lib/python3.7/dist-packages/ipykernel_launcher.py:12: FutureWarning:\n",
            "\n",
            "Automatic reindexing on DataFrame vs Series comparisons is deprecated and will raise ValueError in a future version.  Do `left, right = left.align(right, axis=1, copy=False)` before e.g. `left == right`\n",
            "\n"
          ]
        }
      ]
    },
    {
      "cell_type": "code",
      "source": [
        "sns.set_style('whitegrid')\n",
        "sns.axes_style(style='ticks')\n",
        "plt.figure(figsize=(13,3))\n",
        "sns.boxplot(y=df['category'], x=df['sell_price'])\n",
        "plt.show()"
      ],
      "metadata": {
        "execution": {
          "iopub.status.busy": "2021-12-29T13:38:59.744245Z",
          "iopub.execute_input": "2021-12-29T13:38:59.744684Z",
          "iopub.status.idle": "2021-12-29T13:39:01.936582Z",
          "shell.execute_reply.started": "2021-12-29T13:38:59.744594Z",
          "shell.execute_reply": "2021-12-29T13:39:01.93544Z"
        },
        "trusted": true,
        "id": "oPuUEXehmQGM",
        "outputId": "6da6d80b-7591-465d-907f-b93536e1d774",
        "colab": {
          "base_uri": "https://localhost:8080/",
          "height": 226
        }
      },
      "execution_count": null,
      "outputs": [
        {
          "output_type": "display_data",
          "data": {
            "text/plain": [
              "<Figure size 936x216 with 1 Axes>"
            ],
            "image/png": "[encoded data removed]"
          },
          "metadata": {}
        }
      ]
    },
    {
      "cell_type": "markdown",
      "source": [
        "After removing most of the outliers, it is apparent that for \n",
        "- FOODS related items, 75 % of the items sold are those that are less than 4 dollars\n",
        "- HOBBIES related items, 75 % of the items sold were less than 6 dollars with an mean price centered around 3.25-3.5 dollars\n",
        "- HOUSEHOLD items, 75 % of the items sold were less than 6.5 dollars. \n",
        "\n",
        "It also represents that there are quite a few outliers in our price data. Since we had observed before using the kdeplots, that the distributions of the dataset were mostly skewed, we used the quartile method of removing the outliers. \n",
        "\n",
        "(https://www.analyticsvidhya.com/blog/2021/05/feature-engineering-how-to-detect-and-remove-outliers-with-python-code/)"
      ],
      "metadata": {
        "id": "j87hDP6WmQGM"
      }
    },
    {
      "cell_type": "markdown",
      "source": [
        "### Distribution of Sales On Weekdays & Special Occasions?\n",
        "\n",
        "Our third dataset named, calendar_df, provides valuable information along the timeseries for the dataset of product_id. This dataset also contains information about Special occasions, SNAP (Supplementary Nutrition Assistance Programme) in the USA and coupled with the product_id dataset i.e. train_sales_df would be helpful in observing sales along weekdays, specific dates and special occasions"
      ],
      "metadata": {
        "id": "HM-AVICqmQGN"
      }
    },
    {
      "cell_type": "code",
      "source": [
        "calendar_df.head(3)"
      ],
      "metadata": {
        "execution": {
          "iopub.status.busy": "2021-12-29T13:39:01.938953Z",
          "iopub.execute_input": "2021-12-29T13:39:01.939388Z",
          "iopub.status.idle": "2021-12-29T13:39:01.960653Z",
          "shell.execute_reply.started": "2021-12-29T13:39:01.939308Z",
          "shell.execute_reply": "2021-12-29T13:39:01.958684Z"
        },
        "trusted": true,
        "id": "qkvmK_5emQGQ",
        "outputId": "ed6abba8-735f-45a9-bbda-5322e256f954",
        "colab": {
          "base_uri": "https://localhost:8080/",
          "height": 143
        }
      },
      "execution_count": null,
      "outputs": [
        {
          "output_type": "execute_result",
          "data": {
            "text/plain": [
              "         date  wm_yr_wk   weekday  wday  month  year    d event_name_1  \\\n",
              "0  2011-01-29     11101  Saturday     1      1  2011  d_1          NaN   \n",
              "1  2011-01-30     11101    Sunday     2      1  2011  d_2          NaN   \n",
              "2  2011-01-31     11101    Monday     3      1  2011  d_3          NaN   \n",
              "\n",
              "  event_type_1 event_name_2 event_type_2  snap_CA  snap_TX  snap_WI  \n",
              "0          NaN          NaN          NaN        0        0        0  \n",
              "1          NaN          NaN          NaN        0        0        0  \n",
              "2          NaN          NaN          NaN        0        0        0  "
            ],
            "text/html": [
              "\n",
              "  <div id=\"df-dbfc8d7e-bec0-4a11-a34a-fcbe3c245314\">\n",
              "    <div class=\"colab-df-container\">\n",
              "      <div>\n",
              "<style scoped>\n",
              "    .dataframe tbody tr th:only-of-type {\n",
              "        vertical-align: middle;\n",
              "    }\n",
              "\n",
              "    .dataframe tbody tr th {\n",
              "        vertical-align: top;\n",
              "    }\n",
              "\n",
              "    .dataframe thead th {\n",
              "        text-align: right;\n",
              "    }\n",
              "</style>\n",
              "<table border=\"1\" class=\"dataframe\">\n",
              "  <thead>\n",
              "    <tr style=\"text-align: right;\">\n",
              "      <th></th>\n",
              "      <th>date</th>\n",
              "      <th>wm_yr_wk</th>\n",
              "      <th>weekday</th>\n",
              "      <th>wday</th>\n",
              "      <th>month</th>\n",
              "      <th>year</th>\n",
              "      <th>d</th>\n",
              "      <th>event_name_1</th>\n",
              "      <th>event_type_1</th>\n",
              "      <th>event_name_2</th>\n",
              "      <th>event_type_2</th>\n",
              "      <th>snap_CA</th>\n",
              "      <th>snap_TX</th>\n",
              "      <th>snap_WI</th>\n",
              "    </tr>\n",
              "  </thead>\n",
              "  <tbody>\n",
              "    <tr>\n",
              "      <th>0</th>\n",
              "      <td>2011-01-29</td>\n",
              "      <td>11101</td>\n",
              "      <td>Saturday</td>\n",
              "      <td>1</td>\n",
              "      <td>1</td>\n",
              "      <td>2011</td>\n",
              "      <td>d_1</td>\n",
              "      <td>NaN</td>\n",
              "      <td>NaN</td>\n",
              "      <td>NaN</td>\n",
              "      <td>NaN</td>\n",
              "      <td>0</td>\n",
              "      <td>0</td>\n",
              "      <td>0</td>\n",
              "    </tr>\n",
              "    <tr>\n",
              "      <th>1</th>\n",
              "      <td>2011-01-30</td>\n",
              "      <td>11101</td>\n",
              "      <td>Sunday</td>\n",
              "      <td>2</td>\n",
              "      <td>1</td>\n",
              "      <td>2011</td>\n",
              "      <td>d_2</td>\n",
              "      <td>NaN</td>\n",
              "      <td>NaN</td>\n",
              "      <td>NaN</td>\n",
              "      <td>NaN</td>\n",
              "      <td>0</td>\n",
              "      <td>0</td>\n",
              "      <td>0</td>\n",
              "    </tr>\n",
              "    <tr>\n",
              "      <th>2</th>\n",
              "      <td>2011-01-31</td>\n",
              "      <td>11101</td>\n",
              "      <td>Monday</td>\n",
              "      <td>3</td>\n",
              "      <td>1</td>\n",
              "      <td>2011</td>\n",
              "      <td>d_3</td>\n",
              "      <td>NaN</td>\n",
              "      <td>NaN</td>\n",
              "      <td>NaN</td>\n",
              "      <td>NaN</td>\n",
              "      <td>0</td>\n",
              "      <td>0</td>\n",
              "      <td>0</td>\n",
              "    </tr>\n",
              "  </tbody>\n",
              "</table>\n",
              "</div>\n",
              "      <button class=\"colab-df-convert\" onclick=\"convertToInteractive('df-dbfc8d7e-bec0-4a11-a34a-fcbe3c245314')\"\n",
              "              title=\"Convert this dataframe to an interactive table.\"\n",
              "              style=\"display:none;\">\n",
              "        \n",
              "  <svg xmlns=\"http://www.w3.org/2000/svg\" height=\"24px\"viewBox=\"0 0 24 24\"\n",
              "       width=\"24px\">\n",
              "    <path d=\"M0 0h24v24H0V0z\" fill=\"none\"/>\n",
              "    <path d=\"M18.56 5.44l.94 2.06.94-2.06 2.06-.94-2.06-.94-.94-2.06-.94 2.06-2.06.94zm-11 1L8.5 8.5l.94-2.06 2.06-.94-2.06-.94L8.5 2.5l-.94 2.06-2.06.94zm10 10l.94 2.06.94-2.06 2.06-.94-2.06-.94-.94-2.06-.94 2.06-2.06.94z\"/><path d=\"M17.41 7.96l-1.37-1.37c-.4-.4-.92-.59-1.43-.59-.52 0-1.04.2-1.43.59L10.3 9.45l-7.72 7.72c-.78.78-.78 2.05 0 2.83L4 21.41c.39.39.9.59 1.41.59.51 0 1.02-.2 1.41-.59l7.78-7.78 2.81-2.81c.8-.78.8-2.07 0-2.86zM5.41 20L4 18.59l7.72-7.72 1.47 1.35L5.41 20z\"/>\n",
              "  </svg>\n",
              "      </button>\n",
              "      \n",
              "  <style>\n",
              "    .colab-df-container {\n",
              "      display:flex;\n",
              "      flex-wrap:wrap;\n",
              "      gap: 12px;\n",
              "    }\n",
              "\n",
              "    .colab-df-convert {\n",
              "      background-color: #E8F0FE;\n",
              "      border: none;\n",
              "      border-radius: 50%;\n",
              "      cursor: pointer;\n",
              "      display: none;\n",
              "      fill: #1967D2;\n",
              "      height: 32px;\n",
              "      padding: 0 0 0 0;\n",
              "      width: 32px;\n",
              "    }\n",
              "\n",
              "    .colab-df-convert:hover {\n",
              "      background-color: #E2EBFA;\n",
              "      box-shadow: 0px 1px 2px rgba(60, 64, 67, 0.3), 0px 1px 3px 1px rgba(60, 64, 67, 0.15);\n",
              "      fill: #174EA6;\n",
              "    }\n",
              "\n",
              "    [theme=dark] .colab-df-convert {\n",
              "      background-color: #3B4455;\n",
              "      fill: #D2E3FC;\n",
              "    }\n",
              "\n",
              "    [theme=dark] .colab-df-convert:hover {\n",
              "      background-color: #434B5C;\n",
              "      box-shadow: 0px 1px 3px 1px rgba(0, 0, 0, 0.15);\n",
              "      filter: drop-shadow(0px 1px 2px rgba(0, 0, 0, 0.3));\n",
              "      fill: #FFFFFF;\n",
              "    }\n",
              "  </style>\n",
              "\n",
              "      <script>\n",
              "        const buttonEl =\n",
              "          document.querySelector('#df-dbfc8d7e-bec0-4a11-a34a-fcbe3c245314 button.colab-df-convert');\n",
              "        buttonEl.style.display =\n",
              "          google.colab.kernel.accessAllowed ? 'block' : 'none';\n",
              "\n",
              "        async function convertToInteractive(key) {\n",
              "          const element = document.querySelector('#df-dbfc8d7e-bec0-4a11-a34a-fcbe3c245314');\n",
              "          const dataTable =\n",
              "            await google.colab.kernel.invokeFunction('convertToInteractive',\n",
              "                                                     [key], {});\n",
              "          if (!dataTable) return;\n",
              "\n",
              "          const docLinkHtml = 'Like what you see? Visit the ' +\n",
              "            '<a target=\"_blank\" href=https://colab.research.google.com/notebooks/data_table.ipynb>data table notebook</a>'\n",
              "            + ' to learn more about interactive tables.';\n",
              "          element.innerHTML = '';\n",
              "          dataTable['output_type'] = 'display_data';\n",
              "          await google.colab.output.renderOutput(dataTable, element);\n",
              "          const docLink = document.createElement('div');\n",
              "          docLink.innerHTML = docLinkHtml;\n",
              "          element.appendChild(docLink);\n",
              "        }\n",
              "      </script>\n",
              "    </div>\n",
              "  </div>\n",
              "  "
            ]
          },
          "metadata": {},
          "execution_count": 52
        }
      ]
    },
    {
      "cell_type": "code",
      "source": [
        "calendar_df.groupby(['event_name_1', 'event_type_1'])['wday'].count()"
      ],
      "metadata": {
        "execution": {
          "iopub.status.busy": "2021-12-29T13:39:01.962559Z",
          "iopub.execute_input": "2021-12-29T13:39:01.963033Z",
          "iopub.status.idle": "2021-12-29T13:39:01.980071Z",
          "shell.execute_reply.started": "2021-12-29T13:39:01.962964Z",
          "shell.execute_reply": "2021-12-29T13:39:01.97862Z"
        },
        "trusted": true,
        "id": "UDhRuuvLmQGR",
        "outputId": "c98540bf-f603-46a1-dae0-2c52cbd0e1b3",
        "colab": {
          "base_uri": "https://localhost:8080/"
        }
      },
      "execution_count": null,
      "outputs": [
        {
          "output_type": "execute_result",
          "data": {
            "text/plain": [
              "event_name_1         event_type_1\n",
              "Chanukah End         Religious       5\n",
              "Christmas            National        5\n",
              "Cinco De Mayo        Cultural        5\n",
              "ColumbusDay          National        5\n",
              "Easter               Cultural        5\n",
              "Eid al-Fitr          Religious       5\n",
              "EidAlAdha            Religious       5\n",
              "Father's day         Cultural        4\n",
              "Halloween            Cultural        5\n",
              "IndependenceDay      National        5\n",
              "LaborDay             National        5\n",
              "LentStart            Religious       6\n",
              "LentWeek2            Religious       6\n",
              "MartinLutherKingDay  National        5\n",
              "MemorialDay          National        6\n",
              "Mother's day         Cultural        6\n",
              "NBAFinalsEnd         Sporting        6\n",
              "NBAFinalsStart       Sporting        6\n",
              "NewYear              National        5\n",
              "OrthodoxChristmas    Religious       5\n",
              "OrthodoxEaster       Religious       5\n",
              "Pesach End           Religious       6\n",
              "PresidentsDay        National        6\n",
              "Purim End            Religious       6\n",
              "Ramadan starts       Religious       6\n",
              "StPatricksDay        Cultural        6\n",
              "SuperBowl            Sporting        6\n",
              "Thanksgiving         National        5\n",
              "ValentinesDay        Cultural        6\n",
              "VeteransDay          National        5\n",
              "Name: wday, dtype: int64"
            ]
          },
          "metadata": {},
          "execution_count": 53
        }
      ]
    },
    {
      "cell_type": "markdown",
      "source": [
        "Looking at the distribution of data in 'event_name_1' and 'event_type_1' it is clear the data here relates to holidays which could reveal important trends when coupled with the information of sales made on the specific event."
      ],
      "metadata": {
        "id": "1mivAoNAmQGR"
      }
    },
    {
      "cell_type": "code",
      "source": [
        "calendar_df.groupby(['event_name_2', 'event_type_2'])['wday'].count()"
      ],
      "metadata": {
        "execution": {
          "iopub.status.busy": "2021-12-29T13:39:01.981489Z",
          "iopub.execute_input": "2021-12-29T13:39:01.98186Z",
          "iopub.status.idle": "2021-12-29T13:39:01.998649Z",
          "shell.execute_reply.started": "2021-12-29T13:39:01.981768Z",
          "shell.execute_reply": "2021-12-29T13:39:01.99781Z"
        },
        "trusted": true,
        "id": "0vyHtSSwmQGU",
        "outputId": "ca7a88e6-b0c8-47bc-bf72-b8feee7edca0",
        "colab": {
          "base_uri": "https://localhost:8080/"
        }
      },
      "execution_count": null,
      "outputs": [
        {
          "output_type": "execute_result",
          "data": {
            "text/plain": [
              "event_name_2    event_type_2\n",
              "Cinco De Mayo   Cultural        1\n",
              "Easter          Cultural        1\n",
              "Father's day    Cultural        2\n",
              "OrthodoxEaster  Religious       1\n",
              "Name: wday, dtype: int64"
            ]
          },
          "metadata": {},
          "execution_count": 54
        }
      ]
    },
    {
      "cell_type": "markdown",
      "source": [
        "It seems a few entries that have not been made to the 'event_name_1' attribute have been made available in a different category"
      ],
      "metadata": {
        "id": "ZsWvtKmtmQGU"
      }
    },
    {
      "cell_type": "code",
      "source": [
        "#Making in and including a new entry of days as well as merging the events_1 and event_2 into\n",
        "# a single new events_names and types category\n",
        "\n",
        "calendar_df['days'] = [d.split('-')[2] for d in calendar_df['date']]\n",
        "calendar_df['events_names'] = pd.concat([calendar_df['event_name_1'], calendar_df['event_name_2']], \n",
        "                                        ignore_index=True)\n",
        "calendar_df['events_types'] = pd.concat([calendar_df['event_type_1'], calendar_df['event_type_2']], \n",
        "                                        ignore_index=True)\n",
        "#calendar_df.drop(['event_name_1', 'event_name_2', 'event_type_1', 'event_type_2'], axis=1, inplace=True)"
      ],
      "metadata": {
        "execution": {
          "iopub.status.busy": "2021-12-29T13:39:02.012694Z",
          "iopub.execute_input": "2021-12-29T13:39:02.01361Z",
          "iopub.status.idle": "2021-12-29T13:39:02.029175Z",
          "shell.execute_reply.started": "2021-12-29T13:39:02.013512Z",
          "shell.execute_reply": "2021-12-29T13:39:02.027841Z"
        },
        "trusted": true,
        "id": "O7z65zSkmQGU"
      },
      "execution_count": null,
      "outputs": []
    },
    {
      "cell_type": "markdown",
      "source": [
        "#### What are **SNAP_CA, SNAP_TX, SNAP_WI**?\n",
        "\n",
        "SNAP stands for \"Supplementary Nutrition Assistance Program\" that is a federal level program aimed at providing food essentials to low-income households. This program is geared towards providing the food essentials and within the current dataset, the catagories of household items and hobbies items do not fall within the requirements of this program.\n",
        "\n",
        "This program is only geared towards fighting the food hunger in america and only food related items can be purchased under this program"
      ],
      "metadata": {
        "id": "3WrelNpamQGV"
      }
    },
    {
      "cell_type": "code",
      "source": [
        "df = calendar_df.groupby(['events_types'])['snap_CA'].value_counts().reset_index(name='counts')"
      ],
      "metadata": {
        "execution": {
          "iopub.status.busy": "2021-12-29T13:39:02.031926Z",
          "iopub.execute_input": "2021-12-29T13:39:02.032508Z",
          "iopub.status.idle": "2021-12-29T13:39:02.158758Z",
          "shell.execute_reply.started": "2021-12-29T13:39:02.032444Z",
          "shell.execute_reply": "2021-12-29T13:39:02.157797Z"
        },
        "trusted": true,
        "id": "Lwh9NHUImQGV"
      },
      "execution_count": null,
      "outputs": []
    },
    {
      "cell_type": "code",
      "source": [
        "sns.set_style('whitegrid')\n",
        "sns.axes_style(style='ticks')\n",
        "plt.figure(figsize=(13,3))\n",
        "sns.barplot(x = 'events_types', y='counts', hue='snap_CA', data=df, palette='bwr')\n",
        "plt.show()"
      ],
      "metadata": {
        "execution": {
          "iopub.status.busy": "2021-12-29T13:39:02.160249Z",
          "iopub.execute_input": "2021-12-29T13:39:02.160532Z",
          "iopub.status.idle": "2021-12-29T13:39:02.420842Z",
          "shell.execute_reply.started": "2021-12-29T13:39:02.160487Z",
          "shell.execute_reply": "2021-12-29T13:39:02.419693Z"
        },
        "trusted": true,
        "id": "5S3GpLUGmQGV",
        "outputId": "8d522b63-d74e-4734-adc9-de3e6ec1bb72",
        "colab": {
          "base_uri": "https://localhost:8080/",
          "height": 225
        }
      },
      "execution_count": null,
      "outputs": [
        {
          "output_type": "display_data",
          "data": {
            "text/plain": [
              "<Figure size 936x216 with 1 Axes>"
            ],
            "image/png": "[encoded data removed]"
          },
          "metadata": {}
        }
      ]
    },
    {
      "cell_type": "code",
      "source": [
        "df = calendar_df.groupby(['events_names'])['snap_CA'].value_counts().reset_index(name='counts')"
      ],
      "metadata": {
        "execution": {
          "iopub.status.busy": "2021-12-29T13:39:02.424794Z",
          "iopub.execute_input": "2021-12-29T13:39:02.425786Z",
          "iopub.status.idle": "2021-12-29T13:39:02.440809Z",
          "shell.execute_reply.started": "2021-12-29T13:39:02.425702Z",
          "shell.execute_reply": "2021-12-29T13:39:02.439418Z"
        },
        "trusted": true,
        "id": "4YPqC4VUmQGW"
      },
      "execution_count": null,
      "outputs": []
    },
    {
      "cell_type": "code",
      "source": [
        "sns.set_style('whitegrid')\n",
        "sns.axes_style(style='ticks')\n",
        "plt.figure(figsize=(13,3))\n",
        "sns.barplot(x = 'events_names', y='counts', hue='snap_CA', data=df, \n",
        "            order = df.sort_values(['counts'], ascending=False).events_names, \n",
        "            palette='OrRd')\n",
        "plt.xticks(rotation=90)\n",
        "plt.show()"
      ],
      "metadata": {
        "execution": {
          "iopub.status.busy": "2021-12-29T13:39:02.442799Z",
          "iopub.execute_input": "2021-12-29T13:39:02.443205Z",
          "iopub.status.idle": "2021-12-29T13:39:03.648885Z",
          "shell.execute_reply.started": "2021-12-29T13:39:02.443143Z",
          "shell.execute_reply": "2021-12-29T13:39:03.648035Z"
        },
        "trusted": true,
        "id": "Kzqc-uxmmQGW",
        "outputId": "1d1a19b4-ea60-462d-cfab-d7e9971bce1b",
        "colab": {
          "base_uri": "https://localhost:8080/",
          "height": 322
        }
      },
      "execution_count": null,
      "outputs": [
        {
          "output_type": "display_data",
          "data": {
            "text/plain": [
              "<Figure size 936x216 with 1 Axes>"
            ],
            "image/png": "[encoded data removed]"
          },
          "metadata": {}
        }
      ]
    },
    {
      "cell_type": "markdown",
      "source": [
        "A look at both of these plots indicates the special occasions when the SNAP programme in CA were availed.  "
      ],
      "metadata": {
        "id": "UaakB4g7mQGW"
      }
    },
    {
      "cell_type": "markdown",
      "source": [
        "### Distribution of Sales Items vs Sales Revenue? \n",
        "Now that we have product_id df as well as revenue_df, we'll merge the dataset now to start exploring trends of item_specific_data and sale_price_specific data "
      ],
      "metadata": {
        "id": "xL-DJJGWmQGX"
      }
    },
    {
      "cell_type": "code",
      "source": [
        "#product id df (train_sales_df) vs revenue_df(sell_prices_df)\n",
        "train_sales_prices_df = train_sales_df.merge(sell_prices_df, how='inner', on='item_id', \n",
        "                                            left_index=True, right_index=True, \n",
        "                                            validate=\"1:1\")\n"
      ],
      "metadata": {
        "execution": {
          "iopub.status.busy": "2021-12-29T13:39:03.650621Z",
          "iopub.execute_input": "2021-12-29T13:39:03.651386Z",
          "iopub.status.idle": "2021-12-29T13:39:05.130952Z",
          "shell.execute_reply.started": "2021-12-29T13:39:03.651288Z",
          "shell.execute_reply": "2021-12-29T13:39:05.129488Z"
        },
        "trusted": true,
        "id": "PKkpde8FmQGX",
        "outputId": "f7eac564-c435-4e76-a852-e00997f16cb4",
        "colab": {
          "base_uri": "https://localhost:8080/",
          "height": 345
        }
      },
      "execution_count": null,
      "outputs": [
        {
          "output_type": "error",
          "ename": "MergeError",
          "evalue": "ignored",
          "traceback": [
            "\u001b[0;31m---------------------------------------------------------------------------\u001b[0m",
            "\u001b[0;31mMergeError\u001b[0m                                Traceback (most recent call last)",
            "\u001b[0;32m<ipython-input-66-50270d500b56>\u001b[0m in \u001b[0;36m<module>\u001b[0;34m\u001b[0m\n\u001b[1;32m      2\u001b[0m train_sales_prices_df = train_sales_df.merge(sell_prices_df, how='inner', on='item_id', \n\u001b[1;32m      3\u001b[0m                                             \u001b[0mleft_index\u001b[0m\u001b[0;34m=\u001b[0m\u001b[0;32mTrue\u001b[0m\u001b[0;34m,\u001b[0m \u001b[0mright_index\u001b[0m\u001b[0;34m=\u001b[0m\u001b[0;32mTrue\u001b[0m\u001b[0;34m,\u001b[0m\u001b[0;34m\u001b[0m\u001b[0;34m\u001b[0m\u001b[0m\n\u001b[0;32m----> 4\u001b[0;31m                                             validate=\"1:1\")\n\u001b[0m",
            "\u001b[0;32m/usr/local/lib/python3.7/dist-packages/pandas/core/frame.py\u001b[0m in \u001b[0;36mmerge\u001b[0;34m(self, right, how, on, left_on, right_on, left_index, right_index, sort, suffixes, copy, indicator, validate)\u001b[0m\n\u001b[1;32m   9201\u001b[0m             \u001b[0mcopy\u001b[0m\u001b[0;34m=\u001b[0m\u001b[0mcopy\u001b[0m\u001b[0;34m,\u001b[0m\u001b[0;34m\u001b[0m\u001b[0;34m\u001b[0m\u001b[0m\n\u001b[1;32m   9202\u001b[0m             \u001b[0mindicator\u001b[0m\u001b[0;34m=\u001b[0m\u001b[0mindicator\u001b[0m\u001b[0;34m,\u001b[0m\u001b[0;34m\u001b[0m\u001b[0;34m\u001b[0m\u001b[0m\n\u001b[0;32m-> 9203\u001b[0;31m             \u001b[0mvalidate\u001b[0m\u001b[0;34m=\u001b[0m\u001b[0mvalidate\u001b[0m\u001b[0;34m,\u001b[0m\u001b[0;34m\u001b[0m\u001b[0;34m\u001b[0m\u001b[0m\n\u001b[0m\u001b[1;32m   9204\u001b[0m         )\n\u001b[1;32m   9205\u001b[0m \u001b[0;34m\u001b[0m\u001b[0m\n",
            "\u001b[0;32m/usr/local/lib/python3.7/dist-packages/pandas/core/reshape/merge.py\u001b[0m in \u001b[0;36mmerge\u001b[0;34m(left, right, how, on, left_on, right_on, left_index, right_index, sort, suffixes, copy, indicator, validate)\u001b[0m\n\u001b[1;32m    117\u001b[0m         \u001b[0mcopy\u001b[0m\u001b[0;34m=\u001b[0m\u001b[0mcopy\u001b[0m\u001b[0;34m,\u001b[0m\u001b[0;34m\u001b[0m\u001b[0;34m\u001b[0m\u001b[0m\n\u001b[1;32m    118\u001b[0m         \u001b[0mindicator\u001b[0m\u001b[0;34m=\u001b[0m\u001b[0mindicator\u001b[0m\u001b[0;34m,\u001b[0m\u001b[0;34m\u001b[0m\u001b[0;34m\u001b[0m\u001b[0m\n\u001b[0;32m--> 119\u001b[0;31m         \u001b[0mvalidate\u001b[0m\u001b[0;34m=\u001b[0m\u001b[0mvalidate\u001b[0m\u001b[0;34m,\u001b[0m\u001b[0;34m\u001b[0m\u001b[0;34m\u001b[0m\u001b[0m\n\u001b[0m\u001b[1;32m    120\u001b[0m     )\n\u001b[1;32m    121\u001b[0m     \u001b[0;32mreturn\u001b[0m \u001b[0mop\u001b[0m\u001b[0;34m.\u001b[0m\u001b[0mget_result\u001b[0m\u001b[0;34m(\u001b[0m\u001b[0;34m)\u001b[0m\u001b[0;34m\u001b[0m\u001b[0;34m\u001b[0m\u001b[0m\n",
            "\u001b[0;32m/usr/local/lib/python3.7/dist-packages/pandas/core/reshape/merge.py\u001b[0m in \u001b[0;36m__init__\u001b[0;34m(self, left, right, how, on, left_on, right_on, axis, left_index, right_index, sort, suffixes, copy, indicator, validate)\u001b[0m\n\u001b[1;32m    679\u001b[0m             \u001b[0mwarnings\u001b[0m\u001b[0;34m.\u001b[0m\u001b[0mwarn\u001b[0m\u001b[0;34m(\u001b[0m\u001b[0mmsg\u001b[0m\u001b[0;34m,\u001b[0m \u001b[0mFutureWarning\u001b[0m\u001b[0;34m,\u001b[0m \u001b[0mstacklevel\u001b[0m\u001b[0;34m=\u001b[0m\u001b[0;36m3\u001b[0m\u001b[0;34m)\u001b[0m\u001b[0;34m\u001b[0m\u001b[0;34m\u001b[0m\u001b[0m\n\u001b[1;32m    680\u001b[0m \u001b[0;34m\u001b[0m\u001b[0m\n\u001b[0;32m--> 681\u001b[0;31m         \u001b[0mself\u001b[0m\u001b[0;34m.\u001b[0m\u001b[0m_validate_specification\u001b[0m\u001b[0;34m(\u001b[0m\u001b[0;34m)\u001b[0m\u001b[0;34m\u001b[0m\u001b[0;34m\u001b[0m\u001b[0m\n\u001b[0m\u001b[1;32m    682\u001b[0m \u001b[0;34m\u001b[0m\u001b[0m\n\u001b[1;32m    683\u001b[0m         \u001b[0mcross_col\u001b[0m \u001b[0;34m=\u001b[0m \u001b[0;32mNone\u001b[0m\u001b[0;34m\u001b[0m\u001b[0;34m\u001b[0m\u001b[0m\n",
            "\u001b[0;32m/usr/local/lib/python3.7/dist-packages/pandas/core/reshape/merge.py\u001b[0m in \u001b[0;36m_validate_specification\u001b[0;34m(self)\u001b[0m\n\u001b[1;32m   1365\u001b[0m             \u001b[0;32mif\u001b[0m \u001b[0mself\u001b[0m\u001b[0;34m.\u001b[0m\u001b[0mleft_index\u001b[0m \u001b[0;32mor\u001b[0m \u001b[0mself\u001b[0m\u001b[0;34m.\u001b[0m\u001b[0mright_index\u001b[0m\u001b[0;34m:\u001b[0m\u001b[0;34m\u001b[0m\u001b[0;34m\u001b[0m\u001b[0m\n\u001b[1;32m   1366\u001b[0m                 raise MergeError(\n\u001b[0;32m-> 1367\u001b[0;31m                     \u001b[0;34m'Can only pass argument \"on\" OR \"left_index\" '\u001b[0m\u001b[0;34m\u001b[0m\u001b[0;34m\u001b[0m\u001b[0m\n\u001b[0m\u001b[1;32m   1368\u001b[0m                     \u001b[0;34m'and \"right_index\", not a combination of both.'\u001b[0m\u001b[0;34m\u001b[0m\u001b[0;34m\u001b[0m\u001b[0m\n\u001b[1;32m   1369\u001b[0m                 )\n",
            "\u001b[0;31mMergeError\u001b[0m: Can only pass argument \"on\" OR \"left_index\" and \"right_index\", not a combination of both."
          ]
        }
      ]
    },
    {
      "cell_type": "code",
      "source": [
        "df = train_sales_prices_df.groupby(['cat_id', 'state_id', 'store_id_x'])['sell_price'].sum().reset_index(name='total_revenue')\n",
        "df = df.sort_values(by='total_revenue', ascending=False)"
      ],
      "metadata": {
        "execution": {
          "iopub.status.busy": "2021-12-29T13:39:05.132704Z",
          "iopub.execute_input": "2021-12-29T13:39:05.133046Z",
          "iopub.status.idle": "2021-12-29T13:39:05.863767Z",
          "shell.execute_reply.started": "2021-12-29T13:39:05.132986Z",
          "shell.execute_reply": "2021-12-29T13:39:05.862602Z"
        },
        "trusted": true,
        "id": "PLsfsdx8mQGX",
        "outputId": "d2064d1f-dab0-4e35-ce42-1b85c008d720",
        "colab": {
          "base_uri": "https://localhost:8080/",
          "height": 183
        }
      },
      "execution_count": null,
      "outputs": [
        {
          "output_type": "error",
          "ename": "NameError",
          "evalue": "ignored",
          "traceback": [
            "\u001b[0;31m---------------------------------------------------------------------------\u001b[0m",
            "\u001b[0;31mNameError\u001b[0m                                 Traceback (most recent call last)",
            "\u001b[0;32m<ipython-input-65-92083a640966>\u001b[0m in \u001b[0;36m<module>\u001b[0;34m\u001b[0m\n\u001b[0;32m----> 1\u001b[0;31m \u001b[0mdf\u001b[0m \u001b[0;34m=\u001b[0m \u001b[0mtrain_sales_prices_df\u001b[0m\u001b[0;34m.\u001b[0m\u001b[0mgroupby\u001b[0m\u001b[0;34m(\u001b[0m\u001b[0;34m[\u001b[0m\u001b[0;34m'cat_id'\u001b[0m\u001b[0;34m,\u001b[0m \u001b[0;34m'state_id'\u001b[0m\u001b[0;34m,\u001b[0m \u001b[0;34m'store_id_x'\u001b[0m\u001b[0;34m]\u001b[0m\u001b[0;34m)\u001b[0m\u001b[0;34m[\u001b[0m\u001b[0;34m'sell_price'\u001b[0m\u001b[0;34m]\u001b[0m\u001b[0;34m.\u001b[0m\u001b[0msum\u001b[0m\u001b[0;34m(\u001b[0m\u001b[0;34m)\u001b[0m\u001b[0;34m.\u001b[0m\u001b[0mreset_index\u001b[0m\u001b[0;34m(\u001b[0m\u001b[0mname\u001b[0m\u001b[0;34m=\u001b[0m\u001b[0;34m'total_revenue'\u001b[0m\u001b[0;34m)\u001b[0m\u001b[0;34m\u001b[0m\u001b[0;34m\u001b[0m\u001b[0m\n\u001b[0m\u001b[1;32m      2\u001b[0m \u001b[0mdf\u001b[0m \u001b[0;34m=\u001b[0m \u001b[0mdf\u001b[0m\u001b[0;34m.\u001b[0m\u001b[0msort_values\u001b[0m\u001b[0;34m(\u001b[0m\u001b[0mby\u001b[0m\u001b[0;34m=\u001b[0m\u001b[0;34m'total_revenue'\u001b[0m\u001b[0;34m,\u001b[0m \u001b[0mascending\u001b[0m\u001b[0;34m=\u001b[0m\u001b[0;32mFalse\u001b[0m\u001b[0;34m)\u001b[0m\u001b[0;34m\u001b[0m\u001b[0;34m\u001b[0m\u001b[0m\n",
            "\u001b[0;31mNameError\u001b[0m: name 'train_sales_prices_df' is not defined"
          ]
        }
      ]
    },
    {
      "cell_type": "code",
      "source": [
        "sns.set_style('whitegrid')\n",
        "sns.axes_style(style='ticks')\n",
        "fig, (ax1, ax2) = plt.subplots(1,2, figsize=(14,5))\n",
        "\n",
        "sns.barplot(x = 'state_id', y='total_revenue', data=df, \n",
        "            palette='coolwarm', ax=ax1)\n",
        "sns.barplot(x = 'cat_id', y='total_revenue', hue='state_id', data=df, \n",
        "            palette='plasma', ax=ax2)\n",
        "\n",
        "plt.xticks(rotation=90)\n",
        "plt.show()"
      ],
      "metadata": {
        "execution": {
          "iopub.status.busy": "2021-12-29T13:39:05.865802Z",
          "iopub.execute_input": "2021-12-29T13:39:05.866414Z",
          "iopub.status.idle": "2021-12-29T13:39:06.811246Z",
          "shell.execute_reply.started": "2021-12-29T13:39:05.866167Z",
          "shell.execute_reply": "2021-12-29T13:39:06.810234Z"
        },
        "trusted": true,
        "id": "RazYG841mQGY"
      },
      "execution_count": null,
      "outputs": []
    },
    {
      "cell_type": "markdown",
      "source": [
        "Despite the fact that salesprices data contains almost 6M entries, in the present case, we are only considering common entries between revenue df and product_ids df. A few significant insights have come forward, i.e. \n",
        "\n",
        "- Although we saw that california consistently was the one state where the unique product_id most sales were made, the most revenue collected came from the Wisconsin State stores\n",
        "- Similarly, within the distribution of Categories, WI and TX contrinute more sales revenue than do the CA stores. \n",
        "- Wisconsin leads the revenue in FOODS and HOBBIES, while Texas leads the revenue in HOUSEHOLD\n",
        "- CA tends to contribute the smallest revenue out of all three states, despite having the most sales of items in its stores locations"
      ],
      "metadata": {
        "id": "GXOQIP7tmQGY"
      }
    },
    {
      "cell_type": "markdown",
      "source": [
        "%%%%^^^^^^^^^!!!^^^^^^^^^%%%%%"
      ],
      "metadata": {
        "id": "7zf9LiGbmQGY"
      }
    },
    {
      "cell_type": "code",
      "source": [
        "#train_sales_cal_df = train_sales_df.set_index('id')[d_cols].T.merge(calendar_df.set_index('d'), \n",
        " #                                                                   left_index=True, right_index=True,\n",
        " #                                                                   validate=\"1:1\").set_index('date')\n"
      ],
      "metadata": {
        "execution": {
          "iopub.status.busy": "2021-12-29T13:39:06.813073Z",
          "iopub.execute_input": "2021-12-29T13:39:06.81396Z",
          "iopub.status.idle": "2021-12-29T13:39:06.8186Z",
          "shell.execute_reply.started": "2021-12-29T13:39:06.813768Z",
          "shell.execute_reply": "2021-12-29T13:39:06.817454Z"
        },
        "trusted": true,
        "id": "LVppE0wlmQGZ"
      },
      "execution_count": null,
      "outputs": []
    },
    {
      "cell_type": "code",
      "source": [
        "##train_sales_cal_df.T"
      ],
      "metadata": {
        "execution": {
          "iopub.status.busy": "2021-12-29T13:39:06.820491Z",
          "iopub.execute_input": "2021-12-29T13:39:06.82129Z",
          "iopub.status.idle": "2021-12-29T13:39:06.831916Z",
          "shell.execute_reply.started": "2021-12-29T13:39:06.821216Z",
          "shell.execute_reply": "2021-12-29T13:39:06.830859Z"
        },
        "trusted": true,
        "id": "vQ4pHnermQGZ"
      },
      "execution_count": null,
      "outputs": []
    },
    {
      "cell_type": "markdown",
      "source": [
        "### *Behaviour on TimeSeries & Analysis?*\n",
        "\n",
        "Timeseries questions would involve merging the datasets of product_ids and data information to enable a thorough analysis through time. We could find out information on the sales of items alongside the timeseries and also find out what specific effects, the weekends and specials occasions might have had on number of units sold\n",
        "\n",
        "**Rolling Averages** : Rolling averages are a useful tool to employ to understand the long term effects in a timeseries represented data. The rationale behind using rolling averages is the fact that resulting reading coming out of rolling averages smoothes out the data against daily fluctuations, and could help data professionals understand the long term impact of the sales/inventory across time. Therefore, we are going to use both rolling average as a necassary tool to help aid ou"
      ],
      "metadata": {
        "id": "E-dGMe5UmQGZ"
      }
    },
    {
      "cell_type": "markdown",
      "source": [
        "#### Distribution of Total Sales Against Product_id on TimeSeries?"
      ],
      "metadata": {
        "id": "_GZR7RhUmQGb"
      }
    },
    {
      "cell_type": "code",
      "source": [
        "#Changing the date type to datetime so that it is depicted as so:\n",
        "\n",
        "#calendar_df.date = pd.to_datetime(calendar_df.date)\n",
        "#type(calendar_df.date)"
      ],
      "metadata": {
        "execution": {
          "iopub.status.busy": "2021-12-29T13:39:06.833776Z",
          "iopub.execute_input": "2021-12-29T13:39:06.834542Z",
          "iopub.status.idle": "2021-12-29T13:39:06.843272Z",
          "shell.execute_reply.started": "2021-12-29T13:39:06.834476Z",
          "shell.execute_reply": "2021-12-29T13:39:06.842408Z"
        },
        "trusted": true,
        "id": "mdA8j8N9mQGb"
      },
      "execution_count": null,
      "outputs": []
    },
    {
      "cell_type": "code",
      "source": [
        "train_sales_cal_df = train_sales_df.set_index('id')[d_cols].T.merge(calendar_df.set_index('d')['date'], \n",
        "                                                                    left_index=True, right_index=True,\n",
        "                                                                    validate=\"1:1\").set_index('date')\n",
        "train_sales_cal_df['total_sales'] = train_sales_cal_df.sum(axis=1)\n"
      ],
      "metadata": {
        "execution": {
          "iopub.status.busy": "2021-12-29T13:39:06.844933Z",
          "iopub.execute_input": "2021-12-29T13:39:06.845551Z",
          "iopub.status.idle": "2021-12-29T13:39:08.538924Z",
          "shell.execute_reply.started": "2021-12-29T13:39:06.845482Z",
          "shell.execute_reply": "2021-12-29T13:39:08.537855Z"
        },
        "trusted": true,
        "id": "MeoliQmEmQGb"
      },
      "execution_count": null,
      "outputs": []
    },
    {
      "cell_type": "code",
      "source": [
        "train_sales_cal_df = train_sales_cal_df[['total_sales']]\n",
        "train_sales_cal_df = train_sales_cal_df.reset_index()"
      ],
      "metadata": {
        "execution": {
          "iopub.status.busy": "2021-12-29T13:39:08.540724Z",
          "iopub.execute_input": "2021-12-29T13:39:08.541109Z",
          "iopub.status.idle": "2021-12-29T13:39:09.096685Z",
          "shell.execute_reply.started": "2021-12-29T13:39:08.54105Z",
          "shell.execute_reply": "2021-12-29T13:39:09.095529Z"
        },
        "trusted": true,
        "id": "ski9tsF0mQGb"
      },
      "execution_count": null,
      "outputs": []
    },
    {
      "cell_type": "code",
      "source": [
        "fig = px.line(train_sales_cal_df, x='date', y=\"total_sales\", \n",
        "             template = 'plotly_white', title = 'Total Sales by Product id', \n",
        "             width=800, height=450)\n",
        "\n",
        "fig.update_xaxes(rangeslider_visible=True)\n",
        "fig.update_layout(\n",
        "    xaxis=dict(\n",
        "    rangeselector=dict( buttons=list([ dict(count=1, label=\"1m\", step=\"month\", stepmode=\"backward\"),\n",
        "    dict(count=6,label=\"6m\", step=\"month\", stepmode=\"backward\"),\n",
        "    dict(count=1, label=\"YTD\", step=\"year\", stepmode=\"todate\"),\n",
        "    dict(count=1, label=\"1y\", step=\"year\", stepmode=\"backward\"),\n",
        "    dict(step=\"all\")\n",
        "            ]) \n",
        "                      ),\n",
        "        rangeslider=dict(\n",
        "            visible=True\n",
        "        ),\n",
        "        type=\"date\"\n",
        "    )\n",
        ")\n",
        "\n",
        "fig.show()"
      ],
      "metadata": {
        "execution": {
          "iopub.status.busy": "2021-12-29T13:39:09.098918Z",
          "iopub.execute_input": "2021-12-29T13:39:09.099336Z",
          "iopub.status.idle": "2021-12-29T13:39:09.705283Z",
          "shell.execute_reply.started": "2021-12-29T13:39:09.099254Z",
          "shell.execute_reply": "2021-12-29T13:39:09.703837Z"
        },
        "trusted": true,
        "id": "wPNjPZ4AmQGb",
        "outputId": "74aae0fd-35ac-4b0a-9058-279a4a07a32a",
        "colab": {
          "base_uri": "https://localhost:8080/",
          "height": 467
        }
      },
      "execution_count": null,
      "outputs": [
        {
          "output_type": "display_data",
          "data": {
            "text/html": [
              "<html>\n",
              "<head><meta charset=\"utf-8\" /></head>\n",
              "<body>\n",
              "    <div>            <script src=\"https://cdnjs.cloudflare.com/ajax/libs/mathjax/2.7.5/MathJax.js?config=TeX-AMS-MML_SVG\"></script><script type=\"text/javascript\">if (window.MathJax) {MathJax.Hub.Config({SVG: {font: \"STIX-Web\"}});}</script>                <script type=\"text/javascript\">window.PlotlyConfig = {MathJaxConfig: 'local'};</script>\n",
              "        <script src=\"https://cdn.plot.ly/plotly-2.8.3.min.js\"></script>                <div id=\"da47cb2d-886d-4703-9300-4af5a0315bb6\" class=\"plotly-graph-div\" style=\"height:450px; width:800px;\"></div>            <script type=\"text/javascript\">                                    window.PLOTLYENV=window.PLOTLYENV || {};                                    if (document.getElementById(\"da47cb2d-886d-4703-9300-4af5a0315bb6\")) {                    Plotly.newPlot(                        \"da47cb2d-886d-4703-9300-4af5a0315bb6\",                        [{\"hovertemplate\":\"date=%{x}<br>total_sales=%{y}<extra></extra>\",\"legendgroup\":\"\",\"line\":{\"color\":\"#636efa\",\"dash\":\"solid\"},\"marker\":{\"symbol\":\"circle\"},\"mode\":\"lines\",\"name\":\"\",\"showlegend\":false,\"x\":[\"2011-01-29\",\"2011-01-30\",\"2011-01-31\",\"2011-02-01\",\"2011-02-02\",\"2011-02-03\",\"2011-02-04\",\"2011-02-05\",\"2011-02-06\",\"2011-02-07\",\"2011-02-08\",\"2011-02-09\",\"2011-02-10\",\"2011-02-11\",\"2011-02-12\",\"2011-02-13\",\"2011-02-14\",\"2011-02-15\",\"2011-02-16\",\"2011-02-17\",\"2011-02-18\",\"2011-02-19\",\"2011-02-20\",\"2011-02-21\",\"2011-02-22\",\"2011-02-23\",\"2011-02-24\",\"2011-02-25\",\"2011-02-26\",\"2011-02-27\",\"2011-02-28\",\"2011-03-01\",\"2011-03-02\",\"2011-03-03\",\"2011-03-04\",\"2011-03-05\",\"2011-03-06\",\"2011-03-07\",\"2011-03-08\",\"2011-03-09\",\"2011-03-10\",\"2011-03-11\",\"2011-03-12\",\"2011-03-13\",\"2011-03-14\",\"2011-03-15\",\"2011-03-16\",\"2011-03-17\",\"2011-03-18\",\"2011-03-19\",\"2011-03-20\",\"2011-03-21\",\"2011-03-22\",\"2011-03-23\",\"2011-03-24\",\"2011-03-25\",\"2011-03-26\",\"2011-03-27\",\"2011-03-28\",\"2011-03-29\",\"2011-03-30\",\"2011-03-31\",\"2011-04-01\",\"2011-04-02\",\"2011-04-03\",\"2011-04-04\",\"2011-04-05\",\"2011-04-06\",\"2011-04-07\",\"2011-04-08\",\"2011-04-09\",\"2011-04-10\",\"2011-04-11\",\"2011-04-12\",\"2011-04-13\",\"2011-04-14\",\"2011-04-15\",\"2011-04-16\",\"2011-04-17\",\"2011-04-18\",\"2011-04-19\",\"2011-04-20\",\"2011-04-21\",\"2011-04-22\",\"2011-04-23\",\"2011-04-24\",\"2011-04-25\",\"2011-04-26\",\"2011-04-27\",\"2011-04-28\",\"2011-04-29\",\"2011-04-30\",\"2011-05-01\",\"2011-05-02\",\"2011-05-03\",\"2011-05-04\",\"2011-05-05\",\"2011-05-06\",\"2011-05-07\",\"2011-05-08\",\"2011-05-09\",\"2011-05-10\",\"2011-05-11\",\"2011-05-12\",\"2011-05-13\",\"2011-05-14\",\"2011-05-15\",\"2011-05-16\",\"2011-05-17\",\"2011-05-18\",\"2011-05-19\",\"2011-05-20\",\"2011-05-21\",\"2011-05-22\",\"2011-05-23\",\"2011-05-24\",\"2011-05-25\",\"2011-05-26\",\"2011-05-27\",\"2011-05-28\",\"2011-05-29\",\"2011-05-30\",\"2011-05-31\",\"2011-06-01\",\"2011-06-02\",\"2011-06-03\",\"2011-06-04\",\"2011-06-05\",\"2011-06-06\",\"2011-06-07\",\"2011-06-08\",\"2011-06-09\",\"2011-06-10\",\"2011-06-11\",\"2011-06-12\",\"2011-06-13\",\"2011-06-14\",\"2011-06-15\",\"2011-06-16\",\"2011-06-17\",\"2011-06-18\",\"2011-06-19\",\"2011-06-20\",\"2011-06-21\",\"2011-06-22\",\"2011-06-23\",\"2011-06-24\",\"2011-06-25\",\"2011-06-26\",\"2011-06-27\",\"2011-06-28\",\"2011-06-29\",\"2011-06-30\",\"2011-07-01\",\"2011-07-02\",\"2011-07-03\",\"2011-07-04\",\"2011-07-05\",\"2011-07-06\",\"2011-07-07\",\"2011-07-08\",\"2011-07-09\",\"2011-07-10\",\"2011-07-11\",\"2011-07-12\",\"2011-07-13\",\"2011-07-14\",\"2011-07-15\",\"2011-07-16\",\"2011-07-17\",\"2011-07-18\",\"2011-07-19\",\"2011-07-20\",\"2011-07-21\",\"2011-07-22\",\"2011-07-23\",\"2011-07-24\",\"2011-07-25\",\"2011-07-26\",\"2011-07-27\",\"2011-07-28\",\"2011-07-29\",\"2011-07-30\",\"2011-07-31\",\"2011-08-01\",\"2011-08-02\",\"2011-08-03\",\"2011-08-04\",\"2011-08-05\",\"2011-08-06\",\"2011-08-07\",\"2011-08-08\",\"2011-08-09\",\"2011-08-10\",\"2011-08-11\",\"2011-08-12\",\"2011-08-13\",\"2011-08-14\",\"2011-08-15\",\"2011-08-16\",\"2011-08-17\",\"2011-08-18\",\"2011-08-19\",\"2011-08-20\",\"2011-08-21\",\"2011-08-22\",\"2011-08-23\",\"2011-08-24\",\"2011-08-25\",\"2011-08-26\",\"2011-08-27\",\"2011-08-28\",\"2011-08-29\",\"2011-08-30\",\"2011-08-31\",\"2011-09-01\",\"2011-09-02\",\"2011-09-03\",\"2011-09-04\",\"2011-09-05\",\"2011-09-06\",\"2011-09-07\",\"2011-09-08\",\"2011-09-09\",\"2011-09-10\",\"2011-09-11\",\"2011-09-12\",\"2011-09-13\",\"2011-09-14\",\"2011-09-15\",\"2011-09-16\",\"2011-09-17\",\"2011-09-18\",\"2011-09-19\",\"2011-09-20\",\"2011-09-21\",\"2011-09-22\",\"2011-09-23\",\"2011-09-24\",\"2011-09-25\",\"2011-09-26\",\"2011-09-27\",\"2011-09-28\",\"2011-09-29\",\"2011-09-30\",\"2011-10-01\",\"2011-10-02\",\"2011-10-03\",\"2011-10-04\",\"2011-10-05\",\"2011-10-06\",\"2011-10-07\",\"2011-10-08\",\"2011-10-09\",\"2011-10-10\",\"2011-10-11\",\"2011-10-12\",\"2011-10-13\",\"2011-10-14\",\"2011-10-15\",\"2011-10-16\",\"2011-10-17\",\"2011-10-18\",\"2011-10-19\",\"2011-10-20\",\"2011-10-21\",\"2011-10-22\",\"2011-10-23\",\"2011-10-24\",\"2011-10-25\",\"2011-10-26\",\"2011-10-27\",\"2011-10-28\",\"2011-10-29\",\"2011-10-30\",\"2011-10-31\",\"2011-11-01\",\"2011-11-02\",\"2011-11-03\",\"2011-11-04\",\"2011-11-05\",\"2011-11-06\",\"2011-11-07\",\"2011-11-08\",\"2011-11-09\",\"2011-11-10\",\"2011-11-11\",\"2011-11-12\",\"2011-11-13\",\"2011-11-14\",\"2011-11-15\",\"2011-11-16\",\"2011-11-17\",\"2011-11-18\",\"2011-11-19\",\"2011-11-20\",\"2011-11-21\",\"2011-11-22\",\"2011-11-23\",\"2011-11-24\",\"2011-11-25\",\"2011-11-26\",\"2011-11-27\",\"2011-11-28\",\"2011-11-29\",\"2011-11-30\",\"2011-12-01\",\"2011-12-02\",\"2011-12-03\",\"2011-12-04\",\"2011-12-05\",\"2011-12-06\",\"2011-12-07\",\"2011-12-08\",\"2011-12-09\",\"2011-12-10\",\"2011-12-11\",\"2011-12-12\",\"2011-12-13\",\"2011-12-14\",\"2011-12-15\",\"2011-12-16\",\"2011-12-17\",\"2011-12-18\",\"2011-12-19\",\"2011-12-20\",\"2011-12-21\",\"2011-12-22\",\"2011-12-23\",\"2011-12-24\",\"2011-12-25\",\"2011-12-26\",\"2011-12-27\",\"2011-12-28\",\"2011-12-29\",\"2011-12-30\",\"2011-12-31\",\"2012-01-01\",\"2012-01-02\",\"2012-01-03\",\"2012-01-04\",\"2012-01-05\",\"2012-01-06\",\"2012-01-07\",\"2012-01-08\",\"2012-01-09\",\"2012-01-10\",\"2012-01-11\",\"2012-01-12\",\"2012-01-13\",\"2012-01-14\",\"2012-01-15\",\"2012-01-16\",\"2012-01-17\",\"2012-01-18\",\"2012-01-19\",\"2012-01-20\",\"2012-01-21\",\"2012-01-22\",\"2012-01-23\",\"2012-01-24\",\"2012-01-25\",\"2012-01-26\",\"2012-01-27\",\"2012-01-28\",\"2012-01-29\",\"2012-01-30\",\"2012-01-31\",\"2012-02-01\",\"2012-02-02\",\"2012-02-03\",\"2012-02-04\",\"2012-02-05\",\"2012-02-06\",\"2012-02-07\",\"2012-02-08\",\"2012-02-09\",\"2012-02-10\",\"2012-02-11\",\"2012-02-12\",\"2012-02-13\",\"2012-02-14\",\"2012-02-15\",\"2012-02-16\",\"2012-02-17\",\"2012-02-18\",\"2012-02-19\",\"2012-02-20\",\"2012-02-21\",\"2012-02-22\",\"2012-02-23\",\"2012-02-24\",\"2012-02-25\",\"2012-02-26\",\"2012-02-27\",\"2012-02-28\",\"2012-02-29\",\"2012-03-01\",\"2012-03-02\",\"2012-03-03\",\"2012-03-04\",\"2012-03-05\",\"2012-03-06\",\"2012-03-07\",\"2012-03-08\",\"2012-03-09\",\"2012-03-10\",\"2012-03-11\",\"2012-03-12\",\"2012-03-13\",\"2012-03-14\",\"2012-03-15\",\"2012-03-16\",\"2012-03-17\",\"2012-03-18\",\"2012-03-19\",\"2012-03-20\",\"2012-03-21\",\"2012-03-22\",\"2012-03-23\",\"2012-03-24\",\"2012-03-25\",\"2012-03-26\",\"2012-03-27\",\"2012-03-28\",\"2012-03-29\",\"2012-03-30\",\"2012-03-31\",\"2012-04-01\",\"2012-04-02\",\"2012-04-03\",\"2012-04-04\",\"2012-04-05\",\"2012-04-06\",\"2012-04-07\",\"2012-04-08\",\"2012-04-09\",\"2012-04-10\",\"2012-04-11\",\"2012-04-12\",\"2012-04-13\",\"2012-04-14\",\"2012-04-15\",\"2012-04-16\",\"2012-04-17\",\"2012-04-18\",\"2012-04-19\",\"2012-04-20\",\"2012-04-21\",\"2012-04-22\",\"2012-04-23\",\"2012-04-24\",\"2012-04-25\",\"2012-04-26\",\"2012-04-27\",\"2012-04-28\",\"2012-04-29\",\"2012-04-30\",\"2012-05-01\",\"2012-05-02\",\"2012-05-03\",\"2012-05-04\",\"2012-05-05\",\"2012-05-06\",\"2012-05-07\",\"2012-05-08\",\"2012-05-09\",\"2012-05-10\",\"2012-05-11\",\"2012-05-12\",\"2012-05-13\",\"2012-05-14\",\"2012-05-15\",\"2012-05-16\",\"2012-05-17\",\"2012-05-18\",\"2012-05-19\",\"2012-05-20\",\"2012-05-21\",\"2012-05-22\",\"2012-05-23\",\"2012-05-24\",\"2012-05-25\",\"2012-05-26\",\"2012-05-27\",\"2012-05-28\",\"2012-05-29\",\"2012-05-30\",\"2012-05-31\",\"2012-06-01\",\"2012-06-02\",\"2012-06-03\",\"2012-06-04\",\"2012-06-05\",\"2012-06-06\",\"2012-06-07\",\"2012-06-08\",\"2012-06-09\",\"2012-06-10\",\"2012-06-11\",\"2012-06-12\",\"2012-06-13\",\"2012-06-14\",\"2012-06-15\",\"2012-06-16\",\"2012-06-17\",\"2012-06-18\",\"2012-06-19\",\"2012-06-20\",\"2012-06-21\",\"2012-06-22\",\"2012-06-23\",\"2012-06-24\",\"2012-06-25\",\"2012-06-26\",\"2012-06-27\",\"2012-06-28\",\"2012-06-29\",\"2012-06-30\",\"2012-07-01\",\"2012-07-02\",\"2012-07-03\",\"2012-07-04\",\"2012-07-05\",\"2012-07-06\",\"2012-07-07\",\"2012-07-08\",\"2012-07-09\",\"2012-07-10\",\"2012-07-11\",\"2012-07-12\",\"2012-07-13\",\"2012-07-14\",\"2012-07-15\",\"2012-07-16\",\"2012-07-17\",\"2012-07-18\",\"2012-07-19\",\"2012-07-20\",\"2012-07-21\",\"2012-07-22\",\"2012-07-23\",\"2012-07-24\",\"2012-07-25\",\"2012-07-26\",\"2012-07-27\",\"2012-07-28\",\"2012-07-29\",\"2012-07-30\",\"2012-07-31\",\"2012-08-01\",\"2012-08-02\",\"2012-08-03\",\"2012-08-04\",\"2012-08-05\",\"2012-08-06\",\"2012-08-07\",\"2012-08-08\",\"2012-08-09\",\"2012-08-10\",\"2012-08-11\",\"2012-08-12\",\"2012-08-13\",\"2012-08-14\",\"2012-08-15\",\"2012-08-16\",\"2012-08-17\",\"2012-08-18\",\"2012-08-19\",\"2012-08-20\",\"2012-08-21\",\"2012-08-22\",\"2012-08-23\",\"2012-08-24\",\"2012-08-25\",\"2012-08-26\",\"2012-08-27\",\"2012-08-28\",\"2012-08-29\",\"2012-08-30\",\"2012-08-31\",\"2012-09-01\",\"2012-09-02\",\"2012-09-03\",\"2012-09-04\",\"2012-09-05\",\"2012-09-06\",\"2012-09-07\",\"2012-09-08\",\"2012-09-09\",\"2012-09-10\",\"2012-09-11\",\"2012-09-12\",\"2012-09-13\",\"2012-09-14\",\"2012-09-15\",\"2012-09-16\",\"2012-09-17\",\"2012-09-18\",\"2012-09-19\",\"2012-09-20\",\"2012-09-21\",\"2012-09-22\",\"2012-09-23\",\"2012-09-24\",\"2012-09-25\",\"2012-09-26\",\"2012-09-27\",\"2012-09-28\",\"2012-09-29\",\"2012-09-30\",\"2012-10-01\",\"2012-10-02\",\"2012-10-03\",\"2012-10-04\",\"2012-10-05\",\"2012-10-06\",\"2012-10-07\",\"2012-10-08\",\"2012-10-09\",\"2012-10-10\",\"2012-10-11\",\"2012-10-12\",\"2012-10-13\",\"2012-10-14\",\"2012-10-15\",\"2012-10-16\",\"2012-10-17\",\"2012-10-18\",\"2012-10-19\",\"2012-10-20\",\"2012-10-21\",\"2012-10-22\",\"2012-10-23\",\"2012-10-24\",\"2012-10-25\",\"2012-10-26\",\"2012-10-27\",\"2012-10-28\",\"2012-10-29\",\"2012-10-30\",\"2012-10-31\",\"2012-11-01\",\"2012-11-02\",\"2012-11-03\",\"2012-11-04\",\"2012-11-05\",\"2012-11-06\",\"2012-11-07\",\"2012-11-08\",\"2012-11-09\",\"2012-11-10\",\"2012-11-11\",\"2012-11-12\",\"2012-11-13\",\"2012-11-14\",\"2012-11-15\",\"2012-11-16\",\"2012-11-17\",\"2012-11-18\",\"2012-11-19\",\"2012-11-20\",\"2012-11-21\",\"2012-11-22\",\"2012-11-23\",\"2012-11-24\",\"2012-11-25\",\"2012-11-26\",\"2012-11-27\",\"2012-11-28\",\"2012-11-29\",\"2012-11-30\",\"2012-12-01\",\"2012-12-02\",\"2012-12-03\",\"2012-12-04\",\"2012-12-05\",\"2012-12-06\",\"2012-12-07\",\"2012-12-08\",\"2012-12-09\",\"2012-12-10\",\"2012-12-11\",\"2012-12-12\",\"2012-12-13\",\"2012-12-14\",\"2012-12-15\",\"2012-12-16\",\"2012-12-17\",\"2012-12-18\",\"2012-12-19\",\"2012-12-20\",\"2012-12-21\",\"2012-12-22\",\"2012-12-23\",\"2012-12-24\",\"2012-12-25\",\"2012-12-26\",\"2012-12-27\",\"2012-12-28\",\"2012-12-29\",\"2012-12-30\",\"2012-12-31\",\"2013-01-01\",\"2013-01-02\",\"2013-01-03\",\"2013-01-04\",\"2013-01-05\",\"2013-01-06\",\"2013-01-07\",\"2013-01-08\",\"2013-01-09\",\"2013-01-10\",\"2013-01-11\",\"2013-01-12\",\"2013-01-13\",\"2013-01-14\",\"2013-01-15\",\"2013-01-16\",\"2013-01-17\",\"2013-01-18\",\"2013-01-19\",\"2013-01-20\",\"2013-01-21\",\"2013-01-22\",\"2013-01-23\",\"2013-01-24\",\"2013-01-25\",\"2013-01-26\",\"2013-01-27\",\"2013-01-28\",\"2013-01-29\",\"2013-01-30\",\"2013-01-31\",\"2013-02-01\",\"2013-02-02\",\"2013-02-03\",\"2013-02-04\",\"2013-02-05\",\"2013-02-06\",\"2013-02-07\",\"2013-02-08\",\"2013-02-09\",\"2013-02-10\",\"2013-02-11\",\"2013-02-12\",\"2013-02-13\",\"2013-02-14\",\"2013-02-15\",\"2013-02-16\",\"2013-02-17\",\"2013-02-18\",\"2013-02-19\",\"2013-02-20\",\"2013-02-21\",\"2013-02-22\",\"2013-02-23\",\"2013-02-24\",\"2013-02-25\",\"2013-02-26\",\"2013-02-27\",\"2013-02-28\",\"2013-03-01\",\"2013-03-02\",\"2013-03-03\",\"2013-03-04\",\"2013-03-05\",\"2013-03-06\",\"2013-03-07\",\"2013-03-08\",\"2013-03-09\",\"2013-03-10\",\"2013-03-11\",\"2013-03-12\",\"2013-03-13\",\"2013-03-14\",\"2013-03-15\",\"2013-03-16\",\"2013-03-17\",\"2013-03-18\",\"2013-03-19\",\"2013-03-20\",\"2013-03-21\",\"2013-03-22\",\"2013-03-23\",\"2013-03-24\",\"2013-03-25\",\"2013-03-26\",\"2013-03-27\",\"2013-03-28\",\"2013-03-29\",\"2013-03-30\",\"2013-03-31\",\"2013-04-01\",\"2013-04-02\",\"2013-04-03\",\"2013-04-04\",\"2013-04-05\",\"2013-04-06\",\"2013-04-07\",\"2013-04-08\",\"2013-04-09\",\"2013-04-10\",\"2013-04-11\",\"2013-04-12\",\"2013-04-13\",\"2013-04-14\",\"2013-04-15\",\"2013-04-16\",\"2013-04-17\",\"2013-04-18\",\"2013-04-19\",\"2013-04-20\",\"2013-04-21\",\"2013-04-22\",\"2013-04-23\",\"2013-04-24\",\"2013-04-25\",\"2013-04-26\",\"2013-04-27\",\"2013-04-28\",\"2013-04-29\",\"2013-04-30\",\"2013-05-01\",\"2013-05-02\",\"2013-05-03\",\"2013-05-04\",\"2013-05-05\",\"2013-05-06\",\"2013-05-07\",\"2013-05-08\",\"2013-05-09\",\"2013-05-10\",\"2013-05-11\",\"2013-05-12\",\"2013-05-13\",\"2013-05-14\",\"2013-05-15\",\"2013-05-16\",\"2013-05-17\",\"2013-05-18\",\"2013-05-19\",\"2013-05-20\",\"2013-05-21\",\"2013-05-22\",\"2013-05-23\",\"2013-05-24\",\"2013-05-25\",\"2013-05-26\",\"2013-05-27\",\"2013-05-28\",\"2013-05-29\",\"2013-05-30\",\"2013-05-31\",\"2013-06-01\",\"2013-06-02\",\"2013-06-03\",\"2013-06-04\",\"2013-06-05\",\"2013-06-06\",\"2013-06-07\",\"2013-06-08\",\"2013-06-09\",\"2013-06-10\",\"2013-06-11\",\"2013-06-12\",\"2013-06-13\",\"2013-06-14\",\"2013-06-15\",\"2013-06-16\",\"2013-06-17\",\"2013-06-18\",\"2013-06-19\",\"2013-06-20\",\"2013-06-21\",\"2013-06-22\",\"2013-06-23\",\"2013-06-24\",\"2013-06-25\",\"2013-06-26\",\"2013-06-27\",\"2013-06-28\",\"2013-06-29\",\"2013-06-30\",\"2013-07-01\",\"2013-07-02\",\"2013-07-03\",\"2013-07-04\",\"2013-07-05\",\"2013-07-06\",\"2013-07-07\",\"2013-07-08\",\"2013-07-09\",\"2013-07-10\",\"2013-07-11\",\"2013-07-12\",\"2013-07-13\",\"2013-07-14\",\"2013-07-15\",\"2013-07-16\",\"2013-07-17\",\"2013-07-18\",\"2013-07-19\",\"2013-07-20\",\"2013-07-21\",\"2013-07-22\",\"2013-07-23\",\"2013-07-24\",\"2013-07-25\",\"2013-07-26\",\"2013-07-27\",\"2013-07-28\",\"2013-07-29\",\"2013-07-30\",\"2013-07-31\",\"2013-08-01\",\"2013-08-02\",\"2013-08-03\",\"2013-08-04\",\"2013-08-05\",\"2013-08-06\",\"2013-08-07\",\"2013-08-08\",\"2013-08-09\",\"2013-08-10\",\"2013-08-11\",\"2013-08-12\",\"2013-08-13\",\"2013-08-14\",\"2013-08-15\",\"2013-08-16\",\"2013-08-17\",\"2013-08-18\",\"2013-08-19\",\"2013-08-20\",\"2013-08-21\",\"2013-08-22\",\"2013-08-23\",\"2013-08-24\",\"2013-08-25\",\"2013-08-26\",\"2013-08-27\",\"2013-08-28\",\"2013-08-29\",\"2013-08-30\",\"2013-08-31\",\"2013-09-01\",\"2013-09-02\",\"2013-09-03\",\"2013-09-04\",\"2013-09-05\",\"2013-09-06\",\"2013-09-07\",\"2013-09-08\",\"2013-09-09\",\"2013-09-10\",\"2013-09-11\",\"2013-09-12\",\"2013-09-13\",\"2013-09-14\",\"2013-09-15\",\"2013-09-16\",\"2013-09-17\",\"2013-09-18\",\"2013-09-19\",\"2013-09-20\",\"2013-09-21\",\"2013-09-22\",\"2013-09-23\",\"2013-09-24\",\"2013-09-25\",\"2013-09-26\",\"2013-09-27\",\"2013-09-28\",\"2013-09-29\",\"2013-09-30\",\"2013-10-01\",\"2013-10-02\",\"2013-10-03\",\"2013-10-04\",\"2013-10-05\",\"2013-10-06\",\"2013-10-07\",\"2013-10-08\",\"2013-10-09\",\"2013-10-10\",\"2013-10-11\",\"2013-10-12\",\"2013-10-13\",\"2013-10-14\",\"2013-10-15\",\"2013-10-16\",\"2013-10-17\",\"2013-10-18\",\"2013-10-19\",\"2013-10-20\",\"2013-10-21\",\"2013-10-22\",\"2013-10-23\",\"2013-10-24\",\"2013-10-25\",\"2013-10-26\",\"2013-10-27\",\"2013-10-28\",\"2013-10-29\",\"2013-10-30\",\"2013-10-31\",\"2013-11-01\",\"2013-11-02\",\"2013-11-03\",\"2013-11-04\",\"2013-11-05\",\"2013-11-06\",\"2013-11-07\",\"2013-11-08\",\"2013-11-09\",\"2013-11-10\",\"2013-11-11\",\"2013-11-12\",\"2013-11-13\",\"2013-11-14\",\"2013-11-15\",\"2013-11-16\",\"2013-11-17\",\"2013-11-18\",\"2013-11-19\",\"2013-11-20\",\"2013-11-21\",\"2013-11-22\",\"2013-11-23\",\"2013-11-24\",\"2013-11-25\",\"2013-11-26\",\"2013-11-27\",\"2013-11-28\",\"2013-11-29\",\"2013-11-30\",\"2013-12-01\",\"2013-12-02\",\"2013-12-03\",\"2013-12-04\",\"2013-12-05\",\"2013-12-06\",\"2013-12-07\",\"2013-12-08\",\"2013-12-09\",\"2013-12-10\",\"2013-12-11\",\"2013-12-12\",\"2013-12-13\",\"2013-12-14\",\"2013-12-15\",\"2013-12-16\",\"2013-12-17\",\"2013-12-18\",\"2013-12-19\",\"2013-12-20\",\"2013-12-21\",\"2013-12-22\",\"2013-12-23\",\"2013-12-24\",\"2013-12-25\",\"2013-12-26\",\"2013-12-27\",\"2013-12-28\",\"2013-12-29\",\"2013-12-30\",\"2013-12-31\",\"2014-01-01\",\"2014-01-02\",\"2014-01-03\",\"2014-01-04\",\"2014-01-05\",\"2014-01-06\",\"2014-01-07\",\"2014-01-08\",\"2014-01-09\",\"2014-01-10\",\"2014-01-11\",\"2014-01-12\",\"2014-01-13\",\"2014-01-14\",\"2014-01-15\",\"2014-01-16\",\"2014-01-17\",\"2014-01-18\",\"2014-01-19\",\"2014-01-20\",\"2014-01-21\",\"2014-01-22\",\"2014-01-23\",\"2014-01-24\",\"2014-01-25\",\"2014-01-26\",\"2014-01-27\",\"2014-01-28\",\"2014-01-29\",\"2014-01-30\",\"2014-01-31\",\"2014-02-01\",\"2014-02-02\",\"2014-02-03\",\"2014-02-04\",\"2014-02-05\",\"2014-02-06\",\"2014-02-07\",\"2014-02-08\",\"2014-02-09\",\"2014-02-10\",\"2014-02-11\",\"2014-02-12\",\"2014-02-13\",\"2014-02-14\",\"2014-02-15\",\"2014-02-16\",\"2014-02-17\",\"2014-02-18\",\"2014-02-19\",\"2014-02-20\",\"2014-02-21\",\"2014-02-22\",\"2014-02-23\",\"2014-02-24\",\"2014-02-25\",\"2014-02-26\",\"2014-02-27\",\"2014-02-28\",\"2014-03-01\",\"2014-03-02\",\"2014-03-03\",\"2014-03-04\",\"2014-03-05\",\"2014-03-06\",\"2014-03-07\",\"2014-03-08\",\"2014-03-09\",\"2014-03-10\",\"2014-03-11\",\"2014-03-12\",\"2014-03-13\",\"2014-03-14\",\"2014-03-15\",\"2014-03-16\",\"2014-03-17\",\"2014-03-18\",\"2014-03-19\",\"2014-03-20\",\"2014-03-21\",\"2014-03-22\",\"2014-03-23\",\"2014-03-24\",\"2014-03-25\",\"2014-03-26\",\"2014-03-27\",\"2014-03-28\",\"2014-03-29\",\"2014-03-30\",\"2014-03-31\",\"2014-04-01\",\"2014-04-02\",\"2014-04-03\",\"2014-04-04\",\"2014-04-05\",\"2014-04-06\",\"2014-04-07\",\"2014-04-08\",\"2014-04-09\",\"2014-04-10\",\"2014-04-11\",\"2014-04-12\",\"2014-04-13\",\"2014-04-14\",\"2014-04-15\",\"2014-04-16\",\"2014-04-17\",\"2014-04-18\",\"2014-04-19\",\"2014-04-20\",\"2014-04-21\",\"2014-04-22\",\"2014-04-23\",\"2014-04-24\",\"2014-04-25\",\"2014-04-26\",\"2014-04-27\",\"2014-04-28\",\"2014-04-29\",\"2014-04-30\",\"2014-05-01\",\"2014-05-02\",\"2014-05-03\",\"2014-05-04\",\"2014-05-05\",\"2014-05-06\",\"2014-05-07\",\"2014-05-08\",\"2014-05-09\",\"2014-05-10\",\"2014-05-11\",\"2014-05-12\",\"2014-05-13\",\"2014-05-14\",\"2014-05-15\",\"2014-05-16\",\"2014-05-17\",\"2014-05-18\",\"2014-05-19\",\"2014-05-20\",\"2014-05-21\",\"2014-05-22\",\"2014-05-23\",\"2014-05-24\",\"2014-05-25\",\"2014-05-26\",\"2014-05-27\",\"2014-05-28\",\"2014-05-29\",\"2014-05-30\",\"2014-05-31\",\"2014-06-01\",\"2014-06-02\",\"2014-06-03\",\"2014-06-04\",\"2014-06-05\",\"2014-06-06\",\"2014-06-07\",\"2014-06-08\",\"2014-06-09\",\"2014-06-10\",\"2014-06-11\",\"2014-06-12\",\"2014-06-13\",\"2014-06-14\",\"2014-06-15\",\"2014-06-16\",\"2014-06-17\",\"2014-06-18\",\"2014-06-19\",\"2014-06-20\",\"2014-06-21\",\"2014-06-22\",\"2014-06-23\",\"2014-06-24\",\"2014-06-25\",\"2014-06-26\",\"2014-06-27\",\"2014-06-28\",\"2014-06-29\",\"2014-06-30\",\"2014-07-01\",\"2014-07-02\",\"2014-07-03\",\"2014-07-04\",\"2014-07-05\",\"2014-07-06\",\"2014-07-07\",\"2014-07-08\",\"2014-07-09\",\"2014-07-10\",\"2014-07-11\",\"2014-07-12\",\"2014-07-13\",\"2014-07-14\",\"2014-07-15\",\"2014-07-16\",\"2014-07-17\",\"2014-07-18\",\"2014-07-19\",\"2014-07-20\",\"2014-07-21\",\"2014-07-22\",\"2014-07-23\",\"2014-07-24\",\"2014-07-25\",\"2014-07-26\",\"2014-07-27\",\"2014-07-28\",\"2014-07-29\",\"2014-07-30\",\"2014-07-31\",\"2014-08-01\",\"2014-08-02\",\"2014-08-03\",\"2014-08-04\",\"2014-08-05\",\"2014-08-06\",\"2014-08-07\",\"2014-08-08\",\"2014-08-09\",\"2014-08-10\",\"2014-08-11\",\"2014-08-12\",\"2014-08-13\",\"2014-08-14\",\"2014-08-15\",\"2014-08-16\",\"2014-08-17\",\"2014-08-18\",\"2014-08-19\",\"2014-08-20\",\"2014-08-21\",\"2014-08-22\",\"2014-08-23\",\"2014-08-24\",\"2014-08-25\",\"2014-08-26\",\"2014-08-27\",\"2014-08-28\",\"2014-08-29\",\"2014-08-30\",\"2014-08-31\",\"2014-09-01\",\"2014-09-02\",\"2014-09-03\",\"2014-09-04\",\"2014-09-05\",\"2014-09-06\",\"2014-09-07\",\"2014-09-08\",\"2014-09-09\",\"2014-09-10\",\"2014-09-11\",\"2014-09-12\",\"2014-09-13\",\"2014-09-14\",\"2014-09-15\",\"2014-09-16\",\"2014-09-17\",\"2014-09-18\",\"2014-09-19\",\"2014-09-20\",\"2014-09-21\",\"2014-09-22\",\"2014-09-23\",\"2014-09-24\",\"2014-09-25\",\"2014-09-26\",\"2014-09-27\",\"2014-09-28\",\"2014-09-29\",\"2014-09-30\",\"2014-10-01\",\"2014-10-02\",\"2014-10-03\",\"2014-10-04\",\"2014-10-05\",\"2014-10-06\",\"2014-10-07\",\"2014-10-08\",\"2014-10-09\",\"2014-10-10\",\"2014-10-11\",\"2014-10-12\",\"2014-10-13\",\"2014-10-14\",\"2014-10-15\",\"2014-10-16\",\"2014-10-17\",\"2014-10-18\",\"2014-10-19\",\"2014-10-20\",\"2014-10-21\",\"2014-10-22\",\"2014-10-23\",\"2014-10-24\",\"2014-10-25\",\"2014-10-26\",\"2014-10-27\",\"2014-10-28\",\"2014-10-29\",\"2014-10-30\",\"2014-10-31\",\"2014-11-01\",\"2014-11-02\",\"2014-11-03\",\"2014-11-04\",\"2014-11-05\",\"2014-11-06\",\"2014-11-07\",\"2014-11-08\",\"2014-11-09\",\"2014-11-10\",\"2014-11-11\",\"2014-11-12\",\"2014-11-13\",\"2014-11-14\",\"2014-11-15\",\"2014-11-16\",\"2014-11-17\",\"2014-11-18\",\"2014-11-19\",\"2014-11-20\",\"2014-11-21\",\"2014-11-22\",\"2014-11-23\",\"2014-11-24\",\"2014-11-25\",\"2014-11-26\",\"2014-11-27\",\"2014-11-28\",\"2014-11-29\",\"2014-11-30\",\"2014-12-01\",\"2014-12-02\",\"2014-12-03\",\"2014-12-04\",\"2014-12-05\",\"2014-12-06\",\"2014-12-07\",\"2014-12-08\",\"2014-12-09\",\"2014-12-10\",\"2014-12-11\",\"2014-12-12\",\"2014-12-13\",\"2014-12-14\",\"2014-12-15\",\"2014-12-16\",\"2014-12-17\",\"2014-12-18\",\"2014-12-19\",\"2014-12-20\",\"2014-12-21\",\"2014-12-22\",\"2014-12-23\",\"2014-12-24\",\"2014-12-25\",\"2014-12-26\",\"2014-12-27\",\"2014-12-28\",\"2014-12-29\",\"2014-12-30\",\"2014-12-31\",\"2015-01-01\",\"2015-01-02\",\"2015-01-03\",\"2015-01-04\",\"2015-01-05\",\"2015-01-06\",\"2015-01-07\",\"2015-01-08\",\"2015-01-09\",\"2015-01-10\",\"2015-01-11\",\"2015-01-12\",\"2015-01-13\",\"2015-01-14\",\"2015-01-15\",\"2015-01-16\",\"2015-01-17\",\"2015-01-18\",\"2015-01-19\",\"2015-01-20\",\"2015-01-21\",\"2015-01-22\",\"2015-01-23\",\"2015-01-24\",\"2015-01-25\",\"2015-01-26\",\"2015-01-27\",\"2015-01-28\",\"2015-01-29\",\"2015-01-30\",\"2015-01-31\",\"2015-02-01\",\"2015-02-02\",\"2015-02-03\",\"2015-02-04\",\"2015-02-05\",\"2015-02-06\",\"2015-02-07\",\"2015-02-08\",\"2015-02-09\",\"2015-02-10\",\"2015-02-11\",\"2015-02-12\",\"2015-02-13\",\"2015-02-14\",\"2015-02-15\",\"2015-02-16\",\"2015-02-17\",\"2015-02-18\",\"2015-02-19\",\"2015-02-20\",\"2015-02-21\",\"2015-02-22\",\"2015-02-23\",\"2015-02-24\",\"2015-02-25\",\"2015-02-26\",\"2015-02-27\",\"2015-02-28\",\"2015-03-01\",\"2015-03-02\",\"2015-03-03\",\"2015-03-04\",\"2015-03-05\",\"2015-03-06\",\"2015-03-07\",\"2015-03-08\",\"2015-03-09\",\"2015-03-10\",\"2015-03-11\",\"2015-03-12\",\"2015-03-13\",\"2015-03-14\",\"2015-03-15\",\"2015-03-16\",\"2015-03-17\",\"2015-03-18\",\"2015-03-19\",\"2015-03-20\",\"2015-03-21\",\"2015-03-22\",\"2015-03-23\",\"2015-03-24\",\"2015-03-25\",\"2015-03-26\",\"2015-03-27\",\"2015-03-28\",\"2015-03-29\",\"2015-03-30\",\"2015-03-31\",\"2015-04-01\",\"2015-04-02\",\"2015-04-03\",\"2015-04-04\",\"2015-04-05\",\"2015-04-06\",\"2015-04-07\",\"2015-04-08\",\"2015-04-09\",\"2015-04-10\",\"2015-04-11\",\"2015-04-12\",\"2015-04-13\",\"2015-04-14\",\"2015-04-15\",\"2015-04-16\",\"2015-04-17\",\"2015-04-18\",\"2015-04-19\",\"2015-04-20\",\"2015-04-21\",\"2015-04-22\",\"2015-04-23\",\"2015-04-24\",\"2015-04-25\",\"2015-04-26\",\"2015-04-27\",\"2015-04-28\",\"2015-04-29\",\"2015-04-30\",\"2015-05-01\",\"2015-05-02\",\"2015-05-03\",\"2015-05-04\",\"2015-05-05\",\"2015-05-06\",\"2015-05-07\",\"2015-05-08\",\"2015-05-09\",\"2015-05-10\",\"2015-05-11\",\"2015-05-12\",\"2015-05-13\",\"2015-05-14\",\"2015-05-15\",\"2015-05-16\",\"2015-05-17\",\"2015-05-18\",\"2015-05-19\",\"2015-05-20\",\"2015-05-21\",\"2015-05-22\",\"2015-05-23\",\"2015-05-24\",\"2015-05-25\",\"2015-05-26\",\"2015-05-27\",\"2015-05-28\",\"2015-05-29\",\"2015-05-30\",\"2015-05-31\",\"2015-06-01\",\"2015-06-02\",\"2015-06-03\",\"2015-06-04\",\"2015-06-05\",\"2015-06-06\",\"2015-06-07\",\"2015-06-08\",\"2015-06-09\",\"2015-06-10\",\"2015-06-11\",\"2015-06-12\",\"2015-06-13\",\"2015-06-14\",\"2015-06-15\",\"2015-06-16\",\"2015-06-17\",\"2015-06-18\",\"2015-06-19\",\"2015-06-20\",\"2015-06-21\",\"2015-06-22\",\"2015-06-23\",\"2015-06-24\",\"2015-06-25\",\"2015-06-26\",\"2015-06-27\",\"2015-06-28\",\"2015-06-29\",\"2015-06-30\",\"2015-07-01\",\"2015-07-02\",\"2015-07-03\",\"2015-07-04\",\"2015-07-05\",\"2015-07-06\",\"2015-07-07\",\"2015-07-08\",\"2015-07-09\",\"2015-07-10\",\"2015-07-11\",\"2015-07-12\",\"2015-07-13\",\"2015-07-14\",\"2015-07-15\",\"2015-07-16\",\"2015-07-17\",\"2015-07-18\",\"2015-07-19\",\"2015-07-20\",\"2015-07-21\",\"2015-07-22\",\"2015-07-23\",\"2015-07-24\",\"2015-07-25\",\"2015-07-26\",\"2015-07-27\",\"2015-07-28\",\"2015-07-29\",\"2015-07-30\",\"2015-07-31\",\"2015-08-01\",\"2015-08-02\",\"2015-08-03\",\"2015-08-04\",\"2015-08-05\",\"2015-08-06\",\"2015-08-07\",\"2015-08-08\",\"2015-08-09\",\"2015-08-10\",\"2015-08-11\",\"2015-08-12\",\"2015-08-13\",\"2015-08-14\",\"2015-08-15\",\"2015-08-16\",\"2015-08-17\",\"2015-08-18\",\"2015-08-19\",\"2015-08-20\",\"2015-08-21\",\"2015-08-22\",\"2015-08-23\",\"2015-08-24\",\"2015-08-25\",\"2015-08-26\",\"2015-08-27\",\"2015-08-28\",\"2015-08-29\",\"2015-08-30\",\"2015-08-31\",\"2015-09-01\",\"2015-09-02\",\"2015-09-03\",\"2015-09-04\",\"2015-09-05\",\"2015-09-06\",\"2015-09-07\",\"2015-09-08\",\"2015-09-09\",\"2015-09-10\",\"2015-09-11\",\"2015-09-12\",\"2015-09-13\",\"2015-09-14\",\"2015-09-15\",\"2015-09-16\",\"2015-09-17\",\"2015-09-18\",\"2015-09-19\",\"2015-09-20\",\"2015-09-21\",\"2015-09-22\",\"2015-09-23\",\"2015-09-24\",\"2015-09-25\",\"2015-09-26\",\"2015-09-27\",\"2015-09-28\",\"2015-09-29\",\"2015-09-30\",\"2015-10-01\",\"2015-10-02\",\"2015-10-03\",\"2015-10-04\",\"2015-10-05\",\"2015-10-06\",\"2015-10-07\",\"2015-10-08\",\"2015-10-09\",\"2015-10-10\",\"2015-10-11\",\"2015-10-12\",\"2015-10-13\",\"2015-10-14\",\"2015-10-15\",\"2015-10-16\",\"2015-10-17\",\"2015-10-18\",\"2015-10-19\",\"2015-10-20\",\"2015-10-21\",\"2015-10-22\",\"2015-10-23\",\"2015-10-24\",\"2015-10-25\",\"2015-10-26\",\"2015-10-27\",\"2015-10-28\",\"2015-10-29\",\"2015-10-30\",\"2015-10-31\",\"2015-11-01\",\"2015-11-02\",\"2015-11-03\",\"2015-11-04\",\"2015-11-05\",\"2015-11-06\",\"2015-11-07\",\"2015-11-08\",\"2015-11-09\",\"2015-11-10\",\"2015-11-11\",\"2015-11-12\",\"2015-11-13\",\"2015-11-14\",\"2015-11-15\",\"2015-11-16\",\"2015-11-17\",\"2015-11-18\",\"2015-11-19\",\"2015-11-20\",\"2015-11-21\",\"2015-11-22\",\"2015-11-23\",\"2015-11-24\",\"2015-11-25\",\"2015-11-26\",\"2015-11-27\",\"2015-11-28\",\"2015-11-29\",\"2015-11-30\",\"2015-12-01\",\"2015-12-02\",\"2015-12-03\",\"2015-12-04\",\"2015-12-05\",\"2015-12-06\",\"2015-12-07\",\"2015-12-08\",\"2015-12-09\",\"2015-12-10\",\"2015-12-11\",\"2015-12-12\",\"2015-12-13\",\"2015-12-14\",\"2015-12-15\",\"2015-12-16\",\"2015-12-17\",\"2015-12-18\",\"2015-12-19\",\"2015-12-20\",\"2015-12-21\",\"2015-12-22\",\"2015-12-23\",\"2015-12-24\",\"2015-12-25\",\"2015-12-26\",\"2015-12-27\",\"2015-12-28\",\"2015-12-29\",\"2015-12-30\",\"2015-12-31\",\"2016-01-01\",\"2016-01-02\",\"2016-01-03\",\"2016-01-04\",\"2016-01-05\",\"2016-01-06\",\"2016-01-07\",\"2016-01-08\",\"2016-01-09\",\"2016-01-10\",\"2016-01-11\",\"2016-01-12\",\"2016-01-13\",\"2016-01-14\",\"2016-01-15\",\"2016-01-16\",\"2016-01-17\",\"2016-01-18\",\"2016-01-19\",\"2016-01-20\",\"2016-01-21\",\"2016-01-22\",\"2016-01-23\",\"2016-01-24\",\"2016-01-25\",\"2016-01-26\",\"2016-01-27\",\"2016-01-28\",\"2016-01-29\",\"2016-01-30\",\"2016-01-31\",\"2016-02-01\",\"2016-02-02\",\"2016-02-03\",\"2016-02-04\",\"2016-02-05\",\"2016-02-06\",\"2016-02-07\",\"2016-02-08\",\"2016-02-09\",\"2016-02-10\",\"2016-02-11\",\"2016-02-12\",\"2016-02-13\",\"2016-02-14\",\"2016-02-15\",\"2016-02-16\",\"2016-02-17\",\"2016-02-18\",\"2016-02-19\",\"2016-02-20\",\"2016-02-21\",\"2016-02-22\",\"2016-02-23\",\"2016-02-24\",\"2016-02-25\",\"2016-02-26\",\"2016-02-27\",\"2016-02-28\",\"2016-02-29\",\"2016-03-01\",\"2016-03-02\",\"2016-03-03\",\"2016-03-04\",\"2016-03-05\",\"2016-03-06\",\"2016-03-07\",\"2016-03-08\",\"2016-03-09\",\"2016-03-10\",\"2016-03-11\",\"2016-03-12\",\"2016-03-13\",\"2016-03-14\",\"2016-03-15\",\"2016-03-16\",\"2016-03-17\",\"2016-03-18\",\"2016-03-19\",\"2016-03-20\",\"2016-03-21\",\"2016-03-22\",\"2016-03-23\",\"2016-03-24\",\"2016-03-25\",\"2016-03-26\",\"2016-03-27\",\"2016-03-28\",\"2016-03-29\",\"2016-03-30\",\"2016-03-31\",\"2016-04-01\",\"2016-04-02\",\"2016-04-03\",\"2016-04-04\",\"2016-04-05\",\"2016-04-06\",\"2016-04-07\",\"2016-04-08\",\"2016-04-09\",\"2016-04-10\",\"2016-04-11\",\"2016-04-12\",\"2016-04-13\",\"2016-04-14\",\"2016-04-15\",\"2016-04-16\",\"2016-04-17\",\"2016-04-18\",\"2016-04-19\",\"2016-04-20\",\"2016-04-21\",\"2016-04-22\",\"2016-04-23\",\"2016-04-24\"],\"xaxis\":\"x\",\"y\":[32631,31749,23783,25412,19146,29211,28010,37932,32736,25572,23071,23658,23756,26445,34833,36380,21804,24070,21443,20318,23721,31689,29283,23966,20501,20757,20277,22529,29908,28707,21240,22872,22046,23475,23572,31202,34876,24562,22752,22560,22626,25572,32225,31417,24935,24021,22765,21779,23855,30599,29643,23101,20492,19230,18854,23350,29620,29866,21449,19581,18928,21742,28309,33478,33058,24852,23581,22656,22901,24754,31745,31536,24829,23218,21611,21964,25482,29234,29787,22389,19474,20188,19768,24279,29575,24018,20004,18113,17929,18145,22735,28101,29045,22837,24080,20761,21184,24486,28412,23688,25024,22231,22165,22413,25648,28736,31320,22213,19613,18770,18684,21649,27112,26246,20954,19203,19058,20480,22481,25527,23449,22538,19555,23165,22681,26781,30310,31604,26685,25089,24453,24782,26419,29940,31094,25752,24155,25258,22706,24712,28825,26106,24261,21810,21401,22780,24638,26482,27668,22642,19800,19930,21451,31033,33001,29173,23033,26596,26602,26727,27679,32486,31539,26592,24632,23445,23447,27349,30869,30334,24639,21931,22487,22778,26356,30284,28799,22895,21195,20504,21243,24542,28953,28677,26607,25475,27237,23713,26594,31959,32006,26354,26213,24578,24708,28544,33003,33909,28511,25266,23681,23376,27004,32258,33973,25324,22617,21935,21414,24268,30383,30626,22085,20350,21723,26299,29208,34032,26925,30158,26134,24445,24048,28246,33030,34632,26138,24645,23505,26343,26933,32195,32034,24367,22675,21796,21859,26706,32466,33228,24090,22788,22193,22383,30182,39312,37214,30455,26114,25913,26066,29985,35930,35940,29401,27427,27414,26116,29885,38426,36127,27592,24202,22441,22402,27130,33151,32876,24516,22437,22142,22982,26880,33219,31853,22695,26039,24808,27902,28596,36887,37887,27278,25188,26092,26147,29755,35922,35348,26773,26701,23928,23114,26507,33545,32753,25574,25654,30787,18427,23998,25292,27134,22378,21584,21089,26268,29727,38129,35078,29220,27267,25453,26347,29438,34786,35743,29151,26913,26794,29644,28885,34159,32087,27068,26262,26662,28182,34646,29958,13,28032,24651,24791,24541,33652,33751,21807,33053,28751,25821,28499,30405,37143,36722,28206,26640,29044,24715,29463,36815,36459,30548,22187,25348,24034,27204,38578,32587,24702,23549,22408,23237,27199,34362,33577,25188,25124,29851,28615,35104,43029,40075,30681,28108,28579,29927,29863,41757,41904,31675,25100,26878,25195,27604,36622,36338,30218,25190,24115,25211,27870,35769,36281,27270,24359,24802,30232,32543,41319,40325,32703,31532,28608,29759,32322,39559,40612,32501,29100,27841,30752,30951,37904,37694,29187,25533,26227,26015,29055,37089,37843,27182,24649,24783,23879,30732,38463,39783,31359,33033,28318,31368,37545,45638,36210,31993,28800,29575,28568,31938,38546,38707,27672,26067,24699,24824,28143,36708,36764,26670,24848,24448,24530,28977,35647,36124,27356,30290,29239,32959,32932,39201,41529,33477,30433,30204,28164,32814,40872,33769,31583,31758,28677,27323,32311,37929,39514,28805,27502,26623,27963,32797,37239,33853,33407,28620,27150,28809,39529,44943,43910,33294,34006,33587,32535,36901,43309,44944,39636,35074,32930,33782,41798,44438,39039,34100,31967,31468,30764,36477,40010,40509,31847,29371,28885,29585,36377,40594,40699,35863,39542,32656,34408,39991,41431,42672,35770,32587,33072,33077,36582,42348,43689,33020,30418,28916,30864,35402,39544,39952,30864,29479,28354,28538,31840,34588,36147,28933,29531,33970,35260,39511,41276,43009,37024,32394,32301,35008,36465,44081,45798,36030,34312,35497,34405,35457,41521,43364,32410,30206,28922,28552,33044,39964,41021,31010,28472,27101,28303,37092,44630,42819,44525,31879,31854,32575,34775,43218,46649,32972,32370,31018,30142,36359,45959,44286,31860,29276,27065,28557,33634,41889,41362,29176,27979,26932,27231,32656,40981,39736,34841,33830,34220,30075,34588,44040,41872,33790,32295,29969,29998,35052,42226,42237,33684,27869,27103,26169,29711,36689,36987,26712,25419,24390,24312,31863,38547,37184,27581,28080,24975,31051,35514,45079,42545,33057,30514,29683,30757,35722,42884,43517,33213,28308,27835,29713,31616,40441,37576,29330,30274,35208,21909,23423,30016,32732,26476,24489,23545,23868,30389,42496,40940,35337,28819,31184,31124,33594,41573,42526,31089,30298,30016,28671,32902,42390,40053,31025,30254,31782,30872,32848,40015,38987,32623,11,29701,29086,32347,37154,35699,35036,24087,32184,36241,33742,43287,43994,33517,31220,29532,29793,34476,45878,40207,30614,30901,28802,28370,32812,42267,37041,30887,25556,25594,24967,29852,40693,38427,27796,25549,23523,26751,39076,51032,41558,28992,31633,31937,29699,35546,45852,43910,36617,36141,38551,30209,38260,45157,44653,34638,28248,30201,31408,32563,43031,44142,32020,27328,27884,30374,39451,49772,48247,35817,31236,32028,29770,34292,44889,44108,36438,33792,31808,33167,37501,43652,42570,31365,29012,29456,29642,33168,40620,40633,29667,28632,28258,29654,38067,46410,34448,34522,34642,35594,32174,38056,46821,46444,35017,33750,31441,32692,36082,43645,43990,34102,31039,28815,28474,32829,40857,39931,29951,27059,27607,27476,31206,35329,38902,27445,28144,31358,31741,36950,40812,43203,35368,31673,31346,32938,33497,45385,37390,34609,32885,34611,31937,34682,40830,42673,33646,30286,28935,30902,35081,39143,36049,36277,29298,26967,28125,36086,44808,47502,39245,33809,35911,34166,37602,44647,48164,36769,34625,33942,34188,39767,46309,39690,34118,31177,31070,31771,36703,42276,43275,34118,31603,30356,31457,36753,44949,44823,38716,37242,43999,36783,40807,41832,44624,37460,37253,34579,36361,41279,45185,46672,37624,33937,32467,33921,36194,41527,42039,32203,31304,31468,31816,36843,41672,40480,31763,30162,31255,37309,41663,47105,44439,39149,36694,35079,34886,40699,44912,47520,38753,35144,33732,37643,38025,44431,44894,35237,31625,32633,31793,37113,44836,48577,34200,32963,32456,31710,41621,47972,44741,47072,37799,33328,35425,38684,47600,51740,39765,34663,36195,36767,40971,49166,50970,36775,32571,31281,30823,36281,46001,46210,32784,31064,29959,30648,35502,44441,44396,32893,36730,33900,37215,37334,48777,49888,37003,34544,34746,34019,38093,46581,46343,36836,33213,32677,30538,34337,42043,43352,31859,28957,29525,29260,33877,42454,40665,32058,29529,31136,27034,39727,47093,48373,32972,34087,33030,31953,35460,45717,43905,36396,32275,29255,29468,35775,44587,42589,32110,28522,27915,28699,32863,40047,38446,28645,31293,36139,19839,26073,31546,38187,37087,38024,31519,35151,36899,44450,40424,33653,31422,30911,31669,36163,41528,43097,32474,30338,31692,32411,32123,40474,34915,35289,31077,20,32727,33095,36490,34121,32293,34811,23845,32653,38870,44616,45302,32412,30952,32973,33197,32766,47798,46858,33714,30223,31579,31190,35240,43233,40427,32706,27854,28197,26244,30888,40529,40197,30060,24000,24983,27017,36489,45333,43897,37294,30577,31676,32389,34255,47108,48040,33147,33533,36738,37483,33910,44965,43832,34557,30710,30411,29703,33326,41488,44427,31797,29725,26351,28890,34198,45496,46777,37201,30066,31278,32662,34864,43485,50090,37506,34567,34942,33084,36946,44708,45376,32084,30095,29384,28809,33202,41441,44171,31843,28466,27014,30210,32918,41193,43156,30672,33708,33699,36604,35685,46776,48790,36594,35248,35209,33038,38439,46155,46083,35751,36396,34228,33193,38905,47819,38934,31626,30678,30437,30792,33427,42377,43440,31508,29865,28883,33859,38951,46542,45139,35820,33611,32146,31819,36363,42843,38180,37922,33844,32817,33522,34589,40019,43020,32314,29926,29083,30386,33425,38386,35965,33459,28912,28109,27689,33740,40692,44602,37312,38357,32899,35655,37457,44347,45279,38256,33658,34644,35077,38356,44984,42494,35203,33542,32269,33120,37996,42420,42460,33158,30641,28821,29356,34078,39930,40211,33449,37739,37869,47028,38593,40782,45490,37635,36448,37214,35179,40253,47696,43675,36281,35815,33011,32430,36449,42480,42689,33451,31512,30939,30525,33848,39008,42214,32632,30705,30334,31840,43129,47011,47572,35799,36238,34547,34577,38980,45258,43249,36122,36672,34419,34536,38258,44555,46673,35379,31959,31847,32399,37116,44673,47443,34667,31402,29506,29976,37693,43237,39210,43256,34299,37397,31483,35966,46017,45953,35580,34167,31792,34480,38359,47579,45747,36559,31037,29831,28861,34832,43032,44402,31510,29410,29001,29511,33127,40839,42924,31473,29990,34602,34249,41836,47199,48361,37719,33151,33185,33738,35001,44561,46735,33557,32451,34193,29936,33430,43755,43456,32233,29367,27926,28506,32790,40753,40197,31203,28340,27563,30235,32850,44249,46072,38564,31952,30832,33223,34763,44270,47415,34449,32588,30490,28711,34739,44383,43516,31811,28014,28047,28247,32863,42402,40630,31598,31888,36903,21844,26354,34456,35805,34305,30569,32605,31516,36963,43815,42527,33114,32667,31898,26115,33502,40036,42006,34127,29936,30152,32367,29834,38421,38488,33736,34862,29617,20,32909,32594,31894,29990,29417,33450,26452,39633,41085,39647,34691,32682,29165,29029,34385,43946,45066,35574,30324,31059,33063,34889,45169,40724,34412,28363,28109,25795,32221,42181,42623,30358,27873,28104,28225,37440,50828,40385,35006,37405,33992,34647,36809,50836,49719,39170,35464,35701,38570,36936,41614,44007,37147,30697,28505,28808,33119,42109,43759,31522,29780,29227,29223,33566,44154,45186,35398,34387,31774,32819,35937,44229,47379,36020,33597,32891,34391,36623,44471,48827,35495,31412,29947,29369,32999,41982,44014,32338,26841,31995,29902,32535,41531,42583,31899,30956,35060,33817,44108,48419,41636,36215,33911,34149,34437,36853,45272,47180,34494,33597,34690,31431,33059,42516,44359,33118,30227,30382,30658,34423,43598,43406,33444,29750,28667,30553,40976,47052,49102,38169,35089,35296,33321,37424,47269,38030,37192,35033,33685,32054,37764,44336,44493,34296,30671,31158,30601,36267,39975,37426,37817,30879,30097,30216,32925,40938,43463,38654,37424,37990,34922,39889,47507,48426,39922,38184,35176,35585,40282,44853,48981,47580,31698,31478,34425,37829,44255,41413,34846,33071,31622,32376,35945,42213,42946,33928,32179,38077,41844,54154,37489,43532,41538,37355,36049,38210,39895,47405,49594,39058,36831,38095,37478,41847,45660,47784,37547,34138,33376,34195,38441,42624,44192,36126,32955,31593,33587,41478,49150,51541,45257,37658,38279,37798,40137,48104,51961,38324,36449,37351,36055,40762,48436,50540,39112,35245,33707,32516,36963,45080,47596,35093,31295,31967,32076,36251,45236,48517,35885,37955,36590,39619,39270,47487,45248,45762,36169,38102,35693,40286,50103,51340,38071,37425,33645,33998,38689,48279,49979,36145,33518,33497,32967,38680,46636,47613,34262,30615,31270,37677,44376,54687,52895,42474,38855,35887,37819,43595,48787,49704,42240,35681,34248,36353,38422,47813,48964,35302,33104,32411,32770,38021,45006,46179,35092,32319,31267,33232,40514,42743,46994,36457,37997,32102,34675,39621,47341,48411,36915,33374,33338,33242,36195,47342,49755,35735,29174,32160,32365,38357,42793,44925,35140,34222,40124,23631,27581,34212,37782,32016,34818,33732,38029,38187,47025,48415,35408,32913,33690,32159,36343,45975,45133,37522,36130,34123,35454,34756,43488,43011,35522,36612,38752,36227,14,38377,35378,29964,31893,34127,43059,32651,44737,44340,36693,35306,32685,35944,38936,52880,47369,37986,35122,32231,35856,41790,51146,45533,38340,31988,32684,31779,36307,48927,47832,34389,30446,31349,32466,37639,49104,50831,41714,34928,39340,35424,40193,55040,46893,36804,38513,39353,44584,44222,53715,48337,46152,37702,36545,36436,40392,50857,52081,37328,33981,34068,34615,37649,47887,50915,37259,36536,38458,41459,39325,52322,57218,40562,37727,37032,38267,40887,52711,51421,42035,40117,36606,35009,39652,46181,47825,37360,35475,34786,34003,45611,53863,46360,36041,33857,32359,34681,45536,52672,56425,40418,39683,39134,38116,43220,56340,53856,42427,39069,35193,37529,41789,48362,51640,38059,37570,35343,35033,40517,48962,49795],\"yaxis\":\"y\",\"type\":\"scattergl\"}],                        {\"template\":{\"data\":{\"barpolar\":[{\"marker\":{\"line\":{\"color\":\"white\",\"width\":0.5},\"pattern\":{\"fillmode\":\"overlay\",\"size\":10,\"solidity\":0.2}},\"type\":\"barpolar\"}],\"bar\":[{\"error_x\":{\"color\":\"#2a3f5f\"},\"error_y\":{\"color\":\"#2a3f5f\"},\"marker\":{\"line\":{\"color\":\"white\",\"width\":0.5},\"pattern\":{\"fillmode\":\"overlay\",\"size\":10,\"solidity\":0.2}},\"type\":\"bar\"}],\"carpet\":[{\"aaxis\":{\"endlinecolor\":\"#2a3f5f\",\"gridcolor\":\"#C8D4E3\",\"linecolor\":\"#C8D4E3\",\"minorgridcolor\":\"#C8D4E3\",\"startlinecolor\":\"#2a3f5f\"},\"baxis\":{\"endlinecolor\":\"#2a3f5f\",\"gridcolor\":\"#C8D4E3\",\"linecolor\":\"#C8D4E3\",\"minorgridcolor\":\"#C8D4E3\",\"startlinecolor\":\"#2a3f5f\"},\"type\":\"carpet\"}],\"choropleth\":[{\"colorbar\":{\"outlinewidth\":0,\"ticks\":\"\"},\"type\":\"choropleth\"}],\"contourcarpet\":[{\"colorbar\":{\"outlinewidth\":0,\"ticks\":\"\"},\"type\":\"contourcarpet\"}],\"contour\":[{\"colorbar\":{\"outlinewidth\":0,\"ticks\":\"\"},\"colorscale\":[[0.0,\"#0d0887\"],[0.1111111111111111,\"#46039f\"],[0.2222222222222222,\"#7201a8\"],[0.3333333333333333,\"#9c179e\"],[0.4444444444444444,\"#bd3786\"],[0.5555555555555556,\"#d8576b\"],[0.6666666666666666,\"#ed7953\"],[0.7777777777777778,\"#fb9f3a\"],[0.8888888888888888,\"#fdca26\"],[1.0,\"#f0f921\"]],\"type\":\"contour\"}],\"heatmapgl\":[{\"colorbar\":{\"outlinewidth\":0,\"ticks\":\"\"},\"colorscale\":[[0.0,\"#0d0887\"],[0.1111111111111111,\"#46039f\"],[0.2222222222222222,\"#7201a8\"],[0.3333333333333333,\"#9c179e\"],[0.4444444444444444,\"#bd3786\"],[0.5555555555555556,\"#d8576b\"],[0.6666666666666666,\"#ed7953\"],[0.7777777777777778,\"#fb9f3a\"],[0.8888888888888888,\"#fdca26\"],[1.0,\"#f0f921\"]],\"type\":\"heatmapgl\"}],\"heatmap\":[{\"colorbar\":{\"outlinewidth\":0,\"ticks\":\"\"},\"colorscale\":[[0.0,\"#0d0887\"],[0.1111111111111111,\"#46039f\"],[0.2222222222222222,\"#7201a8\"],[0.3333333333333333,\"#9c179e\"],[0.4444444444444444,\"#bd3786\"],[0.5555555555555556,\"#d8576b\"],[0.6666666666666666,\"#ed7953\"],[0.7777777777777778,\"#fb9f3a\"],[0.8888888888888888,\"#fdca26\"],[1.0,\"#f0f921\"]],\"type\":\"heatmap\"}],\"histogram2dcontour\":[{\"colorbar\":{\"outlinewidth\":0,\"ticks\":\"\"},\"colorscale\":[[0.0,\"#0d0887\"],[0.1111111111111111,\"#46039f\"],[0.2222222222222222,\"#7201a8\"],[0.3333333333333333,\"#9c179e\"],[0.4444444444444444,\"#bd3786\"],[0.5555555555555556,\"#d8576b\"],[0.6666666666666666,\"#ed7953\"],[0.7777777777777778,\"#fb9f3a\"],[0.8888888888888888,\"#fdca26\"],[1.0,\"#f0f921\"]],\"type\":\"histogram2dcontour\"}],\"histogram2d\":[{\"colorbar\":{\"outlinewidth\":0,\"ticks\":\"\"},\"colorscale\":[[0.0,\"#0d0887\"],[0.1111111111111111,\"#46039f\"],[0.2222222222222222,\"#7201a8\"],[0.3333333333333333,\"#9c179e\"],[0.4444444444444444,\"#bd3786\"],[0.5555555555555556,\"#d8576b\"],[0.6666666666666666,\"#ed7953\"],[0.7777777777777778,\"#fb9f3a\"],[0.8888888888888888,\"#fdca26\"],[1.0,\"#f0f921\"]],\"type\":\"histogram2d\"}],\"histogram\":[{\"marker\":{\"pattern\":{\"fillmode\":\"overlay\",\"size\":10,\"solidity\":0.2}},\"type\":\"histogram\"}],\"mesh3d\":[{\"colorbar\":{\"outlinewidth\":0,\"ticks\":\"\"},\"type\":\"mesh3d\"}],\"parcoords\":[{\"line\":{\"colorbar\":{\"outlinewidth\":0,\"ticks\":\"\"}},\"type\":\"parcoords\"}],\"pie\":[{\"automargin\":true,\"type\":\"pie\"}],\"scatter3d\":[{\"line\":{\"colorbar\":{\"outlinewidth\":0,\"ticks\":\"\"}},\"marker\":{\"colorbar\":{\"outlinewidth\":0,\"ticks\":\"\"}},\"type\":\"scatter3d\"}],\"scattercarpet\":[{\"marker\":{\"colorbar\":{\"outlinewidth\":0,\"ticks\":\"\"}},\"type\":\"scattercarpet\"}],\"scattergeo\":[{\"marker\":{\"colorbar\":{\"outlinewidth\":0,\"ticks\":\"\"}},\"type\":\"scattergeo\"}],\"scattergl\":[{\"marker\":{\"colorbar\":{\"outlinewidth\":0,\"ticks\":\"\"}},\"type\":\"scattergl\"}],\"scattermapbox\":[{\"marker\":{\"colorbar\":{\"outlinewidth\":0,\"ticks\":\"\"}},\"type\":\"scattermapbox\"}],\"scatterpolargl\":[{\"marker\":{\"colorbar\":{\"outlinewidth\":0,\"ticks\":\"\"}},\"type\":\"scatterpolargl\"}],\"scatterpolar\":[{\"marker\":{\"colorbar\":{\"outlinewidth\":0,\"ticks\":\"\"}},\"type\":\"scatterpolar\"}],\"scatter\":[{\"marker\":{\"colorbar\":{\"outlinewidth\":0,\"ticks\":\"\"}},\"type\":\"scatter\"}],\"scatterternary\":[{\"marker\":{\"colorbar\":{\"outlinewidth\":0,\"ticks\":\"\"}},\"type\":\"scatterternary\"}],\"surface\":[{\"colorbar\":{\"outlinewidth\":0,\"ticks\":\"\"},\"colorscale\":[[0.0,\"#0d0887\"],[0.1111111111111111,\"#46039f\"],[0.2222222222222222,\"#7201a8\"],[0.3333333333333333,\"#9c179e\"],[0.4444444444444444,\"#bd3786\"],[0.5555555555555556,\"#d8576b\"],[0.6666666666666666,\"#ed7953\"],[0.7777777777777778,\"#fb9f3a\"],[0.8888888888888888,\"#fdca26\"],[1.0,\"#f0f921\"]],\"type\":\"surface\"}],\"table\":[{\"cells\":{\"fill\":{\"color\":\"#EBF0F8\"},\"line\":{\"color\":\"white\"}},\"header\":{\"fill\":{\"color\":\"#C8D4E3\"},\"line\":{\"color\":\"white\"}},\"type\":\"table\"}]},\"layout\":{\"annotationdefaults\":{\"arrowcolor\":\"#2a3f5f\",\"arrowhead\":0,\"arrowwidth\":1},\"autotypenumbers\":\"strict\",\"coloraxis\":{\"colorbar\":{\"outlinewidth\":0,\"ticks\":\"\"}},\"colorscale\":{\"diverging\":[[0,\"#8e0152\"],[0.1,\"#c51b7d\"],[0.2,\"#de77ae\"],[0.3,\"#f1b6da\"],[0.4,\"#fde0ef\"],[0.5,\"#f7f7f7\"],[0.6,\"#e6f5d0\"],[0.7,\"#b8e186\"],[0.8,\"#7fbc41\"],[0.9,\"#4d9221\"],[1,\"#276419\"]],\"sequential\":[[0.0,\"#0d0887\"],[0.1111111111111111,\"#46039f\"],[0.2222222222222222,\"#7201a8\"],[0.3333333333333333,\"#9c179e\"],[0.4444444444444444,\"#bd3786\"],[0.5555555555555556,\"#d8576b\"],[0.6666666666666666,\"#ed7953\"],[0.7777777777777778,\"#fb9f3a\"],[0.8888888888888888,\"#fdca26\"],[1.0,\"#f0f921\"]],\"sequentialminus\":[[0.0,\"#0d0887\"],[0.1111111111111111,\"#46039f\"],[0.2222222222222222,\"#7201a8\"],[0.3333333333333333,\"#9c179e\"],[0.4444444444444444,\"#bd3786\"],[0.5555555555555556,\"#d8576b\"],[0.6666666666666666,\"#ed7953\"],[0.7777777777777778,\"#fb9f3a\"],[0.8888888888888888,\"#fdca26\"],[1.0,\"#f0f921\"]]},\"colorway\":[\"#636efa\",\"#EF553B\",\"#00cc96\",\"#ab63fa\",\"#FFA15A\",\"#19d3f3\",\"#FF6692\",\"#B6E880\",\"#FF97FF\",\"#FECB52\"],\"font\":{\"color\":\"#2a3f5f\"},\"geo\":{\"bgcolor\":\"white\",\"lakecolor\":\"white\",\"landcolor\":\"white\",\"showlakes\":true,\"showland\":true,\"subunitcolor\":\"#C8D4E3\"},\"hoverlabel\":{\"align\":\"left\"},\"hovermode\":\"closest\",\"mapbox\":{\"style\":\"light\"},\"paper_bgcolor\":\"white\",\"plot_bgcolor\":\"white\",\"polar\":{\"angularaxis\":{\"gridcolor\":\"#EBF0F8\",\"linecolor\":\"#EBF0F8\",\"ticks\":\"\"},\"bgcolor\":\"white\",\"radialaxis\":{\"gridcolor\":\"#EBF0F8\",\"linecolor\":\"#EBF0F8\",\"ticks\":\"\"}},\"scene\":{\"xaxis\":{\"backgroundcolor\":\"white\",\"gridcolor\":\"#DFE8F3\",\"gridwidth\":2,\"linecolor\":\"#EBF0F8\",\"showbackground\":true,\"ticks\":\"\",\"zerolinecolor\":\"#EBF0F8\"},\"yaxis\":{\"backgroundcolor\":\"white\",\"gridcolor\":\"#DFE8F3\",\"gridwidth\":2,\"linecolor\":\"#EBF0F8\",\"showbackground\":true,\"ticks\":\"\",\"zerolinecolor\":\"#EBF0F8\"},\"zaxis\":{\"backgroundcolor\":\"white\",\"gridcolor\":\"#DFE8F3\",\"gridwidth\":2,\"linecolor\":\"#EBF0F8\",\"showbackground\":true,\"ticks\":\"\",\"zerolinecolor\":\"#EBF0F8\"}},\"shapedefaults\":{\"line\":{\"color\":\"#2a3f5f\"}},\"ternary\":{\"aaxis\":{\"gridcolor\":\"#DFE8F3\",\"linecolor\":\"#A2B1C6\",\"ticks\":\"\"},\"baxis\":{\"gridcolor\":\"#DFE8F3\",\"linecolor\":\"#A2B1C6\",\"ticks\":\"\"},\"bgcolor\":\"white\",\"caxis\":{\"gridcolor\":\"#DFE8F3\",\"linecolor\":\"#A2B1C6\",\"ticks\":\"\"}},\"title\":{\"x\":0.05},\"xaxis\":{\"automargin\":true,\"gridcolor\":\"#EBF0F8\",\"linecolor\":\"#EBF0F8\",\"ticks\":\"\",\"title\":{\"standoff\":15},\"zerolinecolor\":\"#EBF0F8\",\"zerolinewidth\":2},\"yaxis\":{\"automargin\":true,\"gridcolor\":\"#EBF0F8\",\"linecolor\":\"#EBF0F8\",\"ticks\":\"\",\"title\":{\"standoff\":15},\"zerolinecolor\":\"#EBF0F8\",\"zerolinewidth\":2}}},\"xaxis\":{\"anchor\":\"y\",\"domain\":[0.0,1.0],\"title\":{\"text\":\"date\"},\"rangeslider\":{\"visible\":true},\"rangeselector\":{\"buttons\":[{\"count\":1,\"label\":\"1m\",\"step\":\"month\",\"stepmode\":\"backward\"},{\"count\":6,\"label\":\"6m\",\"step\":\"month\",\"stepmode\":\"backward\"},{\"count\":1,\"label\":\"YTD\",\"step\":\"year\",\"stepmode\":\"todate\"},{\"count\":1,\"label\":\"1y\",\"step\":\"year\",\"stepmode\":\"backward\"},{\"step\":\"all\"}]},\"type\":\"date\"},\"yaxis\":{\"anchor\":\"x\",\"domain\":[0.0,1.0],\"title\":{\"text\":\"total_sales\"}},\"legend\":{\"tracegroupgap\":0},\"title\":{\"text\":\"Total Sales by Product id\"},\"height\":450,\"width\":800},                        {\"responsive\": true}                    ).then(function(){\n",
              "                            \n",
              "var gd = document.getElementById('da47cb2d-886d-4703-9300-4af5a0315bb6');\n",
              "var x = new MutationObserver(function (mutations, observer) {{\n",
              "        var display = window.getComputedStyle(gd).display;\n",
              "        if (!display || display === 'none') {{\n",
              "            console.log([gd, 'removed!']);\n",
              "            Plotly.purge(gd);\n",
              "            observer.disconnect();\n",
              "        }}\n",
              "}});\n",
              "\n",
              "// Listen for the removal of the full notebook cells\n",
              "var notebookContainer = gd.closest('#notebook-container');\n",
              "if (notebookContainer) {{\n",
              "    x.observe(notebookContainer, {childList: true});\n",
              "}}\n",
              "\n",
              "// Listen for the clearing of the current output cell\n",
              "var outputEl = gd.closest('.output');\n",
              "if (outputEl) {{\n",
              "    x.observe(outputEl, {childList: true});\n",
              "}}\n",
              "\n",
              "                        })                };                            </script>        </div>\n",
              "</body>\n",
              "</html>"
            ]
          },
          "metadata": {}
        }
      ]
    },
    {
      "cell_type": "markdown",
      "source": [
        "From this graph it is difficult to tell the trend and seasonality patterns within our dataset. Althogh there is an increasing trend, the number of values for the entire dataset represented in the graph make it difficult to ascertain the true picture.\n",
        "\n",
        "Fortunately, using the seasonal_decompose module in statsmodel, we could find out the seasonality and trend patterns in the timeseries. We are going to choose the \"mulitplicative seasonality\" owing to the fact of variability in the magnitude of the number of sales along the timeseries\n"
      ],
      "metadata": {
        "id": "YDtbuIM0mQGc"
      }
    },
    {
      "cell_type": "code",
      "source": [
        "from statsmodels.tsa.seasonal import seasonal_decompose\n",
        "\n",
        "def time_series_decompose(df, model_specified, period):\n",
        "\n",
        "    '''\n",
        "    returns decomposed time series components (with seasonality, trend and residuals ) of time_series df\n",
        "    \n",
        "    inputs: df(time series df), model_specified (whether additive or multiplicative ), period(number of days)\n",
        "    returns: trend values, seasonality values and residual values of time_series df\n",
        "    \n",
        "    '''\n",
        "    df_decomposition = seasonal_decompose(\n",
        "                               x=df.set_index(['date']), \n",
        "                               model= model_specified, \n",
        "                               period=period)\n",
        "    \n",
        "    est_trend = df_decomposition.trend\n",
        "    est_trend = est_trend.reset_index(name='trend').set_index('date')\n",
        "    est_seasonal = df_decomposition.seasonal\n",
        "    est_seasonal = est_seasonal.reset_index(name='seasonal').set_index('date')\n",
        "    est_residual = df_decomposition.resid\n",
        "    est_residual = est_residual.reset_index(name='resid').set_index('date')\n",
        "    \n",
        "    return est_trend, est_seasonal, est_residual\n",
        "\n",
        "sample_time_s1 = train_sales_cal_df[400:700]\n",
        "est_trend, est_seasonal, est_residual = time_series_decompose(sample_time_s1, \n",
        "                                                              'multiplicative', 30)"
      ],
      "metadata": {
        "execution": {
          "iopub.status.busy": "2021-12-29T13:39:09.70743Z",
          "iopub.execute_input": "2021-12-29T13:39:09.707848Z",
          "iopub.status.idle": "2021-12-29T13:39:09.73236Z",
          "shell.execute_reply.started": "2021-12-29T13:39:09.707776Z",
          "shell.execute_reply": "2021-12-29T13:39:09.730772Z"
        },
        "trusted": true,
        "id": "eM1oeb-5mQGc"
      },
      "execution_count": null,
      "outputs": []
    },
    {
      "cell_type": "code",
      "source": [
        "fig, (ax1, ax2, ax3) = plt.subplots(3, 1, figsize=(14, 7))\n",
        "\n",
        "est_trend.plot(figsize=(15, 5) ,\n",
        "                 alpha=0.9, \n",
        "                 lw=3, ax = ax1)\n",
        "est_seasonal.plot(figsize=(15, 5) ,\n",
        "                 alpha=0.9, \n",
        "                 lw=3, ax = ax2)\n",
        "est_residual.plot(figsize=(15, 5) ,\n",
        "                 alpha=0.9, \n",
        "                 lw=3, ax = ax3)\n",
        "\n",
        "fig.tight_layout()\n",
        "plt.show()"
      ],
      "metadata": {
        "execution": {
          "iopub.status.busy": "2021-12-29T13:39:09.734188Z",
          "iopub.execute_input": "2021-12-29T13:39:09.734649Z",
          "iopub.status.idle": "2021-12-29T13:39:10.269844Z",
          "shell.execute_reply.started": "2021-12-29T13:39:09.734542Z",
          "shell.execute_reply": "2021-12-29T13:39:10.268832Z"
        },
        "trusted": true,
        "id": "9uOZirvymQGc",
        "outputId": "4efc4383-7514-43fa-a629-6598d4b85dde",
        "colab": {
          "base_uri": "https://localhost:8080/",
          "height": 369
        }
      },
      "execution_count": null,
      "outputs": [
        {
          "output_type": "display_data",
          "data": {
            "text/plain": [
              "<Figure size 1080x360 with 3 Axes>"
            ],
            "image/png": "[encoded data removed]"
          },
          "metadata": {}
        }
      ]
    },
    {
      "cell_type": "markdown",
      "source": [
        "fter looking at the trend, the seasonality and residuals patterns, we have the following information gathered:\n",
        "\n",
        "* There is definitely seasonality in our dataset, and in order to observe its pattern, we have taken a subset of dataset\n",
        "* Since the seasonal and residual components are changing the trend line by an amount that is 'Dependent\" of the changes in seasonal and residual components, we have a multiplicative behaviour"
      ],
      "metadata": {
        "id": "soC5ezOqmQGc"
      }
    },
    {
      "cell_type": "code",
      "source": [
        "train_sales_cal_df = train_sales_cal_df.set_index('date')"
      ],
      "metadata": {
        "execution": {
          "iopub.status.busy": "2021-12-29T13:39:10.271033Z",
          "iopub.execute_input": "2021-12-29T13:39:10.271316Z",
          "iopub.status.idle": "2021-12-29T13:39:10.281008Z",
          "shell.execute_reply.started": "2021-12-29T13:39:10.271277Z",
          "shell.execute_reply": "2021-12-29T13:39:10.279615Z"
        },
        "trusted": true,
        "id": "JoDkvmzhmQGd"
      },
      "execution_count": null,
      "outputs": []
    },
    {
      "cell_type": "code",
      "source": [
        "def time_and_rolling_plot(df, title_text, rolling_days=30, height=2.2):\n",
        "\n",
        "    '''\n",
        "    plots the time_series of dailysales made along with rolling mean plot\n",
        "    \n",
        "    inputs: df, title_text(plot title), rolling_days (rolling mean to be taken across), \n",
        "            height(height of the plot to be specified)\n",
        "            \n",
        "    returns: time series plot and rolling mean plot of the variable specified \n",
        "    '''\n",
        "    sns.set_style('whitegrid')\n",
        "    fig, ax1 = plt.subplots(1, 1, figsize=(13, height))\n",
        "    df.plot(figsize=(13, height),\n",
        "                        alpha=0.8,\n",
        "                        title=\"Time Plot for the \" + str(title_text), \n",
        "                        lw=2, color=next(color_cycle), ax=ax1)\n",
        "    df.rolling(rolling_days).mean().plot(figsize=(13, height),\n",
        "                                          alpha=1, \n",
        "                                          legend=\"Rolling Mean on 30 days\", \n",
        "                                          lw=2.5, color=next(color_cycle), ax=ax1)\n",
        "    ax1.legend(['Total Sales Per Category', 'total_sales_rolling_mean'])\n",
        "    plt.show()"
      ],
      "metadata": {
        "execution": {
          "iopub.status.busy": "2021-12-29T13:39:10.283008Z",
          "iopub.execute_input": "2021-12-29T13:39:10.283753Z",
          "iopub.status.idle": "2021-12-29T13:39:10.299283Z",
          "shell.execute_reply.started": "2021-12-29T13:39:10.283674Z",
          "shell.execute_reply": "2021-12-29T13:39:10.297978Z"
        },
        "trusted": true,
        "id": "Stamw6z4mQGd"
      },
      "execution_count": null,
      "outputs": []
    },
    {
      "cell_type": "code",
      "source": [
        "time_and_rolling_plot(train_sales_cal_df, 'Total_Sales_Data')"
      ],
      "metadata": {
        "execution": {
          "iopub.status.busy": "2021-12-29T13:39:10.301647Z",
          "iopub.execute_input": "2021-12-29T13:39:10.302265Z",
          "iopub.status.idle": "2021-12-29T13:39:10.663159Z",
          "shell.execute_reply.started": "2021-12-29T13:39:10.302065Z",
          "shell.execute_reply": "2021-12-29T13:39:10.661775Z"
        },
        "trusted": true,
        "id": "J8Mjig9_mQGd",
        "outputId": "ab6fce54-ebd4-419e-c7e3-6e997730e988",
        "colab": {
          "base_uri": "https://localhost:8080/",
          "height": 197
        }
      },
      "execution_count": null,
      "outputs": [
        {
          "output_type": "display_data",
          "data": {
            "text/plain": [
              "<Figure size 936x158.4 with 1 Axes>"
            ],
            "image/png": "[encoded data removed]"
          },
          "metadata": {}
        }
      ]
    },
    {
      "cell_type": "markdown",
      "source": [
        "Looking at the graph, it is obvious that the unit sales across timeline have been on a steady increase. This would imply that \n",
        "\n",
        "* There are items remaining in inventory must be tracked\n",
        "* We could plot a sales of a few items to see how the behavior of each one fares across timeline. "
      ],
      "metadata": {
        "id": "mkVfaO7jmQGd"
      }
    },
    {
      "cell_type": "code",
      "source": [
        "#finding the product_ids of 25 most sold units\n",
        "train_sales_most_sold_25 = train_sales_df.groupby(['id'])['total_sales_all_days'].sum(axis=1).sort_values(ascending=False)[:25]\n",
        "train_sales_most_sold_25 = train_sales_most_sold_25.reset_index(name='total_sales')\n",
        "train_sales_most_sold_25.iloc[0:5]"
      ],
      "metadata": {
        "execution": {
          "iopub.status.busy": "2021-12-29T13:39:10.665514Z",
          "iopub.execute_input": "2021-12-29T13:39:10.666409Z",
          "iopub.status.idle": "2021-12-29T13:39:14.171224Z",
          "shell.execute_reply.started": "2021-12-29T13:39:10.666324Z",
          "shell.execute_reply": "2021-12-29T13:39:14.170127Z"
        },
        "trusted": true,
        "id": "dtEoUIE_mQGe",
        "outputId": "87ee5dcf-2bdb-48cd-d6c4-6d8f4378d834",
        "colab": {
          "base_uri": "https://localhost:8080/",
          "height": 217
        }
      },
      "execution_count": null,
      "outputs": [
        {
          "output_type": "error",
          "ename": "TypeError",
          "evalue": "ignored",
          "traceback": [
            "\u001b[0;31m---------------------------------------------------------------------------\u001b[0m",
            "\u001b[0;31mTypeError\u001b[0m                                 Traceback (most recent call last)",
            "\u001b[0;32m<ipython-input-76-9a4a32f1198d>\u001b[0m in \u001b[0;36m<module>\u001b[0;34m\u001b[0m\n\u001b[1;32m      1\u001b[0m \u001b[0;31m#finding the product_ids of 25 most sold units\u001b[0m\u001b[0;34m\u001b[0m\u001b[0;34m\u001b[0m\u001b[0;34m\u001b[0m\u001b[0m\n\u001b[0;32m----> 2\u001b[0;31m \u001b[0mtrain_sales_most_sold_25\u001b[0m \u001b[0;34m=\u001b[0m \u001b[0mtrain_sales_df\u001b[0m\u001b[0;34m.\u001b[0m\u001b[0mgroupby\u001b[0m\u001b[0;34m(\u001b[0m\u001b[0;34m[\u001b[0m\u001b[0;34m'id'\u001b[0m\u001b[0;34m]\u001b[0m\u001b[0;34m)\u001b[0m\u001b[0;34m[\u001b[0m\u001b[0;34m'total_sales_all_days'\u001b[0m\u001b[0;34m]\u001b[0m\u001b[0;34m.\u001b[0m\u001b[0msum\u001b[0m\u001b[0;34m(\u001b[0m\u001b[0maxis\u001b[0m\u001b[0;34m=\u001b[0m\u001b[0;36m1\u001b[0m\u001b[0;34m)\u001b[0m\u001b[0;34m.\u001b[0m\u001b[0msort_values\u001b[0m\u001b[0;34m(\u001b[0m\u001b[0mascending\u001b[0m\u001b[0;34m=\u001b[0m\u001b[0;32mFalse\u001b[0m\u001b[0;34m)\u001b[0m\u001b[0;34m[\u001b[0m\u001b[0;34m:\u001b[0m\u001b[0;36m25\u001b[0m\u001b[0;34m]\u001b[0m\u001b[0;34m\u001b[0m\u001b[0;34m\u001b[0m\u001b[0m\n\u001b[0m\u001b[1;32m      3\u001b[0m \u001b[0mtrain_sales_most_sold_25\u001b[0m \u001b[0;34m=\u001b[0m \u001b[0mtrain_sales_most_sold_25\u001b[0m\u001b[0;34m.\u001b[0m\u001b[0mreset_index\u001b[0m\u001b[0;34m(\u001b[0m\u001b[0mname\u001b[0m\u001b[0;34m=\u001b[0m\u001b[0;34m'total_sales'\u001b[0m\u001b[0;34m)\u001b[0m\u001b[0;34m\u001b[0m\u001b[0;34m\u001b[0m\u001b[0m\n\u001b[1;32m      4\u001b[0m \u001b[0mtrain_sales_most_sold_25\u001b[0m\u001b[0;34m.\u001b[0m\u001b[0miloc\u001b[0m\u001b[0;34m[\u001b[0m\u001b[0;36m0\u001b[0m\u001b[0;34m:\u001b[0m\u001b[0;36m5\u001b[0m\u001b[0;34m]\u001b[0m\u001b[0;34m\u001b[0m\u001b[0;34m\u001b[0m\u001b[0m\n",
            "\u001b[0;31mTypeError\u001b[0m: sum() got an unexpected keyword argument 'axis'"
          ]
        }
      ]
    },
    {
      "cell_type": "code",
      "source": [
        "train_sales_most_sold_25['state'] = train_sales_most_sold_25['id'].str.split(\"_\", expand=True)[3]\n",
        "train_sales_most_sold_25.groupby(['state'])['total_sales'].sum(axis=1).sort_values(ascending=False)"
      ],
      "metadata": {
        "execution": {
          "iopub.status.busy": "2021-12-29T13:39:14.172868Z",
          "iopub.execute_input": "2021-12-29T13:39:14.173273Z",
          "iopub.status.idle": "2021-12-29T13:39:14.190098Z",
          "shell.execute_reply.started": "2021-12-29T13:39:14.17311Z",
          "shell.execute_reply": "2021-12-29T13:39:14.189179Z"
        },
        "trusted": true,
        "id": "zUX8YD54mQGf"
      },
      "execution_count": null,
      "outputs": []
    },
    {
      "cell_type": "markdown",
      "source": [
        "So, out of the most popular categories of 25 most sold items, more items had been sold in Texas than in either California or Wisconsin"
      ],
      "metadata": {
        "id": "NAfCR6M-mQGg"
      }
    },
    {
      "cell_type": "code",
      "source": [
        "train_sales_cal_df = train_sales_df.set_index('id')[d_cols].T.merge(calendar_df.set_index('d')['date'], \n",
        "                                                                    left_index=True, right_index=True,\n",
        "                                                                    validate=\"1:1\").set_index('date')"
      ],
      "metadata": {
        "execution": {
          "iopub.status.busy": "2021-12-29T13:39:14.191412Z",
          "iopub.execute_input": "2021-12-29T13:39:14.191914Z",
          "iopub.status.idle": "2021-12-29T13:39:15.690744Z",
          "shell.execute_reply.started": "2021-12-29T13:39:14.19185Z",
          "shell.execute_reply": "2021-12-29T13:39:15.689847Z"
        },
        "trusted": true,
        "id": "qAkPGl8mmQGh"
      },
      "execution_count": null,
      "outputs": []
    },
    {
      "cell_type": "code",
      "source": [
        "time_and_rolling_plot(train_sales_cal_df[['FOODS_3_586_WI_3_validation']], \"Product_id_FOODS_3_586_WI_3_validation\")\n",
        "time_and_rolling_plot(train_sales_cal_df[['FOODS_3_090_CA_1_validation']], \"Product_id_FOODS_3_090_CA_1_validation\")\n",
        "time_and_rolling_plot(train_sales_cal_df[['FOODS_3_586_CA_3_validation']], \"Product_id_FOODS_3_586_CA_3_validation\")\n",
        "time_and_rolling_plot(train_sales_cal_df[['FOODS_3_090_TX_2_validation']], \"Product_id_FOODS_3_090_TX_2_validation\")\n",
        "time_and_rolling_plot(train_sales_cal_df[['FOODS_3_120_CA_3_validation']], \"Product_id_FOODS_3_120_CA_3_validation\")\n",
        "time_and_rolling_plot(train_sales_cal_df[['FOODS_3_252_TX_3_validation']], \"Product_id_FOODS_3_252_TX_3_validation\")"
      ],
      "metadata": {
        "execution": {
          "iopub.status.busy": "2021-12-29T13:39:15.692101Z",
          "iopub.execute_input": "2021-12-29T13:39:15.692578Z",
          "iopub.status.idle": "2021-12-29T13:39:17.550539Z",
          "shell.execute_reply.started": "2021-12-29T13:39:15.692518Z",
          "shell.execute_reply": "2021-12-29T13:39:17.549458Z"
        },
        "trusted": true,
        "id": "jcsCxG03mQGh"
      },
      "execution_count": null,
      "outputs": []
    },
    {
      "cell_type": "markdown",
      "source": [
        "### Distribution of Total Sales Against Each Category?"
      ],
      "metadata": {
        "id": "6Ml9uirfmQGi"
      }
    },
    {
      "cell_type": "code",
      "source": [
        "train_sales_cal_df = train_sales_df.groupby(['cat_id'])[d_cols].sum(axis=1).\\\n",
        "                                                T.merge(calendar_df.set_index('d')['date'], \n",
        "                                                                    left_index=True, right_index=True,\n",
        "                                                                    validate=\"1:1\").set_index('date')"
      ],
      "metadata": {
        "execution": {
          "iopub.status.busy": "2021-12-29T13:39:17.552284Z",
          "iopub.execute_input": "2021-12-29T13:39:17.552853Z",
          "iopub.status.idle": "2021-12-29T13:39:26.679913Z",
          "shell.execute_reply.started": "2021-12-29T13:39:17.552786Z",
          "shell.execute_reply": "2021-12-29T13:39:26.678812Z"
        },
        "trusted": true,
        "id": "HbfNQmrVmQGi",
        "outputId": "aec5923f-991b-4f62-c523-c9d2cfc71b2c",
        "colab": {
          "base_uri": "https://localhost:8080/",
          "height": 217
        }
      },
      "execution_count": null,
      "outputs": [
        {
          "output_type": "error",
          "ename": "TypeError",
          "evalue": "ignored",
          "traceback": [
            "\u001b[0;31m---------------------------------------------------------------------------\u001b[0m",
            "\u001b[0;31mTypeError\u001b[0m                                 Traceback (most recent call last)",
            "\u001b[0;32m<ipython-input-77-926415f6d12d>\u001b[0m in \u001b[0;36m<module>\u001b[0;34m\u001b[0m\n\u001b[0;32m----> 1\u001b[0;31m \u001b[0mtrain_sales_cal_df\u001b[0m \u001b[0;34m=\u001b[0m \u001b[0mtrain_sales_df\u001b[0m\u001b[0;34m.\u001b[0m\u001b[0mgroupby\u001b[0m\u001b[0;34m(\u001b[0m\u001b[0;34m[\u001b[0m\u001b[0;34m'cat_id'\u001b[0m\u001b[0;34m]\u001b[0m\u001b[0;34m)\u001b[0m\u001b[0;34m[\u001b[0m\u001b[0md_cols\u001b[0m\u001b[0;34m]\u001b[0m\u001b[0;34m.\u001b[0m\u001b[0msum\u001b[0m\u001b[0;34m(\u001b[0m\u001b[0maxis\u001b[0m\u001b[0;34m=\u001b[0m\u001b[0;36m1\u001b[0m\u001b[0;34m)\u001b[0m\u001b[0;34m.\u001b[0m\u001b[0;31m\\\u001b[0m\u001b[0;34m\u001b[0m\u001b[0;34m\u001b[0m\u001b[0m\n\u001b[0m\u001b[1;32m      2\u001b[0m                                                 T.merge(calendar_df.set_index('d')['date'], \n\u001b[1;32m      3\u001b[0m                                                                     \u001b[0mleft_index\u001b[0m\u001b[0;34m=\u001b[0m\u001b[0;32mTrue\u001b[0m\u001b[0;34m,\u001b[0m \u001b[0mright_index\u001b[0m\u001b[0;34m=\u001b[0m\u001b[0;32mTrue\u001b[0m\u001b[0;34m,\u001b[0m\u001b[0;34m\u001b[0m\u001b[0;34m\u001b[0m\u001b[0m\n\u001b[1;32m      4\u001b[0m                                                                     validate=\"1:1\").set_index('date')\n",
            "\u001b[0;31mTypeError\u001b[0m: sum() got an unexpected keyword argument 'axis'"
          ]
        }
      ]
    },
    {
      "cell_type": "code",
      "source": [
        "train_sales_cal_df.head(2)"
      ],
      "metadata": {
        "execution": {
          "iopub.status.busy": "2021-12-29T13:39:26.681413Z",
          "iopub.execute_input": "2021-12-29T13:39:26.681752Z",
          "iopub.status.idle": "2021-12-29T13:39:26.693757Z",
          "shell.execute_reply.started": "2021-12-29T13:39:26.681694Z",
          "shell.execute_reply": "2021-12-29T13:39:26.692852Z"
        },
        "trusted": true,
        "id": "4rWbe0LjmQGj",
        "outputId": "ec13bc45-a3fe-430a-a653-0fbdb7d08bda",
        "colab": {
          "base_uri": "https://localhost:8080/",
          "height": 143
        }
      },
      "execution_count": null,
      "outputs": [
        {
          "output_type": "execute_result",
          "data": {
            "text/plain": [
              "            total_sales\n",
              "date                   \n",
              "2011-01-29        32631\n",
              "2011-01-30        31749"
            ],
            "text/html": [
              "\n",
              "  <div id=\"df-9c5eb912-e466-4af3-afab-eeea8b3c9a52\">\n",
              "    <div class=\"colab-df-container\">\n",
              "      <div>\n",
              "<style scoped>\n",
              "    .dataframe tbody tr th:only-of-type {\n",
              "        vertical-align: middle;\n",
              "    }\n",
              "\n",
              "    .dataframe tbody tr th {\n",
              "        vertical-align: top;\n",
              "    }\n",
              "\n",
              "    .dataframe thead th {\n",
              "        text-align: right;\n",
              "    }\n",
              "</style>\n",
              "<table border=\"1\" class=\"dataframe\">\n",
              "  <thead>\n",
              "    <tr style=\"text-align: right;\">\n",
              "      <th></th>\n",
              "      <th>total_sales</th>\n",
              "    </tr>\n",
              "    <tr>\n",
              "      <th>date</th>\n",
              "      <th></th>\n",
              "    </tr>\n",
              "  </thead>\n",
              "  <tbody>\n",
              "    <tr>\n",
              "      <th>2011-01-29</th>\n",
              "      <td>32631</td>\n",
              "    </tr>\n",
              "    <tr>\n",
              "      <th>2011-01-30</th>\n",
              "      <td>31749</td>\n",
              "    </tr>\n",
              "  </tbody>\n",
              "</table>\n",
              "</div>\n",
              "      <button class=\"colab-df-convert\" onclick=\"convertToInteractive('df-9c5eb912-e466-4af3-afab-eeea8b3c9a52')\"\n",
              "              title=\"Convert this dataframe to an interactive table.\"\n",
              "              style=\"display:none;\">\n",
              "        \n",
              "  <svg xmlns=\"http://www.w3.org/2000/svg\" height=\"24px\"viewBox=\"0 0 24 24\"\n",
              "       width=\"24px\">\n",
              "    <path d=\"M0 0h24v24H0V0z\" fill=\"none\"/>\n",
              "    <path d=\"M18.56 5.44l.94 2.06.94-2.06 2.06-.94-2.06-.94-.94-2.06-.94 2.06-2.06.94zm-11 1L8.5 8.5l.94-2.06 2.06-.94-2.06-.94L8.5 2.5l-.94 2.06-2.06.94zm10 10l.94 2.06.94-2.06 2.06-.94-2.06-.94-.94-2.06-.94 2.06-2.06.94z\"/><path d=\"M17.41 7.96l-1.37-1.37c-.4-.4-.92-.59-1.43-.59-.52 0-1.04.2-1.43.59L10.3 9.45l-7.72 7.72c-.78.78-.78 2.05 0 2.83L4 21.41c.39.39.9.59 1.41.59.51 0 1.02-.2 1.41-.59l7.78-7.78 2.81-2.81c.8-.78.8-2.07 0-2.86zM5.41 20L4 18.59l7.72-7.72 1.47 1.35L5.41 20z\"/>\n",
              "  </svg>\n",
              "      </button>\n",
              "      \n",
              "  <style>\n",
              "    .colab-df-container {\n",
              "      display:flex;\n",
              "      flex-wrap:wrap;\n",
              "      gap: 12px;\n",
              "    }\n",
              "\n",
              "    .colab-df-convert {\n",
              "      background-color: #E8F0FE;\n",
              "      border: none;\n",
              "      border-radius: 50%;\n",
              "      cursor: pointer;\n",
              "      display: none;\n",
              "      fill: #1967D2;\n",
              "      height: 32px;\n",
              "      padding: 0 0 0 0;\n",
              "      width: 32px;\n",
              "    }\n",
              "\n",
              "    .colab-df-convert:hover {\n",
              "      background-color: #E2EBFA;\n",
              "      box-shadow: 0px 1px 2px rgba(60, 64, 67, 0.3), 0px 1px 3px 1px rgba(60, 64, 67, 0.15);\n",
              "      fill: #174EA6;\n",
              "    }\n",
              "\n",
              "    [theme=dark] .colab-df-convert {\n",
              "      background-color: #3B4455;\n",
              "      fill: #D2E3FC;\n",
              "    }\n",
              "\n",
              "    [theme=dark] .colab-df-convert:hover {\n",
              "      background-color: #434B5C;\n",
              "      box-shadow: 0px 1px 3px 1px rgba(0, 0, 0, 0.15);\n",
              "      filter: drop-shadow(0px 1px 2px rgba(0, 0, 0, 0.3));\n",
              "      fill: #FFFFFF;\n",
              "    }\n",
              "  </style>\n",
              "\n",
              "      <script>\n",
              "        const buttonEl =\n",
              "          document.querySelector('#df-9c5eb912-e466-4af3-afab-eeea8b3c9a52 button.colab-df-convert');\n",
              "        buttonEl.style.display =\n",
              "          google.colab.kernel.accessAllowed ? 'block' : 'none';\n",
              "\n",
              "        async function convertToInteractive(key) {\n",
              "          const element = document.querySelector('#df-9c5eb912-e466-4af3-afab-eeea8b3c9a52');\n",
              "          const dataTable =\n",
              "            await google.colab.kernel.invokeFunction('convertToInteractive',\n",
              "                                                     [key], {});\n",
              "          if (!dataTable) return;\n",
              "\n",
              "          const docLinkHtml = 'Like what you see? Visit the ' +\n",
              "            '<a target=\"_blank\" href=https://colab.research.google.com/notebooks/data_table.ipynb>data table notebook</a>'\n",
              "            + ' to learn more about interactive tables.';\n",
              "          element.innerHTML = '';\n",
              "          dataTable['output_type'] = 'display_data';\n",
              "          await google.colab.output.renderOutput(dataTable, element);\n",
              "          const docLink = document.createElement('div');\n",
              "          docLink.innerHTML = docLinkHtml;\n",
              "          element.appendChild(docLink);\n",
              "        }\n",
              "      </script>\n",
              "    </div>\n",
              "  </div>\n",
              "  "
            ]
          },
          "metadata": {},
          "execution_count": 78
        }
      ]
    },
    {
      "cell_type": "code",
      "source": [
        "def plotly_time_plot_markers(df, text, samples_onwards=1000):\n",
        "\n",
        "    '''\n",
        "    plots time_series plotly scatter plot of the format specified in df \n",
        "    \n",
        "    inputs: df(dataframe), text(title text ), samples_onwards (time_series_sample and the end)\n",
        "    returns : plotly time series scatter plot\n",
        "    \n",
        "    '''\n",
        "    fig = go.Figure()\n",
        "    for c in df.columns[:4]:\n",
        "        fig.add_traces(go.Scatter(x=train_sales_cal_df[samples_onwards:].index, \n",
        "                              y=train_sales_cal_df[samples_onwards:][c],\n",
        "                              mode='markers',\n",
        "                              name = c))\n",
        "\n",
        "    fig.update_layout( title = 'Sales per Day by ' + str(text), template = 'plotly_white',\n",
        "        width=750, height=550,\n",
        "        xaxis_tickformatstops = [\n",
        "            dict(dtickrange=[\"M1\", \"M12\"], value=\"%b '%y\"),\n",
        "        ]\n",
        "    )\n",
        "    \n",
        "    fig.update_layout(\n",
        "    xaxis=dict(\n",
        "    rangeselector=dict( buttons=list([ dict(count=1, label=\"1m\", step=\"month\", stepmode=\"backward\"),\n",
        "    dict(count=6,label=\"6m\", step=\"month\", stepmode=\"backward\"),\n",
        "    dict(count=1, label=\"YTD\", step=\"year\", stepmode=\"todate\"),\n",
        "    dict(count=1, label=\"1y\", step=\"year\", stepmode=\"backward\"),\n",
        "    dict(step=\"all\") ])  ),\n",
        "        rangeslider=dict(\n",
        "            visible=True\n",
        "        ),\n",
        "        type=\"date\" ) )\n",
        "\n",
        "    fig.update_xaxes(rangeslider_visible=True)    \n",
        "    fig.show()    \n",
        "\n",
        "plotly_time_plot_markers(train_sales_cal_df, 'Category')  "
      ],
      "metadata": {
        "execution": {
          "iopub.status.busy": "2021-12-29T13:39:26.69531Z",
          "iopub.execute_input": "2021-12-29T13:39:26.69562Z",
          "iopub.status.idle": "2021-12-29T13:39:27.11123Z",
          "shell.execute_reply.started": "2021-12-29T13:39:26.695563Z",
          "shell.execute_reply": "2021-12-29T13:39:27.110205Z"
        },
        "trusted": true,
        "id": "3beBlMLkmQGj",
        "outputId": "78e284c8-6879-4139-929a-fe28c3b96cdb",
        "colab": {
          "base_uri": "https://localhost:8080/",
          "height": 567
        }
      },
      "execution_count": null,
      "outputs": [
        {
          "output_type": "display_data",
          "data": {
            "text/html": [
              "<html>\n",
              "<head><meta charset=\"utf-8\" /></head>\n",
              "<body>\n",
              "    <div>            <script src=\"https://cdnjs.cloudflare.com/ajax/libs/mathjax/2.7.5/MathJax.js?config=TeX-AMS-MML_SVG\"></script><script type=\"text/javascript\">if (window.MathJax) {MathJax.Hub.Config({SVG: {font: \"STIX-Web\"}});}</script>                <script type=\"text/javascript\">window.PlotlyConfig = {MathJaxConfig: 'local'};</script>\n",
              "        <script src=\"https://cdn.plot.ly/plotly-2.8.3.min.js\"></script>                <div id=\"72441007-e7dc-4b3b-984e-41a9db6343f3\" class=\"plotly-graph-div\" style=\"height:550px; width:750px;\"></div>            <script type=\"text/javascript\">                                    window.PLOTLYENV=window.PLOTLYENV || {};                                    if (document.getElementById(\"72441007-e7dc-4b3b-984e-41a9db6343f3\")) {                    Plotly.newPlot(                        \"72441007-e7dc-4b3b-984e-41a9db6343f3\",                        [{\"mode\":\"markers\",\"name\":\"total_sales\",\"x\":[\"2013-10-25\",\"2013-10-26\",\"2013-10-27\",\"2013-10-28\",\"2013-10-29\",\"2013-10-30\",\"2013-10-31\",\"2013-11-01\",\"2013-11-02\",\"2013-11-03\",\"2013-11-04\",\"2013-11-05\",\"2013-11-06\",\"2013-11-07\",\"2013-11-08\",\"2013-11-09\",\"2013-11-10\",\"2013-11-11\",\"2013-11-12\",\"2013-11-13\",\"2013-11-14\",\"2013-11-15\",\"2013-11-16\",\"2013-11-17\",\"2013-11-18\",\"2013-11-19\",\"2013-11-20\",\"2013-11-21\",\"2013-11-22\",\"2013-11-23\",\"2013-11-24\",\"2013-11-25\",\"2013-11-26\",\"2013-11-27\",\"2013-11-28\",\"2013-11-29\",\"2013-11-30\",\"2013-12-01\",\"2013-12-02\",\"2013-12-03\",\"2013-12-04\",\"2013-12-05\",\"2013-12-06\",\"2013-12-07\",\"2013-12-08\",\"2013-12-09\",\"2013-12-10\",\"2013-12-11\",\"2013-12-12\",\"2013-12-13\",\"2013-12-14\",\"2013-12-15\",\"2013-12-16\",\"2013-12-17\",\"2013-12-18\",\"2013-12-19\",\"2013-12-20\",\"2013-12-21\",\"2013-12-22\",\"2013-12-23\",\"2013-12-24\",\"2013-12-25\",\"2013-12-26\",\"2013-12-27\",\"2013-12-28\",\"2013-12-29\",\"2013-12-30\",\"2013-12-31\",\"2014-01-01\",\"2014-01-02\",\"2014-01-03\",\"2014-01-04\",\"2014-01-05\",\"2014-01-06\",\"2014-01-07\",\"2014-01-08\",\"2014-01-09\",\"2014-01-10\",\"2014-01-11\",\"2014-01-12\",\"2014-01-13\",\"2014-01-14\",\"2014-01-15\",\"2014-01-16\",\"2014-01-17\",\"2014-01-18\",\"2014-01-19\",\"2014-01-20\",\"2014-01-21\",\"2014-01-22\",\"2014-01-23\",\"2014-01-24\",\"2014-01-25\",\"2014-01-26\",\"2014-01-27\",\"2014-01-28\",\"2014-01-29\",\"2014-01-30\",\"2014-01-31\",\"2014-02-01\",\"2014-02-02\",\"2014-02-03\",\"2014-02-04\",\"2014-02-05\",\"2014-02-06\",\"2014-02-07\",\"2014-02-08\",\"2014-02-09\",\"2014-02-10\",\"2014-02-11\",\"2014-02-12\",\"2014-02-13\",\"2014-02-14\",\"2014-02-15\",\"2014-02-16\",\"2014-02-17\",\"2014-02-18\",\"2014-02-19\",\"2014-02-20\",\"2014-02-21\",\"2014-02-22\",\"2014-02-23\",\"2014-02-24\",\"2014-02-25\",\"2014-02-26\",\"2014-02-27\",\"2014-02-28\",\"2014-03-01\",\"2014-03-02\",\"2014-03-03\",\"2014-03-04\",\"2014-03-05\",\"2014-03-06\",\"2014-03-07\",\"2014-03-08\",\"2014-03-09\",\"2014-03-10\",\"2014-03-11\",\"2014-03-12\",\"2014-03-13\",\"2014-03-14\",\"2014-03-15\",\"2014-03-16\",\"2014-03-17\",\"2014-03-18\",\"2014-03-19\",\"2014-03-20\",\"2014-03-21\",\"2014-03-22\",\"2014-03-23\",\"2014-03-24\",\"2014-03-25\",\"2014-03-26\",\"2014-03-27\",\"2014-03-28\",\"2014-03-29\",\"2014-03-30\",\"2014-03-31\",\"2014-04-01\",\"2014-04-02\",\"2014-04-03\",\"2014-04-04\",\"2014-04-05\",\"2014-04-06\",\"2014-04-07\",\"2014-04-08\",\"2014-04-09\",\"2014-04-10\",\"2014-04-11\",\"2014-04-12\",\"2014-04-13\",\"2014-04-14\",\"2014-04-15\",\"2014-04-16\",\"2014-04-17\",\"2014-04-18\",\"2014-04-19\",\"2014-04-20\",\"2014-04-21\",\"2014-04-22\",\"2014-04-23\",\"2014-04-24\",\"2014-04-25\",\"2014-04-26\",\"2014-04-27\",\"2014-04-28\",\"2014-04-29\",\"2014-04-30\",\"2014-05-01\",\"2014-05-02\",\"2014-05-03\",\"2014-05-04\",\"2014-05-05\",\"2014-05-06\",\"2014-05-07\",\"2014-05-08\",\"2014-05-09\",\"2014-05-10\",\"2014-05-11\",\"2014-05-12\",\"2014-05-13\",\"2014-05-14\",\"2014-05-15\",\"2014-05-16\",\"2014-05-17\",\"2014-05-18\",\"2014-05-19\",\"2014-05-20\",\"2014-05-21\",\"2014-05-22\",\"2014-05-23\",\"2014-05-24\",\"2014-05-25\",\"2014-05-26\",\"2014-05-27\",\"2014-05-28\",\"2014-05-29\",\"2014-05-30\",\"2014-05-31\",\"2014-06-01\",\"2014-06-02\",\"2014-06-03\",\"2014-06-04\",\"2014-06-05\",\"2014-06-06\",\"2014-06-07\",\"2014-06-08\",\"2014-06-09\",\"2014-06-10\",\"2014-06-11\",\"2014-06-12\",\"2014-06-13\",\"2014-06-14\",\"2014-06-15\",\"2014-06-16\",\"2014-06-17\",\"2014-06-18\",\"2014-06-19\",\"2014-06-20\",\"2014-06-21\",\"2014-06-22\",\"2014-06-23\",\"2014-06-24\",\"2014-06-25\",\"2014-06-26\",\"2014-06-27\",\"2014-06-28\",\"2014-06-29\",\"2014-06-30\",\"2014-07-01\",\"2014-07-02\",\"2014-07-03\",\"2014-07-04\",\"2014-07-05\",\"2014-07-06\",\"2014-07-07\",\"2014-07-08\",\"2014-07-09\",\"2014-07-10\",\"2014-07-11\",\"2014-07-12\",\"2014-07-13\",\"2014-07-14\",\"2014-07-15\",\"2014-07-16\",\"2014-07-17\",\"2014-07-18\",\"2014-07-19\",\"2014-07-20\",\"2014-07-21\",\"2014-07-22\",\"2014-07-23\",\"2014-07-24\",\"2014-07-25\",\"2014-07-26\",\"2014-07-27\",\"2014-07-28\",\"2014-07-29\",\"2014-07-30\",\"2014-07-31\",\"2014-08-01\",\"2014-08-02\",\"2014-08-03\",\"2014-08-04\",\"2014-08-05\",\"2014-08-06\",\"2014-08-07\",\"2014-08-08\",\"2014-08-09\",\"2014-08-10\",\"2014-08-11\",\"2014-08-12\",\"2014-08-13\",\"2014-08-14\",\"2014-08-15\",\"2014-08-16\",\"2014-08-17\",\"2014-08-18\",\"2014-08-19\",\"2014-08-20\",\"2014-08-21\",\"2014-08-22\",\"2014-08-23\",\"2014-08-24\",\"2014-08-25\",\"2014-08-26\",\"2014-08-27\",\"2014-08-28\",\"2014-08-29\",\"2014-08-30\",\"2014-08-31\",\"2014-09-01\",\"2014-09-02\",\"2014-09-03\",\"2014-09-04\",\"2014-09-05\",\"2014-09-06\",\"2014-09-07\",\"2014-09-08\",\"2014-09-09\",\"2014-09-10\",\"2014-09-11\",\"2014-09-12\",\"2014-09-13\",\"2014-09-14\",\"2014-09-15\",\"2014-09-16\",\"2014-09-17\",\"2014-09-18\",\"2014-09-19\",\"2014-09-20\",\"2014-09-21\",\"2014-09-22\",\"2014-09-23\",\"2014-09-24\",\"2014-09-25\",\"2014-09-26\",\"2014-09-27\",\"2014-09-28\",\"2014-09-29\",\"2014-09-30\",\"2014-10-01\",\"2014-10-02\",\"2014-10-03\",\"2014-10-04\",\"2014-10-05\",\"2014-10-06\",\"2014-10-07\",\"2014-10-08\",\"2014-10-09\",\"2014-10-10\",\"2014-10-11\",\"2014-10-12\",\"2014-10-13\",\"2014-10-14\",\"2014-10-15\",\"2014-10-16\",\"2014-10-17\",\"2014-10-18\",\"2014-10-19\",\"2014-10-20\",\"2014-10-21\",\"2014-10-22\",\"2014-10-23\",\"2014-10-24\",\"2014-10-25\",\"2014-10-26\",\"2014-10-27\",\"2014-10-28\",\"2014-10-29\",\"2014-10-30\",\"2014-10-31\",\"2014-11-01\",\"2014-11-02\",\"2014-11-03\",\"2014-11-04\",\"2014-11-05\",\"2014-11-06\",\"2014-11-07\",\"2014-11-08\",\"2014-11-09\",\"2014-11-10\",\"2014-11-11\",\"2014-11-12\",\"2014-11-13\",\"2014-11-14\",\"2014-11-15\",\"2014-11-16\",\"2014-11-17\",\"2014-11-18\",\"2014-11-19\",\"2014-11-20\",\"2014-11-21\",\"2014-11-22\",\"2014-11-23\",\"2014-11-24\",\"2014-11-25\",\"2014-11-26\",\"2014-11-27\",\"2014-11-28\",\"2014-11-29\",\"2014-11-30\",\"2014-12-01\",\"2014-12-02\",\"2014-12-03\",\"2014-12-04\",\"2014-12-05\",\"2014-12-06\",\"2014-12-07\",\"2014-12-08\",\"2014-12-09\",\"2014-12-10\",\"2014-12-11\",\"2014-12-12\",\"2014-12-13\",\"2014-12-14\",\"2014-12-15\",\"2014-12-16\",\"2014-12-17\",\"2014-12-18\",\"2014-12-19\",\"2014-12-20\",\"2014-12-21\",\"2014-12-22\",\"2014-12-23\",\"2014-12-24\",\"2014-12-25\",\"2014-12-26\",\"2014-12-27\",\"2014-12-28\",\"2014-12-29\",\"2014-12-30\",\"2014-12-31\",\"2015-01-01\",\"2015-01-02\",\"2015-01-03\",\"2015-01-04\",\"2015-01-05\",\"2015-01-06\",\"2015-01-07\",\"2015-01-08\",\"2015-01-09\",\"2015-01-10\",\"2015-01-11\",\"2015-01-12\",\"2015-01-13\",\"2015-01-14\",\"2015-01-15\",\"2015-01-16\",\"2015-01-17\",\"2015-01-18\",\"2015-01-19\",\"2015-01-20\",\"2015-01-21\",\"2015-01-22\",\"2015-01-23\",\"2015-01-24\",\"2015-01-25\",\"2015-01-26\",\"2015-01-27\",\"2015-01-28\",\"2015-01-29\",\"2015-01-30\",\"2015-01-31\",\"2015-02-01\",\"2015-02-02\",\"2015-02-03\",\"2015-02-04\",\"2015-02-05\",\"2015-02-06\",\"2015-02-07\",\"2015-02-08\",\"2015-02-09\",\"2015-02-10\",\"2015-02-11\",\"2015-02-12\",\"2015-02-13\",\"2015-02-14\",\"2015-02-15\",\"2015-02-16\",\"2015-02-17\",\"2015-02-18\",\"2015-02-19\",\"2015-02-20\",\"2015-02-21\",\"2015-02-22\",\"2015-02-23\",\"2015-02-24\",\"2015-02-25\",\"2015-02-26\",\"2015-02-27\",\"2015-02-28\",\"2015-03-01\",\"2015-03-02\",\"2015-03-03\",\"2015-03-04\",\"2015-03-05\",\"2015-03-06\",\"2015-03-07\",\"2015-03-08\",\"2015-03-09\",\"2015-03-10\",\"2015-03-11\",\"2015-03-12\",\"2015-03-13\",\"2015-03-14\",\"2015-03-15\",\"2015-03-16\",\"2015-03-17\",\"2015-03-18\",\"2015-03-19\",\"2015-03-20\",\"2015-03-21\",\"2015-03-22\",\"2015-03-23\",\"2015-03-24\",\"2015-03-25\",\"2015-03-26\",\"2015-03-27\",\"2015-03-28\",\"2015-03-29\",\"2015-03-30\",\"2015-03-31\",\"2015-04-01\",\"2015-04-02\",\"2015-04-03\",\"2015-04-04\",\"2015-04-05\",\"2015-04-06\",\"2015-04-07\",\"2015-04-08\",\"2015-04-09\",\"2015-04-10\",\"2015-04-11\",\"2015-04-12\",\"2015-04-13\",\"2015-04-14\",\"2015-04-15\",\"2015-04-16\",\"2015-04-17\",\"2015-04-18\",\"2015-04-19\",\"2015-04-20\",\"2015-04-21\",\"2015-04-22\",\"2015-04-23\",\"2015-04-24\",\"2015-04-25\",\"2015-04-26\",\"2015-04-27\",\"2015-04-28\",\"2015-04-29\",\"2015-04-30\",\"2015-05-01\",\"2015-05-02\",\"2015-05-03\",\"2015-05-04\",\"2015-05-05\",\"2015-05-06\",\"2015-05-07\",\"2015-05-08\",\"2015-05-09\",\"2015-05-10\",\"2015-05-11\",\"2015-05-12\",\"2015-05-13\",\"2015-05-14\",\"2015-05-15\",\"2015-05-16\",\"2015-05-17\",\"2015-05-18\",\"2015-05-19\",\"2015-05-20\",\"2015-05-21\",\"2015-05-22\",\"2015-05-23\",\"2015-05-24\",\"2015-05-25\",\"2015-05-26\",\"2015-05-27\",\"2015-05-28\",\"2015-05-29\",\"2015-05-30\",\"2015-05-31\",\"2015-06-01\",\"2015-06-02\",\"2015-06-03\",\"2015-06-04\",\"2015-06-05\",\"2015-06-06\",\"2015-06-07\",\"2015-06-08\",\"2015-06-09\",\"2015-06-10\",\"2015-06-11\",\"2015-06-12\",\"2015-06-13\",\"2015-06-14\",\"2015-06-15\",\"2015-06-16\",\"2015-06-17\",\"2015-06-18\",\"2015-06-19\",\"2015-06-20\",\"2015-06-21\",\"2015-06-22\",\"2015-06-23\",\"2015-06-24\",\"2015-06-25\",\"2015-06-26\",\"2015-06-27\",\"2015-06-28\",\"2015-06-29\",\"2015-06-30\",\"2015-07-01\",\"2015-07-02\",\"2015-07-03\",\"2015-07-04\",\"2015-07-05\",\"2015-07-06\",\"2015-07-07\",\"2015-07-08\",\"2015-07-09\",\"2015-07-10\",\"2015-07-11\",\"2015-07-12\",\"2015-07-13\",\"2015-07-14\",\"2015-07-15\",\"2015-07-16\",\"2015-07-17\",\"2015-07-18\",\"2015-07-19\",\"2015-07-20\",\"2015-07-21\",\"2015-07-22\",\"2015-07-23\",\"2015-07-24\",\"2015-07-25\",\"2015-07-26\",\"2015-07-27\",\"2015-07-28\",\"2015-07-29\",\"2015-07-30\",\"2015-07-31\",\"2015-08-01\",\"2015-08-02\",\"2015-08-03\",\"2015-08-04\",\"2015-08-05\",\"2015-08-06\",\"2015-08-07\",\"2015-08-08\",\"2015-08-09\",\"2015-08-10\",\"2015-08-11\",\"2015-08-12\",\"2015-08-13\",\"2015-08-14\",\"2015-08-15\",\"2015-08-16\",\"2015-08-17\",\"2015-08-18\",\"2015-08-19\",\"2015-08-20\",\"2015-08-21\",\"2015-08-22\",\"2015-08-23\",\"2015-08-24\",\"2015-08-25\",\"2015-08-26\",\"2015-08-27\",\"2015-08-28\",\"2015-08-29\",\"2015-08-30\",\"2015-08-31\",\"2015-09-01\",\"2015-09-02\",\"2015-09-03\",\"2015-09-04\",\"2015-09-05\",\"2015-09-06\",\"2015-09-07\",\"2015-09-08\",\"2015-09-09\",\"2015-09-10\",\"2015-09-11\",\"2015-09-12\",\"2015-09-13\",\"2015-09-14\",\"2015-09-15\",\"2015-09-16\",\"2015-09-17\",\"2015-09-18\",\"2015-09-19\",\"2015-09-20\",\"2015-09-21\",\"2015-09-22\",\"2015-09-23\",\"2015-09-24\",\"2015-09-25\",\"2015-09-26\",\"2015-09-27\",\"2015-09-28\",\"2015-09-29\",\"2015-09-30\",\"2015-10-01\",\"2015-10-02\",\"2015-10-03\",\"2015-10-04\",\"2015-10-05\",\"2015-10-06\",\"2015-10-07\",\"2015-10-08\",\"2015-10-09\",\"2015-10-10\",\"2015-10-11\",\"2015-10-12\",\"2015-10-13\",\"2015-10-14\",\"2015-10-15\",\"2015-10-16\",\"2015-10-17\",\"2015-10-18\",\"2015-10-19\",\"2015-10-20\",\"2015-10-21\",\"2015-10-22\",\"2015-10-23\",\"2015-10-24\",\"2015-10-25\",\"2015-10-26\",\"2015-10-27\",\"2015-10-28\",\"2015-10-29\",\"2015-10-30\",\"2015-10-31\",\"2015-11-01\",\"2015-11-02\",\"2015-11-03\",\"2015-11-04\",\"2015-11-05\",\"2015-11-06\",\"2015-11-07\",\"2015-11-08\",\"2015-11-09\",\"2015-11-10\",\"2015-11-11\",\"2015-11-12\",\"2015-11-13\",\"2015-11-14\",\"2015-11-15\",\"2015-11-16\",\"2015-11-17\",\"2015-11-18\",\"2015-11-19\",\"2015-11-20\",\"2015-11-21\",\"2015-11-22\",\"2015-11-23\",\"2015-11-24\",\"2015-11-25\",\"2015-11-26\",\"2015-11-27\",\"2015-11-28\",\"2015-11-29\",\"2015-11-30\",\"2015-12-01\",\"2015-12-02\",\"2015-12-03\",\"2015-12-04\",\"2015-12-05\",\"2015-12-06\",\"2015-12-07\",\"2015-12-08\",\"2015-12-09\",\"2015-12-10\",\"2015-12-11\",\"2015-12-12\",\"2015-12-13\",\"2015-12-14\",\"2015-12-15\",\"2015-12-16\",\"2015-12-17\",\"2015-12-18\",\"2015-12-19\",\"2015-12-20\",\"2015-12-21\",\"2015-12-22\",\"2015-12-23\",\"2015-12-24\",\"2015-12-25\",\"2015-12-26\",\"2015-12-27\",\"2015-12-28\",\"2015-12-29\",\"2015-12-30\",\"2015-12-31\",\"2016-01-01\",\"2016-01-02\",\"2016-01-03\",\"2016-01-04\",\"2016-01-05\",\"2016-01-06\",\"2016-01-07\",\"2016-01-08\",\"2016-01-09\",\"2016-01-10\",\"2016-01-11\",\"2016-01-12\",\"2016-01-13\",\"2016-01-14\",\"2016-01-15\",\"2016-01-16\",\"2016-01-17\",\"2016-01-18\",\"2016-01-19\",\"2016-01-20\",\"2016-01-21\",\"2016-01-22\",\"2016-01-23\",\"2016-01-24\",\"2016-01-25\",\"2016-01-26\",\"2016-01-27\",\"2016-01-28\",\"2016-01-29\",\"2016-01-30\",\"2016-01-31\",\"2016-02-01\",\"2016-02-02\",\"2016-02-03\",\"2016-02-04\",\"2016-02-05\",\"2016-02-06\",\"2016-02-07\",\"2016-02-08\",\"2016-02-09\",\"2016-02-10\",\"2016-02-11\",\"2016-02-12\",\"2016-02-13\",\"2016-02-14\",\"2016-02-15\",\"2016-02-16\",\"2016-02-17\",\"2016-02-18\",\"2016-02-19\",\"2016-02-20\",\"2016-02-21\",\"2016-02-22\",\"2016-02-23\",\"2016-02-24\",\"2016-02-25\",\"2016-02-26\",\"2016-02-27\",\"2016-02-28\",\"2016-02-29\",\"2016-03-01\",\"2016-03-02\",\"2016-03-03\",\"2016-03-04\",\"2016-03-05\",\"2016-03-06\",\"2016-03-07\",\"2016-03-08\",\"2016-03-09\",\"2016-03-10\",\"2016-03-11\",\"2016-03-12\",\"2016-03-13\",\"2016-03-14\",\"2016-03-15\",\"2016-03-16\",\"2016-03-17\",\"2016-03-18\",\"2016-03-19\",\"2016-03-20\",\"2016-03-21\",\"2016-03-22\",\"2016-03-23\",\"2016-03-24\",\"2016-03-25\",\"2016-03-26\",\"2016-03-27\",\"2016-03-28\",\"2016-03-29\",\"2016-03-30\",\"2016-03-31\",\"2016-04-01\",\"2016-04-02\",\"2016-04-03\",\"2016-04-04\",\"2016-04-05\",\"2016-04-06\",\"2016-04-07\",\"2016-04-08\",\"2016-04-09\",\"2016-04-10\",\"2016-04-11\",\"2016-04-12\",\"2016-04-13\",\"2016-04-14\",\"2016-04-15\",\"2016-04-16\",\"2016-04-17\",\"2016-04-18\",\"2016-04-19\",\"2016-04-20\",\"2016-04-21\",\"2016-04-22\",\"2016-04-23\",\"2016-04-24\"],\"y\":[33877,42454,40665,32058,29529,31136,27034,39727,47093,48373,32972,34087,33030,31953,35460,45717,43905,36396,32275,29255,29468,35775,44587,42589,32110,28522,27915,28699,32863,40047,38446,28645,31293,36139,19839,26073,31546,38187,37087,38024,31519,35151,36899,44450,40424,33653,31422,30911,31669,36163,41528,43097,32474,30338,31692,32411,32123,40474,34915,35289,31077,20,32727,33095,36490,34121,32293,34811,23845,32653,38870,44616,45302,32412,30952,32973,33197,32766,47798,46858,33714,30223,31579,31190,35240,43233,40427,32706,27854,28197,26244,30888,40529,40197,30060,24000,24983,27017,36489,45333,43897,37294,30577,31676,32389,34255,47108,48040,33147,33533,36738,37483,33910,44965,43832,34557,30710,30411,29703,33326,41488,44427,31797,29725,26351,28890,34198,45496,46777,37201,30066,31278,32662,34864,43485,50090,37506,34567,34942,33084,36946,44708,45376,32084,30095,29384,28809,33202,41441,44171,31843,28466,27014,30210,32918,41193,43156,30672,33708,33699,36604,35685,46776,48790,36594,35248,35209,33038,38439,46155,46083,35751,36396,34228,33193,38905,47819,38934,31626,30678,30437,30792,33427,42377,43440,31508,29865,28883,33859,38951,46542,45139,35820,33611,32146,31819,36363,42843,38180,37922,33844,32817,33522,34589,40019,43020,32314,29926,29083,30386,33425,38386,35965,33459,28912,28109,27689,33740,40692,44602,37312,38357,32899,35655,37457,44347,45279,38256,33658,34644,35077,38356,44984,42494,35203,33542,32269,33120,37996,42420,42460,33158,30641,28821,29356,34078,39930,40211,33449,37739,37869,47028,38593,40782,45490,37635,36448,37214,35179,40253,47696,43675,36281,35815,33011,32430,36449,42480,42689,33451,31512,30939,30525,33848,39008,42214,32632,30705,30334,31840,43129,47011,47572,35799,36238,34547,34577,38980,45258,43249,36122,36672,34419,34536,38258,44555,46673,35379,31959,31847,32399,37116,44673,47443,34667,31402,29506,29976,37693,43237,39210,43256,34299,37397,31483,35966,46017,45953,35580,34167,31792,34480,38359,47579,45747,36559,31037,29831,28861,34832,43032,44402,31510,29410,29001,29511,33127,40839,42924,31473,29990,34602,34249,41836,47199,48361,37719,33151,33185,33738,35001,44561,46735,33557,32451,34193,29936,33430,43755,43456,32233,29367,27926,28506,32790,40753,40197,31203,28340,27563,30235,32850,44249,46072,38564,31952,30832,33223,34763,44270,47415,34449,32588,30490,28711,34739,44383,43516,31811,28014,28047,28247,32863,42402,40630,31598,31888,36903,21844,26354,34456,35805,34305,30569,32605,31516,36963,43815,42527,33114,32667,31898,26115,33502,40036,42006,34127,29936,30152,32367,29834,38421,38488,33736,34862,29617,20,32909,32594,31894,29990,29417,33450,26452,39633,41085,39647,34691,32682,29165,29029,34385,43946,45066,35574,30324,31059,33063,34889,45169,40724,34412,28363,28109,25795,32221,42181,42623,30358,27873,28104,28225,37440,50828,40385,35006,37405,33992,34647,36809,50836,49719,39170,35464,35701,38570,36936,41614,44007,37147,30697,28505,28808,33119,42109,43759,31522,29780,29227,29223,33566,44154,45186,35398,34387,31774,32819,35937,44229,47379,36020,33597,32891,34391,36623,44471,48827,35495,31412,29947,29369,32999,41982,44014,32338,26841,31995,29902,32535,41531,42583,31899,30956,35060,33817,44108,48419,41636,36215,33911,34149,34437,36853,45272,47180,34494,33597,34690,31431,33059,42516,44359,33118,30227,30382,30658,34423,43598,43406,33444,29750,28667,30553,40976,47052,49102,38169,35089,35296,33321,37424,47269,38030,37192,35033,33685,32054,37764,44336,44493,34296,30671,31158,30601,36267,39975,37426,37817,30879,30097,30216,32925,40938,43463,38654,37424,37990,34922,39889,47507,48426,39922,38184,35176,35585,40282,44853,48981,47580,31698,31478,34425,37829,44255,41413,34846,33071,31622,32376,35945,42213,42946,33928,32179,38077,41844,54154,37489,43532,41538,37355,36049,38210,39895,47405,49594,39058,36831,38095,37478,41847,45660,47784,37547,34138,33376,34195,38441,42624,44192,36126,32955,31593,33587,41478,49150,51541,45257,37658,38279,37798,40137,48104,51961,38324,36449,37351,36055,40762,48436,50540,39112,35245,33707,32516,36963,45080,47596,35093,31295,31967,32076,36251,45236,48517,35885,37955,36590,39619,39270,47487,45248,45762,36169,38102,35693,40286,50103,51340,38071,37425,33645,33998,38689,48279,49979,36145,33518,33497,32967,38680,46636,47613,34262,30615,31270,37677,44376,54687,52895,42474,38855,35887,37819,43595,48787,49704,42240,35681,34248,36353,38422,47813,48964,35302,33104,32411,32770,38021,45006,46179,35092,32319,31267,33232,40514,42743,46994,36457,37997,32102,34675,39621,47341,48411,36915,33374,33338,33242,36195,47342,49755,35735,29174,32160,32365,38357,42793,44925,35140,34222,40124,23631,27581,34212,37782,32016,34818,33732,38029,38187,47025,48415,35408,32913,33690,32159,36343,45975,45133,37522,36130,34123,35454,34756,43488,43011,35522,36612,38752,36227,14,38377,35378,29964,31893,34127,43059,32651,44737,44340,36693,35306,32685,35944,38936,52880,47369,37986,35122,32231,35856,41790,51146,45533,38340,31988,32684,31779,36307,48927,47832,34389,30446,31349,32466,37639,49104,50831,41714,34928,39340,35424,40193,55040,46893,36804,38513,39353,44584,44222,53715,48337,46152,37702,36545,36436,40392,50857,52081,37328,33981,34068,34615,37649,47887,50915,37259,36536,38458,41459,39325,52322,57218,40562,37727,37032,38267,40887,52711,51421,42035,40117,36606,35009,39652,46181,47825,37360,35475,34786,34003,45611,53863,46360,36041,33857,32359,34681,45536,52672,56425,40418,39683,39134,38116,43220,56340,53856,42427,39069,35193,37529,41789,48362,51640,38059,37570,35343,35033,40517,48962,49795],\"type\":\"scatter\"}],                        {\"template\":{\"data\":{\"barpolar\":[{\"marker\":{\"line\":{\"color\":\"white\",\"width\":0.5},\"pattern\":{\"fillmode\":\"overlay\",\"size\":10,\"solidity\":0.2}},\"type\":\"barpolar\"}],\"bar\":[{\"error_x\":{\"color\":\"#2a3f5f\"},\"error_y\":{\"color\":\"#2a3f5f\"},\"marker\":{\"line\":{\"color\":\"white\",\"width\":0.5},\"pattern\":{\"fillmode\":\"overlay\",\"size\":10,\"solidity\":0.2}},\"type\":\"bar\"}],\"carpet\":[{\"aaxis\":{\"endlinecolor\":\"#2a3f5f\",\"gridcolor\":\"#C8D4E3\",\"linecolor\":\"#C8D4E3\",\"minorgridcolor\":\"#C8D4E3\",\"startlinecolor\":\"#2a3f5f\"},\"baxis\":{\"endlinecolor\":\"#2a3f5f\",\"gridcolor\":\"#C8D4E3\",\"linecolor\":\"#C8D4E3\",\"minorgridcolor\":\"#C8D4E3\",\"startlinecolor\":\"#2a3f5f\"},\"type\":\"carpet\"}],\"choropleth\":[{\"colorbar\":{\"outlinewidth\":0,\"ticks\":\"\"},\"type\":\"choropleth\"}],\"contourcarpet\":[{\"colorbar\":{\"outlinewidth\":0,\"ticks\":\"\"},\"type\":\"contourcarpet\"}],\"contour\":[{\"colorbar\":{\"outlinewidth\":0,\"ticks\":\"\"},\"colorscale\":[[0.0,\"#0d0887\"],[0.1111111111111111,\"#46039f\"],[0.2222222222222222,\"#7201a8\"],[0.3333333333333333,\"#9c179e\"],[0.4444444444444444,\"#bd3786\"],[0.5555555555555556,\"#d8576b\"],[0.6666666666666666,\"#ed7953\"],[0.7777777777777778,\"#fb9f3a\"],[0.8888888888888888,\"#fdca26\"],[1.0,\"#f0f921\"]],\"type\":\"contour\"}],\"heatmapgl\":[{\"colorbar\":{\"outlinewidth\":0,\"ticks\":\"\"},\"colorscale\":[[0.0,\"#0d0887\"],[0.1111111111111111,\"#46039f\"],[0.2222222222222222,\"#7201a8\"],[0.3333333333333333,\"#9c179e\"],[0.4444444444444444,\"#bd3786\"],[0.5555555555555556,\"#d8576b\"],[0.6666666666666666,\"#ed7953\"],[0.7777777777777778,\"#fb9f3a\"],[0.8888888888888888,\"#fdca26\"],[1.0,\"#f0f921\"]],\"type\":\"heatmapgl\"}],\"heatmap\":[{\"colorbar\":{\"outlinewidth\":0,\"ticks\":\"\"},\"colorscale\":[[0.0,\"#0d0887\"],[0.1111111111111111,\"#46039f\"],[0.2222222222222222,\"#7201a8\"],[0.3333333333333333,\"#9c179e\"],[0.4444444444444444,\"#bd3786\"],[0.5555555555555556,\"#d8576b\"],[0.6666666666666666,\"#ed7953\"],[0.7777777777777778,\"#fb9f3a\"],[0.8888888888888888,\"#fdca26\"],[1.0,\"#f0f921\"]],\"type\":\"heatmap\"}],\"histogram2dcontour\":[{\"colorbar\":{\"outlinewidth\":0,\"ticks\":\"\"},\"colorscale\":[[0.0,\"#0d0887\"],[0.1111111111111111,\"#46039f\"],[0.2222222222222222,\"#7201a8\"],[0.3333333333333333,\"#9c179e\"],[0.4444444444444444,\"#bd3786\"],[0.5555555555555556,\"#d8576b\"],[0.6666666666666666,\"#ed7953\"],[0.7777777777777778,\"#fb9f3a\"],[0.8888888888888888,\"#fdca26\"],[1.0,\"#f0f921\"]],\"type\":\"histogram2dcontour\"}],\"histogram2d\":[{\"colorbar\":{\"outlinewidth\":0,\"ticks\":\"\"},\"colorscale\":[[0.0,\"#0d0887\"],[0.1111111111111111,\"#46039f\"],[0.2222222222222222,\"#7201a8\"],[0.3333333333333333,\"#9c179e\"],[0.4444444444444444,\"#bd3786\"],[0.5555555555555556,\"#d8576b\"],[0.6666666666666666,\"#ed7953\"],[0.7777777777777778,\"#fb9f3a\"],[0.8888888888888888,\"#fdca26\"],[1.0,\"#f0f921\"]],\"type\":\"histogram2d\"}],\"histogram\":[{\"marker\":{\"pattern\":{\"fillmode\":\"overlay\",\"size\":10,\"solidity\":0.2}},\"type\":\"histogram\"}],\"mesh3d\":[{\"colorbar\":{\"outlinewidth\":0,\"ticks\":\"\"},\"type\":\"mesh3d\"}],\"parcoords\":[{\"line\":{\"colorbar\":{\"outlinewidth\":0,\"ticks\":\"\"}},\"type\":\"parcoords\"}],\"pie\":[{\"automargin\":true,\"type\":\"pie\"}],\"scatter3d\":[{\"line\":{\"colorbar\":{\"outlinewidth\":0,\"ticks\":\"\"}},\"marker\":{\"colorbar\":{\"outlinewidth\":0,\"ticks\":\"\"}},\"type\":\"scatter3d\"}],\"scattercarpet\":[{\"marker\":{\"colorbar\":{\"outlinewidth\":0,\"ticks\":\"\"}},\"type\":\"scattercarpet\"}],\"scattergeo\":[{\"marker\":{\"colorbar\":{\"outlinewidth\":0,\"ticks\":\"\"}},\"type\":\"scattergeo\"}],\"scattergl\":[{\"marker\":{\"colorbar\":{\"outlinewidth\":0,\"ticks\":\"\"}},\"type\":\"scattergl\"}],\"scattermapbox\":[{\"marker\":{\"colorbar\":{\"outlinewidth\":0,\"ticks\":\"\"}},\"type\":\"scattermapbox\"}],\"scatterpolargl\":[{\"marker\":{\"colorbar\":{\"outlinewidth\":0,\"ticks\":\"\"}},\"type\":\"scatterpolargl\"}],\"scatterpolar\":[{\"marker\":{\"colorbar\":{\"outlinewidth\":0,\"ticks\":\"\"}},\"type\":\"scatterpolar\"}],\"scatter\":[{\"marker\":{\"colorbar\":{\"outlinewidth\":0,\"ticks\":\"\"}},\"type\":\"scatter\"}],\"scatterternary\":[{\"marker\":{\"colorbar\":{\"outlinewidth\":0,\"ticks\":\"\"}},\"type\":\"scatterternary\"}],\"surface\":[{\"colorbar\":{\"outlinewidth\":0,\"ticks\":\"\"},\"colorscale\":[[0.0,\"#0d0887\"],[0.1111111111111111,\"#46039f\"],[0.2222222222222222,\"#7201a8\"],[0.3333333333333333,\"#9c179e\"],[0.4444444444444444,\"#bd3786\"],[0.5555555555555556,\"#d8576b\"],[0.6666666666666666,\"#ed7953\"],[0.7777777777777778,\"#fb9f3a\"],[0.8888888888888888,\"#fdca26\"],[1.0,\"#f0f921\"]],\"type\":\"surface\"}],\"table\":[{\"cells\":{\"fill\":{\"color\":\"#EBF0F8\"},\"line\":{\"color\":\"white\"}},\"header\":{\"fill\":{\"color\":\"#C8D4E3\"},\"line\":{\"color\":\"white\"}},\"type\":\"table\"}]},\"layout\":{\"annotationdefaults\":{\"arrowcolor\":\"#2a3f5f\",\"arrowhead\":0,\"arrowwidth\":1},\"autotypenumbers\":\"strict\",\"coloraxis\":{\"colorbar\":{\"outlinewidth\":0,\"ticks\":\"\"}},\"colorscale\":{\"diverging\":[[0,\"#8e0152\"],[0.1,\"#c51b7d\"],[0.2,\"#de77ae\"],[0.3,\"#f1b6da\"],[0.4,\"#fde0ef\"],[0.5,\"#f7f7f7\"],[0.6,\"#e6f5d0\"],[0.7,\"#b8e186\"],[0.8,\"#7fbc41\"],[0.9,\"#4d9221\"],[1,\"#276419\"]],\"sequential\":[[0.0,\"#0d0887\"],[0.1111111111111111,\"#46039f\"],[0.2222222222222222,\"#7201a8\"],[0.3333333333333333,\"#9c179e\"],[0.4444444444444444,\"#bd3786\"],[0.5555555555555556,\"#d8576b\"],[0.6666666666666666,\"#ed7953\"],[0.7777777777777778,\"#fb9f3a\"],[0.8888888888888888,\"#fdca26\"],[1.0,\"#f0f921\"]],\"sequentialminus\":[[0.0,\"#0d0887\"],[0.1111111111111111,\"#46039f\"],[0.2222222222222222,\"#7201a8\"],[0.3333333333333333,\"#9c179e\"],[0.4444444444444444,\"#bd3786\"],[0.5555555555555556,\"#d8576b\"],[0.6666666666666666,\"#ed7953\"],[0.7777777777777778,\"#fb9f3a\"],[0.8888888888888888,\"#fdca26\"],[1.0,\"#f0f921\"]]},\"colorway\":[\"#636efa\",\"#EF553B\",\"#00cc96\",\"#ab63fa\",\"#FFA15A\",\"#19d3f3\",\"#FF6692\",\"#B6E880\",\"#FF97FF\",\"#FECB52\"],\"font\":{\"color\":\"#2a3f5f\"},\"geo\":{\"bgcolor\":\"white\",\"lakecolor\":\"white\",\"landcolor\":\"white\",\"showlakes\":true,\"showland\":true,\"subunitcolor\":\"#C8D4E3\"},\"hoverlabel\":{\"align\":\"left\"},\"hovermode\":\"closest\",\"mapbox\":{\"style\":\"light\"},\"paper_bgcolor\":\"white\",\"plot_bgcolor\":\"white\",\"polar\":{\"angularaxis\":{\"gridcolor\":\"#EBF0F8\",\"linecolor\":\"#EBF0F8\",\"ticks\":\"\"},\"bgcolor\":\"white\",\"radialaxis\":{\"gridcolor\":\"#EBF0F8\",\"linecolor\":\"#EBF0F8\",\"ticks\":\"\"}},\"scene\":{\"xaxis\":{\"backgroundcolor\":\"white\",\"gridcolor\":\"#DFE8F3\",\"gridwidth\":2,\"linecolor\":\"#EBF0F8\",\"showbackground\":true,\"ticks\":\"\",\"zerolinecolor\":\"#EBF0F8\"},\"yaxis\":{\"backgroundcolor\":\"white\",\"gridcolor\":\"#DFE8F3\",\"gridwidth\":2,\"linecolor\":\"#EBF0F8\",\"showbackground\":true,\"ticks\":\"\",\"zerolinecolor\":\"#EBF0F8\"},\"zaxis\":{\"backgroundcolor\":\"white\",\"gridcolor\":\"#DFE8F3\",\"gridwidth\":2,\"linecolor\":\"#EBF0F8\",\"showbackground\":true,\"ticks\":\"\",\"zerolinecolor\":\"#EBF0F8\"}},\"shapedefaults\":{\"line\":{\"color\":\"#2a3f5f\"}},\"ternary\":{\"aaxis\":{\"gridcolor\":\"#DFE8F3\",\"linecolor\":\"#A2B1C6\",\"ticks\":\"\"},\"baxis\":{\"gridcolor\":\"#DFE8F3\",\"linecolor\":\"#A2B1C6\",\"ticks\":\"\"},\"bgcolor\":\"white\",\"caxis\":{\"gridcolor\":\"#DFE8F3\",\"linecolor\":\"#A2B1C6\",\"ticks\":\"\"}},\"title\":{\"x\":0.05},\"xaxis\":{\"automargin\":true,\"gridcolor\":\"#EBF0F8\",\"linecolor\":\"#EBF0F8\",\"ticks\":\"\",\"title\":{\"standoff\":15},\"zerolinecolor\":\"#EBF0F8\",\"zerolinewidth\":2},\"yaxis\":{\"automargin\":true,\"gridcolor\":\"#EBF0F8\",\"linecolor\":\"#EBF0F8\",\"ticks\":\"\",\"title\":{\"standoff\":15},\"zerolinecolor\":\"#EBF0F8\",\"zerolinewidth\":2}}},\"title\":{\"text\":\"Sales per Day by Category\"},\"width\":750,\"height\":550,\"xaxis\":{\"tickformatstops\":[{\"dtickrange\":[\"M1\",\"M12\"],\"value\":\"%b '%y\"}],\"rangeslider\":{\"visible\":true},\"rangeselector\":{\"buttons\":[{\"count\":1,\"label\":\"1m\",\"step\":\"month\",\"stepmode\":\"backward\"},{\"count\":6,\"label\":\"6m\",\"step\":\"month\",\"stepmode\":\"backward\"},{\"count\":1,\"label\":\"YTD\",\"step\":\"year\",\"stepmode\":\"todate\"},{\"count\":1,\"label\":\"1y\",\"step\":\"year\",\"stepmode\":\"backward\"},{\"step\":\"all\"}]},\"type\":\"date\"}},                        {\"responsive\": true}                    ).then(function(){\n",
              "                            \n",
              "var gd = document.getElementById('72441007-e7dc-4b3b-984e-41a9db6343f3');\n",
              "var x = new MutationObserver(function (mutations, observer) {{\n",
              "        var display = window.getComputedStyle(gd).display;\n",
              "        if (!display || display === 'none') {{\n",
              "            console.log([gd, 'removed!']);\n",
              "            Plotly.purge(gd);\n",
              "            observer.disconnect();\n",
              "        }}\n",
              "}});\n",
              "\n",
              "// Listen for the removal of the full notebook cells\n",
              "var notebookContainer = gd.closest('#notebook-container');\n",
              "if (notebookContainer) {{\n",
              "    x.observe(notebookContainer, {childList: true});\n",
              "}}\n",
              "\n",
              "// Listen for the clearing of the current output cell\n",
              "var outputEl = gd.closest('.output');\n",
              "if (outputEl) {{\n",
              "    x.observe(outputEl, {childList: true});\n",
              "}}\n",
              "\n",
              "                        })                };                            </script>        </div>\n",
              "</body>\n",
              "</html>"
            ]
          },
          "metadata": {}
        }
      ]
    },
    {
      "cell_type": "markdown",
      "source": [
        "The results of the plot indicate that:\n",
        "\n",
        "* There is defintely an increase in the number of items being sold with time\n",
        "* The items sold in the Food and Household category have seen a more gradual increase than those of hobbies related items."
      ],
      "metadata": {
        "id": "MP0VyNJVmQGk"
      }
    },
    {
      "cell_type": "markdown",
      "source": [
        "#### Distribution of Total Sales Sold Per State?"
      ],
      "metadata": {
        "id": "oa7pGIJ5mQGk"
      }
    },
    {
      "cell_type": "code",
      "source": [
        "train_sales_cal_df = train_sales_df.groupby(['state_id'])[d_cols].sum(axis=1).T.merge(calendar_df.set_index('d')['date'], \n",
        "                                                                    left_index=True, right_index=True,\n",
        "                                                                    validate=\"1:1\").set_index('date')"
      ],
      "metadata": {
        "execution": {
          "iopub.status.busy": "2021-12-29T13:39:27.113716Z",
          "iopub.execute_input": "2021-12-29T13:39:27.114038Z",
          "iopub.status.idle": "2021-12-29T13:39:36.234382Z",
          "shell.execute_reply.started": "2021-12-29T13:39:27.113989Z",
          "shell.execute_reply": "2021-12-29T13:39:36.233232Z"
        },
        "trusted": true,
        "id": "GYYvKusimQGk",
        "outputId": "e9f90891-dd7c-4404-c20a-3a1ca87e1215",
        "colab": {
          "base_uri": "https://localhost:8080/",
          "height": 200
        }
      },
      "execution_count": null,
      "outputs": [
        {
          "output_type": "error",
          "ename": "TypeError",
          "evalue": "ignored",
          "traceback": [
            "\u001b[0;31m---------------------------------------------------------------------------\u001b[0m",
            "\u001b[0;31mTypeError\u001b[0m                                 Traceback (most recent call last)",
            "\u001b[0;32m<ipython-input-80-a39fb9aeb0b7>\u001b[0m in \u001b[0;36m<module>\u001b[0;34m\u001b[0m\n\u001b[0;32m----> 1\u001b[0;31m train_sales_cal_df = train_sales_df.groupby(['state_id'])[d_cols].sum(axis=1).T.merge(calendar_df.set_index('d')['date'], \n\u001b[0m\u001b[1;32m      2\u001b[0m                                                                     \u001b[0mleft_index\u001b[0m\u001b[0;34m=\u001b[0m\u001b[0;32mTrue\u001b[0m\u001b[0;34m,\u001b[0m \u001b[0mright_index\u001b[0m\u001b[0;34m=\u001b[0m\u001b[0;32mTrue\u001b[0m\u001b[0;34m,\u001b[0m\u001b[0;34m\u001b[0m\u001b[0;34m\u001b[0m\u001b[0m\n\u001b[1;32m      3\u001b[0m                                                                     validate=\"1:1\").set_index('date')\n",
            "\u001b[0;31mTypeError\u001b[0m: sum() got an unexpected keyword argument 'axis'"
          ]
        }
      ]
    },
    {
      "cell_type": "code",
      "source": [
        "#train_sales_cal_df = train_sales_cal_df.reset_index()\n",
        "train_sales_cal_df"
      ],
      "metadata": {
        "execution": {
          "iopub.status.busy": "2021-12-29T13:39:36.236064Z",
          "iopub.execute_input": "2021-12-29T13:39:36.236359Z",
          "iopub.status.idle": "2021-12-29T13:39:36.251047Z",
          "shell.execute_reply.started": "2021-12-29T13:39:36.236313Z",
          "shell.execute_reply": "2021-12-29T13:39:36.24984Z"
        },
        "trusted": true,
        "id": "kFNIq20smQGl"
      },
      "execution_count": null,
      "outputs": []
    },
    {
      "cell_type": "code",
      "source": [
        "from plotly.subplots import make_subplots\n",
        "\n",
        "def plotly_time_plot_rolling(df, text, start_col=0, end_col=3, rolling_days=30):\n",
        "\n",
        "    '''\n",
        "    time series rolling plots of the categories specified in df\n",
        "    inputs: df (dataframe with ts as index, and columns as categories), text (title of the plot)\n",
        "            rolling_days (number of rolling days)\n",
        "    \n",
        "    returns: plotly time series plot of sales along the categories specified as columns in df\n",
        "    '''\n",
        "    fig = go.Figure()\n",
        "    for c in df.columns[start_col:end_col]:\n",
        "        fig.add_traces(go.Scatter(x=df.rolling(rolling_days).mean().index, \n",
        "                              y=df.rolling(rolling_days).mean()[c],\n",
        "                              mode='lines+markers',\n",
        "                              name = c))\n",
        "\n",
        "    fig.update_layout( title = 'Sales per Day by ' + str(text), template = 'plotly_white',\n",
        "        width=750, height=550,\n",
        "        xaxis_tickformatstops = [\n",
        "            dict(dtickrange=[\"M1\", \"M12\"], value=\"%b '%y\"),\n",
        "        ]\n",
        "    )\n",
        "    \n",
        "    fig.update_layout(\n",
        "    xaxis=dict(\n",
        "    rangeselector=dict( buttons=list([ dict(count=1, label=\"1m\", step=\"month\", stepmode=\"backward\"),\n",
        "    dict(count=6,label=\"6m\", step=\"month\", stepmode=\"backward\"),\n",
        "    dict(count=1, label=\"YTD\", step=\"year\", stepmode=\"todate\"),\n",
        "    dict(count=1, label=\"1y\", step=\"year\", stepmode=\"backward\"),\n",
        "    dict(step=\"all\") ])  ),\n",
        "        rangeslider=dict(\n",
        "            visible=True\n",
        "        ),\n",
        "        type=\"date\" ) )\n",
        "\n",
        "    fig.update_xaxes(rangeslider_visible=True)    \n",
        "    fig.show()   \n",
        "\n",
        "plotly_time_plot_rolling(train_sales_cal_df, 'State')"
      ],
      "metadata": {
        "execution": {
          "iopub.status.busy": "2021-12-29T13:39:36.253029Z",
          "iopub.execute_input": "2021-12-29T13:39:36.253478Z",
          "iopub.status.idle": "2021-12-29T13:39:36.700075Z",
          "shell.execute_reply.started": "2021-12-29T13:39:36.253372Z",
          "shell.execute_reply": "2021-12-29T13:39:36.698874Z"
        },
        "trusted": true,
        "id": "8t-rbbXWmQGl"
      },
      "execution_count": null,
      "outputs": []
    },
    {
      "cell_type": "markdown",
      "source": [
        "While there has been an increase in the number of sales across all three states i.e. CA, TX, and WI interesting to note is the fact that:\n",
        "\n",
        "* There is an overall increase in the sales of items across all states\n",
        "* WI sales cross TX sales at around Oct'14 and Sept'15 indicating that that could be boost in the sales of category of items that are seasonal. We'll try and investigate the sales of categories across separate states to further shed a light on this answer"
      ],
      "metadata": {
        "id": "5aS53LILmQGl"
      }
    },
    {
      "cell_type": "code",
      "source": [
        "#referring to the solution provided at https://stackoverflow.com/questions/43223615/join-dataframes-one-with-multiindex-columns-and-the-other-without\n",
        "\n",
        "train_sales_cal_df = train_sales_df.groupby(['state_id', 'cat_id'])[d_cols].sum(axis=1).T\\\n",
        "              .join(pd.concat([calendar_df.set_index('d')['date']], axis=1, keys=['dates']))\n",
        "train_sales_cal_df.head(2)"
      ],
      "metadata": {
        "execution": {
          "iopub.status.busy": "2021-12-29T13:39:36.701584Z",
          "iopub.execute_input": "2021-12-29T13:39:36.701901Z",
          "iopub.status.idle": "2021-12-29T13:39:42.697589Z",
          "shell.execute_reply.started": "2021-12-29T13:39:36.701851Z",
          "shell.execute_reply": "2021-12-29T13:39:42.696524Z"
        },
        "trusted": true,
        "id": "9SLutr3ymQGm"
      },
      "execution_count": null,
      "outputs": []
    },
    {
      "cell_type": "code",
      "source": [
        "#train_sales_cal_df = train_sales_cal_df.set_index('dates')"
      ],
      "metadata": {
        "execution": {
          "iopub.status.busy": "2021-12-29T13:39:42.699565Z",
          "iopub.execute_input": "2021-12-29T13:39:42.699892Z",
          "iopub.status.idle": "2021-12-29T13:39:42.70421Z",
          "shell.execute_reply.started": "2021-12-29T13:39:42.699833Z",
          "shell.execute_reply": "2021-12-29T13:39:42.703154Z"
        },
        "trusted": true,
        "id": "7XNnW2fYmQGm"
      },
      "execution_count": null,
      "outputs": []
    },
    {
      "cell_type": "code",
      "source": [
        "select_cols_ca = [c for c in train_sales_cal_df.columns if 'CA' in c]\n",
        "select_cols_tx = [c for c in train_sales_cal_df.columns if 'TX' in c]\n",
        "select_cols_wi = [c for c in train_sales_cal_df.columns if 'WI' in c]\n",
        "#train_sales_df['total_sales_all_days'] = train_sales_df[d_cols].sum(axis = 1)\n",
        "#train_sales_cal_df = \n",
        "df_CA = train_sales_cal_df.set_index('dates')[select_cols_ca]\n",
        "df_TX = train_sales_cal_df.set_index('dates')[select_cols_tx]\n",
        "df_WI = train_sales_cal_df.set_index('dates')[select_cols_wi]\n",
        "\n",
        "#df_CA.columns = [col[1] for col in df_CA.columns]\n",
        "#df_TX.columns = [col[1] for col in df_TX.columns]\n",
        "#df_WI.columns = [col[1] for col in df_WI.columns]"
      ],
      "metadata": {
        "execution": {
          "iopub.status.busy": "2021-12-29T13:39:42.706094Z",
          "iopub.execute_input": "2021-12-29T13:39:42.706431Z",
          "iopub.status.idle": "2021-12-29T13:39:42.72691Z",
          "shell.execute_reply.started": "2021-12-29T13:39:42.706375Z",
          "shell.execute_reply": "2021-12-29T13:39:42.725598Z"
        },
        "trusted": true,
        "id": "IGcN8slsmQGm"
      },
      "execution_count": null,
      "outputs": []
    },
    {
      "cell_type": "code",
      "source": [
        "time_and_rolling_plot(df_CA, 'CA(California) FOODS, HOBBIES and HOUSEHOLD', height=2.7)\n",
        "time_and_rolling_plot(df_TX, 'TX(Texas) FOODS, HOBBIES and HOUSEHOLD', height=2.7)\n",
        "time_and_rolling_plot(df_WI, 'WI(Wisconsin) FOODS, HOBBIES and HOUSEHOLD', height=2.7)\n",
        "#time_and_rolling_plot(df_CA.iloc[:,1].reset_index(), \"CA HOBBIES\")\n",
        "#time_and_rolling_plot(df_CA.iloc[:,2].reset_index(), \"CA State\")"
      ],
      "metadata": {
        "execution": {
          "iopub.status.busy": "2021-12-29T13:39:42.728502Z",
          "iopub.execute_input": "2021-12-29T13:39:42.728921Z",
          "iopub.status.idle": "2021-12-29T13:39:44.001459Z",
          "shell.execute_reply.started": "2021-12-29T13:39:42.728851Z",
          "shell.execute_reply": "2021-12-29T13:39:44.000076Z"
        },
        "trusted": true,
        "id": "1sGE18cGmQGn"
      },
      "execution_count": null,
      "outputs": []
    },
    {
      "cell_type": "markdown",
      "source": [
        "By looking at the above graphs, some of the trends regarding in the food distribution category along separate states have become evident. \n",
        "\n",
        "* Along the FOODS distribution, both CA and TX see large bumps in sales around june'12 and september'12-October'12 with the next peak coming around in Oct'13 that is larger than the sales in June'12 with the same trend continuing to repeat itself along other dates in 2014, and 2015\n",
        "* However, the sales along WI stores have a slightly different pattern with peaks of sales occuring in July'12 and next largest being observed in Feb-Mar'13. Similarly, the sales pick up around September in 2013, and then in Mar'13\n",
        "\n",
        "* In Household items distribution, the peaks of sales across all stores in CA, TX and WI occur around July, March while relatively huge dips in sales occuring in all three locations around the month of Jan-Feb. \n",
        "\n",
        "* In Hobbies items sales, there is surprising peak in sales (albiet different in actual number of units sold) across similar dates in all store locations (for example Feb'13 and Feb'15) with a slight dip in sale in Aug-Sep'13."
      ],
      "metadata": {
        "id": "Y80vUiafmQGn"
      }
    },
    {
      "cell_type": "code",
      "source": [
        "train_sales_cal_df = train_sales_df.set_index('id')[d_cols].T.merge(calendar_df.set_index('d')['date'], \n",
        "                                                                    left_index=True, right_index=True,\n",
        "                                                                    validate=\"1:1\").set_index('date')\n",
        "train_sales_cal_df['total_sales'] = train_sales_cal_df.sum(axis=1)\n"
      ],
      "metadata": {
        "execution": {
          "iopub.status.busy": "2021-12-29T13:39:44.003026Z",
          "iopub.execute_input": "2021-12-29T13:39:44.003455Z",
          "iopub.status.idle": "2021-12-29T13:39:45.595152Z",
          "shell.execute_reply.started": "2021-12-29T13:39:44.003254Z",
          "shell.execute_reply": "2021-12-29T13:39:45.593969Z"
        },
        "trusted": true,
        "id": "OefPrypDmQGo"
      },
      "execution_count": null,
      "outputs": []
    },
    {
      "cell_type": "code",
      "source": [
        "item_ids = [c for c in train_sales_cal_df.columns if 'validation' in c]"
      ],
      "metadata": {
        "execution": {
          "iopub.status.busy": "2021-12-29T13:39:45.596553Z",
          "iopub.execute_input": "2021-12-29T13:39:45.596849Z",
          "iopub.status.idle": "2021-12-29T13:39:45.613687Z",
          "shell.execute_reply.started": "2021-12-29T13:39:45.596803Z",
          "shell.execute_reply": "2021-12-29T13:39:45.612483Z"
        },
        "trusted": true,
        "id": "vCi-whWdmQGo"
      },
      "execution_count": null,
      "outputs": []
    },
    {
      "cell_type": "code",
      "source": [
        "\n",
        "train_sales_cal_df = train_sales_cal_df.reset_index()\n",
        "train_sales_cal_df['date'] = pd.to_datetime(train_sales_cal_df['date'])\n",
        "train_sales_cal_df['month'] = train_sales_cal_df.date.dt.month\n",
        "train_sales_cal_df['year'] = train_sales_cal_df.date.dt.year"
      ],
      "metadata": {
        "execution": {
          "iopub.status.busy": "2021-12-29T13:39:45.615438Z",
          "iopub.execute_input": "2021-12-29T13:39:45.61611Z",
          "iopub.status.idle": "2021-12-29T13:39:46.521397Z",
          "shell.execute_reply.started": "2021-12-29T13:39:45.615819Z",
          "shell.execute_reply": "2021-12-29T13:39:46.520323Z"
        },
        "trusted": true,
        "id": "-T5zVcxomQGo"
      },
      "execution_count": null,
      "outputs": []
    },
    {
      "cell_type": "code",
      "source": [
        "df = train_sales_cal_df.groupby(['year', 'month'])[item_ids].sum()\n",
        "df = df.reset_index()"
      ],
      "metadata": {
        "execution": {
          "iopub.status.busy": "2021-12-29T13:39:46.523154Z",
          "iopub.execute_input": "2021-12-29T13:39:46.523597Z",
          "iopub.status.idle": "2021-12-29T13:39:48.29976Z",
          "shell.execute_reply.started": "2021-12-29T13:39:46.523518Z",
          "shell.execute_reply": "2021-12-29T13:39:48.298293Z"
        },
        "trusted": true,
        "id": "Iv_7glxnmQGo"
      },
      "execution_count": null,
      "outputs": []
    },
    {
      "cell_type": "code",
      "source": [
        "def find_items_per_specific_date(df, year, month, category, number):\n",
        "    \n",
        "    '''\n",
        "    finds the five most sold product_ids in user specified category, year and month\n",
        "    \n",
        "    inputs: df(item_ids along with year and month), year, month, category (household, \n",
        "    foods or hobbies), number (how many results to be displayed)\n",
        "    \n",
        "    returns : table of product ids with specfied number and date and number of sales made\n",
        "    '''\n",
        "    \n",
        "    df = df.loc[(df['year'] == year) & (df['month'] == month)][item_ids].T.reset_index()\n",
        "    df.columns = ['item_id', 'sales_count']\n",
        "    df = df.set_index('item_id')\n",
        "    item_type = [c for c in df.index if category in c]\n",
        "    df = df[df.index.isin(item_type)]\n",
        "    df = df.sort_values(by = ['sales_count'], ascending=False)[:number]\n",
        "    \n",
        "    return df\n",
        "\n",
        "print(\"Most sold Foods during requested date\\n\"\n",
        "      ,find_items_per_specific_date(df, 2012, 7, 'FOODS', 5) )\n",
        "print(\"Most sold Household items during requested date\\n\" \n",
        "      ,find_items_per_specific_date(df, 2013, 3, 'HOUSEHOLD', 5) )"
      ],
      "metadata": {
        "execution": {
          "iopub.status.busy": "2021-12-29T13:39:48.301993Z",
          "iopub.execute_input": "2021-12-29T13:39:48.302454Z",
          "iopub.status.idle": "2021-12-29T13:39:48.488349Z",
          "shell.execute_reply.started": "2021-12-29T13:39:48.302369Z",
          "shell.execute_reply": "2021-12-29T13:39:48.486996Z"
        },
        "trusted": true,
        "id": "DoJNt7-YmQGp"
      },
      "execution_count": null,
      "outputs": []
    },
    {
      "cell_type": "markdown",
      "source": [
        "These are the five item ids that have been selling most in California and Texas locations.\n",
        "* While the first one \"FOODS_3_090_CA_3_validation\" is the same as the one that was most sold during our earlier analysis, the second observation is quite different to earlier assessment and the item most sold in second place has id \"FOODS_3_281_CA_3_validation\"\n",
        "* The items that were contributing to the sales bump of household items are also mentioned above. The household item sold most during the bump period is HOUSEHOLD_1_334_CA_3_validation "
      ],
      "metadata": {
        "id": "EneVuEy2mQGp"
      }
    },
    {
      "cell_type": "markdown",
      "source": [
        "### Distribution of Total Sales Vs Store_ID?"
      ],
      "metadata": {
        "id": "OlfP1oJZmQGp"
      }
    },
    {
      "cell_type": "code",
      "source": [
        "train_sales_cal_df = train_sales_df.groupby(['store_id'])[d_cols].sum(axis=1)\\\n",
        "                                                .T.merge(calendar_df.set_index('d')['date'], \n",
        "                                                        left_index=True, right_index=True,\n",
        "                                                        validate=\"1:1\").set_index('date')"
      ],
      "metadata": {
        "execution": {
          "iopub.status.busy": "2021-12-29T13:39:48.490168Z",
          "iopub.execute_input": "2021-12-29T13:39:48.490582Z",
          "iopub.status.idle": "2021-12-29T13:39:59.073466Z",
          "shell.execute_reply.started": "2021-12-29T13:39:48.490497Z",
          "shell.execute_reply": "2021-12-29T13:39:59.072485Z"
        },
        "trusted": true,
        "id": "1ldDUeZpmQGq",
        "outputId": "e4c4f466-e0d0-4515-cb12-4ba86433809e",
        "colab": {
          "base_uri": "https://localhost:8080/",
          "height": 217
        }
      },
      "execution_count": null,
      "outputs": [
        {
          "output_type": "error",
          "ename": "TypeError",
          "evalue": "ignored",
          "traceback": [
            "\u001b[0;31m---------------------------------------------------------------------------\u001b[0m",
            "\u001b[0;31mTypeError\u001b[0m                                 Traceback (most recent call last)",
            "\u001b[0;32m<ipython-input-81-936fd5e2f9c8>\u001b[0m in \u001b[0;36m<module>\u001b[0;34m\u001b[0m\n\u001b[0;32m----> 1\u001b[0;31m \u001b[0mtrain_sales_cal_df\u001b[0m \u001b[0;34m=\u001b[0m \u001b[0mtrain_sales_df\u001b[0m\u001b[0;34m.\u001b[0m\u001b[0mgroupby\u001b[0m\u001b[0;34m(\u001b[0m\u001b[0;34m[\u001b[0m\u001b[0;34m'store_id'\u001b[0m\u001b[0;34m]\u001b[0m\u001b[0;34m)\u001b[0m\u001b[0;34m[\u001b[0m\u001b[0md_cols\u001b[0m\u001b[0;34m]\u001b[0m\u001b[0;34m.\u001b[0m\u001b[0msum\u001b[0m\u001b[0;34m(\u001b[0m\u001b[0maxis\u001b[0m\u001b[0;34m=\u001b[0m\u001b[0;36m1\u001b[0m\u001b[0;34m)\u001b[0m\u001b[0;31m\\\u001b[0m\u001b[0;34m\u001b[0m\u001b[0;34m\u001b[0m\u001b[0m\n\u001b[0m\u001b[1;32m      2\u001b[0m                                                 .T.merge(calendar_df.set_index('d')['date'], \n\u001b[1;32m      3\u001b[0m                                                         \u001b[0mleft_index\u001b[0m\u001b[0;34m=\u001b[0m\u001b[0;32mTrue\u001b[0m\u001b[0;34m,\u001b[0m \u001b[0mright_index\u001b[0m\u001b[0;34m=\u001b[0m\u001b[0;32mTrue\u001b[0m\u001b[0;34m,\u001b[0m\u001b[0;34m\u001b[0m\u001b[0;34m\u001b[0m\u001b[0m\n\u001b[1;32m      4\u001b[0m                                                         validate=\"1:1\").set_index('date')\n",
            "\u001b[0;31mTypeError\u001b[0m: sum() got an unexpected keyword argument 'axis'"
          ]
        }
      ]
    },
    {
      "cell_type": "code",
      "source": [
        "train_sales_cal_df.head(2)"
      ],
      "metadata": {
        "execution": {
          "iopub.status.busy": "2021-12-29T13:39:59.075386Z",
          "iopub.execute_input": "2021-12-29T13:39:59.07575Z",
          "iopub.status.idle": "2021-12-29T13:39:59.090601Z",
          "shell.execute_reply.started": "2021-12-29T13:39:59.07569Z",
          "shell.execute_reply": "2021-12-29T13:39:59.089649Z"
        },
        "trusted": true,
        "id": "jDYrXR4UmQGq",
        "outputId": "7bad5210-4ac4-49d5-f6de-cc954afae195",
        "colab": {
          "base_uri": "https://localhost:8080/",
          "height": 143
        }
      },
      "execution_count": null,
      "outputs": [
        {
          "output_type": "execute_result",
          "data": {
            "text/plain": [
              "            total_sales\n",
              "date                   \n",
              "2011-01-29        32631\n",
              "2011-01-30        31749"
            ],
            "text/html": [
              "\n",
              "  <div id=\"df-ee001278-e020-4963-ae64-271ebdf7141b\">\n",
              "    <div class=\"colab-df-container\">\n",
              "      <div>\n",
              "<style scoped>\n",
              "    .dataframe tbody tr th:only-of-type {\n",
              "        vertical-align: middle;\n",
              "    }\n",
              "\n",
              "    .dataframe tbody tr th {\n",
              "        vertical-align: top;\n",
              "    }\n",
              "\n",
              "    .dataframe thead th {\n",
              "        text-align: right;\n",
              "    }\n",
              "</style>\n",
              "<table border=\"1\" class=\"dataframe\">\n",
              "  <thead>\n",
              "    <tr style=\"text-align: right;\">\n",
              "      <th></th>\n",
              "      <th>total_sales</th>\n",
              "    </tr>\n",
              "    <tr>\n",
              "      <th>date</th>\n",
              "      <th></th>\n",
              "    </tr>\n",
              "  </thead>\n",
              "  <tbody>\n",
              "    <tr>\n",
              "      <th>2011-01-29</th>\n",
              "      <td>32631</td>\n",
              "    </tr>\n",
              "    <tr>\n",
              "      <th>2011-01-30</th>\n",
              "      <td>31749</td>\n",
              "    </tr>\n",
              "  </tbody>\n",
              "</table>\n",
              "</div>\n",
              "      <button class=\"colab-df-convert\" onclick=\"convertToInteractive('df-ee001278-e020-4963-ae64-271ebdf7141b')\"\n",
              "              title=\"Convert this dataframe to an interactive table.\"\n",
              "              style=\"display:none;\">\n",
              "        \n",
              "  <svg xmlns=\"http://www.w3.org/2000/svg\" height=\"24px\"viewBox=\"0 0 24 24\"\n",
              "       width=\"24px\">\n",
              "    <path d=\"M0 0h24v24H0V0z\" fill=\"none\"/>\n",
              "    <path d=\"M18.56 5.44l.94 2.06.94-2.06 2.06-.94-2.06-.94-.94-2.06-.94 2.06-2.06.94zm-11 1L8.5 8.5l.94-2.06 2.06-.94-2.06-.94L8.5 2.5l-.94 2.06-2.06.94zm10 10l.94 2.06.94-2.06 2.06-.94-2.06-.94-.94-2.06-.94 2.06-2.06.94z\"/><path d=\"M17.41 7.96l-1.37-1.37c-.4-.4-.92-.59-1.43-.59-.52 0-1.04.2-1.43.59L10.3 9.45l-7.72 7.72c-.78.78-.78 2.05 0 2.83L4 21.41c.39.39.9.59 1.41.59.51 0 1.02-.2 1.41-.59l7.78-7.78 2.81-2.81c.8-.78.8-2.07 0-2.86zM5.41 20L4 18.59l7.72-7.72 1.47 1.35L5.41 20z\"/>\n",
              "  </svg>\n",
              "      </button>\n",
              "      \n",
              "  <style>\n",
              "    .colab-df-container {\n",
              "      display:flex;\n",
              "      flex-wrap:wrap;\n",
              "      gap: 12px;\n",
              "    }\n",
              "\n",
              "    .colab-df-convert {\n",
              "      background-color: #E8F0FE;\n",
              "      border: none;\n",
              "      border-radius: 50%;\n",
              "      cursor: pointer;\n",
              "      display: none;\n",
              "      fill: #1967D2;\n",
              "      height: 32px;\n",
              "      padding: 0 0 0 0;\n",
              "      width: 32px;\n",
              "    }\n",
              "\n",
              "    .colab-df-convert:hover {\n",
              "      background-color: #E2EBFA;\n",
              "      box-shadow: 0px 1px 2px rgba(60, 64, 67, 0.3), 0px 1px 3px 1px rgba(60, 64, 67, 0.15);\n",
              "      fill: #174EA6;\n",
              "    }\n",
              "\n",
              "    [theme=dark] .colab-df-convert {\n",
              "      background-color: #3B4455;\n",
              "      fill: #D2E3FC;\n",
              "    }\n",
              "\n",
              "    [theme=dark] .colab-df-convert:hover {\n",
              "      background-color: #434B5C;\n",
              "      box-shadow: 0px 1px 3px 1px rgba(0, 0, 0, 0.15);\n",
              "      filter: drop-shadow(0px 1px 2px rgba(0, 0, 0, 0.3));\n",
              "      fill: #FFFFFF;\n",
              "    }\n",
              "  </style>\n",
              "\n",
              "      <script>\n",
              "        const buttonEl =\n",
              "          document.querySelector('#df-ee001278-e020-4963-ae64-271ebdf7141b button.colab-df-convert');\n",
              "        buttonEl.style.display =\n",
              "          google.colab.kernel.accessAllowed ? 'block' : 'none';\n",
              "\n",
              "        async function convertToInteractive(key) {\n",
              "          const element = document.querySelector('#df-ee001278-e020-4963-ae64-271ebdf7141b');\n",
              "          const dataTable =\n",
              "            await google.colab.kernel.invokeFunction('convertToInteractive',\n",
              "                                                     [key], {});\n",
              "          if (!dataTable) return;\n",
              "\n",
              "          const docLinkHtml = 'Like what you see? Visit the ' +\n",
              "            '<a target=\"_blank\" href=https://colab.research.google.com/notebooks/data_table.ipynb>data table notebook</a>'\n",
              "            + ' to learn more about interactive tables.';\n",
              "          element.innerHTML = '';\n",
              "          dataTable['output_type'] = 'display_data';\n",
              "          await google.colab.output.renderOutput(dataTable, element);\n",
              "          const docLink = document.createElement('div');\n",
              "          docLink.innerHTML = docLinkHtml;\n",
              "          element.appendChild(docLink);\n",
              "        }\n",
              "      </script>\n",
              "    </div>\n",
              "  </div>\n",
              "  "
            ]
          },
          "metadata": {},
          "execution_count": 82
        }
      ]
    },
    {
      "cell_type": "code",
      "source": [
        "#PLOT one by one to avoid memory overload\n",
        "\n",
        "#plotly_time_plot_rolling(train_sales_cal_df, 'Store')\n",
        "plotly_time_plot_rolling(train_sales_cal_df, 'Store', start_col=4, end_col=7)\n",
        "#plotly_time_plot_rolling(train_sales_cal_df, 'Store', start_col=7, end_col=10)"
      ],
      "metadata": {
        "execution": {
          "iopub.status.busy": "2021-12-29T13:39:59.092262Z",
          "iopub.execute_input": "2021-12-29T13:39:59.092553Z",
          "iopub.status.idle": "2021-12-29T13:39:59.53594Z",
          "shell.execute_reply.started": "2021-12-29T13:39:59.092507Z",
          "shell.execute_reply": "2021-12-29T13:39:59.534751Z"
        },
        "trusted": true,
        "id": "C6v-2j5LmQGq",
        "outputId": "21b8039b-4436-446e-e589-a23884749d93",
        "colab": {
          "base_uri": "https://localhost:8080/",
          "height": 217
        }
      },
      "execution_count": null,
      "outputs": [
        {
          "output_type": "error",
          "ename": "NameError",
          "evalue": "ignored",
          "traceback": [
            "\u001b[0;31m---------------------------------------------------------------------------\u001b[0m",
            "\u001b[0;31mNameError\u001b[0m                                 Traceback (most recent call last)",
            "\u001b[0;32m<ipython-input-83-811070c26724>\u001b[0m in \u001b[0;36m<module>\u001b[0;34m\u001b[0m\n\u001b[1;32m      2\u001b[0m \u001b[0;34m\u001b[0m\u001b[0m\n\u001b[1;32m      3\u001b[0m \u001b[0;31m#plotly_time_plot_rolling(train_sales_cal_df, 'Store')\u001b[0m\u001b[0;34m\u001b[0m\u001b[0;34m\u001b[0m\u001b[0;34m\u001b[0m\u001b[0m\n\u001b[0;32m----> 4\u001b[0;31m \u001b[0mplotly_time_plot_rolling\u001b[0m\u001b[0;34m(\u001b[0m\u001b[0mtrain_sales_cal_df\u001b[0m\u001b[0;34m,\u001b[0m \u001b[0;34m'Store'\u001b[0m\u001b[0;34m,\u001b[0m \u001b[0mstart_col\u001b[0m\u001b[0;34m=\u001b[0m\u001b[0;36m4\u001b[0m\u001b[0;34m,\u001b[0m \u001b[0mend_col\u001b[0m\u001b[0;34m=\u001b[0m\u001b[0;36m7\u001b[0m\u001b[0;34m)\u001b[0m\u001b[0;34m\u001b[0m\u001b[0;34m\u001b[0m\u001b[0m\n\u001b[0m\u001b[1;32m      5\u001b[0m \u001b[0;31m#plotly_time_plot_rolling(train_sales_cal_df, 'Store', start_col=7, end_col=10)\u001b[0m\u001b[0;34m\u001b[0m\u001b[0;34m\u001b[0m\u001b[0;34m\u001b[0m\u001b[0m\n",
            "\u001b[0;31mNameError\u001b[0m: name 'plotly_time_plot_rolling' is not defined"
          ]
        }
      ]
    },
    {
      "cell_type": "markdown",
      "source": [
        "Looking at the above plot with respect to specific stores, it is indicative that:\n",
        "\n",
        "* CA_3 store location has the most items sold\n",
        "* CA_4 store location has the least items old across the timeline\n",
        "* TX_2 has the most items sold across timeline with most items sales peaking around Sep'13\n",
        "* All Texas store locations (TX_1, TX_2, TX_3) experience a boost in sales around Feb_Mar'15 , with a peak around August'15 and then bottom out around Dec'15\n",
        "* Wisconsin Store locations experience a rather unpredictable pattern\n",
        "* Store WI_2 accelerates past the sold of WI_3 in Dec'12 and then continues to maintain the lead\n",
        "* Stores WI_2, WI_1 were underperformers in the beginning but experienced a boost in sales July'12 and November'12 respectively\n",
        "* There appears to be a continuous decline in the performance of sold items for the store location WI_3 that are only relatively improved towards the end"
      ],
      "metadata": {
        "id": "pT5rgIy-mQGr"
      }
    },
    {
      "cell_type": "markdown",
      "source": [
        "### Distribution of Sales Per Specific Days/Weekends?"
      ],
      "metadata": {
        "id": "D6DLdnZEmQGr"
      }
    },
    {
      "cell_type": "code",
      "source": [
        "train_sales_cal_df = train_sales_df.groupby(['cat_id'])[d_cols].sum(axis=1).\\\n",
        "                                                T.merge(calendar_df.set_index('d')['date'], \n",
        "                                                                    left_index=True, right_index=True,\n",
        "                                                                    validate=\"1:1\").set_index('date')"
      ],
      "metadata": {
        "execution": {
          "iopub.status.busy": "2021-12-29T13:39:59.537429Z",
          "iopub.execute_input": "2021-12-29T13:39:59.537819Z",
          "iopub.status.idle": "2021-12-29T13:40:08.468123Z",
          "shell.execute_reply.started": "2021-12-29T13:39:59.53774Z",
          "shell.execute_reply": "2021-12-29T13:40:08.467128Z"
        },
        "trusted": true,
        "id": "DMn0B694mQGs"
      },
      "execution_count": null,
      "outputs": []
    },
    {
      "cell_type": "code",
      "source": [
        "train_sales_cal_df = train_sales_cal_df.reset_index()\n",
        "train_sales_cal_df['date'] = pd.to_datetime(train_sales_cal_df['date'])\n",
        "train_sales_cal_df['month'] = train_sales_cal_df.date.dt.month\n",
        "train_sales_cal_df['day'] = train_sales_cal_df.date.dt.day\n",
        "train_sales_cal_df['year'] = train_sales_cal_df.date.dt.year\n",
        "train_sales_cal_df['weekday'] = train_sales_cal_df.date.dt.weekday\n",
        "train_sales_cal_df['weekday'] = train_sales_cal_df.date.dt.day_name()\n",
        "train_sales_cal_df.head(2)"
      ],
      "metadata": {
        "execution": {
          "iopub.status.busy": "2021-12-29T13:40:08.470153Z",
          "iopub.execute_input": "2021-12-29T13:40:08.470708Z",
          "iopub.status.idle": "2021-12-29T13:40:08.504003Z",
          "shell.execute_reply.started": "2021-12-29T13:40:08.470645Z",
          "shell.execute_reply": "2021-12-29T13:40:08.503224Z"
        },
        "trusted": true,
        "id": "gxqk56iCmQGs"
      },
      "execution_count": null,
      "outputs": []
    },
    {
      "cell_type": "code",
      "source": [
        "df_food = train_sales_cal_df.groupby(['weekday', 'day'])['FOODS'].sum().reset_index(name='sales')\n",
        "df_house = train_sales_cal_df.groupby(['weekday', 'day'])['HOUSEHOLD'].sum().reset_index(name='sales')\n",
        "df_hob = train_sales_cal_df.groupby(['weekday', 'day'])['HOBBIES'].sum().reset_index(name='sales')\n"
      ],
      "metadata": {
        "execution": {
          "iopub.status.busy": "2021-12-29T13:40:08.505397Z",
          "iopub.execute_input": "2021-12-29T13:40:08.505915Z",
          "iopub.status.idle": "2021-12-29T13:40:08.533717Z",
          "shell.execute_reply.started": "2021-12-29T13:40:08.505868Z",
          "shell.execute_reply": "2021-12-29T13:40:08.532886Z"
        },
        "trusted": true,
        "id": "ClPlTT9KmQGt"
      },
      "execution_count": null,
      "outputs": []
    },
    {
      "cell_type": "code",
      "source": [
        "def heatmap_plot_dates(df, title_text):\n",
        "\n",
        "    '''\n",
        "    returns the heatmap based plot for the df with time_series data in it\n",
        "    \n",
        "    inputs : df (dataframe with time based elements, such as weekdays, months etc.)\n",
        "             title_text (text of the plot to be shown)\n",
        "    returns : Heatmaps of Weekdays along number of days of a months\n",
        "    '''\n",
        "    fig = make_subplots(rows=1, cols=1, vertical_spacing = 0.15, \n",
        "                    subplot_titles=title_text,\n",
        "                    shared_yaxes = True\n",
        "                   )\n",
        "    fig.add_trace( go.Heatmap(\n",
        "                   z=[[df.loc[(df['day'] == day) & (df['weekday'] == weekday)]['sales'].sum()\n",
        "                     for day in range(1, 31+1)] for weekday in df.weekday.unique()],\n",
        "                   x=list(df.day.unique()),\n",
        "                   y=list(df.weekday.unique()),\n",
        "                   hoverongaps = False, \n",
        "                   colorbar = dict(title= title_text + '_Sales', \n",
        "                                   thickness=15)), row=1, col=1)\n",
        "    fig.update_layout(title = title_text + '_Sale Distribution', height=2 * 20 + 300, width=1 * 700, showlegend=False)\n",
        "    fig.show()"
      ],
      "metadata": {
        "execution": {
          "iopub.status.busy": "2021-12-29T13:40:08.535148Z",
          "iopub.execute_input": "2021-12-29T13:40:08.535648Z",
          "iopub.status.idle": "2021-12-29T13:40:08.547221Z",
          "shell.execute_reply.started": "2021-12-29T13:40:08.535588Z",
          "shell.execute_reply": "2021-12-29T13:40:08.546061Z"
        },
        "trusted": true,
        "id": "P1GoYf_dmQGt"
      },
      "execution_count": null,
      "outputs": []
    },
    {
      "cell_type": "code",
      "source": [
        "heatmap_plot_dates(df_food, 'FOODS')\n",
        "heatmap_plot_dates(df_hob, 'HOBBIES')\n",
        "heatmap_plot_dates(df_house, 'HOUSEHOLD')"
      ],
      "metadata": {
        "execution": {
          "iopub.status.busy": "2021-12-29T13:40:08.549165Z",
          "iopub.execute_input": "2021-12-29T13:40:08.549519Z",
          "iopub.status.idle": "2021-12-29T13:40:10.520149Z",
          "shell.execute_reply.started": "2021-12-29T13:40:08.549444Z",
          "shell.execute_reply": "2021-12-29T13:40:10.519175Z"
        },
        "trusted": true,
        "id": "8zxy0P9gmQGu"
      },
      "execution_count": null,
      "outputs": []
    },
    {
      "cell_type": "markdown",
      "source": [
        "## *Time Series Forecasting*\n",
        "\n",
        "In time series forecasting, it is imperitive that the time series is stationary. A series is said to be stationary if its mean and variance remain constant over time. A time series forecasting requires that series be stationary so that any particular forecast will be more accurate if the current particular behavior over time is known. Should it be non-constant, there is high probability that the predictions made at one time would NOT be represented in series over some other time interval. \n",
        "\n",
        "Time series forecasting requires very specific criterion i.e.\n",
        "\n",
        "1. Constant Mean\n",
        "2. Constant Variance\n",
        "3. an auto-correlation that does not depend on time"
      ],
      "metadata": {
        "id": "9Lre54UWmQGv"
      }
    },
    {
      "cell_type": "markdown",
      "source": [
        "#### Stationary Time Series\n",
        "\n",
        "Before we could make the time series stationary, we are going to need some form of a method where we could confirm that the time series extracted is indeed stationary. There are a few statistics test as well as we can plot the time series mean and variance as a function of time to observe that the series is indeed stationary. \n",
        "\n",
        "One of the time series stationary test is called the Dickey-Fuller Test. This test provides us with a test statistic as well as confidence intervals for the critical values. The objective is to determine whether the test statistic is less than the critical value, if it is we can **reject** the null hypothesis. The assumption of null and alternative hypotheses in this test is as follows:\n",
        "\n",
        "* Null Hypothesis: The time series has some time component, and has a unit root suggesting a highly dependent time orientation indicating the presence of non-stationarity.\n",
        "* Alternative Hypothesis: The time series does not have a unit root, indicating that it does NOT have a time dependent structure and consequently the time series is stationary."
      ],
      "metadata": {
        "id": "SDOiGIdKmQGx"
      }
    },
    {
      "cell_type": "code",
      "source": [
        "train_sales_cal_df = train_sales_df.set_index('id')[d_cols].T.merge(calendar_df.set_index('d')['date'], \n",
        "                                                                    left_index=True, right_index=True,\n",
        "                                                                    validate=\"1:1\")\n",
        "train_sales_cal_df['avg_sales'] = train_sales_cal_df.mean(axis=1)\n"
      ],
      "metadata": {
        "execution": {
          "iopub.status.busy": "2021-12-29T13:40:10.521553Z",
          "iopub.execute_input": "2021-12-29T13:40:10.521836Z",
          "iopub.status.idle": "2021-12-29T13:40:25.35282Z",
          "shell.execute_reply.started": "2021-12-29T13:40:10.521792Z",
          "shell.execute_reply": "2021-12-29T13:40:25.351413Z"
        },
        "trusted": true,
        "id": "lGmyu_ztmQGy",
        "outputId": "9a894b1d-4060-402c-b6c8-1337955b0c09",
        "colab": {
          "base_uri": "https://localhost:8080/"
        }
      },
      "execution_count": null,
      "outputs": [
        {
          "output_type": "stream",
          "name": "stderr",
          "text": [
            "/usr/local/lib/python3.7/dist-packages/ipykernel_launcher.py:4: FutureWarning:\n",
            "\n",
            "Dropping of nuisance columns in DataFrame reductions (with 'numeric_only=None') is deprecated; in a future version this will raise TypeError.  Select only valid columns before calling the reduction.\n",
            "\n"
          ]
        }
      ]
    },
    {
      "cell_type": "code",
      "source": [
        "##train_sales_cal_df = train_sales_cal_df[['total_sales']]\n",
        "##train_sales_cal_df = train_sales_cal_df.reset_index()\n",
        "##train_sales_cal_df = train_sales_cal_df.set_index('date')\n",
        "\n",
        "train_sales_cal_df = train_sales_cal_df.reset_index()\n",
        "train_sales_cal_df.rename(columns={'index': 'daysnum'}, inplace=True)\n",
        "train_sales_cal_df = train_sales_cal_df.set_index('date').asfreq('d')\n",
        "train_sales_cal_df.head(2)"
      ],
      "metadata": {
        "execution": {
          "iopub.status.busy": "2021-12-29T13:40:25.354154Z",
          "iopub.status.idle": "2021-12-29T13:40:25.354792Z"
        },
        "trusted": true,
        "id": "A0zS0xIfmQGz",
        "outputId": "57a1773b-d78d-4c00-d42d-e9dbe25a7f2b",
        "colab": {
          "base_uri": "https://localhost:8080/",
          "height": 306
        }
      },
      "execution_count": null,
      "outputs": [
        {
          "output_type": "execute_result",
          "data": {
            "text/plain": [
              "           daysnum  HOBBIES_1_001_CA_1_validation  \\\n",
              "date                                                \n",
              "2011-01-29     NaN                            NaN   \n",
              "2011-01-30     NaN                            NaN   \n",
              "\n",
              "            HOBBIES_1_002_CA_1_validation  HOBBIES_1_003_CA_1_validation  \\\n",
              "date                                                                       \n",
              "2011-01-29                            NaN                            NaN   \n",
              "2011-01-30                            NaN                            NaN   \n",
              "\n",
              "            HOBBIES_1_004_CA_1_validation  HOBBIES_1_005_CA_1_validation  \\\n",
              "date                                                                       \n",
              "2011-01-29                            NaN                            NaN   \n",
              "2011-01-30                            NaN                            NaN   \n",
              "\n",
              "            HOBBIES_1_006_CA_1_validation  HOBBIES_1_007_CA_1_validation  \\\n",
              "date                                                                       \n",
              "2011-01-29                            NaN                            NaN   \n",
              "2011-01-30                            NaN                            NaN   \n",
              "\n",
              "            HOBBIES_1_008_CA_1_validation  HOBBIES_1_009_CA_1_validation  ...  \\\n",
              "date                                                                      ...   \n",
              "2011-01-29                            NaN                            NaN  ...   \n",
              "2011-01-30                            NaN                            NaN  ...   \n",
              "\n",
              "            FOODS_3_819_WI_3_validation  FOODS_3_820_WI_3_validation  \\\n",
              "date                                                                   \n",
              "2011-01-29                          NaN                          NaN   \n",
              "2011-01-30                          NaN                          NaN   \n",
              "\n",
              "            FOODS_3_821_WI_3_validation  FOODS_3_822_WI_3_validation  \\\n",
              "date                                                                   \n",
              "2011-01-29                          NaN                          NaN   \n",
              "2011-01-30                          NaN                          NaN   \n",
              "\n",
              "            FOODS_3_823_WI_3_validation  FOODS_3_824_WI_3_validation  \\\n",
              "date                                                                   \n",
              "2011-01-29                          NaN                          NaN   \n",
              "2011-01-30                          NaN                          NaN   \n",
              "\n",
              "            FOODS_3_825_WI_3_validation  FOODS_3_826_WI_3_validation  \\\n",
              "date                                                                   \n",
              "2011-01-29                          NaN                          NaN   \n",
              "2011-01-30                          NaN                          NaN   \n",
              "\n",
              "            FOODS_3_827_WI_3_validation  avg_sales  \n",
              "date                                                \n",
              "2011-01-29                          NaN        NaN  \n",
              "2011-01-30                          NaN        NaN  \n",
              "\n",
              "[2 rows x 30492 columns]"
            ],
            "text/html": [
              "\n",
              "  <div id=\"df-52c21db2-dc2d-4e8b-a057-a9d6491a2436\">\n",
              "    <div class=\"colab-df-container\">\n",
              "      <div>\n",
              "<style scoped>\n",
              "    .dataframe tbody tr th:only-of-type {\n",
              "        vertical-align: middle;\n",
              "    }\n",
              "\n",
              "    .dataframe tbody tr th {\n",
              "        vertical-align: top;\n",
              "    }\n",
              "\n",
              "    .dataframe thead th {\n",
              "        text-align: right;\n",
              "    }\n",
              "</style>\n",
              "<table border=\"1\" class=\"dataframe\">\n",
              "  <thead>\n",
              "    <tr style=\"text-align: right;\">\n",
              "      <th></th>\n",
              "      <th>daysnum</th>\n",
              "      <th>HOBBIES_1_001_CA_1_validation</th>\n",
              "      <th>HOBBIES_1_002_CA_1_validation</th>\n",
              "      <th>HOBBIES_1_003_CA_1_validation</th>\n",
              "      <th>HOBBIES_1_004_CA_1_validation</th>\n",
              "      <th>HOBBIES_1_005_CA_1_validation</th>\n",
              "      <th>HOBBIES_1_006_CA_1_validation</th>\n",
              "      <th>HOBBIES_1_007_CA_1_validation</th>\n",
              "      <th>HOBBIES_1_008_CA_1_validation</th>\n",
              "      <th>HOBBIES_1_009_CA_1_validation</th>\n",
              "      <th>...</th>\n",
              "      <th>FOODS_3_819_WI_3_validation</th>\n",
              "      <th>FOODS_3_820_WI_3_validation</th>\n",
              "      <th>FOODS_3_821_WI_3_validation</th>\n",
              "      <th>FOODS_3_822_WI_3_validation</th>\n",
              "      <th>FOODS_3_823_WI_3_validation</th>\n",
              "      <th>FOODS_3_824_WI_3_validation</th>\n",
              "      <th>FOODS_3_825_WI_3_validation</th>\n",
              "      <th>FOODS_3_826_WI_3_validation</th>\n",
              "      <th>FOODS_3_827_WI_3_validation</th>\n",
              "      <th>avg_sales</th>\n",
              "    </tr>\n",
              "    <tr>\n",
              "      <th>date</th>\n",
              "      <th></th>\n",
              "      <th></th>\n",
              "      <th></th>\n",
              "      <th></th>\n",
              "      <th></th>\n",
              "      <th></th>\n",
              "      <th></th>\n",
              "      <th></th>\n",
              "      <th></th>\n",
              "      <th></th>\n",
              "      <th></th>\n",
              "      <th></th>\n",
              "      <th></th>\n",
              "      <th></th>\n",
              "      <th></th>\n",
              "      <th></th>\n",
              "      <th></th>\n",
              "      <th></th>\n",
              "      <th></th>\n",
              "      <th></th>\n",
              "      <th></th>\n",
              "    </tr>\n",
              "  </thead>\n",
              "  <tbody>\n",
              "    <tr>\n",
              "      <th>2011-01-29</th>\n",
              "      <td>NaN</td>\n",
              "      <td>NaN</td>\n",
              "      <td>NaN</td>\n",
              "      <td>NaN</td>\n",
              "      <td>NaN</td>\n",
              "      <td>NaN</td>\n",
              "      <td>NaN</td>\n",
              "      <td>NaN</td>\n",
              "      <td>NaN</td>\n",
              "      <td>NaN</td>\n",
              "      <td>...</td>\n",
              "      <td>NaN</td>\n",
              "      <td>NaN</td>\n",
              "      <td>NaN</td>\n",
              "      <td>NaN</td>\n",
              "      <td>NaN</td>\n",
              "      <td>NaN</td>\n",
              "      <td>NaN</td>\n",
              "      <td>NaN</td>\n",
              "      <td>NaN</td>\n",
              "      <td>NaN</td>\n",
              "    </tr>\n",
              "    <tr>\n",
              "      <th>2011-01-30</th>\n",
              "      <td>NaN</td>\n",
              "      <td>NaN</td>\n",
              "      <td>NaN</td>\n",
              "      <td>NaN</td>\n",
              "      <td>NaN</td>\n",
              "      <td>NaN</td>\n",
              "      <td>NaN</td>\n",
              "      <td>NaN</td>\n",
              "      <td>NaN</td>\n",
              "      <td>NaN</td>\n",
              "      <td>...</td>\n",
              "      <td>NaN</td>\n",
              "      <td>NaN</td>\n",
              "      <td>NaN</td>\n",
              "      <td>NaN</td>\n",
              "      <td>NaN</td>\n",
              "      <td>NaN</td>\n",
              "      <td>NaN</td>\n",
              "      <td>NaN</td>\n",
              "      <td>NaN</td>\n",
              "      <td>NaN</td>\n",
              "    </tr>\n",
              "  </tbody>\n",
              "</table>\n",
              "<p>2 rows × 30492 columns</p>\n",
              "</div>\n",
              "      <button class=\"colab-df-convert\" onclick=\"convertToInteractive('df-52c21db2-dc2d-4e8b-a057-a9d6491a2436')\"\n",
              "              title=\"Convert this dataframe to an interactive table.\"\n",
              "              style=\"display:none;\">\n",
              "        \n",
              "  <svg xmlns=\"http://www.w3.org/2000/svg\" height=\"24px\"viewBox=\"0 0 24 24\"\n",
              "       width=\"24px\">\n",
              "    <path d=\"M0 0h24v24H0V0z\" fill=\"none\"/>\n",
              "    <path d=\"M18.56 5.44l.94 2.06.94-2.06 2.06-.94-2.06-.94-.94-2.06-.94 2.06-2.06.94zm-11 1L8.5 8.5l.94-2.06 2.06-.94-2.06-.94L8.5 2.5l-.94 2.06-2.06.94zm10 10l.94 2.06.94-2.06 2.06-.94-2.06-.94-.94-2.06-.94 2.06-2.06.94z\"/><path d=\"M17.41 7.96l-1.37-1.37c-.4-.4-.92-.59-1.43-.59-.52 0-1.04.2-1.43.59L10.3 9.45l-7.72 7.72c-.78.78-.78 2.05 0 2.83L4 21.41c.39.39.9.59 1.41.59.51 0 1.02-.2 1.41-.59l7.78-7.78 2.81-2.81c.8-.78.8-2.07 0-2.86zM5.41 20L4 18.59l7.72-7.72 1.47 1.35L5.41 20z\"/>\n",
              "  </svg>\n",
              "      </button>\n",
              "      \n",
              "  <style>\n",
              "    .colab-df-container {\n",
              "      display:flex;\n",
              "      flex-wrap:wrap;\n",
              "      gap: 12px;\n",
              "    }\n",
              "\n",
              "    .colab-df-convert {\n",
              "      background-color: #E8F0FE;\n",
              "      border: none;\n",
              "      border-radius: 50%;\n",
              "      cursor: pointer;\n",
              "      display: none;\n",
              "      fill: #1967D2;\n",
              "      height: 32px;\n",
              "      padding: 0 0 0 0;\n",
              "      width: 32px;\n",
              "    }\n",
              "\n",
              "    .colab-df-convert:hover {\n",
              "      background-color: #E2EBFA;\n",
              "      box-shadow: 0px 1px 2px rgba(60, 64, 67, 0.3), 0px 1px 3px 1px rgba(60, 64, 67, 0.15);\n",
              "      fill: #174EA6;\n",
              "    }\n",
              "\n",
              "    [theme=dark] .colab-df-convert {\n",
              "      background-color: #3B4455;\n",
              "      fill: #D2E3FC;\n",
              "    }\n",
              "\n",
              "    [theme=dark] .colab-df-convert:hover {\n",
              "      background-color: #434B5C;\n",
              "      box-shadow: 0px 1px 3px 1px rgba(0, 0, 0, 0.15);\n",
              "      filter: drop-shadow(0px 1px 2px rgba(0, 0, 0, 0.3));\n",
              "      fill: #FFFFFF;\n",
              "    }\n",
              "  </style>\n",
              "\n",
              "      <script>\n",
              "        const buttonEl =\n",
              "          document.querySelector('#df-52c21db2-dc2d-4e8b-a057-a9d6491a2436 button.colab-df-convert');\n",
              "        buttonEl.style.display =\n",
              "          google.colab.kernel.accessAllowed ? 'block' : 'none';\n",
              "\n",
              "        async function convertToInteractive(key) {\n",
              "          const element = document.querySelector('#df-52c21db2-dc2d-4e8b-a057-a9d6491a2436');\n",
              "          const dataTable =\n",
              "            await google.colab.kernel.invokeFunction('convertToInteractive',\n",
              "                                                     [key], {});\n",
              "          if (!dataTable) return;\n",
              "\n",
              "          const docLinkHtml = 'Like what you see? Visit the ' +\n",
              "            '<a target=\"_blank\" href=https://colab.research.google.com/notebooks/data_table.ipynb>data table notebook</a>'\n",
              "            + ' to learn more about interactive tables.';\n",
              "          element.innerHTML = '';\n",
              "          dataTable['output_type'] = 'display_data';\n",
              "          await google.colab.output.renderOutput(dataTable, element);\n",
              "          const docLink = document.createElement('div');\n",
              "          docLink.innerHTML = docLinkHtml;\n",
              "          element.appendChild(docLink);\n",
              "        }\n",
              "      </script>\n",
              "    </div>\n",
              "  </div>\n",
              "  "
            ]
          },
          "metadata": {},
          "execution_count": 85
        }
      ]
    },
    {
      "cell_type": "code",
      "source": [
        "train_sales_cal_df.index = pd.to_datetime(train_sales_cal_df.index)\n",
        "type(train_sales_cal_df.index)"
      ],
      "metadata": {
        "execution": {
          "iopub.status.busy": "2021-12-29T13:40:25.356053Z",
          "iopub.status.idle": "2021-12-29T13:40:25.356498Z"
        },
        "trusted": true,
        "id": "TGOhvS6xmQGz",
        "outputId": "e8c398bc-39b2-402f-dacd-6228d9774bc1",
        "colab": {
          "base_uri": "https://localhost:8080/"
        }
      },
      "execution_count": null,
      "outputs": [
        {
          "output_type": "execute_result",
          "data": {
            "text/plain": [
              "pandas.core.indexes.datetimes.DatetimeIndex"
            ]
          },
          "metadata": {},
          "execution_count": 86
        }
      ]
    },
    {
      "cell_type": "code",
      "source": [
        "def time_series_stationary_test(df):\n",
        "    \n",
        "    '''\n",
        "    returns time_series plots along with rolling mean plot, standard_dev calculated plot\n",
        "    and results of the Dickey_Fuller Test performed on time_series df\n",
        "    \n",
        "    inputs: df (time_series based df)\n",
        "    \n",
        "    returns : time_series plot, rolling_mean plot, std_plot and Dickey_Fuller Test Statistics\n",
        "              performed on time_series\n",
        "    '''\n",
        "    #df_filter = df.loc[df['id'] == series_ids][d_cols]\n",
        "    #df_filter = df.loc[df['id'] == series_ids]['sold']\n",
        "    #df_filter = pd.Series(df_filter.values.flatten())\n",
        "    \n",
        "    sns.set_style(\"whitegrid\")\n",
        "    fig, ax1 = plt.subplots(1, 1, figsize=(15, 5))\n",
        "    \n",
        "    rolling_mean = df.rolling(window=7).mean()\n",
        "    rolling_std =  df.rolling(window=7).std()\n",
        "    \n",
        "    #plotting the points\n",
        "    original_series = df.plot(figsize=(15, 5), alpha=1, \n",
        "                        lw=1.2, color=next(color_cycle), label='original_series', ax=ax1)\n",
        "    mean_series = rolling_mean.plot(figsize=(15, 5), alpha=1, \n",
        "                        lw=1.2, marker = 'o', color=next(color_cycle), label='rolling_mean', ax=ax1)\n",
        "    std_series = rolling_std.plot(figsize=(15, 5), alpha=1, \n",
        "                        lw=1.2, marker = '*' , color=next(color_cycle), label='rolling_std', ax=ax1)\n",
        "    \n",
        "    ax1.legend(['Original_Series', 'Mean_Series', \"Std_Series\"])\n",
        "    plt.show()\n",
        "    \n",
        "    #Performing a Dickey-Fuller Test\n",
        "    print(\"\\n============++++==========\\n\")\n",
        "    print(\"Results of the Dickey_Fuller Test\")\n",
        "    result = adfuller(df, autolag='AIC')\n",
        "    print('ADF Statistic: %f' % result[0])\n",
        "    print('No of lags: %f' %result[2])\n",
        "    print('No of Obs used for ADF Calculation & Critical Values: %f' %result[3])\n",
        "    print('p-value: %f' % result[1])\n",
        "    print('Critical Values:')\n",
        "    for key, value in result[4].items():\n",
        "        print('\\t%s: %.3f' % (key, value))\n",
        "    #output = pd.Series(result[0:4], index=['ADF Statistic','p-value','#Lags Used','Number of Observations Used'])\n",
        "    #for key,value in result[4].items():\n",
        "    #    output['Critical Value (%s)'%key] = value\n",
        "    #print (output)"
      ],
      "metadata": {
        "execution": {
          "iopub.status.busy": "2021-12-29T13:40:25.357717Z",
          "iopub.status.idle": "2021-12-29T13:40:25.358127Z"
        },
        "trusted": true,
        "id": "Yq0PuXtkmQGz"
      },
      "execution_count": null,
      "outputs": []
    },
    {
      "cell_type": "code",
      "source": [
        "time_series_stationary_test(train_sales_cal_df[['avg_sales']])"
      ],
      "metadata": {
        "execution": {
          "iopub.status.busy": "2021-12-29T13:40:25.35911Z",
          "iopub.status.idle": "2021-12-29T13:40:25.359503Z"
        },
        "trusted": true,
        "id": "Ome6VUzjmQG0",
        "outputId": "055b3b43-6bed-4964-abd5-bc8ddbe67703",
        "colab": {
          "base_uri": "https://localhost:8080/",
          "height": 697
        }
      },
      "execution_count": null,
      "outputs": [
        {
          "output_type": "display_data",
          "data": {
            "text/plain": [
              "<Figure size 1080x360 with 1 Axes>"
            ],
            "image/png": "[encoded data removed]"
          },
          "metadata": {}
        },
        {
          "output_type": "stream",
          "name": "stdout",
          "text": [
            "\n",
            "============++++==========\n",
            "\n",
            "Results of the Dickey_Fuller Test\n"
          ]
        },
        {
          "output_type": "error",
          "ename": "MissingDataError",
          "evalue": "ignored",
          "traceback": [
            "\u001b[0;31m---------------------------------------------------------------------------\u001b[0m",
            "\u001b[0;31mMissingDataError\u001b[0m                          Traceback (most recent call last)",
            "\u001b[0;32m<ipython-input-88-019a08028101>\u001b[0m in \u001b[0;36m<module>\u001b[0;34m\u001b[0m\n\u001b[0;32m----> 1\u001b[0;31m \u001b[0mtime_series_stationary_test\u001b[0m\u001b[0;34m(\u001b[0m\u001b[0mtrain_sales_cal_df\u001b[0m\u001b[0;34m[\u001b[0m\u001b[0;34m[\u001b[0m\u001b[0;34m'avg_sales'\u001b[0m\u001b[0;34m]\u001b[0m\u001b[0;34m]\u001b[0m\u001b[0;34m)\u001b[0m\u001b[0;34m\u001b[0m\u001b[0;34m\u001b[0m\u001b[0m\n\u001b[0m",
            "\u001b[0;32m<ipython-input-87-1880df00bfc5>\u001b[0m in \u001b[0;36mtime_series_stationary_test\u001b[0;34m(df)\u001b[0m\n\u001b[1;32m     34\u001b[0m     \u001b[0mprint\u001b[0m\u001b[0;34m(\u001b[0m\u001b[0;34m\"\\n============++++==========\\n\"\u001b[0m\u001b[0;34m)\u001b[0m\u001b[0;34m\u001b[0m\u001b[0;34m\u001b[0m\u001b[0m\n\u001b[1;32m     35\u001b[0m     \u001b[0mprint\u001b[0m\u001b[0;34m(\u001b[0m\u001b[0;34m\"Results of the Dickey_Fuller Test\"\u001b[0m\u001b[0;34m)\u001b[0m\u001b[0;34m\u001b[0m\u001b[0;34m\u001b[0m\u001b[0m\n\u001b[0;32m---> 36\u001b[0;31m     \u001b[0mresult\u001b[0m \u001b[0;34m=\u001b[0m \u001b[0madfuller\u001b[0m\u001b[0;34m(\u001b[0m\u001b[0mdf\u001b[0m\u001b[0;34m,\u001b[0m \u001b[0mautolag\u001b[0m\u001b[0;34m=\u001b[0m\u001b[0;34m'AIC'\u001b[0m\u001b[0;34m)\u001b[0m\u001b[0;34m\u001b[0m\u001b[0;34m\u001b[0m\u001b[0m\n\u001b[0m\u001b[1;32m     37\u001b[0m     \u001b[0mprint\u001b[0m\u001b[0;34m(\u001b[0m\u001b[0;34m'ADF Statistic: %f'\u001b[0m \u001b[0;34m%\u001b[0m \u001b[0mresult\u001b[0m\u001b[0;34m[\u001b[0m\u001b[0;36m0\u001b[0m\u001b[0;34m]\u001b[0m\u001b[0;34m)\u001b[0m\u001b[0;34m\u001b[0m\u001b[0;34m\u001b[0m\u001b[0m\n\u001b[1;32m     38\u001b[0m     \u001b[0mprint\u001b[0m\u001b[0;34m(\u001b[0m\u001b[0;34m'No of lags: %f'\u001b[0m \u001b[0;34m%\u001b[0m\u001b[0mresult\u001b[0m\u001b[0;34m[\u001b[0m\u001b[0;36m2\u001b[0m\u001b[0;34m]\u001b[0m\u001b[0;34m)\u001b[0m\u001b[0;34m\u001b[0m\u001b[0;34m\u001b[0m\u001b[0m\n",
            "\u001b[0;32m/usr/local/lib/python3.7/dist-packages/statsmodels/tsa/stattools.py\u001b[0m in \u001b[0;36madfuller\u001b[0;34m(x, maxlag, regression, autolag, store, regresults)\u001b[0m\n\u001b[1;32m    313\u001b[0m         \u001b[0;32mif\u001b[0m \u001b[0;32mnot\u001b[0m \u001b[0mregresults\u001b[0m\u001b[0;34m:\u001b[0m\u001b[0;34m\u001b[0m\u001b[0;34m\u001b[0m\u001b[0m\n\u001b[1;32m    314\u001b[0m             icbest, bestlag = _autolag(\n\u001b[0;32m--> 315\u001b[0;31m                 \u001b[0mOLS\u001b[0m\u001b[0;34m,\u001b[0m \u001b[0mxdshort\u001b[0m\u001b[0;34m,\u001b[0m \u001b[0mfullRHS\u001b[0m\u001b[0;34m,\u001b[0m \u001b[0mstartlag\u001b[0m\u001b[0;34m,\u001b[0m \u001b[0mmaxlag\u001b[0m\u001b[0;34m,\u001b[0m \u001b[0mautolag\u001b[0m\u001b[0;34m\u001b[0m\u001b[0;34m\u001b[0m\u001b[0m\n\u001b[0m\u001b[1;32m    316\u001b[0m             )\n\u001b[1;32m    317\u001b[0m         \u001b[0;32melse\u001b[0m\u001b[0;34m:\u001b[0m\u001b[0;34m\u001b[0m\u001b[0;34m\u001b[0m\u001b[0m\n",
            "\u001b[0;32m/usr/local/lib/python3.7/dist-packages/statsmodels/tsa/stattools.py\u001b[0m in \u001b[0;36m_autolag\u001b[0;34m(mod, endog, exog, startlag, maxlag, method, modargs, fitargs, regresults)\u001b[0m\n\u001b[1;32m    122\u001b[0m     \u001b[0mmethod\u001b[0m \u001b[0;34m=\u001b[0m \u001b[0mmethod\u001b[0m\u001b[0;34m.\u001b[0m\u001b[0mlower\u001b[0m\u001b[0;34m(\u001b[0m\u001b[0;34m)\u001b[0m\u001b[0;34m\u001b[0m\u001b[0;34m\u001b[0m\u001b[0m\n\u001b[1;32m    123\u001b[0m     \u001b[0;32mfor\u001b[0m \u001b[0mlag\u001b[0m \u001b[0;32min\u001b[0m \u001b[0mrange\u001b[0m\u001b[0;34m(\u001b[0m\u001b[0mstartlag\u001b[0m\u001b[0;34m,\u001b[0m \u001b[0mstartlag\u001b[0m \u001b[0;34m+\u001b[0m \u001b[0mmaxlag\u001b[0m \u001b[0;34m+\u001b[0m \u001b[0;36m1\u001b[0m\u001b[0;34m)\u001b[0m\u001b[0;34m:\u001b[0m\u001b[0;34m\u001b[0m\u001b[0;34m\u001b[0m\u001b[0m\n\u001b[0;32m--> 124\u001b[0;31m         \u001b[0mmod_instance\u001b[0m \u001b[0;34m=\u001b[0m \u001b[0mmod\u001b[0m\u001b[0;34m(\u001b[0m\u001b[0mendog\u001b[0m\u001b[0;34m,\u001b[0m \u001b[0mexog\u001b[0m\u001b[0;34m[\u001b[0m\u001b[0;34m:\u001b[0m\u001b[0;34m,\u001b[0m \u001b[0;34m:\u001b[0m\u001b[0mlag\u001b[0m\u001b[0;34m]\u001b[0m\u001b[0;34m,\u001b[0m \u001b[0;34m*\u001b[0m\u001b[0mmodargs\u001b[0m\u001b[0;34m)\u001b[0m\u001b[0;34m\u001b[0m\u001b[0;34m\u001b[0m\u001b[0m\n\u001b[0m\u001b[1;32m    125\u001b[0m         \u001b[0mresults\u001b[0m\u001b[0;34m[\u001b[0m\u001b[0mlag\u001b[0m\u001b[0;34m]\u001b[0m \u001b[0;34m=\u001b[0m \u001b[0mmod_instance\u001b[0m\u001b[0;34m.\u001b[0m\u001b[0mfit\u001b[0m\u001b[0;34m(\u001b[0m\u001b[0;34m)\u001b[0m\u001b[0;34m\u001b[0m\u001b[0;34m\u001b[0m\u001b[0m\n\u001b[1;32m    126\u001b[0m \u001b[0;34m\u001b[0m\u001b[0m\n",
            "\u001b[0;32m/usr/local/lib/python3.7/dist-packages/statsmodels/regression/linear_model.py\u001b[0m in \u001b[0;36m__init__\u001b[0;34m(self, endog, exog, missing, hasconst, **kwargs)\u001b[0m\n\u001b[1;32m    871\u001b[0m                  **kwargs):\n\u001b[1;32m    872\u001b[0m         super(OLS, self).__init__(endog, exog, missing=missing,\n\u001b[0;32m--> 873\u001b[0;31m                                   hasconst=hasconst, **kwargs)\n\u001b[0m\u001b[1;32m    874\u001b[0m         \u001b[0;32mif\u001b[0m \u001b[0;34m\"weights\"\u001b[0m \u001b[0;32min\u001b[0m \u001b[0mself\u001b[0m\u001b[0;34m.\u001b[0m\u001b[0m_init_keys\u001b[0m\u001b[0;34m:\u001b[0m\u001b[0;34m\u001b[0m\u001b[0;34m\u001b[0m\u001b[0m\n\u001b[1;32m    875\u001b[0m             \u001b[0mself\u001b[0m\u001b[0;34m.\u001b[0m\u001b[0m_init_keys\u001b[0m\u001b[0;34m.\u001b[0m\u001b[0mremove\u001b[0m\u001b[0;34m(\u001b[0m\u001b[0;34m\"weights\"\u001b[0m\u001b[0;34m)\u001b[0m\u001b[0;34m\u001b[0m\u001b[0;34m\u001b[0m\u001b[0m\n",
            "\u001b[0;32m/usr/local/lib/python3.7/dist-packages/statsmodels/regression/linear_model.py\u001b[0m in \u001b[0;36m__init__\u001b[0;34m(self, endog, exog, weights, missing, hasconst, **kwargs)\u001b[0m\n\u001b[1;32m    702\u001b[0m             \u001b[0mweights\u001b[0m \u001b[0;34m=\u001b[0m \u001b[0mweights\u001b[0m\u001b[0;34m.\u001b[0m\u001b[0msqueeze\u001b[0m\u001b[0;34m(\u001b[0m\u001b[0;34m)\u001b[0m\u001b[0;34m\u001b[0m\u001b[0;34m\u001b[0m\u001b[0m\n\u001b[1;32m    703\u001b[0m         super(WLS, self).__init__(endog, exog, missing=missing,\n\u001b[0;32m--> 704\u001b[0;31m                                   weights=weights, hasconst=hasconst, **kwargs)\n\u001b[0m\u001b[1;32m    705\u001b[0m         \u001b[0mnobs\u001b[0m \u001b[0;34m=\u001b[0m \u001b[0mself\u001b[0m\u001b[0;34m.\u001b[0m\u001b[0mexog\u001b[0m\u001b[0;34m.\u001b[0m\u001b[0mshape\u001b[0m\u001b[0;34m[\u001b[0m\u001b[0;36m0\u001b[0m\u001b[0;34m]\u001b[0m\u001b[0;34m\u001b[0m\u001b[0;34m\u001b[0m\u001b[0m\n\u001b[1;32m    706\u001b[0m         \u001b[0mweights\u001b[0m \u001b[0;34m=\u001b[0m \u001b[0mself\u001b[0m\u001b[0;34m.\u001b[0m\u001b[0mweights\u001b[0m\u001b[0;34m\u001b[0m\u001b[0;34m\u001b[0m\u001b[0m\n",
            "\u001b[0;32m/usr/local/lib/python3.7/dist-packages/statsmodels/regression/linear_model.py\u001b[0m in \u001b[0;36m__init__\u001b[0;34m(self, endog, exog, **kwargs)\u001b[0m\n\u001b[1;32m    188\u001b[0m     \"\"\"\n\u001b[1;32m    189\u001b[0m     \u001b[0;32mdef\u001b[0m \u001b[0m__init__\u001b[0m\u001b[0;34m(\u001b[0m\u001b[0mself\u001b[0m\u001b[0;34m,\u001b[0m \u001b[0mendog\u001b[0m\u001b[0;34m,\u001b[0m \u001b[0mexog\u001b[0m\u001b[0;34m,\u001b[0m \u001b[0;34m**\u001b[0m\u001b[0mkwargs\u001b[0m\u001b[0;34m)\u001b[0m\u001b[0;34m:\u001b[0m\u001b[0;34m\u001b[0m\u001b[0;34m\u001b[0m\u001b[0m\n\u001b[0;32m--> 190\u001b[0;31m         \u001b[0msuper\u001b[0m\u001b[0;34m(\u001b[0m\u001b[0mRegressionModel\u001b[0m\u001b[0;34m,\u001b[0m \u001b[0mself\u001b[0m\u001b[0;34m)\u001b[0m\u001b[0;34m.\u001b[0m\u001b[0m__init__\u001b[0m\u001b[0;34m(\u001b[0m\u001b[0mendog\u001b[0m\u001b[0;34m,\u001b[0m \u001b[0mexog\u001b[0m\u001b[0;34m,\u001b[0m \u001b[0;34m**\u001b[0m\u001b[0mkwargs\u001b[0m\u001b[0;34m)\u001b[0m\u001b[0;34m\u001b[0m\u001b[0;34m\u001b[0m\u001b[0m\n\u001b[0m\u001b[1;32m    191\u001b[0m         \u001b[0mself\u001b[0m\u001b[0;34m.\u001b[0m\u001b[0m_data_attr\u001b[0m\u001b[0;34m.\u001b[0m\u001b[0mextend\u001b[0m\u001b[0;34m(\u001b[0m\u001b[0;34m[\u001b[0m\u001b[0;34m'pinv_wexog'\u001b[0m\u001b[0;34m,\u001b[0m \u001b[0;34m'weights'\u001b[0m\u001b[0;34m]\u001b[0m\u001b[0;34m)\u001b[0m\u001b[0;34m\u001b[0m\u001b[0;34m\u001b[0m\u001b[0m\n\u001b[1;32m    192\u001b[0m \u001b[0;34m\u001b[0m\u001b[0m\n",
            "\u001b[0;32m/usr/local/lib/python3.7/dist-packages/statsmodels/base/model.py\u001b[0m in \u001b[0;36m__init__\u001b[0;34m(self, endog, exog, **kwargs)\u001b[0m\n\u001b[1;32m    235\u001b[0m \u001b[0;34m\u001b[0m\u001b[0m\n\u001b[1;32m    236\u001b[0m     \u001b[0;32mdef\u001b[0m \u001b[0m__init__\u001b[0m\u001b[0;34m(\u001b[0m\u001b[0mself\u001b[0m\u001b[0;34m,\u001b[0m \u001b[0mendog\u001b[0m\u001b[0;34m,\u001b[0m \u001b[0mexog\u001b[0m\u001b[0;34m=\u001b[0m\u001b[0;32mNone\u001b[0m\u001b[0;34m,\u001b[0m \u001b[0;34m**\u001b[0m\u001b[0mkwargs\u001b[0m\u001b[0;34m)\u001b[0m\u001b[0;34m:\u001b[0m\u001b[0;34m\u001b[0m\u001b[0;34m\u001b[0m\u001b[0m\n\u001b[0;32m--> 237\u001b[0;31m         \u001b[0msuper\u001b[0m\u001b[0;34m(\u001b[0m\u001b[0mLikelihoodModel\u001b[0m\u001b[0;34m,\u001b[0m \u001b[0mself\u001b[0m\u001b[0;34m)\u001b[0m\u001b[0;34m.\u001b[0m\u001b[0m__init__\u001b[0m\u001b[0;34m(\u001b[0m\u001b[0mendog\u001b[0m\u001b[0;34m,\u001b[0m \u001b[0mexog\u001b[0m\u001b[0;34m,\u001b[0m \u001b[0;34m**\u001b[0m\u001b[0mkwargs\u001b[0m\u001b[0;34m)\u001b[0m\u001b[0;34m\u001b[0m\u001b[0;34m\u001b[0m\u001b[0m\n\u001b[0m\u001b[1;32m    238\u001b[0m         \u001b[0mself\u001b[0m\u001b[0;34m.\u001b[0m\u001b[0minitialize\u001b[0m\u001b[0;34m(\u001b[0m\u001b[0;34m)\u001b[0m\u001b[0;34m\u001b[0m\u001b[0;34m\u001b[0m\u001b[0m\n\u001b[1;32m    239\u001b[0m \u001b[0;34m\u001b[0m\u001b[0m\n",
            "\u001b[0;32m/usr/local/lib/python3.7/dist-packages/statsmodels/base/model.py\u001b[0m in \u001b[0;36m__init__\u001b[0;34m(self, endog, exog, **kwargs)\u001b[0m\n\u001b[1;32m     76\u001b[0m         \u001b[0mhasconst\u001b[0m \u001b[0;34m=\u001b[0m \u001b[0mkwargs\u001b[0m\u001b[0;34m.\u001b[0m\u001b[0mpop\u001b[0m\u001b[0;34m(\u001b[0m\u001b[0;34m'hasconst'\u001b[0m\u001b[0;34m,\u001b[0m \u001b[0;32mNone\u001b[0m\u001b[0;34m)\u001b[0m\u001b[0;34m\u001b[0m\u001b[0;34m\u001b[0m\u001b[0m\n\u001b[1;32m     77\u001b[0m         self.data = self._handle_data(endog, exog, missing, hasconst,\n\u001b[0;32m---> 78\u001b[0;31m                                       **kwargs)\n\u001b[0m\u001b[1;32m     79\u001b[0m         \u001b[0mself\u001b[0m\u001b[0;34m.\u001b[0m\u001b[0mk_constant\u001b[0m \u001b[0;34m=\u001b[0m \u001b[0mself\u001b[0m\u001b[0;34m.\u001b[0m\u001b[0mdata\u001b[0m\u001b[0;34m.\u001b[0m\u001b[0mk_constant\u001b[0m\u001b[0;34m\u001b[0m\u001b[0;34m\u001b[0m\u001b[0m\n\u001b[1;32m     80\u001b[0m         \u001b[0mself\u001b[0m\u001b[0;34m.\u001b[0m\u001b[0mexog\u001b[0m \u001b[0;34m=\u001b[0m \u001b[0mself\u001b[0m\u001b[0;34m.\u001b[0m\u001b[0mdata\u001b[0m\u001b[0;34m.\u001b[0m\u001b[0mexog\u001b[0m\u001b[0;34m\u001b[0m\u001b[0;34m\u001b[0m\u001b[0m\n",
            "\u001b[0;32m/usr/local/lib/python3.7/dist-packages/statsmodels/base/model.py\u001b[0m in \u001b[0;36m_handle_data\u001b[0;34m(self, endog, exog, missing, hasconst, **kwargs)\u001b[0m\n\u001b[1;32m     99\u001b[0m \u001b[0;34m\u001b[0m\u001b[0m\n\u001b[1;32m    100\u001b[0m     \u001b[0;32mdef\u001b[0m \u001b[0m_handle_data\u001b[0m\u001b[0;34m(\u001b[0m\u001b[0mself\u001b[0m\u001b[0;34m,\u001b[0m \u001b[0mendog\u001b[0m\u001b[0;34m,\u001b[0m \u001b[0mexog\u001b[0m\u001b[0;34m,\u001b[0m \u001b[0mmissing\u001b[0m\u001b[0;34m,\u001b[0m \u001b[0mhasconst\u001b[0m\u001b[0;34m,\u001b[0m \u001b[0;34m**\u001b[0m\u001b[0mkwargs\u001b[0m\u001b[0;34m)\u001b[0m\u001b[0;34m:\u001b[0m\u001b[0;34m\u001b[0m\u001b[0;34m\u001b[0m\u001b[0m\n\u001b[0;32m--> 101\u001b[0;31m         \u001b[0mdata\u001b[0m \u001b[0;34m=\u001b[0m \u001b[0mhandle_data\u001b[0m\u001b[0;34m(\u001b[0m\u001b[0mendog\u001b[0m\u001b[0;34m,\u001b[0m \u001b[0mexog\u001b[0m\u001b[0;34m,\u001b[0m \u001b[0mmissing\u001b[0m\u001b[0;34m,\u001b[0m \u001b[0mhasconst\u001b[0m\u001b[0;34m,\u001b[0m \u001b[0;34m**\u001b[0m\u001b[0mkwargs\u001b[0m\u001b[0;34m)\u001b[0m\u001b[0;34m\u001b[0m\u001b[0;34m\u001b[0m\u001b[0m\n\u001b[0m\u001b[1;32m    102\u001b[0m         \u001b[0;31m# kwargs arrays could have changed, easier to just attach here\u001b[0m\u001b[0;34m\u001b[0m\u001b[0;34m\u001b[0m\u001b[0;34m\u001b[0m\u001b[0m\n\u001b[1;32m    103\u001b[0m         \u001b[0;32mfor\u001b[0m \u001b[0mkey\u001b[0m \u001b[0;32min\u001b[0m \u001b[0mkwargs\u001b[0m\u001b[0;34m:\u001b[0m\u001b[0;34m\u001b[0m\u001b[0;34m\u001b[0m\u001b[0m\n",
            "\u001b[0;32m/usr/local/lib/python3.7/dist-packages/statsmodels/base/data.py\u001b[0m in \u001b[0;36mhandle_data\u001b[0;34m(endog, exog, missing, hasconst, **kwargs)\u001b[0m\n\u001b[1;32m    671\u001b[0m     \u001b[0mklass\u001b[0m \u001b[0;34m=\u001b[0m \u001b[0mhandle_data_class_factory\u001b[0m\u001b[0;34m(\u001b[0m\u001b[0mendog\u001b[0m\u001b[0;34m,\u001b[0m \u001b[0mexog\u001b[0m\u001b[0;34m)\u001b[0m\u001b[0;34m\u001b[0m\u001b[0;34m\u001b[0m\u001b[0m\n\u001b[1;32m    672\u001b[0m     return klass(endog, exog=exog, missing=missing, hasconst=hasconst,\n\u001b[0;32m--> 673\u001b[0;31m                  **kwargs)\n\u001b[0m",
            "\u001b[0;32m/usr/local/lib/python3.7/dist-packages/statsmodels/base/data.py\u001b[0m in \u001b[0;36m__init__\u001b[0;34m(self, endog, exog, missing, hasconst, **kwargs)\u001b[0m\n\u001b[1;32m     85\u001b[0m         \u001b[0mself\u001b[0m\u001b[0;34m.\u001b[0m\u001b[0mconst_idx\u001b[0m \u001b[0;34m=\u001b[0m \u001b[0;32mNone\u001b[0m\u001b[0;34m\u001b[0m\u001b[0;34m\u001b[0m\u001b[0m\n\u001b[1;32m     86\u001b[0m         \u001b[0mself\u001b[0m\u001b[0;34m.\u001b[0m\u001b[0mk_constant\u001b[0m \u001b[0;34m=\u001b[0m \u001b[0;36m0\u001b[0m\u001b[0;34m\u001b[0m\u001b[0;34m\u001b[0m\u001b[0m\n\u001b[0;32m---> 87\u001b[0;31m         \u001b[0mself\u001b[0m\u001b[0;34m.\u001b[0m\u001b[0m_handle_constant\u001b[0m\u001b[0;34m(\u001b[0m\u001b[0mhasconst\u001b[0m\u001b[0;34m)\u001b[0m\u001b[0;34m\u001b[0m\u001b[0;34m\u001b[0m\u001b[0m\n\u001b[0m\u001b[1;32m     88\u001b[0m         \u001b[0mself\u001b[0m\u001b[0;34m.\u001b[0m\u001b[0m_check_integrity\u001b[0m\u001b[0;34m(\u001b[0m\u001b[0;34m)\u001b[0m\u001b[0;34m\u001b[0m\u001b[0;34m\u001b[0m\u001b[0m\n\u001b[1;32m     89\u001b[0m         \u001b[0mself\u001b[0m\u001b[0;34m.\u001b[0m\u001b[0m_cache\u001b[0m \u001b[0;34m=\u001b[0m \u001b[0;34m{\u001b[0m\u001b[0;34m}\u001b[0m\u001b[0;34m\u001b[0m\u001b[0;34m\u001b[0m\u001b[0m\n",
            "\u001b[0;32m/usr/local/lib/python3.7/dist-packages/statsmodels/base/data.py\u001b[0m in \u001b[0;36m_handle_constant\u001b[0;34m(self, hasconst)\u001b[0m\n\u001b[1;32m    131\u001b[0m             \u001b[0mexog_max\u001b[0m \u001b[0;34m=\u001b[0m \u001b[0mnp\u001b[0m\u001b[0;34m.\u001b[0m\u001b[0mmax\u001b[0m\u001b[0;34m(\u001b[0m\u001b[0mself\u001b[0m\u001b[0;34m.\u001b[0m\u001b[0mexog\u001b[0m\u001b[0;34m,\u001b[0m \u001b[0maxis\u001b[0m\u001b[0;34m=\u001b[0m\u001b[0;36m0\u001b[0m\u001b[0;34m)\u001b[0m\u001b[0;34m\u001b[0m\u001b[0;34m\u001b[0m\u001b[0m\n\u001b[1;32m    132\u001b[0m             \u001b[0;32mif\u001b[0m \u001b[0;32mnot\u001b[0m \u001b[0mnp\u001b[0m\u001b[0;34m.\u001b[0m\u001b[0misfinite\u001b[0m\u001b[0;34m(\u001b[0m\u001b[0mexog_max\u001b[0m\u001b[0;34m)\u001b[0m\u001b[0;34m.\u001b[0m\u001b[0mall\u001b[0m\u001b[0;34m(\u001b[0m\u001b[0;34m)\u001b[0m\u001b[0;34m:\u001b[0m\u001b[0;34m\u001b[0m\u001b[0;34m\u001b[0m\u001b[0m\n\u001b[0;32m--> 133\u001b[0;31m                 \u001b[0;32mraise\u001b[0m \u001b[0mMissingDataError\u001b[0m\u001b[0;34m(\u001b[0m\u001b[0;34m'exog contains inf or nans'\u001b[0m\u001b[0;34m)\u001b[0m\u001b[0;34m\u001b[0m\u001b[0;34m\u001b[0m\u001b[0m\n\u001b[0m\u001b[1;32m    134\u001b[0m             \u001b[0mexog_min\u001b[0m \u001b[0;34m=\u001b[0m \u001b[0mnp\u001b[0m\u001b[0;34m.\u001b[0m\u001b[0mmin\u001b[0m\u001b[0;34m(\u001b[0m\u001b[0mself\u001b[0m\u001b[0;34m.\u001b[0m\u001b[0mexog\u001b[0m\u001b[0;34m,\u001b[0m \u001b[0maxis\u001b[0m\u001b[0;34m=\u001b[0m\u001b[0;36m0\u001b[0m\u001b[0;34m)\u001b[0m\u001b[0;34m\u001b[0m\u001b[0;34m\u001b[0m\u001b[0m\n\u001b[1;32m    135\u001b[0m             \u001b[0mconst_idx\u001b[0m \u001b[0;34m=\u001b[0m \u001b[0mnp\u001b[0m\u001b[0;34m.\u001b[0m\u001b[0mwhere\u001b[0m\u001b[0;34m(\u001b[0m\u001b[0mexog_max\u001b[0m \u001b[0;34m==\u001b[0m \u001b[0mexog_min\u001b[0m\u001b[0;34m)\u001b[0m\u001b[0;34m[\u001b[0m\u001b[0;36m0\u001b[0m\u001b[0;34m]\u001b[0m\u001b[0;34m.\u001b[0m\u001b[0msqueeze\u001b[0m\u001b[0;34m(\u001b[0m\u001b[0;34m)\u001b[0m\u001b[0;34m\u001b[0m\u001b[0;34m\u001b[0m\u001b[0m\n",
            "\u001b[0;31mMissingDataError\u001b[0m: exog contains inf or nans"
          ]
        }
      ]
    },
    {
      "cell_type": "markdown",
      "source": [
        "A few keypoints from the graph and the Dickey-Fuller tests indicate that:\n",
        "* Mean series is increasing with time and is not constant so series is not stationary\n",
        "* Standard deviation series also has quite a few deivations which indicates that the time series is not stationary\n",
        "* ADF statistic is larger than the critical value which indicates that the series still has a unit root"
      ],
      "metadata": {
        "id": "tK2paw2gmQG0"
      }
    },
    {
      "cell_type": "markdown",
      "source": [
        "#### **Methods For Making Time Series Stationary**\n",
        "Since the time series has both seasonality and trend components, we are going to adopt methods that would remove both trend and seasonality. Methods that we are going to use include:\n",
        "\n",
        "* **Differencing**\n",
        "* **Decomposition**"
      ],
      "metadata": {
        "id": "w15VpTr1mQG0"
      }
    },
    {
      "cell_type": "markdown",
      "source": [
        "##### **Differencing**\n",
        "\n",
        "In order to perform this let us first take log , perform a log difference between the time series and its lag and look at the results"
      ],
      "metadata": {
        "id": "Pnl_E944mQG0"
      }
    },
    {
      "cell_type": "code",
      "source": [
        "df_log_diff = np.log(train_sales_cal_df[['avg_sales']]) - np.log(train_sales_cal_df[['avg_sales']]).shift()\n",
        "#df['sold'] = df_log_diff\n",
        "#df['sold'] = df['sold'].dropna()\n",
        "df_log_diff = df_log_diff.dropna()"
      ],
      "metadata": {
        "execution": {
          "iopub.status.busy": "2021-12-29T13:40:25.36052Z",
          "iopub.status.idle": "2021-12-29T13:40:25.361119Z"
        },
        "trusted": true,
        "id": "Ax_regmemQG1"
      },
      "execution_count": null,
      "outputs": []
    },
    {
      "cell_type": "code",
      "source": [
        "time_series_stationary_test(df_log_diff)"
      ],
      "metadata": {
        "execution": {
          "iopub.status.busy": "2021-12-29T13:40:25.362242Z",
          "iopub.status.idle": "2021-12-29T13:40:25.362762Z"
        },
        "trusted": true,
        "id": "z3_lYeJymQG1"
      },
      "execution_count": null,
      "outputs": []
    },
    {
      "cell_type": "markdown",
      "source": [
        "We can observe that the test statistic value is less than even 1 % of the critical value, which indicates that we can reject the null hypothesis (that series is non-stationary) with 99 % confidence and p_value of 0 indicates that the test result is significant. "
      ],
      "metadata": {
        "id": "yWLpok97mQG1"
      }
    },
    {
      "cell_type": "markdown",
      "source": [
        "#### **Decomposition**\n",
        "Decomposition is another way to make the time series stationary. The decomposition of dataset yields three properties for the time series dataset\n",
        "\n",
        "* Trend - That is whether there is an increase or decrease in total sales over long term\n",
        "* Seasonality - Whether there are repeating patterns within the dataset\n",
        "* Residual - What is the contribution of behavior in the time series dataset (total sales ) without trend and seasonality added"
      ],
      "metadata": {
        "id": "BFogo43fmQG1"
      }
    },
    {
      "cell_type": "code",
      "source": [
        "from statsmodels.tsa.seasonal import seasonal_decompose\n",
        "\n",
        "def time_series_decompose(df, model_specified, period):\n",
        "    \n",
        "    '''\n",
        "    returns the trend, seasonality, and residual components decomposition of time_Series and\n",
        "    plots the results \n",
        "    \n",
        "    inputs: df(time_series df along with sales specified), model_specified (whether to use\n",
        "            additive or multiplicative), period (number of days where seasonality \n",
        "            is to be observed)\n",
        "    returns: decomposition plots along with decomposition components, in trend, seasonality\n",
        "    and residuals\n",
        "    '''\n",
        "\n",
        "    df_decomposition = seasonal_decompose(\n",
        "                               x=df, \n",
        "                               model= model_specified, \n",
        "                               period=period)\n",
        "    \n",
        "    est_trend = df_decomposition.trend\n",
        "    est_trend = est_trend.reset_index(name='trend').set_index('date')\n",
        "    est_seasonal = df_decomposition.seasonal\n",
        "    est_seasonal = est_seasonal.reset_index(name='seasonal').set_index('date')\n",
        "    est_residual = df_decomposition.resid\n",
        "    est_residual = est_residual.reset_index(name='resid').set_index('date')\n",
        "    \n",
        "    fig, (ax1, ax2, ax3, ax4) = plt.subplots(4, 1, figsize=(14, 24))\n",
        "\n",
        "    df.plot(figsize=(14, 8) ,\n",
        "                 alpha=0.8, \n",
        "                 lw=1.5, ax = ax1)\n",
        "    est_trend.plot(figsize=(14, 8) ,\n",
        "                 alpha=0.8, \n",
        "                 lw=1.5, ax = ax2)\n",
        "    est_seasonal.plot(figsize=(14, 8) ,\n",
        "                 alpha=0.8, \n",
        "                 lw=1.5, ax = ax3)\n",
        "    est_residual.plot(figsize=(14, 8) ,\n",
        "                 alpha=0.6, \n",
        "                 lw=3, style = 'o', ax = ax4)\n",
        "\n",
        "    fig.tight_layout()\n",
        "    plt.show()\n",
        "    \n",
        "    return est_trend, est_seasonal, est_residual\n",
        "\n",
        "#sample_time_s1 = train_sales_cal_df[400:700]\n",
        "#est_trend, est_seasonal, est_residual = time_series_decompose(sample_time_s1, 'multiplicative', 15)"
      ],
      "metadata": {
        "execution": {
          "iopub.status.busy": "2021-12-29T13:40:25.363914Z",
          "iopub.status.idle": "2021-12-29T13:40:25.364472Z"
        },
        "trusted": true,
        "id": "-3bLxGX3mQG2"
      },
      "execution_count": null,
      "outputs": []
    },
    {
      "cell_type": "code",
      "source": [
        "trend_comp, seas_comp, residual_comp = time_series_decompose(train_sales_cal_df[['avg_sales']], 'multiplicative', 30)"
      ],
      "metadata": {
        "execution": {
          "iopub.status.busy": "2021-12-29T13:40:25.3655Z",
          "iopub.status.idle": "2021-12-29T13:40:25.365947Z"
        },
        "trusted": true,
        "id": "MxUJUDtymQG2"
      },
      "execution_count": null,
      "outputs": []
    },
    {
      "cell_type": "markdown",
      "source": [
        "The above results indicate that the presence of an increasing trend, as well as high seasonality in the time series being observed. The **residuals** are infact the component of the time series *without the seasonality and trend.*\n",
        "\n",
        "Let's see what the results of the dickey-fuller test in decomposition are"
      ],
      "metadata": {
        "id": "KrTh6WLAmQG3"
      }
    },
    {
      "cell_type": "code",
      "source": [
        "residual_comp = residual_comp.dropna()\n",
        "time_series_stationary_test(residual_comp)"
      ],
      "metadata": {
        "execution": {
          "iopub.status.busy": "2021-12-29T13:40:25.366891Z",
          "iopub.status.idle": "2021-12-29T13:40:25.367233Z"
        },
        "trusted": true,
        "id": "gvjJqjJymQG3"
      },
      "execution_count": null,
      "outputs": []
    },
    {
      "cell_type": "markdown",
      "source": [
        "The test statistic is less than 1 % of the critical value so we reject the null hypothesis with 99 % confidence and therefore, the time series is stationary"
      ],
      "metadata": {
        "id": "BrfupcD6mQG3"
      }
    },
    {
      "cell_type": "markdown",
      "source": [
        "### **SARIMAX**\n",
        "SARIMAX (Seasonal Auto-Regressive Integrated Moving Averages With Exogenous Factors) is an extension of the ARIMA model but one that is able to handle the seasonality component along with exogenous factors. i.e. holidays. \n",
        "\n",
        "ARIMA forecasting for a stationary time series is nothing but a regression equation. The prediction on the arima model is determined by its 'Trend' parameters p,d and q. They represent:\n",
        "\n",
        "* Number of AR (auto-regressive) terms (p) : AR terms are just lags of the dependent variable. e.g. if p is 2, the predictors for x(t) will be x(t-1), x(t-2) OR AR terms view the value at one time as a weighted sum of past values.\n",
        "* Number of MA (moving averages) terms (q) : MA terms are lagged forecast errors e(i) in prediction equation where e(i) is the difference between the moving avg at ith term vs the actual value. For q = 2, the predictors for x(t) will be e(t-1), e(t-2).\n",
        "* Number of differences (d) : These are the number of non-seasonal differences. \n",
        "\n",
        "The SARIMAX adds other seasonal components to handle the seasonality with P, D, Q and m represpresenting the seasonal 'Auto-regressive' 'Differencing' and 'Moving-Average' Orders with m representing the number of time steps that are observing the seasonal behaviour. \n",
        "\n",
        "The equation for SARIMAX is given as SARIMAX (p, d, q) = (P, D, Q, S)\n",
        "\n",
        "To find out the appropriate values for p and q, we generally employ ACF (auto-correlation function) and PCF (Partial-correlation function). \n",
        "\n",
        "* **ACF** - AutoCorrelationFunction: It is the measure of the correlation of a time series against lagged version of itself. e.g. with a lag of 3, ACF would compare the time instances t1, t2 with t1-3, t2-3\n",
        "* **PCF** - PartialCorrelationFunction: It is a measure of correlation of a time series against a lagged version of itself but after removing the already calculated variations. e.g. with a lag of 4, PCF would check the correlation of against the lagged version but after removing the effects explained by lag1 to lag3 "
      ],
      "metadata": {
        "id": "tKf9DaWSmQG4"
      }
    },
    {
      "cell_type": "code",
      "source": [
        "df_log_diff = np.log(train_sales_cal_df['avg_sales']) - np.log(train_sales_cal_df['avg_sales']).shift()\n",
        "df_log_diff = df_log_diff.dropna()"
      ],
      "metadata": {
        "execution": {
          "iopub.status.busy": "2021-12-29T13:40:25.368152Z",
          "iopub.status.idle": "2021-12-29T13:40:25.36872Z"
        },
        "trusted": true,
        "id": "rm10RhgzmQG4"
      },
      "execution_count": null,
      "outputs": []
    },
    {
      "cell_type": "markdown",
      "source": [
        "### ACF & PACF: Finding Pdq Visually?"
      ],
      "metadata": {
        "id": "o9XlGfDymQG4"
      }
    },
    {
      "cell_type": "code",
      "source": [
        "from statsmodels.tsa.stattools import acf, pacf\n",
        "\n",
        "def auto_par_corr(ts_stat, nlags=25): \n",
        "\n",
        "    '''\n",
        "    returns the ACF and PACF plots of the time series\n",
        "    \n",
        "    inputs: ts_stat (time series along with data), nlags (optimal number of lags)\n",
        "    \n",
        "    returns: plot of ACF and PACF\n",
        "    '''\n",
        "    lag_acf = acf(ts_stat, nlags)\n",
        "    lag_pacf = pacf(ts_stat, nlags, method='ols')\n",
        "    \n",
        "    sns.set_style(\"whitegrid\")\n",
        "\n",
        "    \n",
        "    plt.figure(figsize=(15, 8))\n",
        "    plt.subplot(121)\n",
        "    #plt.plot(lag_acf)\n",
        "    plt.stem(lag_acf)\n",
        "    plt.axhline(y=0,linestyle='--',color='g')\n",
        "    plt.axhline(y=-1.96/np.sqrt(len(ts_stat)), linestyle='--',color='r')\n",
        "    plt.axhline(y=1.96/np.sqrt(len(ts_stat)), linestyle='--',color='r')\n",
        "    plt.title('Auto-Correlation')\n",
        "    \n",
        "    #lag_pacf.plot(figsize=(15, 5), alpha=1, \n",
        "    #                    lw=3, color=next(color_cycle), label='par_corr', ax=ax2)\n",
        "    plt.subplot(122)\n",
        "    #plt.plot(lag_pacf)\n",
        "    plt.stem(lag_pacf)\n",
        "    plt.axhline(y=0,linestyle='--',color='g')\n",
        "    plt.axhline(y=-1.96/np.sqrt(len(ts_stat)), linestyle='--',color='r')\n",
        "    plt.axhline(y=1.96/np.sqrt(len(ts_stat)), linestyle='--',color='r')\n",
        "    plt.title('Partial Auto-Correlation')\n",
        "    \n",
        "    plt.legend()\n",
        "    plt.show()\n",
        "    "
      ],
      "metadata": {
        "execution": {
          "iopub.status.busy": "2021-12-29T13:40:25.36979Z",
          "iopub.status.idle": "2021-12-29T13:40:25.370188Z"
        },
        "trusted": true,
        "id": "d4bukrE4mQG5"
      },
      "execution_count": null,
      "outputs": []
    },
    {
      "cell_type": "code",
      "source": [
        "auto_par_corr(df_log_diff, nlags=25)"
      ],
      "metadata": {
        "execution": {
          "iopub.status.busy": "2021-12-29T13:40:25.371286Z",
          "iopub.status.idle": "2021-12-29T13:40:25.371764Z"
        },
        "trusted": true,
        "id": "H0Ij8a21mQG5"
      },
      "execution_count": null,
      "outputs": []
    },
    {
      "cell_type": "markdown",
      "source": [
        "A couple of things of note here are :\n",
        "\n",
        "* In the first plot of autocorreation, the first significant value occurs at between 1 and 2, so therefore we are going to select q=1, while in the second plot of PACF, the significant value occurs at 2 so p=2\n",
        "* In the ACF plot, we have regular peaks at interval of 7 so we are going to select the value of parameter m in seasonal order as 7, and since this lag is positive therefore the value for P=1, and for Q=0.\n",
        "* As for value of d (differencing), we are going to select d as being 1 since we have taken a first order differencing, and since our seasonal pattern in ACF plot is stable we are going to choose value of D=1 (as opposed to D=0 when seasonal pattern is unstable) "
      ],
      "metadata": {
        "id": "hcYhH6HSmQG6"
      }
    },
    {
      "cell_type": "code",
      "source": [
        "#train_sales_cal_df.index = pd.DatetimeIndex(train_sales_cal_df.index.values,\n",
        "#                               freq=train_sales_cal_df.index.inferred_freq)"
      ],
      "metadata": {
        "execution": {
          "iopub.status.busy": "2021-12-29T13:40:25.372785Z",
          "iopub.status.idle": "2021-12-29T13:40:25.373402Z"
        },
        "trusted": true,
        "id": "q9f3ikgvmQG6"
      },
      "execution_count": null,
      "outputs": []
    },
    {
      "cell_type": "code",
      "source": [
        "#Let us split the time series into training and testing sets\n",
        "#perc_training = 0.7\n",
        "#split_p = round(len(train_sales_cal_df['avg_sales']) * perc_training)\n",
        "#training_p, testing_p = train_sales_cal_df['avg_sales'][0:split_p], train_sales_cal_df['avg_sales'][split_p:]\n",
        "\n",
        "training_p = train_sales_cal_df.loc[:'2015-10-14', ['avg_sales']]\n",
        "testing_p = train_sales_cal_df.loc['2015-10-15':, ['avg_sales']]\n",
        "training_p.head(2)"
      ],
      "metadata": {
        "execution": {
          "iopub.status.busy": "2021-12-29T13:40:25.37458Z",
          "iopub.status.idle": "2021-12-29T13:40:25.37504Z"
        },
        "trusted": true,
        "id": "uPfDpdU7mQG6"
      },
      "execution_count": null,
      "outputs": []
    },
    {
      "cell_type": "markdown",
      "source": [
        "#### Making Exogeneous Factors"
      ],
      "metadata": {
        "id": "XGJgTapemQG6"
      }
    },
    {
      "cell_type": "code",
      "source": [
        "#for prophet model:\n",
        "df_event_1 = pd.DataFrame({'holiday': 'Event 1', 'ds': calendar_df[~calendar_df['event_name_1'].isna()]['date']})\n",
        "df_event_2 = pd.DataFrame({'holiday': 'Event 2', 'ds': calendar_df[~calendar_df['event_name_2'].isna()]['date']})\n",
        "df_snapca = pd.DataFrame({'holiday': 'snap_CA', 'ds': calendar_df[calendar_df['snap_CA'] == 1]['date']})\n",
        "df_snaptx = pd.DataFrame({'holiday': 'snap_TX', 'ds': calendar_df[calendar_df['snap_TX'] == 1]['date']})\n",
        "df_snapwi = pd.DataFrame({'holiday': 'snap_WI', 'ds': calendar_df[calendar_df['snap_WI'] == 1]['date']})\n",
        "holidays = pd.concat((df_event_1, df_event_2, df_snapca, df_snaptx, df_snapwi))\n",
        "holidays.head(3)"
      ],
      "metadata": {
        "execution": {
          "iopub.status.busy": "2021-12-29T13:40:25.37605Z",
          "iopub.status.idle": "2021-12-29T13:40:25.376437Z"
        },
        "trusted": true,
        "id": "LqOD8VVDmQG7"
      },
      "execution_count": null,
      "outputs": []
    },
    {
      "cell_type": "code",
      "source": [
        "#ever since spliting exo, it is to be added additionally\n",
        "holidays['ds'] = pd.to_datetime(holidays['ds'])"
      ],
      "metadata": {
        "execution": {
          "iopub.status.busy": "2021-12-29T13:40:25.377335Z",
          "iopub.status.idle": "2021-12-29T13:40:25.377768Z"
        },
        "trusted": true,
        "id": "iUP9PiYGmQG7"
      },
      "execution_count": null,
      "outputs": []
    },
    {
      "cell_type": "code",
      "source": [
        "# for SARIMAX Model:\n",
        "\n",
        "data = {'date':train_sales_cal_df.index,\n",
        "        'holidays': 0 }\n",
        "\n",
        "exo = pd.DataFrame(data)\n",
        "\n",
        "for idx, date1 in enumerate(exo['date']):\n",
        "    for date2 in holidays['ds']:\n",
        "        if date2 == date1:\n",
        "            exo['holidays'].iloc[idx] = 1\n",
        "        else:\n",
        "            continue       "
      ],
      "metadata": {
        "execution": {
          "iopub.status.busy": "2021-12-29T13:40:25.378735Z",
          "iopub.status.idle": "2021-12-29T13:40:25.379456Z"
        },
        "trusted": true,
        "id": "iz07IYflmQG7"
      },
      "execution_count": null,
      "outputs": []
    },
    {
      "cell_type": "code",
      "source": [
        "exo = exo.set_index(['date']).asfreq('D')\n",
        "exo.head(4)"
      ],
      "metadata": {
        "execution": {
          "iopub.status.busy": "2021-12-29T13:40:25.380496Z",
          "iopub.status.idle": "2021-12-29T13:40:25.380937Z"
        },
        "trusted": true,
        "id": "hwBGLnfKmQG8"
      },
      "execution_count": null,
      "outputs": []
    },
    {
      "cell_type": "code",
      "source": [
        "exo_train = exo.loc[:'2015-10-14']\n",
        "exo_test = exo.loc['2015-10-15':]"
      ],
      "metadata": {
        "execution": {
          "iopub.status.busy": "2021-12-29T13:40:25.381835Z",
          "iopub.status.idle": "2021-12-29T13:40:25.382285Z"
        },
        "trusted": true,
        "id": "S5wfh_EXmQG8"
      },
      "execution_count": null,
      "outputs": []
    },
    {
      "cell_type": "code",
      "source": [
        "#Conversion into Series according to SARiMAX req:\n",
        "#conversion into timeseries if required, for now there is neither benefit nor requirement\n",
        "#exo_train = pd.Series(exo_train.iloc[:, 0])\n",
        "#exo_test = pd.Series(exo_test.iloc[:, 0])"
      ],
      "metadata": {
        "execution": {
          "iopub.status.busy": "2021-12-29T13:40:25.383182Z",
          "iopub.status.idle": "2021-12-29T13:40:25.383617Z"
        },
        "trusted": true,
        "id": "AqJ2q9--mQG9"
      },
      "execution_count": null,
      "outputs": []
    },
    {
      "cell_type": "code",
      "source": [
        "def SARIMAX_tune(ts, total_params):\n",
        "\n",
        "    '''\n",
        "    returns the optimal tuned results using AIC as a prediction accuracy metric\n",
        "    \n",
        "    inputs : ts (time series), total_params (SARIMAX models parameters to be specified)\n",
        "    \n",
        "    returns: results of SARIMAX tuned model\n",
        "    '''\n",
        "    results = []\n",
        "\n",
        "    for param in total_params:\n",
        "        try:\n",
        "            model = SARIMAX(ts, exog = exo, order=param[0], seasonal_order=param[1], \n",
        "                           initialization='approximate_diffuse')\n",
        "            res = model.fit(method='powell')\n",
        "            results.append((res, res.aic, res.params))\n",
        "            print(\"The results of SARIMAX{}x{} in AIC are: {}\".format(param[0], param[1], res.aic))\n",
        "        except Exception as e:\n",
        "            print(e)\n",
        "            continue\n",
        "    \n",
        "    return results"
      ],
      "metadata": {
        "execution": {
          "iopub.status.busy": "2021-12-29T13:40:25.384775Z",
          "iopub.status.idle": "2021-12-29T13:40:25.385328Z"
        },
        "trusted": true,
        "id": "YfuRZHSRmQG9"
      },
      "execution_count": null,
      "outputs": []
    },
    {
      "cell_type": "code",
      "source": [
        "###########New Code#############\n",
        "from sklearn.model_selection import TimeSeriesSplit\n",
        "from sklearn.metrics import mean_squared_error\n",
        "import statsmodels.api as sm\n",
        "from sklearn.model_selection import GridSearchCV\n",
        "\n",
        "def SARIMAX_tune_with_RMSE(ts, total_params):\n",
        "    \n",
        "    '''\n",
        "    returns the optimal tuned results using RMSE as a prediction error metric\n",
        "    \n",
        "    inputs : ts (time series), total_params (SARIMAX models parameters to be specified)\n",
        "    \n",
        "    returns: results of SARIMAX tuned model with RMSE as the error metric\n",
        "    '''\n",
        "    tscv = TimeSeriesSplit(n_splits = 5)\n",
        "    rmse_array = []\n",
        "    timeseries = ts #train_sales_cal_df[['avg_sales']]\n",
        "    results = []\n",
        "    \n",
        "    for train_index, test_index in tscv.split(timeseries):\n",
        "        cv_train, cv_test = timeseries.iloc[train_index], timeseries.iloc[test_index]\n",
        "        \n",
        "        for param in total_params:\n",
        "            try:\n",
        "                model = SARIMAX(cv_train, order=param[0], seasonal_order=param[1], \n",
        "                               initialization='approximate_diffuse')\n",
        "                res = model.fit(method=\"powell\")\n",
        "                results.append((res, res.params))\n",
        "                #use this statement for further troubleshooting on mle #print(\"MLE retvals for this iter are: {}\".format(res.mle_retvals))\n",
        "                #print(\"The results of SARIMAX{}x{} in are: {}\".format(param[0], param[1]))\n",
        "            except Exception as e:\n",
        "                print(e)\n",
        "                continue\n",
        "\n",
        "            sarimax = model.fit(disp=0)\n",
        "            predictions = sarimax.predict(cv_test.index.values[0], cv_test.index.values[-1])\n",
        "            true_values = cv_test.values\n",
        "            #true_values = cv_test\n",
        "            #wrmse_array.append(wrmse(true_values, predictions))\n",
        "            #rmse_array.append(np.sqrt(mean_squared_error(true_values, predictions)))\n",
        "            print(\"Results of SARIMAX in {} x {} in RMSE: {}\".format(param[0], param[1], \n",
        "                                                                 np.sqrt(mean_squared_error(true_values, predictions))))\n",
        "        \n",
        "        return results"
      ],
      "metadata": {
        "execution": {
          "iopub.status.busy": "2021-12-29T13:40:25.386413Z",
          "iopub.status.idle": "2021-12-29T13:40:25.386898Z"
        },
        "trusted": true,
        "id": "pbtonnysmQG9"
      },
      "execution_count": null,
      "outputs": []
    },
    {
      "cell_type": "markdown",
      "source": [
        "### The Accuracy Metric AIC: \n",
        "\n",
        "Since the **AIC (Akaike-Information Criterion)** is given by the difference of number of paramters vs log-likelihood of the model, it is therefore desirable to select the values of AIC that are as small (or in the current case) as negative as possible. \n",
        "The formula for the AIC is :\n",
        "\n",
        "*  **AIC = 2K - ln(k)**\n",
        "\n",
        "where k is the number of parameters for the selection of the model\n",
        "\n",
        "Since the combination for pdq in our case tends to come out as 2,1,1 and for seasonal_PDQ as 0,1,2,7 Therefore, we are going to select those values "
      ],
      "metadata": {
        "id": "HH01nprcmQG-"
      }
    },
    {
      "cell_type": "markdown",
      "source": [
        "### Validation SARIMAX"
      ],
      "metadata": {
        "id": "R9eLkUN5mQG-"
      }
    },
    {
      "cell_type": "code",
      "source": [
        "p, d, q =range(1,3), [1], range(1,3)\n",
        "P, D, Q, S =range(0,3), [1], range(1,3), [7]\n",
        "pdq = list(itertools.product(p,d,q))\n",
        "seasonal_pdq = list(itertools.product(P,D,Q,S))\n",
        "total_params = list(itertools.product(pdq, seasonal_pdq))\n",
        "\n",
        "#NOTE: memory intensive operation if range set at 0,3, readings have already been taken by running it once:\n",
        "#all_results = SARIMAX_tune(train_sales_cal_df['avg_sales'], total_params)\n",
        "#all_results = SARIMAX_tune_with_RMSE(train_sales_cal_df[['avg_sales']], total_params)\n",
        "\n",
        "#More information regarding fixng the error nle_retvals can be found at:\n",
        "#https://stats.stackexchange.com/questions/313426/mle-convergence-errors-with-statespace-sarimax"
      ],
      "metadata": {
        "execution": {
          "iopub.status.busy": "2021-12-29T13:40:25.387815Z",
          "iopub.status.idle": "2021-12-29T13:40:25.388359Z"
        },
        "trusted": true,
        "id": "OVDzP1wLmQHB"
      },
      "execution_count": null,
      "outputs": []
    },
    {
      "cell_type": "code",
      "source": [
        "#all_results = SARIMAX_tune_with_RMSE(train_sales_cal_df[['avg_sales']], total_params)"
      ],
      "metadata": {
        "execution": {
          "iopub.status.busy": "2021-12-29T13:40:25.389656Z",
          "iopub.status.idle": "2021-12-29T13:40:25.390204Z"
        },
        "trusted": true,
        "id": "a7E-V9VOmQHG"
      },
      "execution_count": null,
      "outputs": []
    },
    {
      "cell_type": "code",
      "source": [
        "#######NOTE: THIS WAS THE MISTAKE THAT WAS STOPPING TIMESERIES GRAPHS FROM RENDERGIN#####\n",
        "#train_sales_cal_df.index = pd.to_datetime(train_sales_cal_df.index)\n",
        "#type(train_sales_cal_df.index)"
      ],
      "metadata": {
        "execution": {
          "iopub.status.busy": "2021-12-29T13:40:25.391209Z",
          "iopub.status.idle": "2021-12-29T13:40:25.391589Z"
        },
        "trusted": true,
        "id": "BX0Ke8cgmQHH"
      },
      "execution_count": null,
      "outputs": []
    },
    {
      "cell_type": "code",
      "source": [
        "#Fitting in the SARIMAX Model\n",
        "#include the exo_train in here , exo_test in prediction (model_fit_SARIMAX) to check results: for now, abandoning their use because\n",
        "# of the error in package, since even converting exo_train, exo_test into time series/using df results\n",
        "# in errors. \n",
        "#model values earlier 1,1,1, 0,1,1,7 \n",
        "#values with RMSE - order=(2,1,1), seasonal_order=(2,1,1,7), \n",
        "model = SARIMAX(training_p,\n",
        "                order=(2,1,1), seasonal_order=(2,1,1,7), \n",
        "                enforce_stationarity=False, enforce_invertibility=False)\n",
        "model_fit = model.fit(disp=0)\n",
        "print(model_fit.summary())\n",
        "model_fit.plot_diagnostics(figsize=(15,7))\n",
        "plt.show()\n",
        "#information on whether particular model is a goodfit\n",
        "#https://analyticsindiamag.com/complete-guide-to-sarimax-in-python-for-time-series-modeling/"
      ],
      "metadata": {
        "execution": {
          "iopub.status.busy": "2021-12-29T13:40:25.392793Z",
          "iopub.status.idle": "2021-12-29T13:40:25.39343Z"
        },
        "trusted": true,
        "id": "KX9qZo-VmQHI"
      },
      "execution_count": null,
      "outputs": []
    },
    {
      "cell_type": "markdown",
      "source": [
        "The above plots confirm the inferences of the following information:\n",
        "- The first left plot shows that residual errors fluctuate around a mean of zero and have uniform variance\n",
        "- The first right plot indicates that density plot also has a mean of almost zero\n",
        "- The second left plot indicate an almost a perfect fit on red line pointing to the fact that distribution is not skewed\n",
        "- The low auto-correlation of residuals is indicated in the second right plot. "
      ],
      "metadata": {
        "id": "6m66dOHVmQHJ"
      }
    },
    {
      "cell_type": "markdown",
      "source": [
        "### SARIMAX Graphical Validation & Forecasting"
      ],
      "metadata": {
        "id": "qg_Ds_5amQHJ"
      }
    },
    {
      "cell_type": "code",
      "source": [
        "def model_fit_SARIMAX(model_set, model_fit_srt_tm='2015-10-15', ts_st_tm='2013'):\n",
        "    \n",
        "    '''\n",
        "    makes predictions using SARIMAX model tuned earlier and returns plots along with \n",
        "    predictions made\n",
        "    \n",
        "    inputs: model_set (model tuned), model_fit_srt_tm (model prediction starting time), \n",
        "            ts_st_tm (time series plot to be plotted beginning point)\n",
        "    returns: forecast plot along with time_series, and pred (predictions made series)\n",
        "    \n",
        "    '''\n",
        "    \n",
        "    #1.# pred = model_fit.forecast(len(testing_p), alpha=0.05, dynamic=False)  # 95% conf\n",
        "    pred = model_set.get_prediction(start=pd.to_datetime(model_fit_srt_tm), end='2016-06-01', dynamic=False)\n",
        "    pred_conf = pred.conf_int()\n",
        "    #for dynamic prediction of time_series:\n",
        "    #pred_dy = model_set.get_prediction(dynamic=pred_srt_tm)\n",
        "    #pred_dy_conf = pred_dy.conf_int()\n",
        "\n",
        "    # Make as pandas series\n",
        "    #pred_series = pd.Series(pred, index=testing_p.index)\n",
        "\n",
        "    sns.set_style('whitegrid')\n",
        "    fig, ax1 = plt.subplots(1, 1, figsize=(14, 4))\n",
        "\n",
        "    train_sales_cal_df['avg_sales'][ts_st_tm:].plot(label='original',\n",
        "                                                  alpha=0.7, \n",
        "                                                  lw=1.5 , ax=ax1)\n",
        "    pred.predicted_mean.plot(label='predicted_validation',\n",
        "                             alpha=0.9, color='red',\n",
        "                             lw=2, ax=ax1)\n",
        "    ax1.fill_between(pred_conf.index, \n",
        "                     pred_conf.iloc[:,0], \n",
        "                     pred_conf.iloc[:, 1], color='purple', alpha=0.2)\n",
        "    fig.tight_layout()\n",
        "    ax1.set_xlabel('Date')\n",
        "    ax1.set_ylabel('Mean Number of Sales')\n",
        "    plt.legend(loc='upper left')\n",
        "    plt.show()\n",
        "    \n",
        "    return pred\n",
        "\n",
        "pred_made = model_fit_SARIMAX(model_fit, ts_st_tm='2015')    "
      ],
      "metadata": {
        "execution": {
          "iopub.status.busy": "2021-12-29T13:40:25.394651Z",
          "iopub.status.idle": "2021-12-29T13:40:25.39513Z"
        },
        "trusted": true,
        "id": "CDlsJND3mQHJ"
      },
      "execution_count": null,
      "outputs": []
    },
    {
      "cell_type": "markdown",
      "source": [
        "Looking at the above graphical representation, we can see that: \n",
        "- our model (indicated by green line) provides quite a good enough approximation for modeling the time_series behavior with the maroon background indicating a confidence interval for the new predicted time series. \n",
        "- We have applied the model on the test_dataset (data already present in our time series). In the next step, we would try to predict this time series response in the future"
      ],
      "metadata": {
        "id": "KJpMHb6TmQHK"
      }
    },
    {
      "cell_type": "code",
      "source": [
        "#def forecast_error(prediction, original, date, col):\n",
        "#    \n",
        "#    '''\n",
        "#    returns the Mean Absolute Error (MAE) and root mean square error (RMSE)\n",
        "#    \n",
        "#    inputs: prediction (forecasted series, with dates as predicted above), original (orginal time series df), \n",
        "#            date (where the model was started for forecast), col(column with time_series_values)\n",
        "#    \n",
        "#    returns : MAE, and RMSE \n",
        "#    '''\n",
        "#    forecasted = prediction.predicted_mean\n",
        "#    original = original.loc[date:, col]\n",
        "#\n",
        "#    MAE = np.abs(forecasted - original).mean()\n",
        "#    RMSE = np.sqrt(((forecasted - original)**2).mean())\n",
        "#\n",
        "#    print(\"The mean absolute error is : {}\".format(MAE))\n",
        "#    print(\"The root mean square error is : {}\".format(RMSE))\n",
        "#\n",
        "#\n",
        "#forecast_error(pred_made, testing_p, '2015-10-15', 'avg_sales')    "
      ],
      "metadata": {
        "execution": {
          "iopub.status.busy": "2021-12-29T13:40:25.396103Z",
          "iopub.status.idle": "2021-12-29T13:40:25.396633Z"
        },
        "trusted": true,
        "id": "5938umFVmQHL"
      },
      "execution_count": null,
      "outputs": []
    },
    {
      "cell_type": "code",
      "source": [
        "#fitting the model once again now to all the timeseries data (train_sales_cal_df['avg_sales']) available:\n",
        "#old_values - 2,1,1 & 0,1,2,7\n",
        "model = SARIMAX(train_sales_cal_df['avg_sales'],\n",
        "                order=(2,1,1), seasonal_order=(2,1,1,7), \n",
        "                enforce_stationarity=False, enforce_invertibility=False)\n",
        "model_fit = model.fit(disp=0)"
      ],
      "metadata": {
        "execution": {
          "iopub.status.busy": "2021-12-29T13:40:25.397713Z",
          "iopub.status.idle": "2021-12-29T13:40:25.398232Z"
        },
        "trusted": true,
        "id": "Hh1F9MdbmQHM"
      },
      "execution_count": null,
      "outputs": []
    },
    {
      "cell_type": "code",
      "source": [
        "#Making Future Prediction:\n",
        "#note: exo_sub = exo.loc['2016-01-25':], if it is needed to provide the holidays , equate exo_sub to exog in get forecast\n",
        "\n",
        "#pred_future = model_fit.get_forecast(steps=90) #Making Prediction for next 3 months\n",
        "\n",
        "pred_future = model_fit.get_prediction(start='2016-04-24', end='2016-06-24', dynamic=False)\n",
        "pred_f_conf = pred_future.conf_int()\n",
        "\n",
        "fig, ax2 = plt.subplots(figsize=(16, 4))\n",
        "\n",
        "\n",
        "#now using the entire original series, instead of training or testing:\n",
        "\n",
        "train_sales_cal_df['avg_sales']['2015-06-15':].plot(label='original',\n",
        "                 alpha=0.7, \n",
        "                 lw=1.5 , color=next(color_cycle), ax=ax2)\n",
        "\n",
        "pred_future.predicted_mean.plot(label='one_step_ahead',\n",
        "                 alpha=0.9, \n",
        "                 lw=2, color=next(color_cycle), ax=ax2)\n",
        "\n",
        "ci = pred_f_conf.loc['2016-04-24':]\n",
        "\n",
        "ax2.fill_between(ci.index, \n",
        "                ci.iloc[:,0], \n",
        "                ci.iloc[:, 1], color=next(color_cycle), alpha=0.3)\n",
        "\n",
        "plt.legend(loc='upper left')\n",
        "plt.show()"
      ],
      "metadata": {
        "execution": {
          "iopub.status.busy": "2021-12-29T13:40:25.399309Z",
          "iopub.status.idle": "2021-12-29T13:40:25.39981Z"
        },
        "trusted": true,
        "id": "oJwaruKOmQHM"
      },
      "execution_count": null,
      "outputs": []
    },
    {
      "cell_type": "markdown",
      "source": [
        "The 'original' label represents the timeseries data for which we have the data of average sales available. Whereas the 'one_ahead_label' indicates the forecast made for the time series of average sales, AND the filled background indicates the confidence interval. \n",
        "\n",
        "The Forecast is a fairly good response of average number of sales that would be made into the future."
      ],
      "metadata": {
        "id": "6WmmojtxmQHN"
      }
    },
    {
      "cell_type": "markdown",
      "source": [
        "### WRMSSE Calculation\n",
        "\n",
        "In order to measure the performance of the model, the competition metric has been provided already. This competiton metric can be found at the guidlines provided in the following link. \n",
        "\n",
        "WRMSSE is a sales metric that derives itself from RMSSE metric which is a variation on the metric of MASE (mean absolute scaled error). RMSSE specifically evaluate the sales forecast for datasets where heirarchical data level is made available. Since the first dataset of train_sales_val has heirarchical sales data available (i.e.sales divided along product_ids, item_ids, dept_ids, and store_ids level) and one that is also intermittent (i.e. has greater incidence of zero sales in some days while significant sales in other days), RMSSE's utility makes sense. The RMSSE metric also penalizes too large or too small values, therefore it is symmetric. \n",
        "\n",
        "\\begin{equation}\n",
        "WRMSSE = \\sum_{i=1}^{42840} \\left(\\frac{W_i}{\\sqrt{S_i}} \\times \\sqrt{\\sum{(D)^2}}\\right)\n",
        "\\end{equation}\n",
        "\n",
        "Note: Difference in rolled up vectors is equal to their rolled up difference:\n",
        "\\begin{equation}\n",
        "Y×M−Y^×M=(Y−Y^)×M=D\n",
        "\\end{equation}\n",
        "\n",
        "where Y_t is the actual future value of the examined time series at point t, (Y_t ) is the generated forecast, n the length of the training sample (number of historical observations), and h the forecasting horizon. \n",
        "\n"
      ],
      "metadata": {
        "id": "n-L0P8W-mQHN"
      }
    },
    {
      "cell_type": "code",
      "source": [
        "# Memory reduction helper function:\n",
        "def reduce_mem_usage(df, verbose=True):\n",
        "    numerics = ['int16', 'int32', 'int64', 'float16', 'float32', 'float64']\n",
        "    start_mem = df.memory_usage().sum() / 1024**2    \n",
        "    for col in df.columns: #columns\n",
        "        col_type = df[col].dtypes\n",
        "        if col_type in numerics: #numerics\n",
        "            c_min = df[col].min()\n",
        "            c_max = df[col].max()\n",
        "            if str(col_type)[:3] == 'int':\n",
        "                if c_min > np.iinfo(np.int8).min and c_max < np.iinfo(np.int8).max:\n",
        "                    df[col] = df[col].astype(np.int8)\n",
        "                elif c_min > np.iinfo(np.int16).min and c_max < np.iinfo(np.int16).max:\n",
        "                    df[col] = df[col].astype(np.int16)\n",
        "                elif c_min > np.iinfo(np.int32).min and c_max < np.iinfo(np.int32).max:\n",
        "                    df[col] = df[col].astype(np.int32)\n",
        "                elif c_min > np.iinfo(np.int64).min and c_max < np.iinfo(np.int64).max:\n",
        "                    df[col] = df[col].astype(np.int64)  \n",
        "            else:\n",
        "                if c_min > np.finfo(np.float16).min and c_max < np.finfo(np.float16).max:\n",
        "                    df[col] = df[col].astype(np.float16)\n",
        "                elif c_min > np.finfo(np.float32).min and c_max < np.finfo(np.float32).max:\n",
        "                    df[col] = df[col].astype(np.float32)\n",
        "                else:\n",
        "                    df[col] = df[col].astype(np.float64)    \n",
        "    end_mem = df.memory_usage().sum() / 1024**2\n",
        "    if verbose: print('Mem. usage decreased to {:5.2f} Mb ({:.1f}% reduction)'.format(end_mem, 100 * (start_mem - end_mem) / start_mem))\n",
        "    return df\n",
        "\n",
        "calendar_df = reduce_mem_usage(calendar_df)\n",
        "\n",
        "sell_prices_df = reduce_mem_usage(sell_prices_df)"
      ],
      "metadata": {
        "execution": {
          "iopub.status.busy": "2021-12-29T13:40:25.400781Z",
          "iopub.status.idle": "2021-12-29T13:40:25.401145Z"
        },
        "trusted": true,
        "id": "z9IrbB4mmQHO"
      },
      "execution_count": null,
      "outputs": []
    },
    {
      "cell_type": "code",
      "source": [
        "from scipy.sparse import csr_matrix\n",
        "import gc\n",
        "\n",
        "NUM_ITEMS = train_sales_df.shape[0]  # 30490\n",
        "DAYS_PRED = submission_file.shape[1] - 1  # 28\n",
        "\n",
        "# Dataframe with only last 28 days:\n",
        "sales = train_sales_df\n",
        "cols = [\"d_{}\".format(i) for i in range(1914-28, 1914)]\n",
        "data = sales[[\"id\", 'store_id', 'item_id'] + cols]\n",
        "\n",
        "# To long form:\n",
        "data = data.melt(id_vars=[\"id\", 'store_id', 'item_id'], \n",
        "                 var_name=\"d\", value_name=\"sale\")\n",
        "\n",
        "# Add week of year column from 'calendar':\n",
        "data = pd.merge(data, calendar_df, how = 'left', \n",
        "                left_on = ['d'], right_on = ['d'])\n",
        "\n",
        "data = data[[\"id\", 'store_id', 'item_id', \"sale\", \"d\", \"wm_yr_wk\"]]\n",
        "\n",
        "# Add weekly price from 'sell_prices':\n",
        "data = data.merge(sell_prices_df, on = ['store_id', 'item_id', 'wm_yr_wk'], how = 'left')\n",
        "data.drop(columns = ['wm_yr_wk'], inplace=True)\n",
        "\n",
        "# Calculate daily sales in USD:\n",
        "data['sale_usd'] = data['sale'] * data['sell_price']\n",
        "data.head()\n",
        "\n",
        "#this part is correct"
      ],
      "metadata": {
        "execution": {
          "iopub.status.busy": "2021-12-29T13:40:25.40215Z",
          "iopub.status.idle": "2021-12-29T13:40:25.40251Z"
        },
        "trusted": true,
        "id": "-2GLmKs5mQHO"
      },
      "execution_count": null,
      "outputs": []
    },
    {
      "cell_type": "code",
      "source": [
        "# List of categories combinations for aggregations as defined in docs:\n",
        "dummies_list = [sales.state_id, sales.store_id, \n",
        "                sales.cat_id, sales.dept_id, \n",
        "                sales.state_id +'_'+ sales.cat_id, sales.state_id +'_'+ sales.dept_id,\n",
        "                sales.store_id +'_'+ sales.cat_id, sales.store_id +'_'+ sales.dept_id, \n",
        "                sales.item_id, sales.state_id +'_'+ sales.item_id, sales.id]\n",
        "\n",
        "\n",
        "## First element Level_0 aggregation 'all_sales':\n",
        "dummies_df_list =[pd.DataFrame(np.ones(sales.shape[0]).astype(np.int8), \n",
        "                               index=sales.index, columns=['all']).T]\n",
        "\n",
        "# List of dummy dataframes:\n",
        "for i, cats in enumerate(dummies_list):\n",
        "    dummies_df_list +=[pd.get_dummies(cats, drop_first=False, dtype=np.int8).T]\n",
        "    \n",
        "# Concat dummy dataframes in one go:\n",
        "## Level is constructed for free.\n",
        "roll_mat_df = pd.concat(dummies_df_list, keys=list(range(12)), \n",
        "                        names=['level','id'])#.astype(np.int8, copy=False)\n",
        "\n",
        "# Save values as sparse matrix & save index for future reference:\n",
        "roll_index = roll_mat_df.index\n",
        "roll_mat_csr = csr_matrix(roll_mat_df.values)\n",
        "roll_mat_csr.shape"
      ],
      "metadata": {
        "execution": {
          "iopub.status.busy": "2021-12-29T13:40:25.403528Z",
          "iopub.status.idle": "2021-12-29T13:40:25.404041Z"
        },
        "trusted": true,
        "id": "xB3JlAO_mQHP"
      },
      "execution_count": null,
      "outputs": []
    },
    {
      "cell_type": "code",
      "source": [
        "roll_mat_df.to_pickle('roll_mat_df.pkl')\n",
        "del dummies_df_list, roll_mat_df\n",
        "gc.collect()"
      ],
      "metadata": {
        "execution": {
          "iopub.status.busy": "2021-12-29T13:40:25.405301Z",
          "iopub.status.idle": "2021-12-29T13:40:25.405872Z"
        },
        "trusted": true,
        "id": "_tjk4G7rmQHP"
      },
      "execution_count": null,
      "outputs": []
    },
    {
      "cell_type": "code",
      "source": [
        "# Fucntion to calculate S weights:\n",
        "def get_s(drop_days=0):\n",
        "    \n",
        "    \"\"\"\n",
        "    drop_days: int, equals 0 by default, so S is calculated on all data.\n",
        "               If equals 28, last 28 days won't be used in calculating S.\n",
        "    \"\"\"\n",
        "    # Rollup sales:\n",
        "    d_name = ['d_' + str(i+1) for i in range(1913-drop_days)]\n",
        "    sales_train_val = roll_mat_csr * sales[d_name].values\n",
        "\n",
        "    no_sales = np.cumsum(sales_train_val, axis=1) == 0\n",
        "    sales_train_val = np.where(no_sales, np.nan, sales_train_val)\n",
        "\n",
        "    # Denominator of RMSSE / RMSSE\n",
        "    weight1 = np.nanmean(np.diff(sales_train_val,axis=1)**2,axis=1)\n",
        "    \n",
        "    return weight1"
      ],
      "metadata": {
        "execution": {
          "iopub.status.busy": "2021-12-29T13:40:25.406807Z",
          "iopub.status.idle": "2021-12-29T13:40:25.407333Z"
        },
        "trusted": true,
        "id": "BSJVU8JCmQHS"
      },
      "execution_count": null,
      "outputs": []
    },
    {
      "cell_type": "code",
      "source": [
        "S = get_s(drop_days=0)\n",
        "S.shape"
      ],
      "metadata": {
        "execution": {
          "iopub.status.busy": "2021-12-29T13:40:25.408189Z",
          "iopub.status.idle": "2021-12-29T13:40:25.408545Z"
        },
        "trusted": true,
        "id": "TDerVxIRmQHU"
      },
      "execution_count": null,
      "outputs": []
    },
    {
      "cell_type": "code",
      "source": [
        "# Functinon to calculate weights:\n",
        "def get_w(sale_usd):\n",
        "    \"\"\"\n",
        "    \"\"\"\n",
        "    # Calculate the total sales in USD for each item id:\n",
        "    total_sales_usd = sale_usd.groupby(\n",
        "        ['id'], sort=False)['sale_usd'].apply(np.sum).values\n",
        "    \n",
        "    # Roll up total sales by ids to higher levels:\n",
        "    weight2 = roll_mat_csr * total_sales_usd\n",
        "    \n",
        "    return 12*weight2/np.sum(weight2)"
      ],
      "metadata": {
        "execution": {
          "iopub.status.busy": "2021-12-29T13:40:25.409533Z",
          "iopub.status.idle": "2021-12-29T13:40:25.410026Z"
        },
        "trusted": true,
        "id": "jOaeaBW2mQHU"
      },
      "execution_count": null,
      "outputs": []
    },
    {
      "cell_type": "code",
      "source": [
        "W = get_w(data[['id','sale_usd']])\n",
        "W.shape"
      ],
      "metadata": {
        "execution": {
          "iopub.status.busy": "2021-12-29T13:40:25.410885Z",
          "iopub.status.idle": "2021-12-29T13:40:25.411223Z"
        },
        "trusted": true,
        "id": "-0JhcjY-mQHU"
      },
      "execution_count": null,
      "outputs": []
    },
    {
      "cell_type": "code",
      "source": [
        "# Predicted weights\n",
        "##W_df = pd.DataFrame(W,index = roll_index,columns=['w'])\n",
        "\n",
        "# Load the original weights:\n",
        "##data_pass = '/kaggle/input/original-weights/'\n",
        "##W_original_df = pd.read_csv(data_pass+'weights_validation.csv')\n",
        "\n",
        "# Set new index, calculate difference between original and predicted:\n",
        "##W_original_df = W_original_df.set_index(W_df.index)\n",
        "##W_original_df['Predicted'] = W_df.w\n",
        "##W_original_df['diff'] = W_original_df.Weight - W_original_df.Predicted\n",
        "\n",
        "# See where we are off by more than e-6\n",
        "##m = W_original_df.Weight.values - W_df.w.values > 0.000001\n",
        "##W_original_df[m]"
      ],
      "metadata": {
        "execution": {
          "iopub.status.busy": "2021-12-29T13:40:25.412133Z",
          "iopub.status.idle": "2021-12-29T13:40:25.41256Z"
        },
        "trusted": true,
        "id": "0gMSjESemQHU"
      },
      "execution_count": null,
      "outputs": []
    },
    {
      "cell_type": "code",
      "source": [
        "SW = W/np.sqrt(S)\n",
        "sw_df = pd.DataFrame(np.stack((S, W, SW), axis=-1),index = roll_index,columns=['s','w','sw'])\n",
        "sw_df.to_pickle('sw_df.pkl')"
      ],
      "metadata": {
        "execution": {
          "iopub.status.busy": "2021-12-29T13:40:25.413503Z",
          "iopub.status.idle": "2021-12-29T13:40:25.414073Z"
        },
        "trusted": true,
        "id": "go082BnbmQHU"
      },
      "execution_count": null,
      "outputs": []
    },
    {
      "cell_type": "code",
      "source": [
        "# Function to do quick rollups:\n",
        "def rollup(v):\n",
        "    '''\n",
        "    v - np.array of size (30490 rows, n day columns)\n",
        "    v_rolledup - array of size (n, 42840)\n",
        "    '''\n",
        "    return roll_mat_csr*v #(v.T*roll_mat_csr.T).T\n",
        "\n",
        "\n",
        "# Function to calculate WRMSSE:\n",
        "def wrmsse(preds, y_true, score_only=False, s = S, w = W, sw=SW):\n",
        "    '''\n",
        "    preds - Predictions: pd.DataFrame of size (30490 rows, N day columns)\n",
        "    y_true - True values: pd.DataFrame of size (30490 rows, N day columns)\n",
        "    sequence_length - np.array of size (42840,)\n",
        "    sales_weight - sales weights based on last 28 days: np.array (42840,)\n",
        "    '''\n",
        "    \n",
        "    if score_only:\n",
        "        return np.sum(\n",
        "                np.sqrt(\n",
        "                    np.mean(\n",
        "                        np.square(rollup(preds.values-y_true.values))\n",
        "                            ,axis=1)) * sw)/12 #<-used to be mistake here\n",
        "    else: \n",
        "        score_matrix = (np.square(rollup(preds.values-y_true.values)) * np.square(w)[:, None])/ s[:, None]\n",
        "        score = np.sum(np.sqrt(np.mean(score_matrix,axis=1)))/12 #<-used to be mistake here\n",
        "        return score, score_matrix"
      ],
      "metadata": {
        "execution": {
          "iopub.status.busy": "2021-12-29T13:40:25.415334Z",
          "iopub.status.idle": "2021-12-29T13:40:25.415858Z"
        },
        "trusted": true,
        "id": "ut996rF5mQHV"
      },
      "execution_count": null,
      "outputs": []
    },
    {
      "cell_type": "markdown",
      "source": [
        "### **Prophet Time Series Modeling**\n",
        "Prophet is a time-series forecasting tool developed by facebook team that has advanced capabilities to predict the time series data taking into consideration the weekly, monthly or yearly data seasonality. Prophet also has advanced capability to implement custom changepoints observed in time series data as well as specify holiday points where trends are continuously changing."
      ],
      "metadata": {
        "id": "f5Qy7Rm-mQHV"
      }
    },
    {
      "cell_type": "code",
      "source": [
        "#dates_s = [pd.to_datetime(calendar_df.loc[calendar_df['d'] == str_date,'date'].values[0]) for str_date in d_cols]\n"
      ],
      "metadata": {
        "execution": {
          "iopub.status.busy": "2021-12-29T13:40:25.416864Z",
          "iopub.status.idle": "2021-12-29T13:40:25.417309Z"
        },
        "trusted": true,
        "id": "TWbt7ClUmQHW"
      },
      "execution_count": null,
      "outputs": []
    },
    {
      "cell_type": "code",
      "source": [
        "#df_sale_group_item = train_sales_df[np.hstack([['dept_id','store_id'],d_cols])].groupby(['dept_id','store_id']).sum()\n",
        "#df_sale_group_item = df_sale_group_item.reset_index()\n",
        "\n",
        "#item_series =  df_sale_group_item[(df_sale_group_item.dept_id == 'FOODS_1') & (df_sale_group_item.store_id == 'TX_1')]\n",
        "#dates = pd.DataFrame({'ds': dates_s}, index=range(len(dates_s)))\n",
        "#dates['y'] = item_series[d_cols].values[0].transpose() "
      ],
      "metadata": {
        "execution": {
          "iopub.status.busy": "2021-12-29T13:40:25.418214Z",
          "iopub.status.idle": "2021-12-29T13:40:25.418762Z"
        },
        "trusted": true,
        "id": "3gdjI8_nmQHX"
      },
      "execution_count": null,
      "outputs": []
    },
    {
      "cell_type": "markdown",
      "source": [
        "### Fb Prophet: Training and Validation Data Split"
      ],
      "metadata": {
        "id": "SPuE8EGnmQHX"
      }
    },
    {
      "cell_type": "code",
      "source": [
        "#prophet forecast from here\n",
        "from fbprophet import Prophet\n",
        "from tqdm.notebook import tqdm as tqdm\n",
        "\n",
        "####Observing behavior of Avg Number of Sales using Prophet#######\n",
        "####Converting the data into required ds and y format for Prophet Model#####\n",
        "\n",
        "ts = train_sales_cal_df[['avg_sales']].reset_index()\n",
        "ts = ts.set_axis(['ds', 'y'], axis=1, inplace=False)\n",
        "\n",
        "#####Specifying data for only one year to better visulize future predictions#######\n",
        "threshold_date = pd.to_datetime('2015-04-22') \n",
        "select_d = ts ['ds'] > threshold_date\n",
        "\n",
        "ts = ts[select_d][['ds', 'y']]\n",
        "\n",
        "#####prophet_plot(ts)######\n",
        "\n",
        "mod_params = { 'weekly_seasonality': True, 'seasonality_mode': 'multiplicative'} \n",
        "sales_model = Prophet(**mod_params, interval_width=0.95)\n",
        "#data['cap'] = data['y'].max() + data['y'].std() * 0.05 #incase logistic model growth used\n",
        "\n",
        "######fitting the prophet model########\n",
        "\n",
        "sales_model.fit(ts)\n",
        "future = sales_model.make_future_dataframe(28, 'D')\n",
        "#future['cap'] = data['cap'].max() #incase logistic model growth used in params\n",
        "sales_forecast = sales_model.predict(future)\n",
        "\n",
        "########Train/Test split of Data#######################\n",
        "\n",
        "threshold_date = pd.to_datetime('2016-03-01') #for the test/validation split\n",
        "forecast_date = pd.to_datetime('2016-04-24') #for the actual forecast date to begin\n",
        "select_d = ts ['ds'] < threshold_date\n",
        "\n",
        "ts_train = ts[select_d][['ds', 'y']]\n",
        "ts_test = ts[~ select_d][['ds', 'y']]\n",
        "\n",
        "select_d2 = sales_forecast['ds'] < forecast_date\n",
        "\n",
        "\n",
        "forecast_train = sales_forecast[select_d2]\n",
        "forecast_test = sales_forecast[~ select_d2]\n"
      ],
      "metadata": {
        "execution": {
          "iopub.status.busy": "2021-12-29T13:40:25.419803Z",
          "iopub.status.idle": "2021-12-29T13:40:25.420227Z"
        },
        "trusted": true,
        "id": "W7oaQr_JmQHX"
      },
      "execution_count": null,
      "outputs": []
    },
    {
      "cell_type": "markdown",
      "source": [
        "### Prophet Forecasting On Average Sales Using Seaborn"
      ],
      "metadata": {
        "id": "c5l5ioHhmQHY"
      }
    },
    {
      "cell_type": "code",
      "source": [
        "#Seaborn based plot for the fb_Prophet Model\n",
        "sns.set_style('whitegrid')\n",
        "sns_c = sns.color_palette(palette='deep')\n",
        "\n",
        "fig, ax = plt.subplots(figsize=(15,5))\n",
        "\n",
        "ax.fill_between(\n",
        "    x=sales_forecast['ds'], y1=sales_forecast['yhat_lower'], y2=sales_forecast['yhat_upper'],\n",
        "    color=sns_c[2],  alpha=0.25, label=r'95% confidence_interval'\n",
        ")\n",
        "\n",
        "sns.lineplot(x='ds', y='y', label='y_train', data=ts_train, ax=ax)\n",
        "sns.lineplot(x='ds', y='y', label='y_test', data=ts_test, ax=ax)\n",
        "#sns.lineplot(x='ds', y='yhat', label='y_hat', data=sales_forecast, ax=ax)\n",
        "sns.lineplot(x='ds', y='yhat', label='y_hat', data=forecast_test, ax=ax)\n",
        "ax.axvline(forecast_date, color='g', linestyle='--', label='train test split')\n",
        "\n",
        "ax.legend(loc='lower left')\n",
        "ax.set(title='Avg Sales of Units', ylabel='');"
      ],
      "metadata": {
        "execution": {
          "iopub.status.busy": "2021-12-29T13:40:25.421379Z",
          "iopub.status.idle": "2021-12-29T13:40:25.421949Z"
        },
        "trusted": true,
        "id": "8_ZA9j8fmQHY"
      },
      "execution_count": null,
      "outputs": []
    },
    {
      "cell_type": "markdown",
      "source": [
        "The above plot indicates the prophet model forecasting using average number of sales as a dependent variable. The plot indicatest that:\n",
        "- y_train(blue line plot) represents the training set data\n",
        "- y_test (green line ) is representative of validation data response\n",
        "- y_hat (red line) is a modeled response obtained using the Prophet Prediction Model\n",
        "- green filled area represents the 95 % confidence interval for the plot "
      ],
      "metadata": {
        "id": "Hx_fSidLmQHY"
      }
    },
    {
      "cell_type": "markdown",
      "source": [
        "### Prophet Forecast Using Individual Product IDs"
      ],
      "metadata": {
        "id": "RXCnzjZxmQHY"
      }
    },
    {
      "cell_type": "code",
      "source": [
        "#selecting the product ids for which we require prophet prediction\n",
        "\n",
        "id1 = 'FOODS_3_443_CA_1_validation'\n",
        "id2 =  'HOUSEHOLD_1_005_CA_3_validation'\n",
        "id3 =  'FOODS_3_823_WI_3_validation'\n",
        "id4 = 'FOODS_3_090_CA_3_validation'\n",
        "id5 = 'FOODS_3_586_TX_2_validation'\n",
        "id6 = 'FOODS_3_586_TX_3_validation'\n",
        "\n",
        "#train_sales_cal_df[id2]\n"
      ],
      "metadata": {
        "execution": {
          "iopub.status.busy": "2021-12-29T13:40:25.423043Z",
          "iopub.status.idle": "2021-12-29T13:40:25.42353Z"
        },
        "trusted": true,
        "id": "hZBcBNdImQHY"
      },
      "execution_count": null,
      "outputs": []
    },
    {
      "cell_type": "code",
      "source": [
        "def make_id_timeseries(idx, date='2016-02-22'):\n",
        "    \n",
        "    '''\n",
        "    selects and makes the timeseries adjusted for fb prophet model by adjusting names\n",
        "    of columns\n",
        "    \n",
        "    inputs: product_id\n",
        "    \n",
        "    returns: time series with data specified in format for prophet\n",
        "    \n",
        "    '''\n",
        "    \n",
        "    dates_series = [date for date in train_sales_cal_df.index]\n",
        "    id_series =  train_sales_df[(train_sales_df.id == idx )]\n",
        "    item_ts = pd.DataFrame({'ds': dates_series}, index=range(len(dates_series)))\n",
        "    item_ts['y'] = id_series[d_cols].values[0].transpose()\n",
        "    \n",
        "    ######Following steps would shorten the behavior of historic timeline data########\n",
        "    ######Choosing the threshold date near to the date where prediction needs to be made \n",
        "    ######because of close correlation in time series\n",
        "    \n",
        "    threshold_date = pd.to_datetime(date) \n",
        "    mask = item_ts['ds'] > threshold_date\n",
        "\n",
        "    item_ts = item_ts[mask][['ds', 'y']]\n",
        "    \n",
        "    return item_ts\n",
        "\n",
        "data1 = make_id_timeseries(id6)\n",
        "data4 = make_id_timeseries(id4)"
      ],
      "metadata": {
        "execution": {
          "iopub.status.busy": "2021-12-29T13:40:25.424401Z",
          "iopub.status.idle": "2021-12-29T13:40:25.424901Z"
        },
        "trusted": true,
        "id": "F7-6MBwpmQHY"
      },
      "execution_count": null,
      "outputs": []
    },
    {
      "cell_type": "code",
      "source": [
        "#weighted_coeff = (df_cv['yhat'] - df_cv['y'])/(df_cv['yhat'] - df_cv['y']).mean()\n",
        "#e = ((df_cv['yhat'] - df_cv['y']) * weighted_coeff )/ (weighted_coeff*df_cv['y'])\n",
        "#resulting_wmape = pd.DataFrame(df_cv['yhat'], df_cv['y'], weighted_coeff, e)\n",
        "##print(\"yhat:{}, actual:{}, coeff:{}, error:{}\".format(df_cv['yhat'], df_cv['y'], weighted_coeff, e))\n",
        "#data = {'yhat':list(df_cv['yhat']),\n",
        "#        'actual':list(df_cv['y']),\n",
        "#        'diff' : list(df_cv['yhat'] - df_cv['y']),\n",
        "#       'weighted_coef': list(weighted_coeff), \n",
        "#       'error': list(e)}\n",
        "#  \n",
        "# Create DataFrame\n",
        "#pd.DataFrame(data)"
      ],
      "metadata": {
        "execution": {
          "iopub.status.busy": "2021-12-29T13:40:25.425903Z",
          "iopub.status.idle": "2021-12-29T13:40:25.426332Z"
        },
        "trusted": true,
        "id": "weL_fJhRmQHZ"
      },
      "execution_count": null,
      "outputs": []
    },
    {
      "cell_type": "markdown",
      "source": [
        "### Custom Loss Function For Fb Prophet Tuning"
      ],
      "metadata": {
        "id": "yGZPnqsGmQHZ"
      }
    },
    {
      "cell_type": "code",
      "source": [
        "##########New Code Working For Custom Error###########\n",
        "import itertools\n",
        "from fbprophet.diagnostics import cross_validation\n",
        "from fbprophet.diagnostics import performance_metrics\n",
        "\n",
        "#Note : the code was generated using the explanation at the following link\n",
        "#https://www.baeldung.com/cs/mape-vs-wape-vs-wmape\n",
        "\n",
        "def fbprophet_tuning_per_single_id(id_data, changepoint_prior_list=[0.5, 0.6, 0.7], \n",
        "                                   changepoint_range_list=[0.6, 0.7, 0.8], \n",
        "                                   n_changepoints_list=[50, 60]):\n",
        "    param_grid = {  \n",
        "        'changepoint_prior_scale': changepoint_prior_list,\n",
        "        'changepoint_range': changepoint_range_list,\n",
        "        'n_changepoints' : n_changepoints_list\n",
        "    }\n",
        "\n",
        "    # Generate all combinations of parameters\n",
        "    all_params = [dict(zip(param_grid.keys(), v)) for v in itertools.product(*param_grid.values())]\n",
        "    #wapes = []  # Store the RMSEs for each params here\n",
        "    wmapes = []\n",
        "\n",
        "    # Use cross validation to evaluate all parameters\n",
        "    for params in all_params:\n",
        "        mod = Prophet(**params).fit(id_data)  # Fit model with given params\n",
        "        df_cv = cross_validation(mod, initial = '32 days', period = '3 days', horizon='28 days')\n",
        "        #df_p = performance_metrics(df_cv, rolling_window=1)\n",
        "        #rmses.append(df_p['rmse'].values[0])\n",
        "        #wapes.append(np.sum(df_cv['yhat'] - df_cv['y']) / (np.sum(df_cv['y'])))\n",
        "        weighted_coeff = (df_cv['yhat'] - df_cv['y'])/(df_cv['yhat'] - df_cv['y']).mean()\n",
        "        wmapes.append(np.sum((df_cv['yhat'] - df_cv['y']) * weighted_coeff )/ np.sum(weighted_coeff*df_cv['y']) )\n",
        "\n",
        "    # Find the best parameters\n",
        "    tuning_results = pd.DataFrame(all_params)\n",
        "    tuning_results['wmape'] = wmapes\n",
        "    print(tuning_results)\n",
        "    \n",
        "fbprophet_tuning_per_single_id(data1)    "
      ],
      "metadata": {
        "execution": {
          "iopub.status.busy": "2021-12-29T13:40:25.427433Z",
          "iopub.status.idle": "2021-12-29T13:40:25.427897Z"
        },
        "trusted": true,
        "id": "FjTi9FhSmQHf"
      },
      "execution_count": null,
      "outputs": []
    },
    {
      "cell_type": "code",
      "source": [
        "def prophet_plot(data, periods=28, freq='D'):\n",
        "    \n",
        "    '''\n",
        "    plots the fb prophet model for the data of id specified\n",
        "    \n",
        "    inputs: data (product id along with data for previous days), periods(predictions for \n",
        "    the next days to be made)\n",
        "    \n",
        "    returns: plots the immediate historic data along with forecast for the future made\n",
        "    '''\n",
        "    \n",
        "    mod_params = { 'weekly_seasonality': True, 'seasonality_mode': 'multiplicative'} \n",
        "\n",
        "    sales_model = Prophet(**mod_params, holidays=holidays, interval_width=0.95)\n",
        "    #data['cap'] = data['y'].max() + data['y'].std() * 0.05 #incase logistic model growth used\n",
        "    #fitting the model\n",
        "    sales_model.fit(data)\n",
        "    future = sales_model.make_future_dataframe(periods, freq)\n",
        "    #future['cap'] = data['cap'].max() #incase logistic model growth used in params\n",
        "\n",
        "    sales_forecast = sales_model.predict(future)\n",
        "    \n",
        "    plt.figure(figsize=(15,3))\n",
        "    #fig, ax = plt.subplots(figsize=(14,5))\n",
        "    sales_model.plot(sales_forecast, xlabel='Date', ylabel='Unit Sales Behavior')\n",
        "    #plt.axvline(x=sales_forecast[sales_forecast.ds == '2016-04-22']['ds'], color='r')\n",
        "    #ax.axvline(threshold_date, color='g', linestyle='--', label='Prediction Onwards')\n",
        "    #ax.legend(loc='upper left')\n",
        "    #ax.set(title='Avg Sales of Units', ylabel='');\n",
        "    plt.title(\"Unit Sales Trend on Each ID\")\n",
        "    plt.show()\n",
        "\n",
        "\n",
        "prophet_plot(data1)\n",
        "prophet_plot(data4)    "
      ],
      "metadata": {
        "execution": {
          "iopub.status.busy": "2021-12-29T13:40:25.429346Z",
          "iopub.status.idle": "2021-12-29T13:40:25.43016Z"
        },
        "trusted": true,
        "id": "RKsGMKKJmQHg"
      },
      "execution_count": null,
      "outputs": []
    },
    {
      "cell_type": "markdown",
      "source": [
        "These prophet plots of the individual product_ids indicate that the prophet model does quite a significantly better job at predicting the future response of the number of sales for each product_id. \n",
        "\n",
        "We are going to use prophet model at predicting number of sales for individual ids because it would provide us with a better suited data for participation into the competition than say, using an average of sales for each product, as we did in SARIMAX."
      ],
      "metadata": {
        "id": "pYzZj5oImQHg"
      }
    },
    {
      "cell_type": "code",
      "source": [
        "all_ids = train_sales_cal_df.columns.drop(['daysnum', 'avg_sales'])\n",
        "sales_forecast_list = []\n",
        "\n",
        "def prophet_pred_df(start=15500, end=15650):\n",
        "    '''\n",
        "    makes a dataframe with prophet predictions made for each product_id \n",
        "    \n",
        "    input: start = product_id start, end = product_id to be the last one for prediction\n",
        "    \n",
        "    returns: dataframe with predictions made for the next 28 days using prophet of the product\n",
        "             ids specified in input\n",
        "    '''\n",
        "\n",
        "    for idc in tqdm(range(start, end)):\n",
        "        train_sub = train_sales_cal_df.iloc[-28:, idc].reset_index()\n",
        "        idx = train_sub.columns[1]\n",
        "        train_sub.set_axis(['ds', 'y'], axis=1, inplace=True)\n",
        "        mod_params = { 'changepoint_prior_scale': 0.5 , 'changepoint_range': 0.6,\n",
        "                      'n_changepoints': 50, \n",
        "                      'weekly_seasonality': True, 'seasonality_mode': 'multiplicative'} \n",
        "        sales_model = Prophet(**mod_params, interval_width=0.95)\n",
        "        #data['cap'] = data['y'].max() + data['y'].std() * 0.05 #incase logistic model growth used\n",
        "\n",
        "        ######fitting the prophet model########\n",
        "        \n",
        "        sales_model.fit(train_sub)\n",
        "        future = sales_model.make_future_dataframe(28, 'D')\n",
        "        #future['cap'] = data['cap'].max() #incase logistic model growth used in params\n",
        "        sales_forecast = sales_model.predict(future)[-28:]\n",
        "        sales_forecast_list.append( (np.append(np.array([idx]), sales_forecast['yhat'].values.transpose())) )\n",
        "    \n",
        "    return sales_forecast_list\n",
        "\n",
        "#list_table would collect all entries\n",
        "\n",
        "list_table = prophet_pred_df()"
      ],
      "metadata": {
        "execution": {
          "iopub.status.busy": "2021-12-29T13:40:25.431431Z",
          "iopub.status.idle": "2021-12-29T13:40:25.431831Z"
        },
        "trusted": true,
        "id": "WXUWgFAJmQHg"
      },
      "execution_count": null,
      "outputs": []
    },
    {
      "cell_type": "code",
      "source": [
        "#changing column names to those as specified in submission file\n",
        "df_prophet_forecast = pd.DataFrame(list_table)\n",
        "df_prophet_forecast.columns = submission_file.columns\n",
        "#df_prophet_forecast = df_prophet_forecast.round(decimals = 2)\n",
        "df_prophet_forecast.head(6)"
      ],
      "metadata": {
        "execution": {
          "iopub.status.busy": "2021-12-29T13:40:25.433048Z",
          "iopub.status.idle": "2021-12-29T13:40:25.433486Z"
        },
        "trusted": true,
        "id": "NC7QTedHmQHh"
      },
      "execution_count": null,
      "outputs": []
    },
    {
      "cell_type": "code",
      "source": [
        "########Remove Unwanted Columns###################\n",
        "train_sales_df = train_sales_df.drop(['total_sales_all_days', 'avg_sales_all_days', 'median_sales_all_days'], axis=1)\n",
        "\n",
        "###########Making the dataframe of predictions for all ids############\n",
        "req_sales_df = train_sales_df.iloc[:, np.r_[0,-28:0]].melt('id', var_name='d', value_name='sale')\n",
        "req_sales_df = req_sales_df.merge(calendar_df.loc[:,['d','date','wday']])\n",
        "#req_sales_df\n",
        "lastest_date = int(req_sales_df.d.max()[2:])\n",
        "req_sales_df = req_sales_df.groupby(['id','wday'])['sale'].mean()\n",
        "req_sales_df.head(7)"
      ],
      "metadata": {
        "execution": {
          "iopub.status.busy": "2021-12-29T13:40:25.434507Z",
          "iopub.status.idle": "2021-12-29T13:40:25.435176Z"
        },
        "trusted": true,
        "id": "IgOrB9FWmQHh"
      },
      "execution_count": null,
      "outputs": []
    },
    {
      "cell_type": "code",
      "source": [],
      "metadata": {
        "id": "g5O1BN8KmQHh"
      },
      "execution_count": null,
      "outputs": []
    },
    {
      "cell_type": "code",
      "source": [
        "###########Generating Submission Dataframe of ids for 28 next days with 0 values############\n",
        "\n",
        "mv_avg_forecast = submission_file.copy()\n",
        "mv_avg_forecast.columns = ['id'] + ['d_' + str(lastest_date + x) for x in range(1, 29)]\n",
        "mv_avg_forecast = mv_avg_forecast.loc[mv_avg_forecast.id.str.contains('validation')]\n",
        "#mv_avg_forecast"
      ],
      "metadata": {
        "execution": {
          "iopub.status.busy": "2021-12-29T13:40:25.436219Z",
          "iopub.status.idle": "2021-12-29T13:40:25.436773Z"
        },
        "trusted": true,
        "id": "ahqB9UA3mQHh"
      },
      "execution_count": null,
      "outputs": []
    },
    {
      "cell_type": "code",
      "source": [
        "###########Generating Dataframe for Moving Average Values###############\n",
        "\n",
        "mv_avg_forecast = mv_avg_forecast.melt('id', var_name='d', value_name='sale')\n",
        "mv_avg_forecast = mv_avg_forecast.drop('sale',axis = 1)\n",
        "#mv_avg_forecast\n",
        "\n",
        "mv_avg_forecast = mv_avg_forecast.merge(calendar_df.loc[:,['d','date','wday']])\n",
        "mv_avg_forecast = mv_avg_forecast.join(req_sales_df, on=['id', 'wday'])\n",
        "#mv_avg_forecast\n",
        "\n",
        "mv_avg_forecast = mv_avg_forecast.pivot(index='id', columns='d', values='sale')\n",
        "mv_avg_forecast = mv_avg_forecast.reset_index()\n",
        "mv_avg_forecast"
      ],
      "metadata": {
        "execution": {
          "iopub.status.busy": "2021-12-29T13:40:25.437878Z",
          "iopub.status.idle": "2021-12-29T13:40:25.438274Z"
        },
        "trusted": true,
        "id": "L4MuPAX_mQHi"
      },
      "execution_count": null,
      "outputs": []
    },
    {
      "cell_type": "code",
      "source": [
        "#del mv_avg_forecast.index.name\n",
        "mv_avg_forecast.rename_axis(None).index.name\n",
        "mv_avg_forecast.head(4)"
      ],
      "metadata": {
        "execution": {
          "iopub.status.busy": "2021-12-29T13:40:25.440517Z",
          "iopub.status.idle": "2021-12-29T13:40:25.440988Z"
        },
        "trusted": true,
        "id": "B5tpk2BemQHi"
      },
      "execution_count": null,
      "outputs": []
    },
    {
      "cell_type": "code",
      "source": [
        "#df_sub_valid = pd.concat([mv_avg_forecast, df_prophet_forecast_1, \n",
        "#                        df_prophet_forecast_2,df_prophet_forecast_3, \n",
        "#                        df_prophet_forecast_4, df_prophet_forecast_5, \n",
        "#                        df_prophet_forecast_6], sort=False)\n",
        "\n",
        "#re-adjusting the old columns against new-ones\n",
        "\n",
        "mv_avg_forecast.columns = submission_file.columns\n",
        "\n",
        "df_valid = pd.concat([mv_avg_forecast[~mv_avg_forecast.id.isin(df_prophet_forecast.id)], df_prophet_forecast], sort=False)\n",
        "\n",
        "df_eval = df_valid.copy()\n",
        "df_eval['id'] = df_eval['id'].str.replace(\"validation\", \"evaluation\")\n",
        "\n",
        "submission_df = pd.concat([df_valid, df_eval], sort=False)\n",
        "submission_df = submission_df.sort_values('id')\n"
      ],
      "metadata": {
        "execution": {
          "iopub.status.busy": "2021-12-29T13:40:25.442158Z",
          "iopub.status.idle": "2021-12-29T13:40:25.442776Z"
        },
        "trusted": true,
        "id": "TgiYgXtvmQHi"
      },
      "execution_count": null,
      "outputs": []
    },
    {
      "cell_type": "code",
      "source": [
        "submission_df.columns"
      ],
      "metadata": {
        "execution": {
          "iopub.status.busy": "2021-12-29T13:40:25.443805Z",
          "iopub.status.idle": "2021-12-29T13:40:25.444177Z"
        },
        "trusted": true,
        "id": "sd0i9B_LmQHi"
      },
      "execution_count": null,
      "outputs": []
    },
    {
      "cell_type": "code",
      "source": [
        "#submission_df.columns = ['id'] + ['F' + str(x) for x in range(1, 29)]\n",
        "#submission_df"
      ],
      "metadata": {
        "execution": {
          "iopub.status.busy": "2021-12-29T13:40:25.445245Z",
          "iopub.status.idle": "2021-12-29T13:40:25.44561Z"
        },
        "trusted": true,
        "id": "Y2J0DIZUmQHi"
      },
      "execution_count": null,
      "outputs": []
    },
    {
      "cell_type": "markdown",
      "source": [
        "### WRMSSE Error Calculation on Prediction"
      ],
      "metadata": {
        "id": "5NO7QYlsmQHi"
      }
    },
    {
      "cell_type": "code",
      "source": [
        "#DAYS_PRED = 28\n",
        "dayCols = [\"d_{}\".format(i) for i in range(1914-DAYS_PRED, 1914)]\n",
        "y_true = train_sales_df[dayCols]"
      ],
      "metadata": {
        "execution": {
          "iopub.status.busy": "2021-12-29T13:40:25.446653Z",
          "iopub.status.idle": "2021-12-29T13:40:25.447054Z"
        },
        "trusted": true,
        "id": "3d9cJMZDmQHj"
      },
      "execution_count": null,
      "outputs": []
    },
    {
      "cell_type": "code",
      "source": [
        "df_valid_w = df_valid.drop('id', 1)\n",
        "for col in df_valid_w.columns:\n",
        "    df_valid_w[col] = pd.to_numeric(df_valid_w[col], errors='coerce')#.convert_dtypes() cp95 solution recommends using convertdtypes if nan present"
      ],
      "metadata": {
        "execution": {
          "iopub.status.busy": "2021-12-29T13:40:25.448045Z",
          "iopub.status.idle": "2021-12-29T13:40:25.448488Z"
        },
        "trusted": true,
        "id": "UIY_QOAbmQHj"
      },
      "execution_count": null,
      "outputs": []
    },
    {
      "cell_type": "code",
      "source": [
        "wrmsse(y_true, df_valid_w, score_only=True)"
      ],
      "metadata": {
        "execution": {
          "iopub.status.busy": "2021-12-29T13:40:25.449507Z",
          "iopub.status.idle": "2021-12-29T13:40:25.450014Z"
        },
        "trusted": true,
        "id": "MOQvUcCWmQHj"
      },
      "execution_count": null,
      "outputs": []
    },
    {
      "cell_type": "markdown",
      "source": [
        "### Final Submission File Preparation"
      ],
      "metadata": {
        "id": "rssdFxvqmQHj"
      }
    },
    {
      "cell_type": "code",
      "source": [
        "# Fix negative forecast\n",
        "num = submission_df._get_numeric_data()\n",
        "num[num < 0] = 0\n",
        "# Prepare the submission file\n",
        "submission_df.to_csv('submission.csv', index=False)\n",
        "\n",
        "print(f'Submission shape: {submission_df.shape}')"
      ],
      "metadata": {
        "execution": {
          "iopub.status.busy": "2021-12-29T13:40:25.451226Z",
          "iopub.status.idle": "2021-12-29T13:40:25.45192Z"
        },
        "trusted": true,
        "id": "jo4pUQIimQHk"
      },
      "execution_count": null,
      "outputs": []
    },
    {
      "cell_type": "code",
      "source": [
        "#kaggle competitions submit -c m5-forecasting-accuracy -f submission.csv -m \"from 450 to 600\""
      ],
      "metadata": {
        "execution": {
          "iopub.status.busy": "2021-12-29T13:40:25.452871Z",
          "iopub.status.idle": "2021-12-29T13:40:25.453294Z"
        },
        "trusted": true,
        "id": "vUBpkMx8mQHk"
      },
      "execution_count": null,
      "outputs": []
    },
    {
      "cell_type": "markdown",
      "source": [
        "The resullts will be compiled here :\n",
        "- First file with 50 ids prediction from 500 to 550 had an accuracy of 0.752\n",
        "- Second file with 260 (from 20 to 280) ids and holidays included had accuracy of 0.758\n",
        "- Third file with holidays removed, and 310 ids yields a public score of 0.754\n",
        "- Fourth file with simple moving average chosen yields a public leaderboard score of 1.082\n",
        "- Fifth file with product ids ranging from 350th to 1000th yielded a public leaderboard score of 0.7576\n",
        "- Sixth submission with product ids from 450th to 600th resulted in public leaderboard score of 0.7531\n",
        "- Seventh submission with product ids ranging from 15500th to 16000th gave a public leaderboard score 0.752\n",
        "- Eighth submission file with product ids ranging from 15500th to 17000th (almost 1500 product ids) using prophet forecast, resulted in public leaderboard score improvement for 0.738"
      ],
      "metadata": {
        "id": "Wy75tKBimQHk"
      }
    },
    {
      "cell_type": "markdown",
      "source": [
        "## Further Recommendations on Improvement\n",
        "\n",
        "Usingh the prophet model along with a general moving average prediction for rest of the ids not predicted using prophet model were used to make forecast for the next 28 days. However, the accuracy score from kaggle private leaderboard has come out to be around 0.73. There are a few other kernels that have described ways to improve this further\n",
        "\n",
        "Please Feel Free to Improve Upon this notebook and give your feedback\n",
        "\n",
        "- Run the model of prophet forecast for atleast 1/3rd of the all product ids to explore its potential of improving the forecast , using a fast machine.\n",
        "- Use another model implementation such as LightGBM, Convolution NN to improve the score\n",
        "- Make new features with rolling mean as well as a lag feature that have been observed to improve score when using models such as lightgbm"
      ],
      "metadata": {
        "id": "KxbzQJuhmQHk"
      }
    },
    {
      "cell_type": "markdown",
      "source": [
        "## References and Further Readings:\n",
        "\n",
        "Quite a few resources proved helpful while others that offered more opportunity for learning are mentioned below\n",
        "\n",
        "- https://www.statsmodels.org/dev/examples/notebooks/generated/statespace_sarimax_stata.html\n",
        "- https://www.machinelearningplus.com/time-series/arima-model-time-series-forecasting-python/\n",
        "- https://towardsdatascience.com/time-series-forecasting-a-getting-started-guide-c435f9fa2216\n",
        "- https://towardsdatascience.com/an-end-to-end-project-on-time-series-analysis-and-forecasting-with-python-4835e6bf050b\n",
        "- https://facebook.github.io/prophet/docs/diagnostics.html\n",
        "- https://www.baeldung.com/cs/mape-vs-wape-vs-wmape\n",
        "- https://www.kaggle.com/c/m5-forecasting-accuracy/discussion/144067\n",
        "- Special thanks to the kernel of TSURU https://www.kaggle.com/girmdshinsei/for-japanese-beginner-with-wrmsse-in-lgbm#WRMSSE-calculation\n",
        "- Specal thanks to the kernel of sibmike for making WRMSSE calculation faster https://www.kaggle.com/mubashir1/fast-clear-wrmsse-18ms/edit\n",
        "- https://www.kaggle.com/binhlc/forecasting-multiple-time-series-using-prophet\n",
        "- https://www.kaggle.com/tnmasui/m5-wrmsse-evaluation-dashboard"
      ],
      "metadata": {
        "id": "5IsaxnqMmQHk"
      }
    },
    {
      "cell_type": "code",
      "source": [],
      "metadata": {
        "id": "J0sgtoOFmQHk"
      },
      "execution_count": null,
      "outputs": []
    },
    {
      "cell_type": "markdown",
      "source": [
        "**=============++++++================**"
      ],
      "metadata": {
        "id": "2Mbowg0QmQHk"
      }
    }
  ]
}